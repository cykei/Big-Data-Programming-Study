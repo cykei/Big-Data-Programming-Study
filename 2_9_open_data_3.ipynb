{
 "cells": [
  {
   "cell_type": "markdown",
   "metadata": {},
   "source": [
    "* api를 가지고 프로그램을 만든다 = mash up\n",
    "* 개발에서 주로 쓰게 되는 api는 'web api'다.\n",
    "* api는 대게 REST방식으로 제공되고 있다.\n",
    "* REST ( Representational state transfer)는 사용 예제들을 통해 봤을 때 간단히 말하면, Client에서 Server로 HTTP 요청을 통해 (프로토콜을 사용해서) 자원(resource: data 등)에 CRUD(Create,Read,Update,Delete) operation을 가하는 것이 가능한 서비스(?)라고 할 수 있는 것 같다 (http://cafe.naver.com/q69/124298)"
   ]
  },
  {
   "cell_type": "markdown",
   "metadata": {},
   "source": [
    "## O.3 API 연습하기"
   ]
  },
  {
   "cell_type": "markdown",
   "metadata": {},
   "source": [
    "### O.3.1 postbin.org\n",
    "* http:postbin.org 'POST'를 연습할 수 있는 사이트.\n",
    "* 접속하면, http://requestb.in/ 으로 연결된다\n",
    "* 사이트를 방문해서, post에 이용될 resource는 임시로 만들어 준다.\n",
    "* 임시로 만들었기 때문에, 일정시간 지나고 나면 (48시간), 삭제된다는 점에 주의한다.\n",
    "* key, value로 입력할 데이터를 만들어 준다."
   ]
  },
  {
   "cell_type": "code",
   "execution_count": 1,
   "metadata": {
    "collapsed": false
   },
   "outputs": [
    {
     "name": "stdout",
     "output_type": "stream",
     "text": [
      "ok\n"
     ]
    },
    {
     "name": "stderr",
     "output_type": "stream",
     "text": [
      "  % Total    % Received % Xferd  Average Speed   Time    Time     Time  Current\n",
      "                                 Dload  Upload   Total   Spent    Left  Speed\n",
      "\n",
      "  0     0    0     0    0     0      0      0 --:--:-- --:--:-- --:--:--     0\n",
      "100     8    0     0  100     8      0      6  0:00:01  0:00:01 --:--:--     6\n",
      "100     8    0     0  100     8      0      3  0:00:02  0:00:02 --:--:--     3\n",
      "100    10    0     2  100     8      0      3  0:00:02  0:00:02 --:--:--     3\n",
      "100    10    0     2  100     8      0      3  0:00:02  0:00:02 --:--:--     3\n"
     ]
    }
   ],
   "source": [
    "!curl -X POST -d \"jsl=test\" http://requestb.in/1702ec01"
   ]
  },
  {
   "cell_type": "markdown",
   "metadata": {},
   "source": [
    "* 내 컴퓨터의 ip주소 확인"
   ]
  },
  {
   "cell_type": "code",
   "execution_count": 2,
   "metadata": {
    "collapsed": false
   },
   "outputs": [
    {
     "name": "stdout",
     "output_type": "stream",
     "text": [
      "{\n",
      "  \"origin\": \"117.16.43.166\"\n",
      "}\n"
     ]
    },
    {
     "name": "stderr",
     "output_type": "stream",
     "text": [
      "  % Total    % Received % Xferd  Average Speed   Time    Time     Time  Current\n",
      "                                 Dload  Upload   Total   Spent    Left  Speed\n",
      "\n",
      "  0     0    0     0    0     0      0      0 --:--:-- --:--:-- --:--:--     0\n",
      "100    32  100    32    0     0     68      0 --:--:-- --:--:-- --:--:--    68\n"
     ]
    }
   ],
   "source": [
    "!curl http://httpbin.org/ip"
   ]
  },
  {
   "cell_type": "markdown",
   "metadata": {},
   "source": [
    "* 내 컴퓨터의 header 정보를 확인"
   ]
  },
  {
   "cell_type": "code",
   "execution_count": 3,
   "metadata": {
    "collapsed": false
   },
   "outputs": [
    {
     "name": "stdout",
     "output_type": "stream",
     "text": [
      "{\n",
      "  \"args\": {}, \n",
      "  \"headers\": {\n",
      "    \"Accept\": \"*/*\", \n",
      "    \"Connection\": \"close\", \n",
      "    \"Host\": \"httpbin.org\", \n",
      "    \"User-Agent\": \"curl/7.52.1\"\n",
      "  }, \n",
      "  \"origin\": \"117.16.43.166\", \n",
      "  \"url\": \"http://httpbin.org/get\"\n",
      "}\n"
     ]
    },
    {
     "name": "stderr",
     "output_type": "stream",
     "text": [
      "  % Total    % Received % Xferd  Average Speed   Time    Time     Time  Current\n",
      "                                 Dload  Upload   Total   Spent    Left  Speed\n",
      "\n",
      "  0     0    0     0    0     0      0      0 --:--:-- --:--:-- --:--:--     0\n",
      "100   214  100   214    0     0    472      0 --:--:-- --:--:-- --:--:--   472\n"
     ]
    }
   ],
   "source": [
    "!curl http://httpbin.org/get"
   ]
  },
  {
   "cell_type": "markdown",
   "metadata": {},
   "source": [
    "* param을 넘겨줄 수 도 있다."
   ]
  },
  {
   "cell_type": "code",
   "execution_count": 4,
   "metadata": {
    "collapsed": false
   },
   "outputs": [
    {
     "name": "stdout",
     "output_type": "stream",
     "text": [
      "{\n",
      "  \"args\": {\n",
      "    \"show_env\": \"1\"\n",
      "  }, \n",
      "  \"headers\": {\n",
      "    \"Accept\": \"*/*\", \n",
      "    \"Connect-Time\": \"0\", \n",
      "    \"Connection\": \"close\", \n",
      "    \"Host\": \"httpbin.org\", \n",
      "    \"Total-Route-Time\": \"0\", \n",
      "    \"User-Agent\": \"curl/7.52.1\", \n",
      "    \"Via\": \"1.1 vegur\", \n",
      "    \"X-Forwarded-For\": \"117.16.43.166\", \n",
      "    \"X-Forwarded-Port\": \"80\", \n",
      "    \"X-Forwarded-Proto\": \"http\", \n",
      "    \"X-Request-Id\": \"bb734bde-2581-4579-889b-7b459c18562f\", \n",
      "    \"X-Request-Start\": \"1493609185413\"\n",
      "  }, \n",
      "  \"origin\": \"117.16.43.166\", \n",
      "  \"url\": \"http://httpbin.org/get?show_env=1\"\n",
      "}\n"
     ]
    },
    {
     "name": "stderr",
     "output_type": "stream",
     "text": [
      "  % Total    % Received % Xferd  Average Speed   Time    Time     Time  Current\n",
      "                                 Dload  Upload   Total   Spent    Left  Speed\n",
      "\n",
      "  0     0    0     0    0     0      0      0 --:--:-- --:--:-- --:--:--     0\n",
      "100   537  100   537    0     0   1074      0 --:--:-- --:--:-- --:--:--  1074\n"
     ]
    }
   ],
   "source": [
    "!curl http://httpbin.org/get?show_env=1"
   ]
  },
  {
   "cell_type": "code",
   "execution_count": 6,
   "metadata": {
    "collapsed": false
   },
   "outputs": [
    {
     "name": "stdout",
     "output_type": "stream",
     "text": [
      "%ED%95%9C\n",
      "%ED%95%9C\n"
     ]
    }
   ],
   "source": [
    "import urllib\n",
    "\n",
    "mystr = u\"한\" #3byte (%16진법 숫자 2개 = url encoding 방식의 모음또는 자음 하나 )\n",
    "utf8str=mystr.encode('utf-8')  # error without encoding\n",
    "print urllib.quote(utf8str)\n",
    "print urllib.quote_plus(utf8str) "
   ]
  },
  {
   "cell_type": "markdown",
   "metadata": {},
   "source": [
    "## 문제 OPEN-1: ip주소에서 지역정보 알아내기"
   ]
  },
  {
   "cell_type": "code",
   "execution_count": 8,
   "metadata": {
    "collapsed": false
   },
   "outputs": [
    {
     "name": "stdout",
     "output_type": "stream",
     "text": [
      "{\"ip\":\"117.16.43.166\",\"country_code\":\"KR\",\"country_name\":\"Republic of Korea\",\"region_code\":\"\",\"region_name\":\"\",\"city\":\"\",\"zip_code\":\"\",\"time_zone\":\"Asia/Seoul\",\"latitude\":37.5112,\"longitude\":126.9741,\"metro_code\":0}\n",
      "\n"
     ]
    }
   ],
   "source": [
    "import requests\n",
    "url='http://freegeoip.net/json/'\n",
    "geostr=requests.get(url).text #get방식으로 조회 \n",
    "print geostr #이런식으로 내 ip 주소를 알면 내가 어디서 접속하고 있는지 위치정보를 알 수 있다. 그렇기에 ip주소는 위험한 거임"
   ]
  },
  {
   "cell_type": "code",
   "execution_count": 11,
   "metadata": {
    "collapsed": false
   },
   "outputs": [
    {
     "data": {
      "text/plain": [
       "unicode"
      ]
     },
     "execution_count": 11,
     "metadata": {},
     "output_type": "execute_result"
    }
   ],
   "source": [
    "type(geostr)"
   ]
  },
  {
   "cell_type": "code",
   "execution_count": 9,
   "metadata": {
    "collapsed": true
   },
   "outputs": [],
   "source": [
    "import json\n",
    "geojson=json.loads(geostr) #방금 괄호를 json형식으로 바꾼다."
   ]
  },
  {
   "cell_type": "code",
   "execution_count": 10,
   "metadata": {
    "collapsed": false
   },
   "outputs": [
    {
     "data": {
      "text/plain": [
       "dict"
      ]
     },
     "execution_count": 10,
     "metadata": {},
     "output_type": "execute_result"
    }
   ],
   "source": [
    "type(geojson)"
   ]
  },
  {
   "cell_type": "code",
   "execution_count": 13,
   "metadata": {
    "collapsed": false
   },
   "outputs": [
    {
     "name": "stdout",
     "output_type": "stream",
     "text": [
      "117.16.43.166\n",
      "KR\n",
      "KR\n",
      "[u'city', u'region_code', u'region_name', u'ip', u'time_zone', u'longitude', u'metro_code', u'latitude', u'country_code', u'country_name', u'zip_code']\n",
      "Seongnam-si\n"
     ]
    }
   ],
   "source": [
    "print geojson['ip']\n",
    "geojson.get('ip')\n",
    "country=geojson.get('country_code')\n",
    "print country.decode('utf-8')\n",
    "import json\n",
    "import urllib\n",
    "\n",
    "def getCountry(ipAddress):\n",
    "    response = urllib.urlopen(\"http://freegeoip.net/json/\"+ipAddress).read().decode('utf-8')\n",
    "    responseJson = json.loads(response)\n",
    "    return responseJson.get(\"country_code\")\n",
    "\n",
    "print(getCountry(\"39.118.87.152\"))\n",
    "import requests\n",
    "send_url = 'http://freegeoip.net/json/39.118.87.152'\n",
    "r = requests.get(send_url)\n",
    "j=json.loads(r.text)\n",
    "type(j)\n",
    "print j.keys()\n",
    "print j['city']"
   ]
  },
  {
   "cell_type": "code",
   "execution_count": 14,
   "metadata": {
    "collapsed": false
   },
   "outputs": [
    {
     "name": "stdout",
     "output_type": "stream",
     "text": [
      "city \t:  Seongnam-si\n",
      "region_code \t:  41\n",
      "region_name \t:  Gyeonggi-do\n",
      "ip \t:  39.118.87.152\n",
      "time_zone \t:  Asia/Seoul\n",
      "longitude \t:  127.1378\n",
      "metro_code \t:  0\n",
      "latitude \t:  37.4386\n",
      "country_code \t:  KR\n",
      "country_name \t:  Republic of Korea\n",
      "zip_code \t:  \n"
     ]
    }
   ],
   "source": [
    "for k,v in j.iteritems(): #모든 정보를 조회하고싶으면 iteritems라고 쓴다. 다른 언어같으면 형식을 일일이 다 지정해줘야 할 것입니다.\n",
    "    print k,\"\\t: \",v"
   ]
  },
  {
   "cell_type": "code",
   "execution_count": 31,
   "metadata": {
    "collapsed": false
   },
   "outputs": [
    {
     "name": "stdout",
     "output_type": "stream",
     "text": [
      "xml/SearchSTNBySubwayLineService/1/40/2\n"
     ]
    }
   ],
   "source": [
    "import os\n",
    "import src.mylib\n",
    "\n",
    "keyPath=os.path.join(os.getcwd(), 'src', 'key.properties')\n",
    "key=src.mylib.getKey(keyPath)\n",
    "KEY=str(key['dataseoul'])\n",
    "TYPE='xml'\n",
    "SERVICE='SearchSTNBySubwayLineService'\n",
    "START_INDEX=str(1)\n",
    "END_INDEX=str(40)\n",
    "LINE_NUM=str(2)\n",
    "\n",
    "params=KEY+'/'+TYPE+'/'+SERVICE+'/'+START_INDEX+'/'+END_INDEX+'/'+LINE_NUM\n",
    "print params[31:]"
   ]
  },
  {
   "cell_type": "code",
   "execution_count": 32,
   "metadata": {
    "collapsed": false
   },
   "outputs": [
    {
     "name": "stdout",
     "output_type": "stream",
     "text": [
      "http://openAPI.seoul.go.kr:8088/674d7a584e6b656c35317057737a5a/xml/SearchSTNBySubwayLineService/1/40/2\n"
     ]
    }
   ],
   "source": [
    "import urlparse\n",
    "_url='http://openAPI.seoul.go.kr:8088/'\n",
    "url=urlparse.urljoin(_url,params)\n",
    "print url"
   ]
  },
  {
   "cell_type": "code",
   "execution_count": 34,
   "metadata": {
    "collapsed": false
   },
   "outputs": [
    {
     "name": "stdout",
     "output_type": "stream",
     "text": [
      "<?xml version=\"1.0\" encoding=\"UTF-8\"?>\n",
      "<SearchSTNBySubwayLineService>\n",
      "<list_total_count>51</list_total_count>\n",
      "<RESULT>\n",
      "<CODE>INFO-000</CODE>\n",
      "<MESSAGE>정상 처리되었습니다</MESSAGE>\n",
      "</RESULT>\n",
      "<row>\n",
      "<STATION_CD>0201</STATION_CD>\n",
      "<STATION_NM>시청</STATION_NM>\n",
      "<LINE_NUM>2</LINE_NUM>\n",
      "<FR_CODE>201</FR_CODE>\n",
      "</row>\n",
      "<row>\n",
      "<STATION_CD>0202</STATION_CD>\n",
      "<STATION_NM>을지로입구</STATION_NM>\n",
      "<LINE_NUM>2</LINE_NUM>\n",
      "<FR_CODE>202</FR_CODE>\n",
      "</row>\n",
      "<row>\n",
      "<STATION_CD>0203</STATION_CD>\n",
      "<STATION_NM>을지로3가</STATION_NM>\n",
      "<LINE_NUM>2</LINE_NUM>\n",
      "<FR_CODE>203</FR_CODE>\n",
      "</row>\n",
      "<row>\n",
      "<STATION_CD>0204</STATION_CD>\n",
      "<STATION_NM>을지로4가</STATION_NM>\n",
      "<LINE_NUM>2</LINE_NUM>\n",
      "<FR_CODE>204</FR_CODE>\n",
      "</row>\n",
      "<row>\n",
      "<STATION_CD>0205</STATION_CD>\n",
      "<STATION_NM>동대문역사문화공원</STATION_NM>\n",
      "<LINE_NUM>2</LINE_NUM>\n",
      "<FR_CODE>205</FR_CODE>\n",
      "</row>\n",
      "<row>\n",
      "<STATION_CD>0206</STATION_CD>\n",
      "<STATION_NM>신당</STATION_NM>\n",
      "<LINE_NUM>2</LINE_NUM>\n",
      "<FR_CODE>206</FR_CODE>\n",
      "</row>\n",
      "<row>\n",
      "<STATION_CD>0207</STATION_CD>\n",
      "<STATION_NM>상왕십리</STATION_NM>\n",
      "<LINE_NUM>2</LINE_NUM>\n",
      "<FR_CODE>207</FR_CODE>\n",
      "</row>\n",
      "<row>\n",
      "<STATION_CD>0208</STATION_CD>\n",
      "<STATION_NM>왕십리</STATION_NM>\n",
      "<LINE_NUM>2</LINE_NUM>\n",
      "<FR_CODE>208</FR_CODE>\n",
      "</row>\n",
      "<row>\n",
      "<STATION_CD>0209</STATION_CD>\n",
      "<STATION_NM>한양대</STATION_NM>\n",
      "<LINE_NUM>2</LINE_NUM>\n",
      "<FR_CODE>209</FR_CODE>\n",
      "</row>\n",
      "<row>\n",
      "<STATION_CD>0210</STATION_CD>\n",
      "<STATION_NM>뚝섬</STATION_NM>\n",
      "<LINE_NUM>2</LINE_NUM>\n",
      "<FR_CODE>210</FR_CODE>\n",
      "</row>\n",
      "<row>\n",
      "<STATION_CD>0211</STATION_CD>\n",
      "<STATION_NM>성수</STATION_NM>\n",
      "<LINE_NUM>2</LINE_NUM>\n",
      "<FR_CODE>211</FR_CODE>\n",
      "</row>\n",
      "<row>\n",
      "<STATION_CD>0244</STATION_CD>\n",
      "<STATION_NM>용답</STATION_NM>\n",
      "<LINE_NUM>2</LINE_NUM>\n",
      "<FR_CODE>211-1</FR_CODE>\n",
      "</row>\n",
      "<row>\n",
      "<STATION_CD>0245</STATION_CD>\n",
      "<STATION_NM>신답</STATION_NM>\n",
      "<LINE_NUM>2</LINE_NUM>\n",
      "<FR_CODE>211-2</FR_CODE>\n",
      "</row>\n",
      "<row>\n",
      "<STATION_CD>0250</STATION_CD>\n",
      "<STATION_NM>용두</STATION_NM>\n",
      "<LINE_NUM>2</LINE_NUM>\n",
      "<FR_CODE>211-3</FR_CODE>\n",
      "</row>\n",
      "<row>\n",
      "<STATION_CD>0246</STATION_CD>\n",
      "<STATION_NM>신설동</STATION_NM>\n",
      "<LINE_NUM>2</LINE_NUM>\n",
      "<FR_CODE>211-4</FR_CODE>\n",
      "</row>\n",
      "<row>\n",
      "<STATION_CD>0212</STATION_CD>\n",
      "<STATION_NM>건대입구</STATION_NM>\n",
      "<LINE_NUM>2</LINE_NUM>\n",
      "<FR_CODE>212</FR_CODE>\n",
      "</row>\n",
      "<row>\n",
      "<STATION_CD>0213</STATION_CD>\n",
      "<STATION_NM>구의</STATION_NM>\n",
      "<LINE_NUM>2</LINE_NUM>\n",
      "<FR_CODE>213</FR_CODE>\n",
      "</row>\n",
      "<row>\n",
      "<STATION_CD>0214</STATION_CD>\n",
      "<STATION_NM>강변</STATION_NM>\n",
      "<LINE_NUM>2</LINE_NUM>\n",
      "<FR_CODE>214</FR_CODE>\n",
      "</row>\n",
      "<row>\n",
      "<STATION_CD>0215</STATION_CD>\n",
      "<STATION_NM>잠실나루</STATION_NM>\n",
      "<LINE_NUM>2</LINE_NUM>\n",
      "<FR_CODE>215</FR_CODE>\n",
      "</row>\n",
      "<row>\n",
      "<STATION_CD>0216</STATION_CD>\n",
      "<STATION_NM>잠실</STATION_NM>\n",
      "<LINE_NUM>2</LINE_NUM>\n",
      "<FR_CODE>216</FR_CODE>\n",
      "</row>\n",
      "<row>\n",
      "<STATION_CD>0217</STATION_CD>\n",
      "<STATION_NM>잠실새내</STATION_NM>\n",
      "<LINE_NUM>2</LINE_NUM>\n",
      "<FR_CODE>217</FR_CODE>\n",
      "</row>\n",
      "<row>\n",
      "<STATION_CD>0218</STATION_CD>\n",
      "<STATION_NM>종합운동장</STATION_NM>\n",
      "<LINE_NUM>2</LINE_NUM>\n",
      "<FR_CODE>218</FR_CODE>\n",
      "</row>\n",
      "<row>\n",
      "<STATION_CD>0219</STATION_CD>\n",
      "<STATION_NM>삼성</STATION_NM>\n",
      "<LINE_NUM>2</LINE_NUM>\n",
      "<FR_CODE>219</FR_CODE>\n",
      "</row>\n",
      "<row>\n",
      "<STATION_CD>0220</STATION_CD>\n",
      "<STATION_NM>선릉</STATION_NM>\n",
      "<LINE_NUM>2</LINE_NUM>\n",
      "<FR_CODE>220</FR_CODE>\n",
      "</row>\n",
      "<row>\n",
      "<STATION_CD>0221</STATION_CD>\n",
      "<STATION_NM>역삼</STATION_NM>\n",
      "<LINE_NUM>2</LINE_NUM>\n",
      "<FR_CODE>221</FR_CODE>\n",
      "</row>\n",
      "<row>\n",
      "<STATION_CD>0222</STATION_CD>\n",
      "<STATION_NM>강남</STATION_NM>\n",
      "<LINE_NUM>2</LINE_NUM>\n",
      "<FR_CODE>222</FR_CODE>\n",
      "</row>\n",
      "<row>\n",
      "<STATION_CD>0223</STATION_CD>\n",
      "<STATION_NM>교대</STATION_NM>\n",
      "<LINE_NUM>2</LINE_NUM>\n",
      "<FR_CODE>223</FR_CODE>\n",
      "</row>\n",
      "<row>\n",
      "<STATION_CD>0224</STATION_CD>\n",
      "<STATION_NM>서초</STATION_NM>\n",
      "<LINE_NUM>2</LINE_NUM>\n",
      "<FR_CODE>224</FR_CODE>\n",
      "</row>\n",
      "<row>\n",
      "<STATION_CD>0225</STATION_CD>\n",
      "<STATION_NM>방배</STATION_NM>\n",
      "<LINE_NUM>2</LINE_NUM>\n",
      "<FR_CODE>225</FR_CODE>\n",
      "</row>\n",
      "<row>\n",
      "<STATION_CD>0226</STATION_CD>\n",
      "<STATION_NM>사당</STATION_NM>\n",
      "<LINE_NUM>2</LINE_NUM>\n",
      "<FR_CODE>226</FR_CODE>\n",
      "</row>\n",
      "<row>\n",
      "<STATION_CD>0227</STATION_CD>\n",
      "<STATION_NM>낙성대</STATION_NM>\n",
      "<LINE_NUM>2</LINE_NUM>\n",
      "<FR_CODE>227</FR_CODE>\n",
      "</row>\n",
      "<row>\n",
      "<STATION_CD>0228</STATION_CD>\n",
      "<STATION_NM>서울대입구</STATION_NM>\n",
      "<LINE_NUM>2</LINE_NUM>\n",
      "<FR_CODE>228</FR_CODE>\n",
      "</row>\n",
      "<row>\n",
      "<STATION_CD>0229</STATION_CD>\n",
      "<STATION_NM>봉천</STATION_NM>\n",
      "<LINE_NUM>2</LINE_NUM>\n",
      "<FR_CODE>229</FR_CODE>\n",
      "</row>\n",
      "<row>\n",
      "<STATION_CD>0230</STATION_CD>\n",
      "<STATION_NM>신림</STATION_NM>\n",
      "<LINE_NUM>2</LINE_NUM>\n",
      "<FR_CODE>230</FR_CODE>\n",
      "</row>\n",
      "<row>\n",
      "<STATION_CD>0231</STATION_CD>\n",
      "<STATION_NM>신대방</STATION_NM>\n",
      "<LINE_NUM>2</LINE_NUM>\n",
      "<FR_CODE>231</FR_CODE>\n",
      "</row>\n",
      "<row>\n",
      "<STATION_CD>0232</STATION_CD>\n",
      "<STATION_NM>구로디지털단지</STATION_NM>\n",
      "<LINE_NUM>2</LINE_NUM>\n",
      "<FR_CODE>232</FR_CODE>\n",
      "</row>\n",
      "<row>\n",
      "<STATION_CD>0233</STATION_CD>\n",
      "<STATION_NM>대림</STATION_NM>\n",
      "<LINE_NUM>2</LINE_NUM>\n",
      "<FR_CODE>233</FR_CODE>\n",
      "</row>\n",
      "<row>\n",
      "<STATION_CD>0234</STATION_CD>\n",
      "<STATION_NM>신도림</STATION_NM>\n",
      "<LINE_NUM>2</LINE_NUM>\n",
      "<FR_CODE>234</FR_CODE>\n",
      "</row>\n",
      "<row>\n",
      "<STATION_CD>0247</STATION_CD>\n",
      "<STATION_NM>도림천</STATION_NM>\n",
      "<LINE_NUM>2</LINE_NUM>\n",
      "<FR_CODE>234-1</FR_CODE>\n",
      "</row>\n",
      "<row>\n",
      "<STATION_CD>0248</STATION_CD>\n",
      "<STATION_NM>양천구청</STATION_NM>\n",
      "<LINE_NUM>2</LINE_NUM>\n",
      "<FR_CODE>234-2</FR_CODE>\n",
      "</row>\n",
      "</SearchSTNBySubwayLineService>\n",
      "\n"
     ]
    }
   ],
   "source": [
    "import requests\n",
    "data=requests.get(url).text\n",
    "print data"
   ]
  },
  {
   "cell_type": "code",
   "execution_count": 36,
   "metadata": {
    "collapsed": false
   },
   "outputs": [
    {
     "name": "stdout",
     "output_type": "stream",
     "text": [
      "2호선 : \n",
      "시청\n",
      "을지로입구\n",
      "을지로3가\n",
      "을지로4가\n",
      "동대문역사문화공원\n",
      "신당\n",
      "상왕십리\n",
      "왕십리\n",
      "한양대\n",
      "뚝섬\n",
      "성수\n",
      "용답\n",
      "신답\n",
      "용두\n",
      "신설동\n",
      "건대입구\n",
      "구의\n",
      "강변\n",
      "잠실나루\n",
      "잠실\n",
      "잠실새내\n",
      "종합운동장\n",
      "삼성\n",
      "선릉\n",
      "역삼\n",
      "강남\n",
      "교대\n",
      "서초\n",
      "방배\n",
      "사당\n",
      "낙성대\n",
      "서울대입구\n",
      "봉천\n",
      "신림\n",
      "신대방\n",
      "구로디지털단지\n",
      "대림\n",
      "신도림\n",
      "도림천\n",
      "양천구청\n"
     ]
    }
   ],
   "source": [
    "import re\n",
    "p=re.compile('<STATION_NM>(.+?)</STATION_NM>')\n",
    "res=p.findall(data)\n",
    "print u\"2호선 : \"\n",
    "for item in res:\n",
    "    print item"
   ]
  },
  {
   "cell_type": "code",
   "execution_count": 37,
   "metadata": {
    "collapsed": false
   },
   "outputs": [
    {
     "name": "stdout",
     "output_type": "stream",
     "text": [
      "Writing src/ds_open_subway.py\n"
     ]
    }
   ],
   "source": [
    "%%writefile src/ds_open_subway.py\n",
    "import os\n",
    "import urlparse\n",
    "import requests\n",
    "import lxml\n",
    "import lxml.etree\n",
    "import StringIO\n",
    "import mylib\n",
    "\n",
    "def doIt():\n",
    "    keyPath=os.path.join(os.getcwd(), 'src', 'key.properties')\n",
    "    key=mylib.getKey(keyPath)\n",
    "    KEY=str(key['dataseoul'])\n",
    "    TYPE='xml'\n",
    "    SERVICE='SearchSTNBySubwayLineService'\n",
    "    START_INDEX=str(1)\n",
    "    END_INDEX=str(10)\n",
    "    LINE_NUM=str(2)\n",
    "\n",
    "    params=os.path.join(KEY,TYPE,SERVICE,START_INDEX,END_INDEX,LINE_NUM)\n",
    "\n",
    "    _url='http://openAPI.seoul.go.kr:8088/'\n",
    "    url=urlparse.urljoin(_url,params)\n",
    "    data=requests.get(url).text\n",
    "    tree=lxml.etree.fromstring(data.encode('utf-8'))\n",
    "    nodes=tree.xpath('//STATION_NM')\n",
    "    for node in nodes:\n",
    "        print node.text\n",
    "\n",
    "if __name__ == \"__main__\":\n",
    "    doIt()"
   ]
  }
 ],
 "metadata": {
  "kernelspec": {
   "display_name": "Python 2",
   "language": "python",
   "name": "python2"
  },
  "language_info": {
   "codemirror_mode": {
    "name": "ipython",
    "version": 2
   },
   "file_extension": ".py",
   "mimetype": "text/x-python",
   "name": "python",
   "nbconvert_exporter": "python",
   "pygments_lexer": "ipython2",
   "version": "2.7.13"
  }
 },
 "nbformat": 4,
 "nbformat_minor": 2
}
