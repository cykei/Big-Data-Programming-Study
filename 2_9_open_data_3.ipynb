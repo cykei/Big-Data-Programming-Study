{
 "cells": [
  {
   "cell_type": "markdown",
   "metadata": {},
   "source": [
    "* api를 가지고 프로그램을 만든다 = mash up\n",
    "* 개발에서 주로 쓰게 되는 api는 'web api'다.\n",
    "* api는 대게 REST방식으로 제공되고 있다.\n",
    "* REST ( Representational state transfer)는 사용 예제들을 통해 봤을 때 간단히 말하면, Client에서 Server로 HTTP 요청을 통해 (프로토콜을 사용해서) 자원(resource: data 등)에 CRUD(Create,Read,Update,Delete) operation을 가하는 것이 가능한 서비스(?)라고 할 수 있는 것 같다 (http://cafe.naver.com/q69/124298)"
   ]
  },
  {
   "cell_type": "markdown",
   "metadata": {},
   "source": [
    "## O.3 API 연습하기"
   ]
  },
  {
   "cell_type": "markdown",
   "metadata": {},
   "source": [
    "### O.3.1 postbin.org\n",
    "* http:postbin.org 'POST'를 연습할 수 있는 사이트.\n",
    "* 접속하면, http://requestb.in/ 으로 연결된다\n",
    "* 사이트를 방문해서, post에 이용될 resource는 임시로 만들어 준다.\n",
    "* 임시로 만들었기 때문에, 일정시간 지나고 나면 (48시간), 삭제된다는 점에 주의한다.\n",
    "* key, value로 입력할 데이터를 만들어 준다."
   ]
  },
  {
   "cell_type": "code",
   "execution_count": 1,
   "metadata": {
    "collapsed": false
   },
   "outputs": [
    {
     "name": "stdout",
     "output_type": "stream",
     "text": [
      "ok\n"
     ]
    },
    {
     "name": "stderr",
     "output_type": "stream",
     "text": [
      "  % Total    % Received % Xferd  Average Speed   Time    Time     Time  Current\n",
      "                                 Dload  Upload   Total   Spent    Left  Speed\n",
      "\n",
      "  0     0    0     0    0     0      0      0 --:--:-- --:--:-- --:--:--     0\n",
      "100     8    0     0  100     8      0      6  0:00:01  0:00:01 --:--:--     6\n",
      "100     8    0     0  100     8      0      3  0:00:02  0:00:02 --:--:--     3\n",
      "100    10    0     2  100     8      0      3  0:00:02  0:00:02 --:--:--     3\n",
      "100    10    0     2  100     8      0      3  0:00:02  0:00:02 --:--:--     3\n"
     ]
    }
   ],
   "source": [
    "!curl -X POST -d \"jsl=test\" http://requestb.in/1702ec01"
   ]
  },
  {
   "cell_type": "markdown",
   "metadata": {},
   "source": [
    "* 내 컴퓨터의 ip주소 확인"
   ]
  },
  {
   "cell_type": "code",
   "execution_count": 2,
   "metadata": {
    "collapsed": false
   },
   "outputs": [
    {
     "name": "stdout",
     "output_type": "stream",
     "text": [
      "{\n",
      "  \"origin\": \"117.16.43.166\"\n",
      "}\n"
     ]
    },
    {
     "name": "stderr",
     "output_type": "stream",
     "text": [
      "  % Total    % Received % Xferd  Average Speed   Time    Time     Time  Current\n",
      "                                 Dload  Upload   Total   Spent    Left  Speed\n",
      "\n",
      "  0     0    0     0    0     0      0      0 --:--:-- --:--:-- --:--:--     0\n",
      "100    32  100    32    0     0     68      0 --:--:-- --:--:-- --:--:--    68\n"
     ]
    }
   ],
   "source": [
    "!curl http://httpbin.org/ip"
   ]
  },
  {
   "cell_type": "markdown",
   "metadata": {},
   "source": [
    "* 내 컴퓨터의 header 정보를 확인"
   ]
  },
  {
   "cell_type": "code",
   "execution_count": 3,
   "metadata": {
    "collapsed": false
   },
   "outputs": [
    {
     "name": "stdout",
     "output_type": "stream",
     "text": [
      "{\n",
      "  \"args\": {}, \n",
      "  \"headers\": {\n",
      "    \"Accept\": \"*/*\", \n",
      "    \"Connection\": \"close\", \n",
      "    \"Host\": \"httpbin.org\", \n",
      "    \"User-Agent\": \"curl/7.52.1\"\n",
      "  }, \n",
      "  \"origin\": \"117.16.43.166\", \n",
      "  \"url\": \"http://httpbin.org/get\"\n",
      "}\n"
     ]
    },
    {
     "name": "stderr",
     "output_type": "stream",
     "text": [
      "  % Total    % Received % Xferd  Average Speed   Time    Time     Time  Current\n",
      "                                 Dload  Upload   Total   Spent    Left  Speed\n",
      "\n",
      "  0     0    0     0    0     0      0      0 --:--:-- --:--:-- --:--:--     0\n",
      "100   214  100   214    0     0    472      0 --:--:-- --:--:-- --:--:--   472\n"
     ]
    }
   ],
   "source": [
    "!curl http://httpbin.org/get"
   ]
  },
  {
   "cell_type": "markdown",
   "metadata": {},
   "source": [
    "* param을 넘겨줄 수 도 있다."
   ]
  },
  {
   "cell_type": "code",
   "execution_count": 4,
   "metadata": {
    "collapsed": false
   },
   "outputs": [
    {
     "name": "stdout",
     "output_type": "stream",
     "text": [
      "{\n",
      "  \"args\": {\n",
      "    \"show_env\": \"1\"\n",
      "  }, \n",
      "  \"headers\": {\n",
      "    \"Accept\": \"*/*\", \n",
      "    \"Connect-Time\": \"0\", \n",
      "    \"Connection\": \"close\", \n",
      "    \"Host\": \"httpbin.org\", \n",
      "    \"Total-Route-Time\": \"0\", \n",
      "    \"User-Agent\": \"curl/7.52.1\", \n",
      "    \"Via\": \"1.1 vegur\", \n",
      "    \"X-Forwarded-For\": \"117.16.43.166\", \n",
      "    \"X-Forwarded-Port\": \"80\", \n",
      "    \"X-Forwarded-Proto\": \"http\", \n",
      "    \"X-Request-Id\": \"bb734bde-2581-4579-889b-7b459c18562f\", \n",
      "    \"X-Request-Start\": \"1493609185413\"\n",
      "  }, \n",
      "  \"origin\": \"117.16.43.166\", \n",
      "  \"url\": \"http://httpbin.org/get?show_env=1\"\n",
      "}\n"
     ]
    },
    {
     "name": "stderr",
     "output_type": "stream",
     "text": [
      "  % Total    % Received % Xferd  Average Speed   Time    Time     Time  Current\n",
      "                                 Dload  Upload   Total   Spent    Left  Speed\n",
      "\n",
      "  0     0    0     0    0     0      0      0 --:--:-- --:--:-- --:--:--     0\n",
      "100   537  100   537    0     0   1074      0 --:--:-- --:--:-- --:--:--  1074\n"
     ]
    }
   ],
   "source": [
    "!curl http://httpbin.org/get?show_env=1"
   ]
  },
  {
   "cell_type": "code",
   "execution_count": 6,
   "metadata": {
    "collapsed": false
   },
   "outputs": [
    {
     "name": "stdout",
     "output_type": "stream",
     "text": [
      "%ED%95%9C\n",
      "%ED%95%9C\n"
     ]
    }
   ],
   "source": [
    "import urllib\n",
    "\n",
    "mystr = u\"한\" #3byte (%16진법 숫자 2개 = url encoding 방식의 모음또는 자음 하나 )\n",
    "utf8str=mystr.encode('utf-8')  # error without encoding\n",
    "print urllib.quote(utf8str)\n",
    "print urllib.quote_plus(utf8str) "
   ]
  },
  {
   "cell_type": "markdown",
   "metadata": {},
   "source": [
    "## 문제 OPEN-1: ip주소에서 지역정보 알아내기"
   ]
  },
  {
   "cell_type": "code",
   "execution_count": 8,
   "metadata": {
    "collapsed": false
   },
   "outputs": [
    {
     "name": "stdout",
     "output_type": "stream",
     "text": [
      "{\"ip\":\"117.16.43.166\",\"country_code\":\"KR\",\"country_name\":\"Republic of Korea\",\"region_code\":\"\",\"region_name\":\"\",\"city\":\"\",\"zip_code\":\"\",\"time_zone\":\"Asia/Seoul\",\"latitude\":37.5112,\"longitude\":126.9741,\"metro_code\":0}\n",
      "\n"
     ]
    }
   ],
   "source": [
    "import requests\n",
    "url='http://freegeoip.net/json/'\n",
    "geostr=requests.get(url).text #get방식으로 조회 \n",
    "print geostr #이런식으로 내 ip 주소를 알면 내가 어디서 접속하고 있는지 위치정보를 알 수 있다. 그렇기에 ip주소는 위험한 거임"
   ]
  },
  {
   "cell_type": "code",
   "execution_count": 11,
   "metadata": {
    "collapsed": false
   },
   "outputs": [
    {
     "data": {
      "text/plain": [
       "unicode"
      ]
     },
     "execution_count": 11,
     "metadata": {},
     "output_type": "execute_result"
    }
   ],
   "source": [
    "type(geostr)"
   ]
  },
  {
   "cell_type": "code",
   "execution_count": 9,
   "metadata": {
    "collapsed": true
   },
   "outputs": [],
   "source": [
    "import json\n",
    "geojson=json.loads(geostr) #방금 괄호를 json형식으로 바꾼다."
   ]
  },
  {
   "cell_type": "code",
   "execution_count": 10,
   "metadata": {
    "collapsed": false
   },
   "outputs": [
    {
     "data": {
      "text/plain": [
       "dict"
      ]
     },
     "execution_count": 10,
     "metadata": {},
     "output_type": "execute_result"
    }
   ],
   "source": [
    "type(geojson)"
   ]
  },
  {
   "cell_type": "code",
   "execution_count": 13,
   "metadata": {
    "collapsed": false
   },
   "outputs": [
    {
     "name": "stdout",
     "output_type": "stream",
     "text": [
      "117.16.43.166\n",
      "KR\n",
      "KR\n",
      "[u'city', u'region_code', u'region_name', u'ip', u'time_zone', u'longitude', u'metro_code', u'latitude', u'country_code', u'country_name', u'zip_code']\n",
      "Seongnam-si\n"
     ]
    }
   ],
   "source": [
    "print geojson['ip']\n",
    "geojson.get('ip')\n",
    "country=geojson.get('country_code')\n",
    "print country.decode('utf-8')\n",
    "import json\n",
    "import urllib\n",
    "\n",
    "def getCountry(ipAddress):\n",
    "    response = urllib.urlopen(\"http://freegeoip.net/json/\"+ipAddress).read().decode('utf-8')\n",
    "    responseJson = json.loads(response)\n",
    "    return responseJson.get(\"country_code\")\n",
    "\n",
    "print(getCountry(\"39.118.87.152\"))\n",
    "import requests\n",
    "send_url = 'http://freegeoip.net/json/39.118.87.152'\n",
    "r = requests.get(send_url)\n",
    "j=json.loads(r.text)\n",
    "type(j)\n",
    "print j.keys()\n",
    "print j['city']"
   ]
  },
  {
   "cell_type": "code",
   "execution_count": 14,
   "metadata": {
    "collapsed": false
   },
   "outputs": [
    {
     "name": "stdout",
     "output_type": "stream",
     "text": [
      "city \t:  Seongnam-si\n",
      "region_code \t:  41\n",
      "region_name \t:  Gyeonggi-do\n",
      "ip \t:  39.118.87.152\n",
      "time_zone \t:  Asia/Seoul\n",
      "longitude \t:  127.1378\n",
      "metro_code \t:  0\n",
      "latitude \t:  37.4386\n",
      "country_code \t:  KR\n",
      "country_name \t:  Republic of Korea\n",
      "zip_code \t:  \n"
     ]
    }
   ],
   "source": [
    "for k,v in j.iteritems(): #모든 정보를 조회하고싶으면 iteritems라고 쓴다. 다른 언어같으면 형식을 일일이 다 지정해줘야 할 것입니다.\n",
    "    print k,\"\\t: \",v"
   ]
  },
  {
   "cell_type": "code",
   "execution_count": 31,
   "metadata": {
    "collapsed": false
   },
   "outputs": [
    {
     "name": "stdout",
     "output_type": "stream",
     "text": [
      "xml/SearchSTNBySubwayLineService/1/40/2\n"
     ]
    }
   ],
   "source": [
    "import os\n",
    "import src.mylib\n",
    "\n",
    "keyPath=os.path.join(os.getcwd(), 'src', 'key.properties')\n",
    "key=src.mylib.getKey(keyPath)\n",
    "KEY=str(key['dataseoul'])\n",
    "TYPE='xml'\n",
    "SERVICE='SearchSTNBySubwayLineService'\n",
    "START_INDEX=str(1)\n",
    "END_INDEX=str(40)\n",
    "LINE_NUM=str(2)\n",
    "\n",
    "params=KEY+'/'+TYPE+'/'+SERVICE+'/'+START_INDEX+'/'+END_INDEX+'/'+LINE_NUM\n",
    "print params[31:]"
   ]
  },
  {
   "cell_type": "code",
   "execution_count": 32,
   "metadata": {
    "collapsed": false
   },
   "outputs": [
    {
     "name": "stdout",
     "output_type": "stream",
     "text": [
      "http://openAPI.seoul.go.kr:8088/674d7a584e6b656c35317057737a5a/xml/SearchSTNBySubwayLineService/1/40/2\n"
     ]
    }
   ],
   "source": [
    "import urlparse\n",
    "_url='http://openAPI.seoul.go.kr:8088/'\n",
    "url=urlparse.urljoin(_url,params)\n",
    "print url"
   ]
  },
  {
   "cell_type": "code",
   "execution_count": 34,
   "metadata": {
    "collapsed": false
   },
   "outputs": [
    {
     "name": "stdout",
     "output_type": "stream",
     "text": [
      "<?xml version=\"1.0\" encoding=\"UTF-8\"?>\n",
      "<SearchSTNBySubwayLineService>\n",
      "<list_total_count>51</list_total_count>\n",
      "<RESULT>\n",
      "<CODE>INFO-000</CODE>\n",
      "<MESSAGE>정상 처리되었습니다</MESSAGE>\n",
      "</RESULT>\n",
      "<row>\n",
      "<STATION_CD>0201</STATION_CD>\n",
      "<STATION_NM>시청</STATION_NM>\n",
      "<LINE_NUM>2</LINE_NUM>\n",
      "<FR_CODE>201</FR_CODE>\n",
      "</row>\n",
      "<row>\n",
      "<STATION_CD>0202</STATION_CD>\n",
      "<STATION_NM>을지로입구</STATION_NM>\n",
      "<LINE_NUM>2</LINE_NUM>\n",
      "<FR_CODE>202</FR_CODE>\n",
      "</row>\n",
      "<row>\n",
      "<STATION_CD>0203</STATION_CD>\n",
      "<STATION_NM>을지로3가</STATION_NM>\n",
      "<LINE_NUM>2</LINE_NUM>\n",
      "<FR_CODE>203</FR_CODE>\n",
      "</row>\n",
      "<row>\n",
      "<STATION_CD>0204</STATION_CD>\n",
      "<STATION_NM>을지로4가</STATION_NM>\n",
      "<LINE_NUM>2</LINE_NUM>\n",
      "<FR_CODE>204</FR_CODE>\n",
      "</row>\n",
      "<row>\n",
      "<STATION_CD>0205</STATION_CD>\n",
      "<STATION_NM>동대문역사문화공원</STATION_NM>\n",
      "<LINE_NUM>2</LINE_NUM>\n",
      "<FR_CODE>205</FR_CODE>\n",
      "</row>\n",
      "<row>\n",
      "<STATION_CD>0206</STATION_CD>\n",
      "<STATION_NM>신당</STATION_NM>\n",
      "<LINE_NUM>2</LINE_NUM>\n",
      "<FR_CODE>206</FR_CODE>\n",
      "</row>\n",
      "<row>\n",
      "<STATION_CD>0207</STATION_CD>\n",
      "<STATION_NM>상왕십리</STATION_NM>\n",
      "<LINE_NUM>2</LINE_NUM>\n",
      "<FR_CODE>207</FR_CODE>\n",
      "</row>\n",
      "<row>\n",
      "<STATION_CD>0208</STATION_CD>\n",
      "<STATION_NM>왕십리</STATION_NM>\n",
      "<LINE_NUM>2</LINE_NUM>\n",
      "<FR_CODE>208</FR_CODE>\n",
      "</row>\n",
      "<row>\n",
      "<STATION_CD>0209</STATION_CD>\n",
      "<STATION_NM>한양대</STATION_NM>\n",
      "<LINE_NUM>2</LINE_NUM>\n",
      "<FR_CODE>209</FR_CODE>\n",
      "</row>\n",
      "<row>\n",
      "<STATION_CD>0210</STATION_CD>\n",
      "<STATION_NM>뚝섬</STATION_NM>\n",
      "<LINE_NUM>2</LINE_NUM>\n",
      "<FR_CODE>210</FR_CODE>\n",
      "</row>\n",
      "<row>\n",
      "<STATION_CD>0211</STATION_CD>\n",
      "<STATION_NM>성수</STATION_NM>\n",
      "<LINE_NUM>2</LINE_NUM>\n",
      "<FR_CODE>211</FR_CODE>\n",
      "</row>\n",
      "<row>\n",
      "<STATION_CD>0244</STATION_CD>\n",
      "<STATION_NM>용답</STATION_NM>\n",
      "<LINE_NUM>2</LINE_NUM>\n",
      "<FR_CODE>211-1</FR_CODE>\n",
      "</row>\n",
      "<row>\n",
      "<STATION_CD>0245</STATION_CD>\n",
      "<STATION_NM>신답</STATION_NM>\n",
      "<LINE_NUM>2</LINE_NUM>\n",
      "<FR_CODE>211-2</FR_CODE>\n",
      "</row>\n",
      "<row>\n",
      "<STATION_CD>0250</STATION_CD>\n",
      "<STATION_NM>용두</STATION_NM>\n",
      "<LINE_NUM>2</LINE_NUM>\n",
      "<FR_CODE>211-3</FR_CODE>\n",
      "</row>\n",
      "<row>\n",
      "<STATION_CD>0246</STATION_CD>\n",
      "<STATION_NM>신설동</STATION_NM>\n",
      "<LINE_NUM>2</LINE_NUM>\n",
      "<FR_CODE>211-4</FR_CODE>\n",
      "</row>\n",
      "<row>\n",
      "<STATION_CD>0212</STATION_CD>\n",
      "<STATION_NM>건대입구</STATION_NM>\n",
      "<LINE_NUM>2</LINE_NUM>\n",
      "<FR_CODE>212</FR_CODE>\n",
      "</row>\n",
      "<row>\n",
      "<STATION_CD>0213</STATION_CD>\n",
      "<STATION_NM>구의</STATION_NM>\n",
      "<LINE_NUM>2</LINE_NUM>\n",
      "<FR_CODE>213</FR_CODE>\n",
      "</row>\n",
      "<row>\n",
      "<STATION_CD>0214</STATION_CD>\n",
      "<STATION_NM>강변</STATION_NM>\n",
      "<LINE_NUM>2</LINE_NUM>\n",
      "<FR_CODE>214</FR_CODE>\n",
      "</row>\n",
      "<row>\n",
      "<STATION_CD>0215</STATION_CD>\n",
      "<STATION_NM>잠실나루</STATION_NM>\n",
      "<LINE_NUM>2</LINE_NUM>\n",
      "<FR_CODE>215</FR_CODE>\n",
      "</row>\n",
      "<row>\n",
      "<STATION_CD>0216</STATION_CD>\n",
      "<STATION_NM>잠실</STATION_NM>\n",
      "<LINE_NUM>2</LINE_NUM>\n",
      "<FR_CODE>216</FR_CODE>\n",
      "</row>\n",
      "<row>\n",
      "<STATION_CD>0217</STATION_CD>\n",
      "<STATION_NM>잠실새내</STATION_NM>\n",
      "<LINE_NUM>2</LINE_NUM>\n",
      "<FR_CODE>217</FR_CODE>\n",
      "</row>\n",
      "<row>\n",
      "<STATION_CD>0218</STATION_CD>\n",
      "<STATION_NM>종합운동장</STATION_NM>\n",
      "<LINE_NUM>2</LINE_NUM>\n",
      "<FR_CODE>218</FR_CODE>\n",
      "</row>\n",
      "<row>\n",
      "<STATION_CD>0219</STATION_CD>\n",
      "<STATION_NM>삼성</STATION_NM>\n",
      "<LINE_NUM>2</LINE_NUM>\n",
      "<FR_CODE>219</FR_CODE>\n",
      "</row>\n",
      "<row>\n",
      "<STATION_CD>0220</STATION_CD>\n",
      "<STATION_NM>선릉</STATION_NM>\n",
      "<LINE_NUM>2</LINE_NUM>\n",
      "<FR_CODE>220</FR_CODE>\n",
      "</row>\n",
      "<row>\n",
      "<STATION_CD>0221</STATION_CD>\n",
      "<STATION_NM>역삼</STATION_NM>\n",
      "<LINE_NUM>2</LINE_NUM>\n",
      "<FR_CODE>221</FR_CODE>\n",
      "</row>\n",
      "<row>\n",
      "<STATION_CD>0222</STATION_CD>\n",
      "<STATION_NM>강남</STATION_NM>\n",
      "<LINE_NUM>2</LINE_NUM>\n",
      "<FR_CODE>222</FR_CODE>\n",
      "</row>\n",
      "<row>\n",
      "<STATION_CD>0223</STATION_CD>\n",
      "<STATION_NM>교대</STATION_NM>\n",
      "<LINE_NUM>2</LINE_NUM>\n",
      "<FR_CODE>223</FR_CODE>\n",
      "</row>\n",
      "<row>\n",
      "<STATION_CD>0224</STATION_CD>\n",
      "<STATION_NM>서초</STATION_NM>\n",
      "<LINE_NUM>2</LINE_NUM>\n",
      "<FR_CODE>224</FR_CODE>\n",
      "</row>\n",
      "<row>\n",
      "<STATION_CD>0225</STATION_CD>\n",
      "<STATION_NM>방배</STATION_NM>\n",
      "<LINE_NUM>2</LINE_NUM>\n",
      "<FR_CODE>225</FR_CODE>\n",
      "</row>\n",
      "<row>\n",
      "<STATION_CD>0226</STATION_CD>\n",
      "<STATION_NM>사당</STATION_NM>\n",
      "<LINE_NUM>2</LINE_NUM>\n",
      "<FR_CODE>226</FR_CODE>\n",
      "</row>\n",
      "<row>\n",
      "<STATION_CD>0227</STATION_CD>\n",
      "<STATION_NM>낙성대</STATION_NM>\n",
      "<LINE_NUM>2</LINE_NUM>\n",
      "<FR_CODE>227</FR_CODE>\n",
      "</row>\n",
      "<row>\n",
      "<STATION_CD>0228</STATION_CD>\n",
      "<STATION_NM>서울대입구</STATION_NM>\n",
      "<LINE_NUM>2</LINE_NUM>\n",
      "<FR_CODE>228</FR_CODE>\n",
      "</row>\n",
      "<row>\n",
      "<STATION_CD>0229</STATION_CD>\n",
      "<STATION_NM>봉천</STATION_NM>\n",
      "<LINE_NUM>2</LINE_NUM>\n",
      "<FR_CODE>229</FR_CODE>\n",
      "</row>\n",
      "<row>\n",
      "<STATION_CD>0230</STATION_CD>\n",
      "<STATION_NM>신림</STATION_NM>\n",
      "<LINE_NUM>2</LINE_NUM>\n",
      "<FR_CODE>230</FR_CODE>\n",
      "</row>\n",
      "<row>\n",
      "<STATION_CD>0231</STATION_CD>\n",
      "<STATION_NM>신대방</STATION_NM>\n",
      "<LINE_NUM>2</LINE_NUM>\n",
      "<FR_CODE>231</FR_CODE>\n",
      "</row>\n",
      "<row>\n",
      "<STATION_CD>0232</STATION_CD>\n",
      "<STATION_NM>구로디지털단지</STATION_NM>\n",
      "<LINE_NUM>2</LINE_NUM>\n",
      "<FR_CODE>232</FR_CODE>\n",
      "</row>\n",
      "<row>\n",
      "<STATION_CD>0233</STATION_CD>\n",
      "<STATION_NM>대림</STATION_NM>\n",
      "<LINE_NUM>2</LINE_NUM>\n",
      "<FR_CODE>233</FR_CODE>\n",
      "</row>\n",
      "<row>\n",
      "<STATION_CD>0234</STATION_CD>\n",
      "<STATION_NM>신도림</STATION_NM>\n",
      "<LINE_NUM>2</LINE_NUM>\n",
      "<FR_CODE>234</FR_CODE>\n",
      "</row>\n",
      "<row>\n",
      "<STATION_CD>0247</STATION_CD>\n",
      "<STATION_NM>도림천</STATION_NM>\n",
      "<LINE_NUM>2</LINE_NUM>\n",
      "<FR_CODE>234-1</FR_CODE>\n",
      "</row>\n",
      "<row>\n",
      "<STATION_CD>0248</STATION_CD>\n",
      "<STATION_NM>양천구청</STATION_NM>\n",
      "<LINE_NUM>2</LINE_NUM>\n",
      "<FR_CODE>234-2</FR_CODE>\n",
      "</row>\n",
      "</SearchSTNBySubwayLineService>\n",
      "\n"
     ]
    }
   ],
   "source": [
    "import requests\n",
    "data=requests.get(url).text\n",
    "print data"
   ]
  },
  {
   "cell_type": "code",
   "execution_count": 36,
   "metadata": {
    "collapsed": false
   },
   "outputs": [
    {
     "name": "stdout",
     "output_type": "stream",
     "text": [
      "2호선 : \n",
      "시청\n",
      "을지로입구\n",
      "을지로3가\n",
      "을지로4가\n",
      "동대문역사문화공원\n",
      "신당\n",
      "상왕십리\n",
      "왕십리\n",
      "한양대\n",
      "뚝섬\n",
      "성수\n",
      "용답\n",
      "신답\n",
      "용두\n",
      "신설동\n",
      "건대입구\n",
      "구의\n",
      "강변\n",
      "잠실나루\n",
      "잠실\n",
      "잠실새내\n",
      "종합운동장\n",
      "삼성\n",
      "선릉\n",
      "역삼\n",
      "강남\n",
      "교대\n",
      "서초\n",
      "방배\n",
      "사당\n",
      "낙성대\n",
      "서울대입구\n",
      "봉천\n",
      "신림\n",
      "신대방\n",
      "구로디지털단지\n",
      "대림\n",
      "신도림\n",
      "도림천\n",
      "양천구청\n"
     ]
    }
   ],
   "source": [
    "import re\n",
    "p=re.compile('<STATION_NM>(.+?)</STATION_NM>')\n",
    "res=p.findall(data)\n",
    "print u\"2호선 : \"\n",
    "for item in res:\n",
    "    print item"
   ]
  },
  {
   "cell_type": "code",
   "execution_count": 3,
   "metadata": {
    "collapsed": false
   },
   "outputs": [
    {
     "name": "stdout",
     "output_type": "stream",
     "text": [
      "Overwriting src/ds_open_subway.py\n"
     ]
    }
   ],
   "source": [
    "%%writefile src/ds_open_subway.py\n",
    "#coding : utf-8\n",
    "import os\n",
    "import urlparse\n",
    "import requests\n",
    "import lxml\n",
    "import lxml.etree\n",
    "import StringIO\n",
    "import mylib\n",
    "\n",
    "def linenum(KEY,TYPE,SERVICE,START_INDEX,END_INDEX,LINE_NUM):\n",
    "    params=KEY+'/'+TYPE+'/'+SERVICE+'/'+START_INDEX+'/'+END_INDEX+'/'+LINE_NUM\n",
    "    #print params[31:]\n",
    "\n",
    "    _url='http://openAPI.seoul.go.kr:8088/'\n",
    "    url=urlparse.urljoin(_url,params)\n",
    "    data=requests.get(url).text\n",
    "    tree=lxml.etree.fromstring(data.encode('utf-8'))\n",
    "    nodes=tree.xpath('//STATION_NM')\n",
    "    print 'line ',LINE_NUM,':'\n",
    "    for node in nodes:\n",
    "        print node.text,\n",
    "    print\n",
    "def doIt():\n",
    "    keyPath=os.path.join(os.getcwd(), 'src', 'key.properties')\n",
    "    key=mylib.getKey(keyPath)\n",
    "    KEY=str(key['dataseoul'])\n",
    "    TYPE='xml'\n",
    "    SERVICE='SearchSTNBySubwayLineService'\n",
    "    START_INDEX=str(1)\n",
    "    END_INDEX=str(10)\n",
    "    for i in range(1,10):\n",
    "        LINE_NUM=str(i)\n",
    "        linenum(KEY,TYPE,SERVICE,START_INDEX,END_INDEX,LINE_NUM)\n",
    "\n",
    "if __name__ == \"__main__\":\n",
    "    doIt()"
   ]
  },
  {
   "cell_type": "markdown",
   "metadata": {},
   "source": [
    "2017/05/02/화요일"
   ]
  },
  {
   "cell_type": "markdown",
   "metadata": {},
   "source": [
    "#### 분석의 단계 - 단순집계 (통계) -> 예측-> 추천\n",
    "* 통계는 크게 둘로 나눌 수 있다.\n",
    "    * 기술통계(단순통계) - 합계, 평균\n",
    "    * 추론통계 - 남자랑 여자중에 누가 키가 클까? -> 추론\n",
    "* 예측 - 어떤 사람이 있는데 이사람이 암으로 죽을 건가를 알고 싶다. -머신러닝을 써서 알아낸다.\n",
    "* 추천 - spark\n"
   ]
  },
  {
   "cell_type": "markdown",
   "metadata": {},
   "source": [
    "## 문제 OPEN-5: 2015년 서울시 지하철역별 월별 승하차인원 구하기"
   ]
  },
  {
   "cell_type": "code",
   "execution_count": 11,
   "metadata": {
    "collapsed": false
   },
   "outputs": [
    {
     "name": "stdout",
     "output_type": "stream",
     "text": [
      "http://openAPI.seoul.go.kr:8088/674d7a584e6b656c35317057737a5a/xml/CardSubwayStatisticsService/1/5/201306\n"
     ]
    }
   ],
   "source": [
    "import src.mylib\n",
    "\n",
    "keyPath=os.path.join(os.getcwd(), 'src', 'key.properties')\n",
    "key=src.mylib.getKey(keyPath)\n",
    "import os\n",
    "import requests\n",
    "_url='http://openAPI.seoul.go.kr:8088'\n",
    "_key=str(key['dataseoul'])\n",
    "_type='xml'\n",
    "_service='CardSubwayStatisticsService'\n",
    "_start_index=1\n",
    "_end_index=5\n",
    "_use_mon='201306'\n",
    "#_api=os.path.join(_url,_key,_type,_service,str(_start_index),str(_end_index),_use_mon)\n",
    "_api=_url+'/'+_key+'/'+_type+'/'+_service+'/'+str(_start_index)+'/'+str(_end_index)+'/'+_use_mon\n",
    "print _api"
   ]
  },
  {
   "cell_type": "code",
   "execution_count": 12,
   "metadata": {
    "collapsed": false
   },
   "outputs": [
    {
     "name": "stdout",
     "output_type": "stream",
     "text": [
      "<?xml version=\"1.0\" encoding=\"UTF-8\"?>\n",
      "<CardSubwayStatisticsService>\n",
      "<list_total_count>530</list_total_count>\n",
      "<RESULT>\n",
      "<CODE>INFO-230</CODE>\n",
      "<MESSAGE>해당 서비스(OpenAPI)는 개방 취소된 서비스(OpenAPI)입니다.</MESSAGE>\n",
      "</RESULT>\n",
      "<row>\n",
      "<USE_MON>201306</USE_MON>\n",
      "<LINE_NUM>중앙선</LINE_NUM>\n",
      "<SUB_STA_NM>용문</SUB_STA_NM>\n",
      "<RIDE_PASGR_NUM>111275</RIDE_PASGR_NUM>\n",
      "<ALIGHT_PASGR_NUM>108878</ALIGHT_PASGR_NUM>\n",
      "<WORK_DT>20130723</WORK_DT>\n",
      "<COMMT/>\n",
      "</row>\n",
      "<row>\n",
      "<USE_MON>201306</USE_MON>\n",
      "<LINE_NUM>중앙선</LINE_NUM>\n",
      "<SUB_STA_NM>원덕</SUB_STA_NM>\n",
      "<RIDE_PASGR_NUM>11495</RIDE_PASGR_NUM>\n",
      "<ALIGHT_PASGR_NUM>10964</ALIGHT_PASGR_NUM>\n",
      "<WORK_DT>20130723</WORK_DT>\n",
      "<COMMT/>\n",
      "</row>\n",
      "<row>\n",
      "<USE_MON>201306</USE_MON>\n",
      "<LINE_NUM>중앙선</LINE_NUM>\n",
      "<SUB_STA_NM>양평</SUB_STA_NM>\n",
      "<RIDE_PASGR_NUM>118103</RIDE_PASGR_NUM>\n",
      "<ALIGHT_PASGR_NUM>116604</ALIGHT_PASGR_NUM>\n",
      "<WORK_DT>20130723</WORK_DT>\n",
      "<COMMT/>\n",
      "</row>\n",
      "<row>\n",
      "<USE_MON>201306</USE_MON>\n",
      "<LINE_NUM>중앙선</LINE_NUM>\n",
      "<SUB_STA_NM>오빈</SUB_STA_NM>\n",
      "<RIDE_PASGR_NUM>10590</RIDE_PASGR_NUM>\n",
      "<ALIGHT_PASGR_NUM>10020</ALIGHT_PASGR_NUM>\n",
      "<WORK_DT>20130723</WORK_DT>\n",
      "<COMMT/>\n",
      "</row>\n",
      "<row>\n",
      "<USE_MON>201306</USE_MON>\n",
      "<LINE_NUM>중앙선</LINE_NUM>\n",
      "<SUB_STA_NM>아신</SUB_STA_NM>\n",
      "<RIDE_PASGR_NUM>26304</RIDE_PASGR_NUM>\n",
      "<ALIGHT_PASGR_NUM>26358</ALIGHT_PASGR_NUM>\n",
      "<WORK_DT>20130723</WORK_DT>\n",
      "<COMMT/>\n",
      "</row>\n",
      "</CardSubwayStatisticsService>\n",
      "\n"
     ]
    }
   ],
   "source": [
    "response = requests.get(_api).text\n",
    "print response"
   ]
  },
  {
   "cell_type": "markdown",
   "metadata": {},
   "source": [
    "## 문제 OPEN-6: 2013년 1년 동안 지하철역 승하차 인원"
   ]
  },
  {
   "cell_type": "code",
   "execution_count": 13,
   "metadata": {
    "collapsed": true
   },
   "outputs": [],
   "source": [
    "import os\n",
    "import requests\n",
    "_url='http://openAPI.seoul.go.kr:8088'\n",
    "_key=str(key['dataseoul'])\n",
    "_type='xml'\n",
    "_service='CardSubwayStatisticsService'\n",
    "_start_index=1\n",
    "_end_index=5\n",
    "_use_mon='201306'"
   ]
  },
  {
   "cell_type": "code",
   "execution_count": 15,
   "metadata": {
    "collapsed": false
   },
   "outputs": [
    {
     "name": "stdout",
     "output_type": "stream",
     "text": [
      "<?xml version=\"1.0\" encoding=\"UTF-8\"?>\n",
      "<CardSubwayStatisticsService>\n",
      "<list_total_count>530</list_total_count>\n",
      "<RESULT>\n",
      "<CODE>INFO-230</CODE>\n",
      "<MESSAGE>해당 서비스(OpenAPI)는 개방 취소된 서비스(OpenAPI)입니다.</MESSAGE>\n",
      "</RESULT>\n",
      "<row>\n",
      "<USE_MON>201306</USE_MON>\n",
      "<LINE_NUM>중앙선</LINE_NUM>\n",
      "<SUB_STA_NM>용문</SUB_STA_NM>\n",
      "<RIDE_PASGR_NUM>111275</RIDE_PASGR_NUM>\n",
      "<ALIGHT_PASGR_NUM>108878</ALIGHT_PASGR_NUM>\n",
      "<WORK_DT>20130723</WORK_DT>\n",
      "<COMMT/>\n",
      "</row>\n",
      "<row>\n",
      "<USE_MON>201306</USE_MON>\n",
      "<LINE_NUM>중앙선</LINE_NUM>\n",
      "<SUB_STA_NM>원덕</SUB_STA_NM>\n",
      "<RIDE_PASGR_NUM>11495</RIDE_PASGR_NUM>\n",
      "<ALIGHT_PASGR_NUM>10964</ALIGHT_PASGR_NUM>\n",
      "<WORK_DT>20130723</WORK_DT>\n",
      "<COMMT/>\n",
      "</row>\n",
      "<row>\n",
      "<USE_MON>201306</USE_MON>\n",
      "<LINE_NUM>중앙선</LINE_NUM>\n",
      "<SUB_STA_NM>양평</SUB_STA_NM>\n",
      "<RIDE_PASGR_NUM>118103</RIDE_PASGR_NUM>\n",
      "<ALIGHT_PASGR_NUM>116604</ALIGHT_PASGR_NUM>\n",
      "<WORK_DT>20130723</WORK_DT>\n",
      "<COMMT/>\n",
      "</row>\n",
      "<row>\n",
      "<USE_MON>201306</USE_MON>\n",
      "<LINE_NUM>중앙선</LINE_NUM>\n",
      "<SUB_STA_NM>오빈</SUB_STA_NM>\n",
      "<RIDE_PASGR_NUM>10590</RIDE_PASGR_NUM>\n",
      "<ALIGHT_PASGR_NUM>10020</ALIGHT_PASGR_NUM>\n",
      "<WORK_DT>20130723</WORK_DT>\n",
      "<COMMT/>\n",
      "</row>\n",
      "<row>\n",
      "<USE_MON>201306</USE_MON>\n",
      "<LINE_NUM>중앙선</LINE_NUM>\n",
      "<SUB_STA_NM>아신</SUB_STA_NM>\n",
      "<RIDE_PASGR_NUM>26304</RIDE_PASGR_NUM>\n",
      "<ALIGHT_PASGR_NUM>26358</ALIGHT_PASGR_NUM>\n",
      "<WORK_DT>20130723</WORK_DT>\n",
      "<COMMT/>\n",
      "</row>\n",
      "</CardSubwayStatisticsService>\n",
      "\n",
      "<?xml version=\"1.0\" encoding=\"UTF-8\"?>\n",
      "<CardSubwayStatisticsService>\n",
      "<list_total_count>530</list_total_count>\n",
      "<RESULT>\n",
      "<CODE>INFO-230</CODE>\n",
      "<MESSAGE>해당 서비스(OpenAPI)는 개방 취소된 서비스(OpenAPI)입니다.</MESSAGE>\n",
      "</RESULT>\n",
      "<row>\n",
      "<USE_MON>201306</USE_MON>\n",
      "<LINE_NUM>중앙선</LINE_NUM>\n",
      "<SUB_STA_NM>국수</SUB_STA_NM>\n",
      "<RIDE_PASGR_NUM>30281</RIDE_PASGR_NUM>\n",
      "<ALIGHT_PASGR_NUM>29456</ALIGHT_PASGR_NUM>\n",
      "<WORK_DT>20130723</WORK_DT>\n",
      "<COMMT/>\n",
      "</row>\n",
      "<row>\n",
      "<USE_MON>201306</USE_MON>\n",
      "<LINE_NUM>중앙선</LINE_NUM>\n",
      "<SUB_STA_NM>신원</SUB_STA_NM>\n",
      "<RIDE_PASGR_NUM>10832</RIDE_PASGR_NUM>\n",
      "<ALIGHT_PASGR_NUM>7603</ALIGHT_PASGR_NUM>\n",
      "<WORK_DT>20130723</WORK_DT>\n",
      "<COMMT/>\n",
      "</row>\n",
      "<row>\n",
      "<USE_MON>201306</USE_MON>\n",
      "<LINE_NUM>중앙선</LINE_NUM>\n",
      "<SUB_STA_NM>양수</SUB_STA_NM>\n",
      "<RIDE_PASGR_NUM>61889</RIDE_PASGR_NUM>\n",
      "<ALIGHT_PASGR_NUM>62370</ALIGHT_PASGR_NUM>\n",
      "<WORK_DT>20130723</WORK_DT>\n",
      "<COMMT/>\n",
      "</row>\n",
      "<row>\n",
      "<USE_MON>201306</USE_MON>\n",
      "<LINE_NUM>중앙선</LINE_NUM>\n",
      "<SUB_STA_NM>운길산</SUB_STA_NM>\n",
      "<RIDE_PASGR_NUM>45870</RIDE_PASGR_NUM>\n",
      "<ALIGHT_PASGR_NUM>44030</ALIGHT_PASGR_NUM>\n",
      "<WORK_DT>20130723</WORK_DT>\n",
      "<COMMT/>\n",
      "</row>\n",
      "<row>\n",
      "<USE_MON>201306</USE_MON>\n",
      "<LINE_NUM>중앙선</LINE_NUM>\n",
      "<SUB_STA_NM>팔당</SUB_STA_NM>\n",
      "<RIDE_PASGR_NUM>34122</RIDE_PASGR_NUM>\n",
      "<ALIGHT_PASGR_NUM>35559</ALIGHT_PASGR_NUM>\n",
      "<WORK_DT>20130723</WORK_DT>\n",
      "<COMMT/>\n",
      "</row>\n",
      "</CardSubwayStatisticsService>\n",
      "\n"
     ]
    }
   ],
   "source": [
    "_maxIter=2\n",
    "_iter=0\n",
    "while _iter<_maxIter:\n",
    "    _api=_url+'/'+_key+'/'+_type+'/'+_service+'/'+str(_start_index)+'/'+str(_end_index)+'/'+_use_mon\n",
    "    #print _api\n",
    "    response = requests.get(_api).text\n",
    "    print response\n",
    "    _start_index+=5\n",
    "    _end_index+=5\n",
    "    _iter+=1"
   ]
  },
  {
   "cell_type": "code",
   "execution_count": 16,
   "metadata": {
    "collapsed": true
   },
   "outputs": [],
   "source": [
    "from pymongo import MongoClient"
   ]
  },
  {
   "cell_type": "code",
   "execution_count": 17,
   "metadata": {
    "collapsed": true
   },
   "outputs": [],
   "source": [
    "Client=MongoClient('localhost:27017')"
   ]
  },
  {
   "cell_type": "code",
   "execution_count": 18,
   "metadata": {
    "collapsed": true
   },
   "outputs": [],
   "source": [
    "_db=Client['ds_open_subwayPassengersDb'] #db created by mongo"
   ]
  },
  {
   "cell_type": "code",
   "execution_count": 19,
   "metadata": {
    "collapsed": true
   },
   "outputs": [],
   "source": [
    "_table=_db['db_open_subwayTable'] #collection"
   ]
  },
  {
   "cell_type": "markdown",
   "metadata": {},
   "source": [
    "Python 6_Module (모듈) 만들기:\n",
    "http://cybersecurity.tistory.com/entry/Python-6Module-%EB%AA%A8%EB%93%88-%EB%A7%8C%EB%93%A4%EA%B8%B0"
   ]
  },
  {
   "cell_type": "code",
   "execution_count": 20,
   "metadata": {
    "collapsed": false
   },
   "outputs": [
    {
     "name": "stdout",
     "output_type": "stream",
     "text": [
      "Writing src/ds_open_subwayPassengers.py\n"
     ]
    }
   ],
   "source": [
    "%%writefile src/ds_open_subwayPassengers.py\n",
    "# coding: utf-8\n",
    "import os\n",
    "import requests\n",
    "import json\n",
    "from pymongo import MongoClient\n",
    "import mylib\n",
    "\n",
    "Client = MongoClient('localhost:27017')\n",
    "_db=Client['ds_open_subwayPassengersDb'] #db created by mongo\n",
    "_table=_db['db_open_subwayTable'] #collection\n",
    "#db=Client.ds_rest_subwayPassengers\n",
    "\n",
    "def saveJson(_fname,_data):\n",
    "    import io\n",
    "    with io.open(_fname, 'a', encoding='utf8') as json_file:\n",
    "        _j=json.dumps(_data, json_file, ensure_ascii=False, encoding='utf8')\n",
    "        json_file.write(_j+\"\\n\")\n",
    "\n",
    "def readJson(_fname):\n",
    "    for line in open(_fname, 'r').readlines():\n",
    "        _j=json.loads(line)\n",
    "        #print _j['id'],_j['text']\n",
    "        print _j['id']\n",
    "\n",
    "def saveDB(_data):\n",
    "    _table.insert_one(_data)\n",
    "\n",
    "def readDB():\n",
    "    for tweet in _table.find():\n",
    "        print tweet['id'],tweet['text']\n",
    "\n",
    "def saveFile(_fname,_data):\n",
    "    fp=open(_fname,'a')\n",
    "    fp.write(_data+\"\\n\")\n",
    "\n",
    "def doIt():\n",
    "    keyPath=os.path.join(os.getcwd(), 'src', 'key.properties')\n",
    "    key=mylib.getKey(keyPath)  \n",
    "    _key=key['dataseoul'] #KEY='73725.....'\n",
    "    _url='http://openAPI.seoul.go.kr:8088'\n",
    "    _type='json'\n",
    "    _service='CardSubwayStatisticsService'\n",
    "    _start_index=1\n",
    "    _end_index=5\n",
    "    _use_mon='201306'\n",
    "    _maxIter=20\n",
    "    _iter=0\n",
    "    _jfname='src/ds_open_subwayPassengers.json'\n",
    "    while _iter<_maxIter:\n",
    "        _api=_url+'/'+_key+'/'+_type+'/'+_service+'/'+str(_start_index)+'/'+str(_end_index)+'/'+_use_mon\n",
    "        #print _api\n",
    "        r=requests.get(_api)\n",
    "        _json=r.json()\n",
    "        print _json\n",
    "        saveJson(_jfname,_json)\n",
    "        saveDB(_json)\n",
    "        _start_index+=5\n",
    "        _end_index+=5\n",
    "        _iter+=1\n",
    "\n",
    "if __name__ == \"__main__\":\n",
    "    doIt()"
   ]
  },
  {
   "cell_type": "code",
   "execution_count": 21,
   "metadata": {
    "collapsed": false,
    "scrolled": false
   },
   "outputs": [
    {
     "name": "stdout",
     "output_type": "stream",
     "text": [
      "{u'CardSubwayStatisticsService': {u'row': [{u'COMMT': u'', u'RIDE_PASGR_NUM': 111275.0, u'WORK_DT': u'20130723', u'LINE_NUM': u'\\uc911\\uc559\\uc120', u'SUB_STA_NM': u'\\uc6a9\\ubb38', u'ALIGHT_PASGR_NUM': 108878.0, u'USE_MON': u'201306'}, {u'COMMT': u'', u'RIDE_PASGR_NUM': 11495.0, u'WORK_DT': u'20130723', u'LINE_NUM': u'\\uc911\\uc559\\uc120', u'SUB_STA_NM': u'\\uc6d0\\ub355', u'ALIGHT_PASGR_NUM': 10964.0, u'USE_MON': u'201306'}, {u'COMMT': u'', u'RIDE_PASGR_NUM': 118103.0, u'WORK_DT': u'20130723', u'LINE_NUM': u'\\uc911\\uc559\\uc120', u'SUB_STA_NM': u'\\uc591\\ud3c9', u'ALIGHT_PASGR_NUM': 116604.0, u'USE_MON': u'201306'}, {u'COMMT': u'', u'RIDE_PASGR_NUM': 10590.0, u'WORK_DT': u'20130723', u'LINE_NUM': u'\\uc911\\uc559\\uc120', u'SUB_STA_NM': u'\\uc624\\ube48', u'ALIGHT_PASGR_NUM': 10020.0, u'USE_MON': u'201306'}, {u'COMMT': u'', u'RIDE_PASGR_NUM': 26304.0, u'WORK_DT': u'20130723', u'LINE_NUM': u'\\uc911\\uc559\\uc120', u'SUB_STA_NM': u'\\uc544\\uc2e0', u'ALIGHT_PASGR_NUM': 26358.0, u'USE_MON': u'201306'}], u'RESULT': {u'MESSAGE': u'\\uc815\\uc0c1 \\ucc98\\ub9ac\\ub418\\uc5c8\\uc2b5\\ub2c8\\ub2e4', u'CODE': u'INFO-000'}, u'list_total_count': 530}}\n",
      "{u'CardSubwayStatisticsService': {u'row': [{u'COMMT': u'', u'RIDE_PASGR_NUM': 30281.0, u'WORK_DT': u'20130723', u'LINE_NUM': u'\\uc911\\uc559\\uc120', u'SUB_STA_NM': u'\\uad6d\\uc218', u'ALIGHT_PASGR_NUM': 29456.0, u'USE_MON': u'201306'}, {u'COMMT': u'', u'RIDE_PASGR_NUM': 10832.0, u'WORK_DT': u'20130723', u'LINE_NUM': u'\\uc911\\uc559\\uc120', u'SUB_STA_NM': u'\\uc2e0\\uc6d0', u'ALIGHT_PASGR_NUM': 7603.0, u'USE_MON': u'201306'}, {u'COMMT': u'', u'RIDE_PASGR_NUM': 61889.0, u'WORK_DT': u'20130723', u'LINE_NUM': u'\\uc911\\uc559\\uc120', u'SUB_STA_NM': u'\\uc591\\uc218', u'ALIGHT_PASGR_NUM': 62370.0, u'USE_MON': u'201306'}, {u'COMMT': u'', u'RIDE_PASGR_NUM': 45870.0, u'WORK_DT': u'20130723', u'LINE_NUM': u'\\uc911\\uc559\\uc120', u'SUB_STA_NM': u'\\uc6b4\\uae38\\uc0b0', u'ALIGHT_PASGR_NUM': 44030.0, u'USE_MON': u'201306'}, {u'COMMT': u'', u'RIDE_PASGR_NUM': 34122.0, u'WORK_DT': u'20130723', u'LINE_NUM': u'\\uc911\\uc559\\uc120', u'SUB_STA_NM': u'\\ud314\\ub2f9', u'ALIGHT_PASGR_NUM': 35559.0, u'USE_MON': u'201306'}], u'RESULT': {u'MESSAGE': u'\\uc815\\uc0c1 \\ucc98\\ub9ac\\ub418\\uc5c8\\uc2b5\\ub2c8\\ub2e4', u'CODE': u'INFO-000'}, u'list_total_count': 530}}\n",
      "{u'CardSubwayStatisticsService': {u'row': [{u'COMMT': u'', u'RIDE_PASGR_NUM': 75553.0, u'WORK_DT': u'20130723', u'LINE_NUM': u'\\uc911\\uc559\\uc120', u'SUB_STA_NM': u'\\ub3c4\\uc2ec', u'ALIGHT_PASGR_NUM': 67667.0, u'USE_MON': u'201306'}, {u'COMMT': u'', u'RIDE_PASGR_NUM': 189783.0, u'WORK_DT': u'20130723', u'LINE_NUM': u'\\uc911\\uc559\\uc120', u'SUB_STA_NM': u'\\ub355\\uc18c', u'ALIGHT_PASGR_NUM': 189419.0, u'USE_MON': u'201306'}, {u'COMMT': u'', u'RIDE_PASGR_NUM': 27878.0, u'WORK_DT': u'20130723', u'LINE_NUM': u'\\uc911\\uc559\\uc120', u'SUB_STA_NM': u'\\uc591\\uc815', u'ALIGHT_PASGR_NUM': 23735.0, u'USE_MON': u'201306'}, {u'COMMT': u'', u'RIDE_PASGR_NUM': 267402.0, u'WORK_DT': u'20130723', u'LINE_NUM': u'\\uc911\\uc559\\uc120', u'SUB_STA_NM': u'\\ub3c4\\ub18d', u'ALIGHT_PASGR_NUM': 228445.0, u'USE_MON': u'201306'}, {u'COMMT': u'', u'RIDE_PASGR_NUM': 399287.0, u'WORK_DT': u'20130723', u'LINE_NUM': u'\\uc911\\uc559\\uc120', u'SUB_STA_NM': u'\\uad6c\\ub9ac', u'ALIGHT_PASGR_NUM': 418036.0, u'USE_MON': u'201306'}], u'RESULT': {u'MESSAGE': u'\\uc815\\uc0c1 \\ucc98\\ub9ac\\ub418\\uc5c8\\uc2b5\\ub2c8\\ub2e4', u'CODE': u'INFO-000'}, u'list_total_count': 530}}\n",
      "{u'CardSubwayStatisticsService': {u'row': [{u'COMMT': u'', u'RIDE_PASGR_NUM': 62789.0, u'WORK_DT': u'20130723', u'LINE_NUM': u'\\uc911\\uc559\\uc120', u'SUB_STA_NM': u'\\uc591\\uc6d0', u'ALIGHT_PASGR_NUM': 68407.0, u'USE_MON': u'201306'}, {u'COMMT': u'', u'RIDE_PASGR_NUM': 220544.0, u'WORK_DT': u'20130723', u'LINE_NUM': u'\\uc911\\uc559\\uc120', u'SUB_STA_NM': u'\\ub9dd\\uc6b0', u'ALIGHT_PASGR_NUM': 215484.0, u'USE_MON': u'201306'}, {u'COMMT': u'', u'RIDE_PASGR_NUM': 157679.0, u'WORK_DT': u'20130723', u'LINE_NUM': u'\\uc911\\uc559\\uc120', u'SUB_STA_NM': u'\\uc0c1\\ubd09', u'ALIGHT_PASGR_NUM': 158208.0, u'USE_MON': u'201306'}, {u'COMMT': u'', u'RIDE_PASGR_NUM': 175937.0, u'WORK_DT': u'20130723', u'LINE_NUM': u'\\uc911\\uc559\\uc120', u'SUB_STA_NM': u'\\uc911\\ub791', u'ALIGHT_PASGR_NUM': 165876.0, u'USE_MON': u'201306'}, {u'COMMT': u'', u'RIDE_PASGR_NUM': 883471.0, u'WORK_DT': u'20130723', u'LINE_NUM': u'\\uc911\\uc559\\uc120', u'SUB_STA_NM': u'\\ud68c\\uae30', u'ALIGHT_PASGR_NUM': 867156.0, u'USE_MON': u'201306'}], u'RESULT': {u'MESSAGE': u'\\uc815\\uc0c1 \\ucc98\\ub9ac\\ub418\\uc5c8\\uc2b5\\ub2c8\\ub2e4', u'CODE': u'INFO-000'}, u'list_total_count': 530}}\n",
      "{u'CardSubwayStatisticsService': {u'row': [{u'COMMT': u'', u'RIDE_PASGR_NUM': 74486.0, u'WORK_DT': u'20130723', u'LINE_NUM': u'\\uc7a5\\ud56d\\uc120', u'SUB_STA_NM': u'\\uc2e0\\ucc3d', u'ALIGHT_PASGR_NUM': 70390.0, u'USE_MON': u'201306'}, {u'COMMT': u'', u'RIDE_PASGR_NUM': 152381.0, u'WORK_DT': u'20130723', u'LINE_NUM': u'\\uc7a5\\ud56d\\uc120', u'SUB_STA_NM': u'\\uc628\\uc591\\uc628\\ucc9c', u'ALIGHT_PASGR_NUM': 153093.0, u'USE_MON': u'201306'}, {u'COMMT': u'', u'RIDE_PASGR_NUM': 27353.0, u'WORK_DT': u'20130723', u'LINE_NUM': u'\\uc7a5\\ud56d\\uc120', u'SUB_STA_NM': u'\\ubc30\\ubc29', u'ALIGHT_PASGR_NUM': 26155.0, u'USE_MON': u'201306'}, {u'COMMT': u'', u'RIDE_PASGR_NUM': 71486.0, u'WORK_DT': u'20130723', u'LINE_NUM': u'\\uc7a5\\ud56d\\uc120', u'SUB_STA_NM': u'\\uc544\\uc0b0', u'ALIGHT_PASGR_NUM': 62545.0, u'USE_MON': u'201306'}, {u'COMMT': u'', u'RIDE_PASGR_NUM': 86078.0, u'WORK_DT': u'20130723', u'LINE_NUM': u'\\uc7a5\\ud56d\\uc120', u'SUB_STA_NM': u'\\uc30d\\uc6a9\\ub3d9', u'ALIGHT_PASGR_NUM': 79395.0, u'USE_MON': u'201306'}], u'RESULT': {u'MESSAGE': u'\\uc815\\uc0c1 \\ucc98\\ub9ac\\ub418\\uc5c8\\uc2b5\\ub2c8\\ub2e4', u'CODE': u'INFO-000'}, u'list_total_count': 530}}\n",
      "{u'CardSubwayStatisticsService': {u'row': [{u'COMMT': u'', u'RIDE_PASGR_NUM': 43418.0, u'WORK_DT': u'20130723', u'LINE_NUM': u'\\uc7a5\\ud56d\\uc120', u'SUB_STA_NM': u'\\ubd09\\uba85', u'ALIGHT_PASGR_NUM': 42388.0, u'USE_MON': u'201306'}, {u'COMMT': u'', u'RIDE_PASGR_NUM': 413533.0, u'WORK_DT': u'20130723', u'LINE_NUM': u'\\uc77c\\uc0b0\\uc120', u'SUB_STA_NM': u'\\ub300\\ud654', u'ALIGHT_PASGR_NUM': 324864.0, u'USE_MON': u'201306'}, {u'COMMT': u'', u'RIDE_PASGR_NUM': 287340.0, u'WORK_DT': u'20130723', u'LINE_NUM': u'\\uc77c\\uc0b0\\uc120', u'SUB_STA_NM': u'\\uc8fc\\uc5fd', u'ALIGHT_PASGR_NUM': 293083.0, u'USE_MON': u'201306'}, {u'COMMT': u'', u'RIDE_PASGR_NUM': 282531.0, u'WORK_DT': u'20130723', u'LINE_NUM': u'\\uc77c\\uc0b0\\uc120', u'SUB_STA_NM': u'\\uc815\\ubc1c\\uc0b0', u'ALIGHT_PASGR_NUM': 298514.0, u'USE_MON': u'201306'}, {u'COMMT': u'', u'RIDE_PASGR_NUM': 248026.0, u'WORK_DT': u'20130723', u'LINE_NUM': u'\\uc77c\\uc0b0\\uc120', u'SUB_STA_NM': u'\\ub9c8\\ub450', u'ALIGHT_PASGR_NUM': 258045.0, u'USE_MON': u'201306'}], u'RESULT': {u'MESSAGE': u'\\uc815\\uc0c1 \\ucc98\\ub9ac\\ub418\\uc5c8\\uc2b5\\ub2c8\\ub2e4', u'CODE': u'INFO-000'}, u'list_total_count': 530}}\n",
      "{u'CardSubwayStatisticsService': {u'row': [{u'COMMT': u'', u'RIDE_PASGR_NUM': 301856.0, u'WORK_DT': u'20130723', u'LINE_NUM': u'\\uc77c\\uc0b0\\uc120', u'SUB_STA_NM': u'\\ubc31\\uc11d', u'ALIGHT_PASGR_NUM': 286143.0, u'USE_MON': u'201306'}, {u'COMMT': u'', u'RIDE_PASGR_NUM': 37978.0, u'WORK_DT': u'20130723', u'LINE_NUM': u'\\uc77c\\uc0b0\\uc120', u'SUB_STA_NM': u'\\ub300\\uace1', u'ALIGHT_PASGR_NUM': 30033.0, u'USE_MON': u'201306'}, {u'COMMT': u'', u'RIDE_PASGR_NUM': 584539.0, u'WORK_DT': u'20130723', u'LINE_NUM': u'\\uc77c\\uc0b0\\uc120', u'SUB_STA_NM': u'\\ud654\\uc815', u'ALIGHT_PASGR_NUM': 597382.0, u'USE_MON': u'201306'}, {u'COMMT': u'', u'RIDE_PASGR_NUM': 384868.0, u'WORK_DT': u'20130723', u'LINE_NUM': u'\\uc77c\\uc0b0\\uc120', u'SUB_STA_NM': u'\\uc6d0\\ub2f9', u'ALIGHT_PASGR_NUM': 364047.0, u'USE_MON': u'201306'}, {u'COMMT': u'', u'RIDE_PASGR_NUM': 253470.0, u'WORK_DT': u'20130723', u'LINE_NUM': u'\\uc77c\\uc0b0\\uc120', u'SUB_STA_NM': u'\\uc0bc\\uc1a1', u'ALIGHT_PASGR_NUM': 233074.0, u'USE_MON': u'201306'}], u'RESULT': {u'MESSAGE': u'\\uc815\\uc0c1 \\ucc98\\ub9ac\\ub418\\uc5c8\\uc2b5\\ub2c8\\ub2e4', u'CODE': u'INFO-000'}, u'list_total_count': 530}}\n",
      "{u'CardSubwayStatisticsService': {u'row': [{u'COMMT': u'', u'RIDE_PASGR_NUM': 146909.0, u'WORK_DT': u'20130723', u'LINE_NUM': u'\\uc548\\uc0b0\\uc120', u'SUB_STA_NM': u'\\uc218\\ub9ac\\uc0b0', u'ALIGHT_PASGR_NUM': 122149.0, u'USE_MON': u'201306'}, {u'COMMT': u'', u'RIDE_PASGR_NUM': 227066.0, u'WORK_DT': u'20130723', u'LINE_NUM': u'\\uc548\\uc0b0\\uc120', u'SUB_STA_NM': u'\\uc624\\uc774\\ub3c4', u'ALIGHT_PASGR_NUM': 224118.0, u'USE_MON': u'201306'}, {u'COMMT': u'', u'RIDE_PASGR_NUM': 289305.0, u'WORK_DT': u'20130723', u'LINE_NUM': u'\\uc548\\uc0b0\\uc120', u'SUB_STA_NM': u'\\uc815\\uc655', u'ALIGHT_PASGR_NUM': 309927.0, u'USE_MON': u'201306'}, {u'COMMT': u'', u'RIDE_PASGR_NUM': 54276.0, u'WORK_DT': u'20130723', u'LINE_NUM': u'\\uc548\\uc0b0\\uc120', u'SUB_STA_NM': u'\\uc2e0\\uae38\\uc628\\ucc9c', u'ALIGHT_PASGR_NUM': 51249.0, u'USE_MON': u'201306'}, {u'COMMT': u'', u'RIDE_PASGR_NUM': 581120.0, u'WORK_DT': u'20130723', u'LINE_NUM': u'\\uc548\\uc0b0\\uc120', u'SUB_STA_NM': u'\\uc548\\uc0b0', u'ALIGHT_PASGR_NUM': 533836.0, u'USE_MON': u'201306'}], u'RESULT': {u'MESSAGE': u'\\uc815\\uc0c1 \\ucc98\\ub9ac\\ub418\\uc5c8\\uc2b5\\ub2c8\\ub2e4', u'CODE': u'INFO-000'}, u'list_total_count': 530}}\n",
      "{u'CardSubwayStatisticsService': {u'row': [{u'COMMT': u'', u'RIDE_PASGR_NUM': 152275.0, u'WORK_DT': u'20130723', u'LINE_NUM': u'\\uc548\\uc0b0\\uc120', u'SUB_STA_NM': u'\\ucd08\\uc9c0', u'ALIGHT_PASGR_NUM': 145611.0, u'USE_MON': u'201306'}, {u'COMMT': u'', u'RIDE_PASGR_NUM': 285263.0, u'WORK_DT': u'20130723', u'LINE_NUM': u'\\uc548\\uc0b0\\uc120', u'SUB_STA_NM': u'\\uace0\\uc794', u'ALIGHT_PASGR_NUM': 281189.0, u'USE_MON': u'201306'}, {u'COMMT': u'', u'RIDE_PASGR_NUM': 504850.0, u'WORK_DT': u'20130723', u'LINE_NUM': u'\\uc548\\uc0b0\\uc120', u'SUB_STA_NM': u'\\uc911\\uc559', u'ALIGHT_PASGR_NUM': 519455.0, u'USE_MON': u'201306'}, {u'COMMT': u'', u'RIDE_PASGR_NUM': 308890.0, u'WORK_DT': u'20130723', u'LINE_NUM': u'\\uc548\\uc0b0\\uc120', u'SUB_STA_NM': u'\\ud55c\\ub300\\uc55e', u'ALIGHT_PASGR_NUM': 302989.0, u'USE_MON': u'201306'}, {u'COMMT': u'', u'RIDE_PASGR_NUM': 662510.0, u'WORK_DT': u'20130723', u'LINE_NUM': u'\\uc548\\uc0b0\\uc120', u'SUB_STA_NM': u'\\uc0c1\\ub85d\\uc218', u'ALIGHT_PASGR_NUM': 648908.0, u'USE_MON': u'201306'}], u'RESULT': {u'MESSAGE': u'\\uc815\\uc0c1 \\ucc98\\ub9ac\\ub418\\uc5c8\\uc2b5\\ub2c8\\ub2e4', u'CODE': u'INFO-000'}, u'list_total_count': 530}}\n",
      "{u'CardSubwayStatisticsService': {u'row': [{u'COMMT': u'', u'RIDE_PASGR_NUM': 161298.0, u'WORK_DT': u'20130723', u'LINE_NUM': u'\\uc548\\uc0b0\\uc120', u'SUB_STA_NM': u'\\ubc18\\uc6d4', u'ALIGHT_PASGR_NUM': 150608.0, u'USE_MON': u'201306'}, {u'COMMT': u'', u'RIDE_PASGR_NUM': 117720.0, u'WORK_DT': u'20130723', u'LINE_NUM': u'\\uc548\\uc0b0\\uc120', u'SUB_STA_NM': u'\\ub300\\uc57c\\ubbf8', u'ALIGHT_PASGR_NUM': 107344.0, u'USE_MON': u'201306'}, {u'COMMT': u'', u'RIDE_PASGR_NUM': 580508.0, u'WORK_DT': u'20130723', u'LINE_NUM': u'\\uc548\\uc0b0\\uc120', u'SUB_STA_NM': u'\\uc0b0\\ubcf8', u'ALIGHT_PASGR_NUM': 608627.0, u'USE_MON': u'201306'}, {u'COMMT': u'', u'RIDE_PASGR_NUM': 91054.0, u'WORK_DT': u'20130723', u'LINE_NUM': u'\\uc218\\uc778\\uc120', u'SUB_STA_NM': u'\\uc1a1\\ub3c4', u'ALIGHT_PASGR_NUM': 92244.0, u'USE_MON': u'201306'}, {u'COMMT': u'', u'RIDE_PASGR_NUM': 88462.0, u'WORK_DT': u'20130723', u'LINE_NUM': u'\\uc218\\uc778\\uc120', u'SUB_STA_NM': u'\\uc5f0\\uc218', u'ALIGHT_PASGR_NUM': 85543.0, u'USE_MON': u'201306'}], u'RESULT': {u'MESSAGE': u'\\uc815\\uc0c1 \\ucc98\\ub9ac\\ub418\\uc5c8\\uc2b5\\ub2c8\\ub2e4', u'CODE': u'INFO-000'}, u'list_total_count': 530}}\n",
      "{u'CardSubwayStatisticsService': {u'row': [{u'COMMT': u'', u'RIDE_PASGR_NUM': 95996.0, u'WORK_DT': u'20130723', u'LINE_NUM': u'\\uc218\\uc778\\uc120', u'SUB_STA_NM': u'\\uc6d0\\uc778\\uc7ac', u'ALIGHT_PASGR_NUM': 99581.0, u'USE_MON': u'201306'}, {u'COMMT': u'', u'RIDE_PASGR_NUM': 39150.0, u'WORK_DT': u'20130723', u'LINE_NUM': u'\\uc218\\uc778\\uc120', u'SUB_STA_NM': u'\\ub0a8\\ub3d9\\uc778\\ub354\\uc2a4\\ud30c\\ud06c', u'ALIGHT_PASGR_NUM': 43400.0, u'USE_MON': u'201306'}, {u'COMMT': u'', u'RIDE_PASGR_NUM': 61721.0, u'WORK_DT': u'20130723', u'LINE_NUM': u'\\uc218\\uc778\\uc120', u'SUB_STA_NM': u'\\ud638\\uad6c\\ud3ec', u'ALIGHT_PASGR_NUM': 62169.0, u'USE_MON': u'201306'}, {u'COMMT': u'', u'RIDE_PASGR_NUM': 121774.0, u'WORK_DT': u'20130723', u'LINE_NUM': u'\\uc218\\uc778\\uc120', u'SUB_STA_NM': u'\\uc778\\ucc9c\\ub17c\\ud604', u'ALIGHT_PASGR_NUM': 124227.0, u'USE_MON': u'201306'}, {u'COMMT': u'', u'RIDE_PASGR_NUM': 131865.0, u'WORK_DT': u'20130723', u'LINE_NUM': u'\\uc218\\uc778\\uc120', u'SUB_STA_NM': u'\\uc18c\\ub798\\ud3ec\\uad6c', u'ALIGHT_PASGR_NUM': 127177.0, u'USE_MON': u'201306'}], u'RESULT': {u'MESSAGE': u'\\uc815\\uc0c1 \\ucc98\\ub9ac\\ub418\\uc5c8\\uc2b5\\ub2c8\\ub2e4', u'CODE': u'INFO-000'}, u'list_total_count': 530}}\n",
      "{u'CardSubwayStatisticsService': {u'row': [{u'COMMT': u'', u'RIDE_PASGR_NUM': 59900.0, u'WORK_DT': u'20130723', u'LINE_NUM': u'\\uc218\\uc778\\uc120', u'SUB_STA_NM': u'\\uc6d4\\uacf6', u'ALIGHT_PASGR_NUM': 51589.0, u'USE_MON': u'201306'}, {u'COMMT': u'', u'RIDE_PASGR_NUM': 201035.0, u'WORK_DT': u'20130723', u'LINE_NUM': u'\\ubd84\\ub2f9\\uc120', u'SUB_STA_NM': u'\\ub9dd\\ud3ec', u'ALIGHT_PASGR_NUM': 188814.0, u'USE_MON': u'201306'}, {u'COMMT': u'', u'RIDE_PASGR_NUM': 118599.0, u'WORK_DT': u'20130723', u'LINE_NUM': u'\\ubd84\\ub2f9\\uc120', u'SUB_STA_NM': u'\\uc601\\ud1b5', u'ALIGHT_PASGR_NUM': 127341.0, u'USE_MON': u'201306'}, {u'COMMT': u'', u'RIDE_PASGR_NUM': 72304.0, u'WORK_DT': u'20130723', u'LINE_NUM': u'\\ubd84\\ub2f9\\uc120', u'SUB_STA_NM': u'\\uccad\\uba85', u'ALIGHT_PASGR_NUM': 66968.0, u'USE_MON': u'201306'}, {u'COMMT': u'', u'RIDE_PASGR_NUM': 101338.0, u'WORK_DT': u'20130723', u'LINE_NUM': u'\\ubd84\\ub2f9\\uc120', u'SUB_STA_NM': u'\\uc0c1\\uac08', u'ALIGHT_PASGR_NUM': 94764.0, u'USE_MON': u'201306'}], u'RESULT': {u'MESSAGE': u'\\uc815\\uc0c1 \\ucc98\\ub9ac\\ub418\\uc5c8\\uc2b5\\ub2c8\\ub2e4', u'CODE': u'INFO-000'}, u'list_total_count': 530}}\n",
      "{u'CardSubwayStatisticsService': {u'row': [{u'COMMT': u'', u'RIDE_PASGR_NUM': 228737.0, u'WORK_DT': u'20130723', u'LINE_NUM': u'\\ubd84\\ub2f9\\uc120', u'SUB_STA_NM': u'\\uae30\\ud765', u'ALIGHT_PASGR_NUM': 228749.0, u'USE_MON': u'201306'}, {u'COMMT': u'', u'RIDE_PASGR_NUM': 108938.0, u'WORK_DT': u'20130723', u'LINE_NUM': u'\\ubd84\\ub2f9\\uc120', u'SUB_STA_NM': u'\\uc2e0\\uac08', u'ALIGHT_PASGR_NUM': 104952.0, u'USE_MON': u'201306'}, {u'COMMT': u'', u'RIDE_PASGR_NUM': 140537.0, u'WORK_DT': u'20130723', u'LINE_NUM': u'\\ubd84\\ub2f9\\uc120', u'SUB_STA_NM': u'\\uad6c\\uc131', u'ALIGHT_PASGR_NUM': 141905.0, u'USE_MON': u'201306'}, {u'COMMT': u'', u'RIDE_PASGR_NUM': 621050.0, u'WORK_DT': u'20130723', u'LINE_NUM': u'\\ubd84\\ub2f9\\uc120', u'SUB_STA_NM': u'\\uc8fd\\uc804', u'ALIGHT_PASGR_NUM': 666114.0, u'USE_MON': u'201306'}, {u'COMMT': u'', u'RIDE_PASGR_NUM': 94365.0, u'WORK_DT': u'20130723', u'LINE_NUM': u'\\ubd84\\ub2f9\\uc120', u'SUB_STA_NM': u'\\ubcf4\\uc815', u'ALIGHT_PASGR_NUM': 73437.0, u'USE_MON': u'201306'}], u'RESULT': {u'MESSAGE': u'\\uc815\\uc0c1 \\ucc98\\ub9ac\\ub418\\uc5c8\\uc2b5\\ub2c8\\ub2e4', u'CODE': u'INFO-000'}, u'list_total_count': 530}}\n",
      "{u'CardSubwayStatisticsService': {u'row': [{u'COMMT': u'', u'RIDE_PASGR_NUM': 164574.0, u'WORK_DT': u'20130723', u'LINE_NUM': u'\\ubd84\\ub2f9\\uc120', u'SUB_STA_NM': u'\\uc774\\ub9e4', u'ALIGHT_PASGR_NUM': 159217.0, u'USE_MON': u'201306'}, {u'COMMT': u'', u'RIDE_PASGR_NUM': 481998.0, u'WORK_DT': u'20130723', u'LINE_NUM': u'\\ubd84\\ub2f9\\uc120', u'SUB_STA_NM': u'\\uc624\\ub9ac', u'ALIGHT_PASGR_NUM': 408822.0, u'USE_MON': u'201306'}, {u'COMMT': u'', u'RIDE_PASGR_NUM': 640860.0, u'WORK_DT': u'20130723', u'LINE_NUM': u'\\ubd84\\ub2f9\\uc120', u'SUB_STA_NM': u'\\ubbf8\\uae08', u'ALIGHT_PASGR_NUM': 674635.0, u'USE_MON': u'201306'}, {u'COMMT': u'', u'RIDE_PASGR_NUM': 453680.0, u'WORK_DT': u'20130723', u'LINE_NUM': u'\\ubd84\\ub2f9\\uc120', u'SUB_STA_NM': u'\\uc815\\uc790', u'ALIGHT_PASGR_NUM': 481436.0, u'USE_MON': u'201306'}, {u'COMMT': u'', u'RIDE_PASGR_NUM': 412055.0, u'WORK_DT': u'20130723', u'LINE_NUM': u'\\ubd84\\ub2f9\\uc120', u'SUB_STA_NM': u'\\uc218\\ub0b4', u'ALIGHT_PASGR_NUM': 412858.0, u'USE_MON': u'201306'}], u'RESULT': {u'MESSAGE': u'\\uc815\\uc0c1 \\ucc98\\ub9ac\\ub418\\uc5c8\\uc2b5\\ub2c8\\ub2e4', u'CODE': u'INFO-000'}, u'list_total_count': 530}}\n",
      "{u'CardSubwayStatisticsService': {u'row': [{u'COMMT': u'', u'RIDE_PASGR_NUM': 748205.0, u'WORK_DT': u'20130723', u'LINE_NUM': u'\\ubd84\\ub2f9\\uc120', u'SUB_STA_NM': u'\\uc11c\\ud604', u'ALIGHT_PASGR_NUM': 777686.0, u'USE_MON': u'201306'}, {u'COMMT': u'', u'RIDE_PASGR_NUM': 817657.0, u'WORK_DT': u'20130723', u'LINE_NUM': u'\\ubd84\\ub2f9\\uc120', u'SUB_STA_NM': u'\\uc57c\\ud0d1', u'ALIGHT_PASGR_NUM': 854174.0, u'USE_MON': u'201306'}, {u'COMMT': u'', u'RIDE_PASGR_NUM': 720442.0, u'WORK_DT': u'20130723', u'LINE_NUM': u'\\ubd84\\ub2f9\\uc120', u'SUB_STA_NM': u'\\ubaa8\\ub780', u'ALIGHT_PASGR_NUM': 689209.0, u'USE_MON': u'201306'}, {u'COMMT': u'', u'RIDE_PASGR_NUM': 419774.0, u'WORK_DT': u'20130723', u'LINE_NUM': u'\\ubd84\\ub2f9\\uc120', u'SUB_STA_NM': u'\\ud0dc\\ud3c9', u'ALIGHT_PASGR_NUM': 396038.0, u'USE_MON': u'201306'}, {u'COMMT': u'', u'RIDE_PASGR_NUM': 285110.0, u'WORK_DT': u'20130723', u'LINE_NUM': u'\\ubd84\\ub2f9\\uc120', u'SUB_STA_NM': u'\\uac00\\ucc9c\\ub300', u'ALIGHT_PASGR_NUM': 321509.0, u'USE_MON': u'201306'}], u'RESULT': {u'MESSAGE': u'\\uc815\\uc0c1 \\ucc98\\ub9ac\\ub418\\uc5c8\\uc2b5\\ub2c8\\ub2e4', u'CODE': u'INFO-000'}, u'list_total_count': 530}}\n",
      "{u'CardSubwayStatisticsService': {u'row': [{u'COMMT': u'', u'RIDE_PASGR_NUM': 206631.0, u'WORK_DT': u'20130723', u'LINE_NUM': u'\\ubd84\\ub2f9\\uc120', u'SUB_STA_NM': u'\\uc120\\uc815\\ub989', u'ALIGHT_PASGR_NUM': 231260.0, u'USE_MON': u'201306'}, {u'COMMT': u'', u'RIDE_PASGR_NUM': 188076.0, u'WORK_DT': u'20130723', u'LINE_NUM': u'\\ubd84\\ub2f9\\uc120', u'SUB_STA_NM': u'\\uac15\\ub0a8\\uad6c\\uccad', u'ALIGHT_PASGR_NUM': 215608.0, u'USE_MON': u'201306'}, {u'COMMT': u'', u'RIDE_PASGR_NUM': 345902.0, u'WORK_DT': u'20130723', u'LINE_NUM': u'\\ubd84\\ub2f9\\uc120', u'SUB_STA_NM': u'\\uc555\\uad6c\\uc815\\ub85c\\ub370\\uc624', u'ALIGHT_PASGR_NUM': 393142.0, u'USE_MON': u'201306'}, {u'COMMT': u'', u'RIDE_PASGR_NUM': 143459.0, u'WORK_DT': u'20130723', u'LINE_NUM': u'\\ubd84\\ub2f9\\uc120', u'SUB_STA_NM': u'\\uc11c\\uc6b8\\uc232', u'ALIGHT_PASGR_NUM': 136147.0, u'USE_MON': u'201306'}, {u'COMMT': u'', u'RIDE_PASGR_NUM': 180522.0, u'WORK_DT': u'20130723', u'LINE_NUM': u'\\ubd84\\ub2f9\\uc120', u'SUB_STA_NM': u'\\uc218\\uc11c', u'ALIGHT_PASGR_NUM': 185810.0, u'USE_MON': u'201306'}], u'RESULT': {u'MESSAGE': u'\\uc815\\uc0c1 \\ucc98\\ub9ac\\ub418\\uc5c8\\uc2b5\\ub2c8\\ub2e4', u'CODE': u'INFO-000'}, u'list_total_count': 530}}\n",
      "{u'CardSubwayStatisticsService': {u'row': [{u'COMMT': u'', u'RIDE_PASGR_NUM': 112991.0, u'WORK_DT': u'20130723', u'LINE_NUM': u'\\ubd84\\ub2f9\\uc120', u'SUB_STA_NM': u'\\ub300\\ubaa8\\uc0b0\\uc785\\uad6c', u'ALIGHT_PASGR_NUM': 104169.0, u'USE_MON': u'201306'}, {u'COMMT': u'', u'RIDE_PASGR_NUM': 111791.0, u'WORK_DT': u'20130723', u'LINE_NUM': u'\\ubd84\\ub2f9\\uc120', u'SUB_STA_NM': u'\\uac1c\\ud3ec\\ub3d9', u'ALIGHT_PASGR_NUM': 112897.0, u'USE_MON': u'201306'}, {u'COMMT': u'', u'RIDE_PASGR_NUM': 64415.0, u'WORK_DT': u'20130723', u'LINE_NUM': u'\\ubd84\\ub2f9\\uc120', u'SUB_STA_NM': u'\\uad6c\\ub8e1', u'ALIGHT_PASGR_NUM': 63757.0, u'USE_MON': u'201306'}, {u'COMMT': u'', u'RIDE_PASGR_NUM': 157803.0, u'WORK_DT': u'20130723', u'LINE_NUM': u'\\ubd84\\ub2f9\\uc120', u'SUB_STA_NM': u'\\ub3c4\\uace1', u'ALIGHT_PASGR_NUM': 169985.0, u'USE_MON': u'201306'}, {u'COMMT': u'', u'RIDE_PASGR_NUM': 355886.0, u'WORK_DT': u'20130723', u'LINE_NUM': u'\\ubd84\\ub2f9\\uc120', u'SUB_STA_NM': u'\\ud55c\\ud2f0', u'ALIGHT_PASGR_NUM': 374308.0, u'USE_MON': u'201306'}], u'RESULT': {u'MESSAGE': u'\\uc815\\uc0c1 \\ucc98\\ub9ac\\ub418\\uc5c8\\uc2b5\\ub2c8\\ub2e4', u'CODE': u'INFO-000'}, u'list_total_count': 530}}\n",
      "{u'CardSubwayStatisticsService': {u'row': [{u'COMMT': u'', u'RIDE_PASGR_NUM': 225105.0, u'WORK_DT': u'20130723', u'LINE_NUM': u'\\ubd84\\ub2f9\\uc120', u'SUB_STA_NM': u'\\uc120\\ub989', u'ALIGHT_PASGR_NUM': 439758.0, u'USE_MON': u'201306'}, {u'COMMT': u'', u'RIDE_PASGR_NUM': 938296.0, u'WORK_DT': u'20130723', u'LINE_NUM': u'\\uacfc\\ucc9c\\uc120', u'SUB_STA_NM': u'\\ubc94\\uacc4', u'ALIGHT_PASGR_NUM': 943424.0, u'USE_MON': u'201306'}, {u'COMMT': u'', u'RIDE_PASGR_NUM': 405781.0, u'WORK_DT': u'20130723', u'LINE_NUM': u'\\uacfc\\ucc9c\\uc120', u'SUB_STA_NM': u'\\ud3c9\\ucd0c', u'ALIGHT_PASGR_NUM': 397350.0, u'USE_MON': u'201306'}, {u'COMMT': u'', u'RIDE_PASGR_NUM': 699997.0, u'WORK_DT': u'20130723', u'LINE_NUM': u'\\uacfc\\ucc9c\\uc120', u'SUB_STA_NM': u'\\uc778\\ub355\\uc6d0', u'ALIGHT_PASGR_NUM': 675735.0, u'USE_MON': u'201306'}, {u'COMMT': u'', u'RIDE_PASGR_NUM': 363053.0, u'WORK_DT': u'20130723', u'LINE_NUM': u'\\uacfc\\ucc9c\\uc120', u'SUB_STA_NM': u'\\uc815\\ubd80\\uacfc\\ucc9c\\uccad\\uc0ac', u'ALIGHT_PASGR_NUM': 355150.0, u'USE_MON': u'201306'}], u'RESULT': {u'MESSAGE': u'\\uc815\\uc0c1 \\ucc98\\ub9ac\\ub418\\uc5c8\\uc2b5\\ub2c8\\ub2e4', u'CODE': u'INFO-000'}, u'list_total_count': 530}}\n",
      "{u'CardSubwayStatisticsService': {u'row': [{u'COMMT': u'', u'RIDE_PASGR_NUM': 175909.0, u'WORK_DT': u'20130723', u'LINE_NUM': u'\\uacfc\\ucc9c\\uc120', u'SUB_STA_NM': u'\\uacfc\\ucc9c', u'ALIGHT_PASGR_NUM': 150565.0, u'USE_MON': u'201306'}, {u'COMMT': u'', u'RIDE_PASGR_NUM': 271844.0, u'WORK_DT': u'20130723', u'LINE_NUM': u'\\uacfc\\ucc9c\\uc120', u'SUB_STA_NM': u'\\ub300\\uacf5\\uc6d0', u'ALIGHT_PASGR_NUM': 284313.0, u'USE_MON': u'201306'}, {u'COMMT': u'', u'RIDE_PASGR_NUM': 229735.0, u'WORK_DT': u'20130723', u'LINE_NUM': u'\\uacfc\\ucc9c\\uc120', u'SUB_STA_NM': u'\\uacbd\\ub9c8\\uacf5\\uc6d0', u'ALIGHT_PASGR_NUM': 234848.0, u'USE_MON': u'201306'}, {u'COMMT': u'', u'RIDE_PASGR_NUM': 233096.0, u'WORK_DT': u'20130723', u'LINE_NUM': u'\\uacfc\\ucc9c\\uc120', u'SUB_STA_NM': u'\\uc120\\ubc14\\uc704', u'ALIGHT_PASGR_NUM': 199044.0, u'USE_MON': u'201306'}, {u'COMMT': u'', u'RIDE_PASGR_NUM': 263017.0, u'WORK_DT': u'20130723', u'LINE_NUM': u'\\uacf5\\ud56d\\ucca0\\ub3c4 1\\ud638\\uc120', u'SUB_STA_NM': u'\\uc778\\ucc9c\\uad6d\\uc81c\\uacf5\\ud56d', u'ALIGHT_PASGR_NUM': 248748.0, u'USE_MON': u'201306'}], u'RESULT': {u'MESSAGE': u'\\uc815\\uc0c1 \\ucc98\\ub9ac\\ub418\\uc5c8\\uc2b5\\ub2c8\\ub2e4', u'CODE': u'INFO-000'}, u'list_total_count': 530}}\n",
      "{u'CardSubwayStatisticsService': {u'row': [{u'COMMT': u'', u'RIDE_PASGR_NUM': 45047.0, u'WORK_DT': u'20130723', u'LINE_NUM': u'\\uacf5\\ud56d\\ucca0\\ub3c4 1\\ud638\\uc120', u'SUB_STA_NM': u'\\uacf5\\ud56d\\ud654\\ubb3c\\uccad\\uc0ac', u'ALIGHT_PASGR_NUM': 45225.0, u'USE_MON': u'201306'}, {u'COMMT': u'', u'RIDE_PASGR_NUM': 126837.0, u'WORK_DT': u'20130723', u'LINE_NUM': u'\\uacf5\\ud56d\\ucca0\\ub3c4 1\\ud638\\uc120', u'SUB_STA_NM': u'\\uc6b4\\uc11c', u'ALIGHT_PASGR_NUM': 121047.0, u'USE_MON': u'201306'}, {u'COMMT': u'', u'RIDE_PASGR_NUM': 451736.0, u'WORK_DT': u'20130723', u'LINE_NUM': u'\\uacf5\\ud56d\\ucca0\\ub3c4 1\\ud638\\uc120', u'SUB_STA_NM': u'\\uac80\\uc554', u'ALIGHT_PASGR_NUM': 415435.0, u'USE_MON': u'201306'}, {u'COMMT': u'', u'RIDE_PASGR_NUM': 251221.0, u'WORK_DT': u'20130723', u'LINE_NUM': u'\\uacf5\\ud56d\\ucca0\\ub3c4 1\\ud638\\uc120', u'SUB_STA_NM': u'\\uacc4\\uc591', u'ALIGHT_PASGR_NUM': 223588.0, u'USE_MON': u'201306'}, {u'COMMT': u'', u'RIDE_PASGR_NUM': 206576.0, u'WORK_DT': u'20130723', u'LINE_NUM': u'\\uacf5\\ud56d\\ucca0\\ub3c4 1\\ud638\\uc120', u'SUB_STA_NM': u'\\uae40\\ud3ec\\uacf5\\ud56d', u'ALIGHT_PASGR_NUM': 173194.0, u'USE_MON': u'201306'}], u'RESULT': {u'MESSAGE': u'\\uc815\\uc0c1 \\ucc98\\ub9ac\\ub418\\uc5c8\\uc2b5\\ub2c8\\ub2e4', u'CODE': u'INFO-000'}, u'list_total_count': 530}}\n"
     ]
    }
   ],
   "source": [
    "!python src/ds_open_subwayPassengers.py"
   ]
  },
  {
   "cell_type": "markdown",
   "metadata": {},
   "source": [
    "## 문제 OPEN-10: 공공데이터포털 2015년 서울시 구별 교통사고 사망자 수 구하기"
   ]
  },
  {
   "cell_type": "code",
   "execution_count": null,
   "metadata": {
    "collapsed": true
   },
   "outputs": [],
   "source": [
    "import os\n",
    "SERVICE='trafficAccidentDeath'\n",
    "OPERATION_NAME='getRestTrafficAccidentDeath'\n",
    "params1=os.path.join(SERVICE,OPERATION_NAME)\n",
    "print params1\n"
   ]
  },
  {
   "cell_type": "markdown",
   "metadata": {},
   "source": [
    "## 연습 OPEN: Pandas로 Yahoo 주식 읽기"
   ]
  },
  {
   "cell_type": "code",
   "execution_count": 25,
   "metadata": {
    "collapsed": false
   },
   "outputs": [],
   "source": [
    "import datetime\n",
    "import pandas_datareader.data as web\n",
    "#import pandas.io.data as web\n",
    "start = datetime.datetime(2015,11,1)\n",
    "end = datetime.datetime(2015, 11, 10)\n",
    "soil = web.DataReader(\"010950.KS\", \"yahoo\", start, end)\n"
   ]
  },
  {
   "cell_type": "code",
   "execution_count": 26,
   "metadata": {
    "collapsed": false
   },
   "outputs": [
    {
     "name": "stdout",
     "output_type": "stream",
     "text": [
      "               Open     High      Low    Close  Volume  Adj Close\n",
      "Date                                                             \n",
      "2015-11-02  67900.0  68400.0  66800.0  68400.0  206300   62380.87\n",
      "2015-11-03  68600.0  69800.0  67600.0  69700.0  331900   63566.47\n",
      "2015-11-04  70900.0  71500.0  70000.0  70300.0  286900   64113.67\n",
      "2015-11-05  69800.0  70000.0  69100.0  69600.0  177600   63475.27\n",
      "2015-11-06  69500.0  69600.0  68900.0  69500.0  141000   63384.07\n",
      "2015-11-09  69300.0  69300.0  67600.0  67600.0  168800   61651.27\n",
      "2015-11-10  66700.0  68300.0  66200.0  67300.0  175600   61377.67\n"
     ]
    }
   ],
   "source": [
    "print soil"
   ]
  },
  {
   "cell_type": "code",
   "execution_count": 27,
   "metadata": {
    "collapsed": false
   },
   "outputs": [
    {
     "name": "stdout",
     "output_type": "stream",
     "text": [
      "                Open      High       Low     Close  Volume\n",
      "Date                                                      \n",
      "2017-01-02  246000.0  248500.0  241000.0  248000.0   83825\n",
      "2017-01-03  249000.0  260500.0  249000.0  259000.0  159369\n",
      "2017-01-04  258000.0  263000.0  256500.0  260000.0  104717\n",
      "2017-01-05  260000.0  263000.0  259000.0  261000.0   67041\n",
      "2017-01-06  259000.0  261500.0  254500.0  260500.0   79363\n",
      "2017-01-09  260000.0  271000.0  259000.0  262000.0  154944\n",
      "2017-01-10  262000.0  265000.0  258500.0  263500.0   72729\n",
      "2017-01-11  264000.0  269000.0  263500.0  267500.0  102457\n",
      "2017-01-12  269000.0  277000.0  267500.0  277000.0  201200\n",
      "2017-01-13  277000.0  286000.0  276500.0  279500.0  169387\n",
      "2017-01-16  281500.0  287500.0  280000.0  287000.0  132063\n",
      "2017-01-17  289500.0  289500.0  280000.0  281000.0  151875\n",
      "2017-01-18  283000.0  286500.0  279000.0  286500.0  121473\n",
      "2017-01-19  300000.0  309000.0  296000.0  300000.0  548437\n",
      "2017-01-20  300000.0  315000.0  299500.0  314000.0  268970\n",
      "2017-01-23  314000.0  316500.0  309500.0  313000.0  146483\n",
      "2017-01-24  309000.0  311500.0  302500.0  304500.0  208022\n",
      "2017-01-25  306500.0  308000.0  302500.0  305500.0  195361\n",
      "2017-01-26  307000.0  317000.0  304500.0  308500.0  132433\n",
      "2017-01-31  305000.0  307500.0  302000.0  304000.0  107148\n",
      "2017-02-01  305000.0  310500.0  302000.0  307000.0  107742\n",
      "2017-02-02  304000.0  313000.0  304000.0  306500.0  132772\n",
      "2017-02-03  307500.0  316000.0  304500.0  316000.0  152545\n",
      "2017-02-06  318500.0  319500.0  312500.0  316000.0  135478\n",
      "2017-02-07  321500.0  326000.0  297000.0  301000.0  508888\n",
      "2017-02-08  301000.0  307500.0  297000.0  302000.0  175148\n",
      "2017-02-09  302000.0  302500.0  289000.0  293500.0  238779\n",
      "2017-02-10  293000.0  298500.0  291500.0  292500.0  162387\n",
      "2017-02-13  292500.0  297000.0  291500.0  294000.0   98479\n",
      "2017-02-14  294500.0  295000.0  283000.0  286000.0  176551\n",
      "2017-02-15  285000.0  289500.0  283500.0  288000.0   88527\n",
      "2017-02-16  287500.0  291000.0  287000.0  289500.0   63373\n",
      "2017-02-17  288000.0  290000.0  281000.0  283000.0  146181\n",
      "2017-02-20  285500.0  293500.0  283500.0  290500.0  121629\n",
      "2017-02-21  293500.0  299500.0  293000.0  297000.0  127105\n",
      "2017-02-22  298000.0  309500.0  297500.0  303500.0  163949\n",
      "2017-02-23  306000.0  308500.0  301000.0  305000.0   82023\n",
      "2017-02-24  304500.0  305000.0  296000.0  300000.0  128395\n",
      "2017-02-27  298000.0  305000.0  279000.0  280000.0  328612\n",
      "2017-02-28  283000.0  286000.0  273000.0  274000.0  416734\n",
      "2017-03-02  275000.0  278000.0  262000.0  263500.0  749522\n"
     ]
    }
   ],
   "source": [
    "ncsoft = web.DataReader('KRX:036570', data_source='google', start='01/01/2017', end='03/02/2017')\n",
    "sds = web.DataReader('KRX:018260', data_source='google', start='11/01/2015', end='11/10/2015')\n",
    "\n",
    "print ncsoft"
   ]
  },
  {
   "cell_type": "markdown",
   "metadata": {},
   "source": [
    "## 문제 OPEN-11: 공공데이터포털 대기 오염 정보"
   ]
  },
  {
   "cell_type": "code",
   "execution_count": 28,
   "metadata": {
    "collapsed": false
   },
   "outputs": [
    {
     "name": "stdout",
     "output_type": "stream",
     "text": [
      "ArpltnInforInqireSvc\\getMinuDustFrcstDspth\n"
     ]
    }
   ],
   "source": [
    "import os\n",
    "SERVICE='ArpltnInforInqireSvc' #Air pollution information inquire service\n",
    "OPERATION_NAME='getMinuDustFrcstDspth'\n",
    "params1=os.path.join(SERVICE,OPERATION_NAME)\n",
    "print params1"
   ]
  },
  {
   "cell_type": "code",
   "execution_count": 30,
   "metadata": {
    "collapsed": false
   },
   "outputs": [
    {
     "name": "stdout",
     "output_type": "stream",
     "text": [
      "dataTerm=%EC%A2%85%EB%A1%9C%EA%B5%AC\n"
     ]
    }
   ],
   "source": [
    "import urllib\n",
    "_d=dict()\n",
    "\n",
    "#_d['stationName']='종로구'\n",
    "_d['dataTerm']='종로구'\n",
    "params2 = urllib.urlencode(_d)\n",
    "print params2"
   ]
  },
  {
   "cell_type": "code",
   "execution_count": 34,
   "metadata": {
    "collapsed": false
   },
   "outputs": [
    {
     "name": "stdout",
     "output_type": "stream",
     "text": [
      "http://openapi.airkorea.or.kr/openapi/services/rest/ArpltnInforInqireSvc/ArpltnInforInqireSvc\\getMinuDustFrcstDspth?serviceKey=sXf66NX9wb7bv6O7tj%2BGUQwoC8se7eLri6DeEShKqQAj19JzR8xl29bBfbN1L0%2BqGdQUtDRTn1hm6wSIfle4Tg%3D%3D&dataTerm=%EC%A2%85%EB%A1%9C%EA%B5%AC\n"
     ]
    }
   ],
   "source": [
    "params=params1+'?'+'serviceKey='+key['gokr']+'&'+params2\n",
    "import urlparse\n",
    "_url='http://openapi.airkorea.or.kr/openapi/services/rest/ArpltnInforInqireSvc'\n",
    "url=_url+'/'+params\n",
    "print url"
   ]
  },
  {
   "cell_type": "code",
   "execution_count": 58,
   "metadata": {
    "collapsed": false
   },
   "outputs": [
    {
     "name": "stdout",
     "output_type": "stream",
     "text": [
      "Overwriting src/ds_open_gokr_ex.py\n"
     ]
    }
   ],
   "source": [
    "%%writefile src/ds_open_gokr_ex.py\n",
    "#!/usr/bin/env python\n",
    "# coding: utf-8\n",
    "import os\n",
    "import requests\n",
    "import urlparse\n",
    "import urllib\n",
    "import mylib\n",
    "\n",
    "def doIt():\n",
    "    # (1) service + operation\n",
    "    SERVICE='ArpltnInforInqireSvc'\n",
    "    OPERATION_NAME='getMinuDustFrcstDspth'\n",
    "    params1=SERVICE+'/'+OPERATION_NAME\n",
    "    # (2) query params encoding\n",
    "    _d=dict()\n",
    "    _d['dataTerm']='month'\n",
    "    params2 = urllib.urlencode(_d)\n",
    "    # (3) add my service key\n",
    "    keyPath=os.path.join(os.getcwd(), 'src', 'key.properties')\n",
    "    key=mylib.getKey(keyPath)\n",
    "    keygokr=key['gokr'] # keygokr='8Bx4C1%2B...'\n",
    "    params=params1+'?'+'serviceKey='+keygokr+'&'+params2\n",
    "    # (4) make a full url\n",
    "    _url='http://openapi.airkorea.or.kr/openapi/services/rest/ArpltnInforInqireSvc'\n",
    "    url=urlparse.urljoin(_url,params)\n",
    "    # (5) get data\n",
    "    data=requests.get(url).text\n",
    "    print data\n",
    "    \n",
    "if __name__ == \"__main__\":\n",
    "    doIt()"
   ]
  },
  {
   "cell_type": "code",
   "execution_count": 57,
   "metadata": {
    "collapsed": false
   },
   "outputs": [
    {
     "name": "stdout",
     "output_type": "stream",
     "text": [
      "<?xml version=\"1.0\" encoding=\"UTF-8\"?>\n",
      "\n",
      "\n",
      "\n",
      "\n",
      "\n",
      "\n",
      "\n",
      "\n",
      "\n",
      "<response>\n",
      "\n",
      "\t<header>\n",
      "\n",
      "\t\t<resultCode>00</resultCode>\n",
      "\n",
      "\t\t<resultMsg>NORMAL SERVICE.</resultMsg>\n",
      "\n",
      "\t</header>\n",
      "\n",
      "\t<body>\n",
      "\n",
      "\t\t<items>\n",
      "\n",
      "\t\t\t\n",
      "\n",
      "\t\t\t\t<item>\n",
      "\n",
      "\t\t\t\t\t<dataTime>2017-05-02</dataTime>\n",
      "\n",
      "\t\t\t\t\t<informCode>PM25</informCode>\n",
      "\n",
      "\t\t\t\t</item>\n",
      "\n",
      "\t\t\t\n",
      "\n",
      "\t\t\t\t<item>\n",
      "\n",
      "\t\t\t\t\t<dataTime>2017-05-02</dataTime>\n",
      "\n",
      "\t\t\t\t\t<informCode>O3</informCode>\n",
      "\n",
      "\t\t\t\t</item>\n",
      "\n",
      "\t\t\t\n",
      "\n",
      "\t\t\t\t<item>\n",
      "\n",
      "\t\t\t\t\t<dataTime>2017-05-02</dataTime>\n",
      "\n",
      "\t\t\t\t\t<informCode>O3</informCode>\n",
      "\n",
      "\t\t\t\t</item>\n",
      "\n",
      "\t\t\t\n",
      "\n",
      "\t\t\t\t<item>\n",
      "\n",
      "\t\t\t\t\t<dataTime>2017-05-02</dataTime>\n",
      "\n",
      "\t\t\t\t\t<informCode>O3</informCode>\n",
      "\n",
      "\t\t\t\t</item>\n",
      "\n",
      "\t\t\t\n",
      "\n",
      "\t\t\t\t<item>\n",
      "\n",
      "\t\t\t\t\t<dataTime>2017-05-02</dataTime>\n",
      "\n",
      "\t\t\t\t\t<informCode>PM10</informCode>\n",
      "\n",
      "\t\t\t\t</item>\n",
      "\n",
      "\t\t\t\n",
      "\n",
      "\t\t\t\t<item>\n",
      "\n",
      "\t\t\t\t\t<dataTime>2017-05-02</dataTime>\n",
      "\n",
      "\t\t\t\t\t<informCode>PM10</informCode>\n",
      "\n",
      "\t\t\t\t</item>\n",
      "\n",
      "\t\t\t\n",
      "\n",
      "\t\t\t\t<item>\n",
      "\n",
      "\t\t\t\t\t<dataTime>2017-05-02</dataTime>\n",
      "\n",
      "\t\t\t\t\t<informCode>PM10</informCode>\n",
      "\n",
      "\t\t\t\t</item>\n",
      "\n",
      "\t\t\t\n",
      "\n",
      "\t\t\t\t<item>\n",
      "\n",
      "\t\t\t\t\t<dataTime>2017-05-02</dataTime>\n",
      "\n",
      "\t\t\t\t\t<informCode>PM25</informCode>\n",
      "\n",
      "\t\t\t\t</item>\n",
      "\n",
      "\t\t\t\n",
      "\n",
      "\t\t\t\t<item>\n",
      "\n",
      "\t\t\t\t\t<dataTime>2017-05-02</dataTime>\n",
      "\n",
      "\t\t\t\t\t<informCode>PM25</informCode>\n",
      "\n",
      "\t\t\t\t</item>\n",
      "\n",
      "\t\t\t\n",
      "\n",
      "\t\t\t\t<item>\n",
      "\n",
      "\t\t\t\t\t<dataTime>2017-05-02</dataTime>\n",
      "\n",
      "\t\t\t\t\t<informCode>PM25</informCode>\n",
      "\n",
      "\t\t\t\t</item>\n",
      "\n",
      "\t\t\t\n",
      "\n",
      "\t\t</items>\n",
      "\n",
      "\t\t\t<numOfRows>10</numOfRows>\n",
      "\n",
      "\t\t\t<pageNo>1</pageNo>\n",
      "\n",
      "\t\t\t<totalCount>971</totalCount>\n",
      "\n",
      "\t</body>\n",
      "\n",
      "</response>\n",
      "\n",
      "\n"
     ]
    }
   ],
   "source": [
    "!python src/ds_open_gokr_ex.py"
   ]
  }
 ],
 "metadata": {
  "kernelspec": {
   "display_name": "Python 2",
   "language": "python",
   "name": "python2"
  },
  "language_info": {
   "codemirror_mode": {
    "name": "ipython",
    "version": 2
   },
   "file_extension": ".py",
   "mimetype": "text/x-python",
   "name": "python",
   "nbconvert_exporter": "python",
   "pygments_lexer": "ipython2",
   "version": "2.7.13"
  }
 },
 "nbformat": 4,
 "nbformat_minor": 2
}
