{
 "cells": [
  {
   "cell_type": "markdown",
   "metadata": {},
   "source": [
    "### 목표\n",
    "* json 파일 읽을수 있다.\n",
    "* nosql 파일저장소 (mongo db)"
   ]
  },
  {
   "cell_type": "code",
   "execution_count": 6,
   "metadata": {
    "collapsed": false
   },
   "outputs": [
    {
     "name": "stdout",
     "output_type": "stream",
     "text": [
      "<h1>Unicode Demo</h1>\n",
      "\n",
      "<p>Taken from <a\n",
      "href=\"http://www.cl.cam.ac.uk/~mgk25/ucs/examples/UTF-8-demo.txt\">http://www.cl.cam.ac.uk/~mgk25/ucs/examples/UTF-8-demo.txt</a></p>\n",
      "\n",
      "<pre>\n",
      "\n",
      "UTF-8 encoded sample plain-text file\n",
      "�얄��얄��얄��얄��얄��얄��얄��얄��얄��얄��얄��얄��얄��얄��얄��얄��얄��얄�\n",
      "\n",
      "Markus Kuhn [�ma稼k�s ku�n] <http://www.cl.cam.ac.uk/~mgk25/> ��2002-07-25\n",
      "\n",
      "\n",
      "The ASCII compatible UTF-8 encoding used in this plain-text file\n",
      "is defined in Unicode, ISO 10646-1, and RFC 2279.\n",
      "\n",
      "\n",
      "Using Unicode/UTF-8, you can write in emails and source code things such as\n",
      "\n",
      "Mathematics and sciences:\n",
      "\n",
      "  ��E�꿥a = Q,  n ���� ��f(i) = ��g(i),      �㎮렊�쎻뵆��������뵍�왿렎��\n",
      "                                            �も렋�쒋봻a짼+b쨀 �잂렏��\n",
      "  ���댿꽍: �늵��= �믠뙄�뭯�� 慣 ��짭棺 = 짭(짭慣 ��棺),    �も렋�쒋봻���������잂렏��\n",
      "                                            �も렋�쒋렩 c��  �잂렏��\n",
      "  �����뺚� ����������������                   �ⓥ렋��      �잂렏��\n",
      "                                            �も렋����    �잂렏��\n",
      "  ��< a ��b ��c ��d ������(�쪨�����찦��,      �も렋����    �잂렏��\n",
      "                                            �も렋���쿪��b�기렅�β렕\n",
      "  2H��+ O����2H�괥, R = 4.7 k廓, ��200 mm     �⒱렍�쓎=1    �졻렑��\n",
      "\n",
      "Linguistics and dictionaries:\n",
      "\n",
      "  챨i 캇nt��n챈��n�l f��n�t캇k �so�si�e캇�n\n",
      "  Y [��psil�n], Yen [j�n], Yoga [�jo�g�]\n",
      "\n",
      "APL:\n",
      "\n",
      "  ((V�쿣)=�년뜶V)/V��V    �룐넀�년넂�닳늽�뉍뒅�얄뜋�뺚뙂\n",
      "\n",
      "Nicer typography in plain text files:\n",
      "\n",
      "  �붴븧�먥븧�먥븧�먥븧�먥븧�먥븧�먥븧�먥븧�먥븧�먥븧�먥븧�먥븧�먥븧�먥븧�먥븧�먥븧�먥븧�먥븧�먥븧�먥븧�먥븧�먥븮\n",
      "  ��                                         ��\n",
      "  ��  ���쁲ingle��and �쐂ouble��quotes         ��\n",
      "  ��                                         ��\n",
      "  ��  ��Curly apostrophes: �쏻e�셶e been here����\n",
      "  ��                                         ��\n",
      "  ��  ��Latin-1 apostrophe and accents: '쨈`  ��\n",
      "  ��                                         ��\n",
      "  ��  ���쉊eutsche���얖nf체hrungszeichen��      ��\n",
      "  ��                                         ��\n",
      "  ��  ���� �� �� �� 3��, �� ��/+5, �� ��     ��\n",
      "  ��                                         ��\n",
      "  ��  ��ASCII safety test: 1lI|, 0OD, 8B     ��\n",
      "  ��                     �����������������        ��\n",
      "  ��  ��the euro symbol: ��14.95 ����        ��\n",
      "  ��                     �겸���������������        ��\n",
      "  �싢븧�먥븧�먥븧�먥븧�먥븧�먥븧�먥븧�먥븧�먥븧�먥븧�먥븧�먥븧�먥븧�먥븧�먥븧�먥븧�먥븧�먥븧�먥븧�먥븧�먥븧�먥븴\n",
      "\n",
      "Combining characters:\n",
      "\n",
      "  STARG��TE SG-1, a = v� = r�, a����b��\n",
      "\n",
      "Greek (in Polytonic):\n",
      "\n",
      "  The Greek anthem:\n",
      "\n",
      "  誇溯�款館��溯로뙤�消��슛 �溯늴�觀溯믿댫�\n",
      "  �恝炤���慣罐菅恝炤��溯늴���恝關琯�溯�\n",
      "  �溯�款館��溯로뙤�消��슛 �溯늴�溯꾇댫�\n",
      "  �恝溯�關溯�棺溯로�關琯��溯귁두��溯�款炤�\n",
      "\n",
      "  瀟왁뫯�씩 �溯�觀溯민부부귁뾔�棺款慣貫關溯널싸�\n",
      "  �炤뙈�炤앓빺뾔삔슉館�館 �溯�消귁둑곢쉽\n",
      "  觀慣溯��溯겄���炤뙤꾆�消�싸니곊두믿됌솽슁館管\n",
      "  �慣炤뽒곊� 溯��慣炤뽒곊� 瀟왁빺뾔둑끤맺둑곊밞쉽!\n",
      "\n",
      "  From a speech of Demosthenes in the 4th century BC:\n",
      "\n",
      "  �溯먑뉌슐 �慣溯먑꾞쉼 �慣�溯록꺩꾆귄꾆긔슘 關恝菅 款菅款館溯싹꺨부두민� 溯�消꾆싸니곊둑�瀟왁뫮맺로싸긔퓯恝菅,\n",
      "  溯끥꾆귁��瀟�琯消겅��溯���溯귁널셰귄꾆�消��왁꽝삔슁�� 觀慣溯�溯끥꾆귁���溯먀��恝溯북�\n",
      "  貫溯민널완끥�恝溯볁�消�부욉슥�� �恝溯북�關溯꽝�款溯겅�貫溯민널완끥��琯�溯��恝炤�\n",
      "  �菅關��溯둑꺨귄꺨맺귁�過溯로뾔믿��왁�溯곋곢옅 款菅款館恝關溯널싸완끥� �溯�灌溯���溯귁널셰귄꾞씩\n",
      "  琯消겅��恝炤┩꾆���恝溯두부왁싹꾆�  溯Ο꺨멜씩 溯끥�됍�關溯��琯菅�溯민셰두멜씩 慣溯먑꾆욉슐\n",
      "  ��溯믿꾆둑곊왁�觀慣觀炤뙤��觀溯넒댫귄꺨맺귁�灌溯널왁� 恝溯먐닯슁館 恝溯뽏�消꾆뾔뾔�關恝菅 灌恝觀恝炤┩꺨민�\n",
      "  恝消��溯��恝菅慣炤┩꾆�貫溯널널왁싹꾆둑�消��溯늴�溯뫯�슝罐琯�菅館, �琯�溯�消㎻�棺恝�貫琯溯뾔둑꺨맺귁�\n",
      "  恝溯먑뉌슐 �溯늴�恝溯뽒꺨귁��慣�菅��溯귁싹꾆둑�溯뫮솽퓯館 消곊셰귄곋꾞쉽館琯菅館. 消먐녁슨 灌溯� 溯끥꾆�關溯널�\n",
      "  �恝�瀟�消먐얀퓛館 �炤��溯민뾔두�觀慣溯��溯�慣溯뫯꾞퓛� 消붟눸두민�消�꺩녞귁삔옅� 觀慣溯�過溯로뾔믿��왁�\n",
      "  �菅關��溯둑꺨귄꺨맺귁� 觀慣溯�關溯귁삔씩 消�북곊민꿍옅� 恝消뙈늴귁�消먑�씩 消먐셰욉엡 款溯귄� 恝溯��溯귁뾔귁�\n",
      "  款溯널널왁싸두��慣炤┩꾞씩 消�셴녲슝�琯�慣� 館炤┧�關溯널싹꾆왁��溯넒�두믿꺨셰귁��恝炤┧멜씩 消귁부귁써슛館\n",
      "  ��恝貫慣棺琯炤뽏�消♂솽퓯館 琯消뙈싸귁��溯늴���溯싹꾆로� 溯끥�됍��恝溯북���關關溯귄눸완끥�\n",
      "  �溯싹꺨왁셰두� 消먤쉼館 款溯겅��恝炤┩꾆�棺琯棺慣溯록됍�溯뫯�쉽�刮炤� �溯믿꾆�觀慣溯��琯�溯��恝炤�\n",
      "  �溯로싸��菅關��溯둑꺨둑꾆긔슘 �菅� 觀慣溯�溯꺨���溯믿�왁�消먐얀슁��慣菅 �觀恝�琯炤뽏싸���溯뙈�灌溯�\n",
      "  �溯늴�消�곋뉌슈館 溯�곊멜옅� 溯뫯�왁멜슁�罐慣菅, 關溯귄꾆귁민왁�消♂널욉엡關慣菅 �琯�溯��炤녟�\n",
      "  �琯貫琯��炤녟�溯곊싹꾆민싸욉엡館 �恝菅琯炤뽒꺨맺귁�貫溯민널왁�\n",
      "\n",
      "  �管關恝�罐溯널싸완끥� �炤�瀟왁읦뾰끤싸맺민귁뷘슛�\n",
      "\n",
      "Georgian:\n",
      "\n",
      "  From a Unicode conference invitation:\n",
      "\n",
      "  �믟깤��깮�뺗깤 �먤꺇�싡깘�뺗깞 �믟깘�섂깘�졹깮���졹깞�믟깦�■깴�졹깘�め깦��Unicode-�섂깳 �쎺깞�먤깤���■깘�붳깲�쀡깘�ⓤ깮�졹깦�■깮\n",
      "  �쇹깮�쒊깶�붳깲�붳깭�め깦�먤깣���볚깘�■깘�■꺃�졹깞�묃깘�� �졹깮�쎺깞�싡깦���믟깘�섂깫�먤깲�쀡깞�묃깘 10-12 �쎺깘�졹깴��\n",
      "  �� �쎺깘�섂깭�め깿�� �믟깞�졹깫�먤깭�섂깘�ⓤ깦. �쇹깮�쒊깶�붳깲�붳깭�め깦���ⓤ깞�결깧�졹깞�묃깳 �붳깲�쀡깘���쎺깳�앩깶�싡깦�앩깳\n",
      "  �붳깷�■깯�붳깲�㏇깞�묃깳 �섂깳�붳깤 �볚깘�졹깚�붳깙�ⓤ깦 �졹깮�믟깮�졹깦�め깘���섂깭�㏇깞�졹깭�붳깴���볚깘 Unicode-��\n",
      "  �섂깭�㏇깞�졹깭�먤꺁�섂깮�쒊깘�싡깦�뽥깘�め깦���볚깘 �싡깮�쇹깘�싡깦�뽥깘�め깦�� Unicode-�섂깳 �믟깘�쎺깮�㎭깞�쒊깞�묃깘\n",
      "  �앩깯�붳깲�먤꺁�섂깵���■깦�■깴�붳깫�붳깙�■깘, �볚깘 �믟깘�쎺깮�㎭깞�쒊깞�묃깦���왾깲�앩깚�졹깘�쎺깞�묃깿�� �ⓤ깲�섂깶�㏇깞�묃깿��\n",
      "  �㏇깞�α깳�㏇깞�묃깦���볚깘�쎺깵�ⓤ깘�뺗깞�묃깘�■깘 �볚깘 �쎺깲�먤깢�먤깪�붳깭�앩깢�먤깭 �쇹깮�쎺깯�섂깵�㏇깞�졹깵���■깦�■깴�붳깫�붳깙�ⓤ깦.\n",
      "\n",
      "Russian:\n",
      "\n",
      "  From a Unicode conference invitation:\n",
      "\n",
      "  �逵�筠均龜���龜��橘�筠�� �筠橘�逵� 戟逵 �筠����� �筠菌畇�戟逵�棘畇戟�� �棘戟�筠�筠戟�龜� 極棘\n",
      "  Unicode, 克棘�棘�逵� �棘��棘龜��� 10-12 劇逵��逵 1997 均棘畇逵 勻 �逵橘戟�筠 勻 �筠�劇逵戟龜龜.\n",
      "  �棘戟�筠�筠戟�龜� �棘閨筠�筠� �龜�棘克龜橘 克��均 �克�極筠��棘勻 極棘  勻棘極�棘�逵劇 均剋棘閨逵剋�戟棘均棘\n",
      "  �戟�筠�戟筠�逵 龜 Unicode, 剋棘克逵剋龜鈞逵�龜龜 龜 龜戟�筠�戟逵�龜棘戟逵剋龜鈞逵�龜龜, 勻棘極剋棘�筠戟龜� 龜\n",
      "  極�龜劇筠戟筠戟龜� Unicode 勻 �逵鈞剋龜�戟�� 棘極筠�逵�龜棘戟戟�� �龜��筠劇逵� 龜 極�棘均�逵劇劇戟��\n",
      "  極�龜剋棘菌筠戟龜��, ��龜��逵�, 勻筠���克筠 龜 劇戟棘均棘�鈞��戟�� 克棘劇極���筠�戟�� �龜��筠劇逵�.\n",
      "\n",
      "Thai (UCS Level 2):\n",
      "\n",
      "  Excerpt from a poetry on The Romance of The Three Kingdoms (a Chinese\n",
      "  classic 'San Gua'):\n",
      "\n",
      "  [----------------------------|------------------------]\n",
      "    仙�仙곟툥仙댽툢錫붲릿錫쇸리錫긍퉰錫쇸�錫む막仙댽릎錫□퉪錫쀠르錫□퉩錫む툢錫む릴錫뉋�錫㏅툓  錫왽르錫겯툤錫곟�錫곟릅錫곟릎錫뉋툣錫밝퉲錫곟많仙됢툊錫뜩퉱錫쇸퉫錫ム륫仙�\n",
      "  錫む릿錫싟릉錫�툏錫곟릇錫긍툞錫｀릿錫№퉴錫곟퉰錫�툢錫ム툢仙됢림仙곟른錫뽤릴錫붲퉬錫�      錫む릎錫뉋릎錫뉋툌仙뚟퉬錫뗠르仙됢퉪錫뉋퉰仙�툊錫�림仙�툣錫꿋툤錫긍툖錫띭림\n",
      "    錫쀠르錫뉋툢錫긍툣錫뽤막錫�툊錫긍툢錫쀠링仙�툤仙뉋툢錫쀠링仙댽툧錫뜩퉰錫�          錫싟퉱錫꿋툢仙�륫錫룅릎錫뉋툑錫뜩툏錫㏅릿錫쎹르錫닮툞仙�툤仙뉋툢錫쇸릴錫곟릊錫쇸림\n",
      "  仙귖리錫댽릿仙뗠툢仙�르錫듀륭錫곟툠錫긍툧錫쀠릴仙댽름錫ム릴錫㏅�錫□막錫�툏錫□림         錫ム륫錫꿋륭錫댽린錫녱퉰錫꿋륫錫붲툓錫긍퉰錫㏅툞錫긍름錫む립錫꾝릴錫�\n",
      "    仙�릊錫□막錫�툢錫귖릴錫싟퉬錫む퉬錫�퉰仙�릉錫룅릎錫댽림錫곟�錫꾝릊錫�     錫｀릴錫싟릊錫□림錫쎹퉰錫꿋�錫귖퉱錫꿋륫錫꿋�錫�륭錫�림錫む릴錫�\n",
      "  錫앧퉰錫꿋륭錫�퉱錫�툏錫�만仙됢툢錫№만仙곟륭錫곟퉫錫ム퉱仙곟툞錫곟툈錫긍툢          仙꺺툓仙됢릉錫꿋름錫쇸릴仙됢툢仙�툤仙뉋툢錫듺툢錫㏅툢錫듺막仙댽툢錫듺름錫쇸퉫錫�\n",
      "    錫왽른錫긍툢錫�릿錫됢만錫№툈錫멘륭錫곟링錫곟른錫긍툣錫곟퉰錫��錫ム툞錫�         錫듺퉰錫꿋툏錫�림仙�툧錫ⓣ툑錫｀릿錫뉋릊錫쇸림錫잀퉱錫꿋르仙됢릎錫뉋퉬錫ム퉱\n",
      "  錫뺖퉱錫�툏錫｀툣錫｀림錫녱퉰錫꿋툨錫긍툢錫댽툢錫싟르錫｀른錫긍륭           錫ㅰ퉭錫ム림仙꺺툌錫｀툌仙됢립錫듺많錫곟많仙됢툣錫｀르錫�릴錫뉋툈仙�錫�\n",
      "\n",
      "  (The above is a two-column text. If combining characters are handled\n",
      "  correctly, the lines of the second column should be aligned with the\n",
      "  | character above.)\n",
      "\n",
      "Ethiopian:\n",
      "\n",
      "  Proverbs in the Amharic language:\n",
      "\n",
      "  �결닗���졹떗�녁닲���뺗뙃���졹떗�ⓤ댆�듄뜟\n",
      "  �α닂 �メ늿���α뒘�결뒥�ａ돱 �졹뎳�섂뙛�앩뜟\n",
      "  �뚡뙠 �メ늿�ㅱ돮 �곢닜�α뒖 �먤땷��\n",
      "  �결� �졹닏�띮닕 �끷돞 �ａ떗�졹뙞 �뺗뙞���졹뙂�결늿�띮뜟\n",
      "  �ⓤ뒥���댾늿�앩돰 �졹뎲���졹떗�녁댙�앩뜟\n",
      "  �졹떗���졹돖���녁땵 �결닔�녁뜟\n",
      "  �꿍돭�ⓤ뙃����떚�ⓤ뙇�쇹뜟\n",
      "  ��댌 �졹��듄뜢 �뺗뒘�곢닂���졹뒫�띮닶 ��늻�녁닄��\n",
      "  �듄댂 �㏇떕�α댂 �졹뒘�졹댊 �メ댌��뜟\n",
      "  �결땷 �α뒘�결돞���α뒘���α뒘���됣닲�ㅱ돮 �졹떗�결떝�결댂�앩뜟\n",
      "  �α뙇�쒊댂 �ⓤ뒯�댾돭�띮뒘 �됣댃���녁떗�섂뙅���졹떗�듄댂�앩뜟\n",
      "  �ⓤ뙉�ⓤ돞���뚡돜���㏇떕�⒰돲 ��댌���ａ떕�⒰돲 �メ뙛�띮뎲��\n",
      "  �α닽 �ⓤ닔�띮돰���띮똾���뗡뜈�녁돲��\n",
      "  �볚돜���쎺떚�め떕 �ⓤ늿�띮뜢 �띮뒘����떈 ��떈�メ닄��\n",
      "  �ⓤ뒫�듄닂���졹뙂���섂뒲 �ⓤ뒥�왾닽 �졹뙂���뗡댂�メ뜟\n",
      "  �결뒘�뗡닅 �㏇돭���결닔�띮댍 �ａ뜆��\n",
      "  �댾떝�끷늼 �쎺댂 �㏇늽���ⓤ댂�듄늼 �졹돲�뗡댆�띮뜟\n",
      "  �α뙇��늼���졹뜊�メ댙���띮뒴 �섂댂�뗡뜟\n",
      "\n",
      "Runes:\n",
      "\n",
      "  �삔썣 �녁슲�メ슗 �╇슟���삔썣 �믟슓�왾썣 �⒰슻 �╇슟���싡슞�얀썮���얀슜�긔슗�밞썣�め슧�왾슓���밞썎���╇슞 �밞썣�α슟\n",
      "\n",
      "  (Old English, which transcribed into Latin reads 'He cwaeth that he\n",
      "  bude thaem lande northweardum with tha Westsae.' and means 'He said\n",
      "  that he lived in the northern land near the Western Sea.')\n",
      "\n",
      "Braille:\n",
      "\n",
      "  戍뚢쟻�㎮젒 �쇄쟻�� 戍띯젣�뉍젒�밟젾��戍ｂ젙��\n",
      "\n",
      "  戍띯젣�뉍젒���뷜쟻���쇺젒�곣젟���왿젙 �꺿젒�쎻젘 �뷜젇�밟졁 戍밟졎���듼젍 �앪젙 �쇺졂�꺿젦\n",
      "  �기쟻�왿젒�㎮졎 �곣쟽�년젦 �밟쟻�왿졁 戍밟젒 �쀢젒�쎻젇�뚢졎 �뺚젉 �쇺젇���꺿젰�쀢젇�곣젃 �뷜쟻��\n",
      "  �롡젇�쎻젥���꺿졊 �밟젒 �듼젃�삘젢�밟젌�곣젥���밟젒 �듼젃�삘쟿���밟젒 �β젥�쇺졎�왿쟻�끸졎��\n",
      "  �곣젥���밟젒 �△젇�묅젉 �띯졂�쀢젥�삘졁 戍롡젇�쀢젙�뺚젢���롡젇�쎻젥���듼젦��戍곣젥��\n",
      "  戍롡젇�쀢젙�뺚젢�묅젾���앪쟻�띯젒 �뷜쟻���쎻젙�뺚젟 �β젎�뺚젥 �겸　�곣젥�쎻젒���뗢젙���곣젥�밟졊�붴젢 �쇺젒\n",
      "  �△젙�롡젒 �왿젙 �뤴젰���쇺젇���쇺쟻�앪젟 �왿젙��\n",
      "\n",
      "  戍뺚젃��戍띯젣�뉍젒���뷜쟻���곣젍 �쇺젒�곣젟 �곣젍 ���쇺젙�뺚젛�ㅲ젥�곣젇�뉍졁\n",
      "\n",
      "  戍띯젘�쇺젚 戍��쇺젙�앪젾���띯젒�곣젥 �왿젙 �롡쟻���밟쟻��戍��끸젥�も쟼 �뺚젉 �띯졊\n",
      "  �も젥 �끸젥�も젃�モ젢�묅쟼 �기쟻���밟졎���듼젍 �뤴젣�왿젇�듼젰�뉍젣�뉍졊 �쇺젒�곣젟 �곣쟽�년젦\n",
      "  ���쇺젙�뺚젛�ㅲ젥�곣젇�뉍졁 戍��띯젇�ｂ젦 �쇺쟻�㎮젒 �꺿젒���붴젇�뉍젘�モ쟼 �띯졊�롡젒�뉍젉���왿젙\n",
      "  �쀢젒�쎻젣�����듼젙�뗢젉�붴젮�앪쟻�듼젃 �곣젍 �밟젒 �쇺젒�곣젟�묅젋 �뤴젇�묅젇���뺚젉 �듼젛�뺚젥�띯젙�앪젢�삘졊\n",
      "  ���밟젒 �왿젛�곣젟�묅졁 戍꺿젰���밟젒 �뷜젇�롡젟�뺚젌 �뺚젉 �년젛 �곣젥�듼젒�뚢젙�쀢젍\n",
      "  �듼젍 ���밟젒 �롡젇�띯젇�뉍젒���곣젥���띯졊 �β젥�쇺쟻�뉍젃�も젷 �쇺쟻�앪젟��\n",
      "  �⒱쟻�뉍젃 �앪젙���쇺젇�뚢젰�쀢쟽 �듼젦���뺚젛 �밟젒 戍듼졂�앪젦�쀢졊�겸젍 �쇺젙�앪젒 �뗢젙�쀢졁 戍밟졂\n",
      "  �뷜젇�뉍젃 �밟졎�묅젉�뺚젛���뤴졎�띯젇���띯젒 �왿젙 �쀢젒�뤴젒�곣젦���묅젌�뤴젟�곣젦�듼젇�곣젃�뉍졊���밟쟻��\n",
      "  戍띯젣�뉍젒���뷜쟻���곣젍 �쇺젒�곣젟 �곣젍 ���쇺젙�뺚젛�ㅲ젥�곣젇�뉍졁\n",
      "\n",
      "  (The first couple of paragraphs of \"A Christmas Carol\" by Dickens)\n",
      "\n",
      "Compact font selection example text:\n",
      "\n",
      "  ABCDEFGHIJKLMNOPQRSTUVWXYZ /0123456789\n",
      "  abcdefghijklmnopqrstuvwxyz 짙짤쨉�횈횜횧횩챕철첼\n",
      "  �볛��섃��앪��졻��╈��◑벯졙매얄궗 ����廓慣棺款灌� �����逵閨勻均畇\n",
      "  ��늹�댿꽍�㎮닼�△닞 �묅넇�ⓥ녃���먥뵾�붴븯�묅뼷�뷜� 詮곻옙��굚消졹툊團梳꽿먍먥뜋�逃��\n",
      "\n",
      "Greetings in various languages:\n",
      "\n",
      "  Hello world, �慣貫管關溯넒곊�觀溯믿꺨셰� �녈꺍�뗣긽��\n",
      "\n",
      "Box drawing alignment tests:                                          ��\n",
      "                                                                      ��\n",
      "  �붴븧�먥븽�먥븧�� �뚢���뵮����� �����뵮����� �����뵮����� �뤴봺�곣뵵�곣봺�� �롡뵏�뤴뵎   �� ���뤴뵱���뚢뵲��   ���기빍�기빍�년빏��\n",
      "  �묅뵆��븿��뵍�� �귘븫�먥븾�먥븮�� �귘븩�먥빁�먥븬�� �귘븪��븕��븭�� �꺿뵆��븖��뵍�� �쀢븗�꾟뵗  �뜯뵾�닳빜�뗢빖�졻뵾���앪븢��   ���꿎빋�꿎빋�년빏��\n",
      "  �묅봻���기봻�� �귘븨   �묅봻  �귘봻 ���귘봻  �귘븨 ���묅봻  �꺿봻 ���귘봼  �띯븙�녳뵑   �� ���쀢뵹���붴뵺��   ���기빍�기빍�년빏��\n",
      "  �졻븸 ���왿븺  �쒋븹   �잂뵥  �쒋뵾��뵾��뵾�� �쒋빂��븖��빂�� �ｂ붃�얄뵾�쇄붃�� �뺚뵛�뽦뵚     �뚢봽�꾟뵍 ���뤴봾�끸뵑 �����꿎빋�꿎빋�년빏��\n",
      "  �묅봻���꿎봻�� �귘븨   �묅봻  �귘봻 ���귘봻  �귘븨 ���묅봻  �꺿봻 ���귘봼  �묅뼇�믠뼊�볛뼋�댿뻽 �� ������ ������\n",
      "  �묅뵒��븼��뵖�� �귘븱�먥븻�먥븴�� �귘븯�먥빁�먥븲�� �귘븰�����븳�� �꺿뵒��븖��뵖�� �묅뼇�믠뼊�볛뼋�댿뻽 �� ������ ������\n",
      "  �싢븧�먥빀�먥븧�� �붴���뵶����� �겸���뵶����� �겸���뵶����� �쀢봺�곣뵽�곣봺�� �쀢뻹�뽦뼓��뼔   �붴븣�뚢뵖 ���쀢븤�띯뵛 �� �곣뻷�꺿뻹�끸뻻�뉍뻽\n",
      "                                               �앪��섃뼑�꾟뼗\n",
      "\n",
      "</pre>\n"
     ]
    },
    {
     "name": "stderr",
     "output_type": "stream",
     "text": [
      "  % Total    % Received % Xferd  Average Speed   Time    Time     Time  Current\n",
      "                                 Dload  Upload   Total   Spent    Left  Speed\n",
      "\n",
      "  0     0    0     0    0     0      0      0 --:--:-- --:--:-- --:--:--     0\n",
      "  0     0    0     0    0     0      0      0 --:--:-- --:--:-- --:--:--     0\n",
      "100 14239  100 14239    0     0  28478      0 --:--:-- --:--:-- --:--:-- 28478\n"
     ]
    }
   ],
   "source": [
    "!curl http://httpbin.org/encoding/utf8"
   ]
  },
  {
   "cell_type": "code",
   "execution_count": 7,
   "metadata": {
    "collapsed": false
   },
   "outputs": [
    {
     "data": {
      "text/plain": [
       "u'<h1>Unicode Demo</h1>\\n\\n<p>Taken from <a\\nhref=\"http://www.cl.cam.ac.uk/~mgk25/ucs/examples/UTF-8-demo.txt\">http://www.cl.cam.ac.uk/~mgk25/ucs/examples/UTF-8-demo.txt</a></p>\\n\\n<pre>\\n\\nUTF-8 encoded sample plain-text file\\n\\u203e\\u203e\\u203e\\u203e\\u203e\\u203e\\u203e\\u203e\\u203e\\u203e\\u203e\\u203e\\u203e\\u203e\\u203e\\u203e\\u203e\\u203e\\u203e\\u203e\\u203e\\u203e\\u203e\\u203e\\u203e\\u203e\\u203e\\u203e\\u203e\\u203e\\u203e\\u203e\\u203e\\u203e\\u203e\\u203e\\n\\nMarkus Kuhn [\\u02c8ma\\u02b3k\\u028as ku\\u02d0n] <http://www.cl.cam.ac.uk/~mgk25/> \\u2014 2002-07-25\\n\\n\\nThe ASCII compatible UTF-8 encoding used in this plain-text file\\nis defined in Unicode, ISO 10646-1, and RFC 2279.\\n\\n\\nUsing Unicode/UTF-8, you can write in emails and so'"
      ]
     },
     "execution_count": 7,
     "metadata": {},
     "output_type": "execute_result"
    }
   ],
   "source": [
    "import requests\n",
    "r = requests.get(\"http://httpbin.org/encoding/utf8\")\n",
    "r.text[0:500]"
   ]
  },
  {
   "cell_type": "markdown",
   "metadata": {},
   "source": [
    "* '\\u' = unicode가 뒤에따라온다.\n",
    "* 명령창에서는 unicode를 인식을 못하니까 저렇게 위와같이 이상하게 나타나는것이다.\n",
    "* 화면에서 그 unicode값을 디코딩해서 제대로 출력하면 된다. \n",
    "* 화면에서 제대로 출력하기위한 조건 2가지\n",
    "    * "
   ]
  },
  {
   "cell_type": "code",
   "execution_count": 9,
   "metadata": {
    "collapsed": false
   },
   "outputs": [
    {
     "data": {
      "text/plain": [
       "('ko_KR', 'cp949')"
      ]
     },
     "execution_count": 9,
     "metadata": {},
     "output_type": "execute_result"
    }
   ],
   "source": [
    "import locale\n",
    "locale.getdefaultlocale()\n",
    "#cp949 를 UTF-8로바꿔줘야 문제가 없다. CP949는 내 운영체제 자체의 인코딩 방식임."
   ]
  },
  {
   "cell_type": "markdown",
   "metadata": {},
   "source": [
    "* 명령창에 systeminfo라고 치면 나의 locale 정보를 알수 있다. window 10은 'ko;한국어'다. 이걸 UTF-8로 바꿔줘야함 (운영체제자체를 변경하는것은 교수님 안알려주심. 우리는 python창에서의 인코딩방식을 바꿔서 python화면에서 볼때 제대로 보게 할 거임)\n",
    "\n",
    "* 운영체제가 그냥 UFT-8이면 python에서도 그냥 잘 될 가능성이 높다.\n",
    "* python3에서는 인코딩방식을 자동으로 지원하기때문에 아래와 같은 일을 하지 않아도 될 확률이 높다. 하지만 우리는 python2를 사용하고있기때문에 아래와같은 공작을 한다."
   ]
  },
  {
   "cell_type": "code",
   "execution_count": 11,
   "metadata": {
    "collapsed": false
   },
   "outputs": [
    {
     "name": "stdout",
     "output_type": "stream",
     "text": [
      "cp949\n",
      "ascii\n",
      "mbcs\n",
      "None\n",
      "UTF-8\n"
     ]
    }
   ],
   "source": [
    "import sys, locale\n",
    "print locale.getpreferredencoding()\n",
    "print sys.getdefaultencoding()\n",
    "print sys.getfilesystemencoding()\n",
    "print sys.stdin.encoding\n",
    "print sys.stdout.encoding"
   ]
  },
  {
   "cell_type": "code",
   "execution_count": 40,
   "metadata": {
    "collapsed": false
   },
   "outputs": [
    {
     "ename": "Error",
     "evalue": "unsupported locale setting",
     "output_type": "error",
     "traceback": [
      "\u001b[0;31m---------------------------------------------------------------------------\u001b[0m",
      "\u001b[0;31mError\u001b[0m                                     Traceback (most recent call last)",
      "\u001b[0;32m<ipython-input-40-579282b325ee>\u001b[0m in \u001b[0;36m<module>\u001b[0;34m()\u001b[0m\n\u001b[1;32m      1\u001b[0m \u001b[1;32mimport\u001b[0m \u001b[0mlocale\u001b[0m\u001b[1;33m\u001b[0m\u001b[0m\n\u001b[0;32m----> 2\u001b[0;31m \u001b[0mlocale\u001b[0m\u001b[1;33m.\u001b[0m\u001b[0msetlocale\u001b[0m\u001b[1;33m(\u001b[0m\u001b[0mlocale\u001b[0m\u001b[1;33m.\u001b[0m\u001b[0mLC_ALL\u001b[0m\u001b[1;33m,\u001b[0m \u001b[1;34m'en_US.utf-8'\u001b[0m\u001b[1;33m)\u001b[0m\u001b[1;33m\u001b[0m\u001b[0m\n\u001b[0m",
      "\u001b[0;32mC:\\Users\\400T6B\\Anaconda2\\lib\\locale.pyc\u001b[0m in \u001b[0;36msetlocale\u001b[0;34m(category, locale)\u001b[0m\n\u001b[1;32m    579\u001b[0m         \u001b[1;31m# convert to string\u001b[0m\u001b[1;33m\u001b[0m\u001b[1;33m\u001b[0m\u001b[0m\n\u001b[1;32m    580\u001b[0m         \u001b[0mlocale\u001b[0m \u001b[1;33m=\u001b[0m \u001b[0mnormalize\u001b[0m\u001b[1;33m(\u001b[0m\u001b[0m_build_localename\u001b[0m\u001b[1;33m(\u001b[0m\u001b[0mlocale\u001b[0m\u001b[1;33m)\u001b[0m\u001b[1;33m)\u001b[0m\u001b[1;33m\u001b[0m\u001b[0m\n\u001b[0;32m--> 581\u001b[0;31m     \u001b[1;32mreturn\u001b[0m \u001b[0m_setlocale\u001b[0m\u001b[1;33m(\u001b[0m\u001b[0mcategory\u001b[0m\u001b[1;33m,\u001b[0m \u001b[0mlocale\u001b[0m\u001b[1;33m)\u001b[0m\u001b[1;33m\u001b[0m\u001b[0m\n\u001b[0m\u001b[1;32m    582\u001b[0m \u001b[1;33m\u001b[0m\u001b[0m\n\u001b[1;32m    583\u001b[0m \u001b[1;32mdef\u001b[0m \u001b[0mresetlocale\u001b[0m\u001b[1;33m(\u001b[0m\u001b[0mcategory\u001b[0m\u001b[1;33m=\u001b[0m\u001b[0mLC_ALL\u001b[0m\u001b[1;33m)\u001b[0m\u001b[1;33m:\u001b[0m\u001b[1;33m\u001b[0m\u001b[0m\n",
      "\u001b[0;31mError\u001b[0m: unsupported locale setting"
     ]
    }
   ],
   "source": [
    "import locale\n",
    "locale.setlocale(locale.LC_ALL, 'en_US.utf-8')"
   ]
  },
  {
   "cell_type": "code",
   "execution_count": 35,
   "metadata": {
    "collapsed": true
   },
   "outputs": [],
   "source": [
    "#python 인코딩방식으로 utf 8로 변경했다.\n",
    "import sys\n",
    "reload(sys)\n",
    "sys.setdefaultencoding('UTF-8')"
   ]
  },
  {
   "cell_type": "code",
   "execution_count": 20,
   "metadata": {
    "collapsed": false
   },
   "outputs": [
    {
     "data": {
      "text/plain": [
       "'\\xed\\x95\\x9c'"
      ]
     },
     "execution_count": 20,
     "metadata": {},
     "output_type": "execute_result"
    }
   ],
   "source": [
    "str('한')#16진법으로 표현 ( x = 16 )"
   ]
  },
  {
   "cell_type": "code",
   "execution_count": 19,
   "metadata": {
    "collapsed": false
   },
   "outputs": [
    {
     "data": {
      "text/plain": [
       "u'\\ud55c'"
      ]
     },
     "execution_count": 19,
     "metadata": {},
     "output_type": "execute_result"
    }
   ],
   "source": [
    "u'한' #unicode식으로 출력"
   ]
  },
  {
   "cell_type": "code",
   "execution_count": 36,
   "metadata": {
    "collapsed": false
   },
   "outputs": [
    {
     "data": {
      "text/plain": [
       "'\\xed\\x95\\x9c'"
      ]
     },
     "execution_count": 36,
     "metadata": {},
     "output_type": "execute_result"
    }
   ],
   "source": [
    "'한'.encode('utf-8') \n",
    "#에러뜨는 이유:\n",
    "#그냥 한이라고 하면 처음부터 128개까지의 문자만 찾는다. 근데 그안에는 영문자 대소문자와 숫자기호만 있다.\n",
    "#에러가 안뜨는데?"
   ]
  },
  {
   "cell_type": "code",
   "execution_count": 26,
   "metadata": {
    "collapsed": false
   },
   "outputs": [
    {
     "data": {
      "text/plain": [
       "'\\xed\\x95\\x9c'"
      ]
     },
     "execution_count": 26,
     "metadata": {},
     "output_type": "execute_result"
    }
   ],
   "source": [
    "(u'한').encode('utf-8')"
   ]
  },
  {
   "cell_type": "code",
   "execution_count": 1,
   "metadata": {
    "collapsed": false
   },
   "outputs": [
    {
     "name": "stdout",
     "output_type": "stream",
     "text": [
      "한\n"
     ]
    }
   ],
   "source": [
    "print u'한' #왜 아무것도 안뜨지?"
   ]
  },
  {
   "cell_type": "code",
   "execution_count": 2,
   "metadata": {
    "collapsed": false
   },
   "outputs": [
    {
     "name": "stdout",
     "output_type": "stream",
     "text": [
      "한\n"
     ]
    }
   ],
   "source": [
    "st='한'\n",
    "print st #얘도 아무것도 안뜨네?"
   ]
  },
  {
   "cell_type": "markdown",
   "metadata": {
    "collapsed": true
   },
   "source": [
    "## json파일\n",
    "\n",
    "* schema : 행과열을 정하는것 (ex: 시간표, xml)\n",
    "* schema가 없는것 : 엑셀(특정한 것이 아니고 광범위하게 행과 열이 존재하기때문)\n",
    "* json은 schema가 없다"
   ]
  },
  {
   "cell_type": "code",
   "execution_count": 11,
   "metadata": {
    "collapsed": false
   },
   "outputs": [
    {
     "name": "stdout",
     "output_type": "stream",
     "text": [
      "{'id': '405', 'name': 'js'}\n",
      "{'id': '405', '\\xec\\x9d\\xb4\\xeb\\xa6\\x84': 'js'}\n",
      "{u'\\uc774\\ub984': 'js', 'id': '405'}\n"
     ]
    }
   ],
   "source": [
    "import json\n",
    "\n",
    "user1={\"id\": \"405\", \"name\": \"js\"}\n",
    "user2={ \"id\": \"405\", \"이름\": \"js\" } \n",
    "#16*16 = 256 = 1바이트 \n",
    "#6개가 나오는이유 : 초성,중성,종성 한글자당 3개씩 나옴\n",
    "user3={ \"id\": \"405\", u\"이름\": \"js\" }\n",
    "\n",
    "print user1\n",
    "print user2\n",
    "print user3"
   ]
  },
  {
   "cell_type": "markdown",
   "metadata": {},
   "source": [
    "### json array"
   ]
  },
  {
   "cell_type": "code",
   "execution_count": 12,
   "metadata": {
    "collapsed": false
   },
   "outputs": [
    {
     "name": "stdout",
     "output_type": "stream",
     "text": [
      "{'Persons': [{'id': '405', 'name': 'js1'}, {'id': '406', 'name': 'js2'}]}\n"
     ]
    }
   ],
   "source": [
    "import json\n",
    "\n",
    "p={\"Persons\":[\n",
    "    {\"id\":\"405\", \"name\":\"js1\"},\n",
    "    {\"id\":\"406\", \"name\":\"js2\"},\n",
    "]}\n",
    "\n",
    "print p"
   ]
  },
  {
   "cell_type": "markdown",
   "metadata": {},
   "source": [
    "### writing json file\n",
    "\n",
    "* json을 파일에서 읽을때 그것은 문자열이다. 그게 json인지 그냥 문자열인지 인지가 안됨"
   ]
  },
  {
   "cell_type": "code",
   "execution_count": 15,
   "metadata": {
    "collapsed": false
   },
   "outputs": [
    {
     "name": "stdout",
     "output_type": "stream",
     "text": [
      "{\"Persons\": [{\"id\": \"405\", \"\\uc774\\ub984\": \"js1\"}, {\"id\": \"406\", \"\\uc774\\ub984\": \"js2\"}]}\n"
     ]
    }
   ],
   "source": [
    "import json\n",
    "\n",
    "p={\"Persons\":[\n",
    "    {\"id\":\"405\", \"이름\":\"js1\"},\n",
    "    {\"id\":\"406\", \"이름\":\"js2\"},\n",
    "]}\n",
    "\n",
    "#json array를 문자열로 쓴다\n",
    "#\\u : 아 utf (unicode)로 인코딩이 되있구나 괜찮군. 출력할때만 한글로 보이기만 하면 됨.\n",
    "print json.dumps(p) "
   ]
  },
  {
   "cell_type": "code",
   "execution_count": 4,
   "metadata": {
    "collapsed": false
   },
   "outputs": [
    {
     "name": "stdout",
     "output_type": "stream",
     "text": [
      "Writing data/ds_save_persons.json\n"
     ]
    }
   ],
   "source": [
    "%%writefile data/ds_save_persons.json\n",
    "p={\"Persons\":[\n",
    "    {\"id\":\"405\", \"이름\":\"js1\"},\n",
    "    {\"id\":\"406\", \"이름\":\"js2\"},\n",
    "]}"
   ]
  },
  {
   "cell_type": "code",
   "execution_count": 5,
   "metadata": {
    "collapsed": false,
    "scrolled": true
   },
   "outputs": [
    {
     "ename": "NameError",
     "evalue": "name 'p' is not defined",
     "output_type": "error",
     "traceback": [
      "\u001b[0;31m---------------------------------------------------------------------------\u001b[0m",
      "\u001b[0;31mNameError\u001b[0m                                 Traceback (most recent call last)",
      "\u001b[0;32m<ipython-input-5-a8d605187004>\u001b[0m in \u001b[0;36m<module>\u001b[0;34m()\u001b[0m\n\u001b[1;32m      1\u001b[0m \u001b[1;32mimport\u001b[0m \u001b[0mos\u001b[0m\u001b[1;33m,\u001b[0m \u001b[0mio\u001b[0m\u001b[1;33m,\u001b[0m \u001b[0mjson\u001b[0m\u001b[1;33m\u001b[0m\u001b[0m\n\u001b[1;32m      2\u001b[0m \u001b[1;32mwith\u001b[0m \u001b[0mio\u001b[0m\u001b[1;33m.\u001b[0m\u001b[0mopen\u001b[0m\u001b[1;33m(\u001b[0m\u001b[0mos\u001b[0m\u001b[1;33m.\u001b[0m\u001b[0mpath\u001b[0m\u001b[1;33m.\u001b[0m\u001b[0mjoin\u001b[0m\u001b[1;33m(\u001b[0m\u001b[1;34m'data'\u001b[0m\u001b[1;33m,\u001b[0m\u001b[1;34m'ds_save_persons.json'\u001b[0m\u001b[1;33m)\u001b[0m\u001b[1;33m,\u001b[0m \u001b[1;34m'w'\u001b[0m\u001b[1;33m)\u001b[0m \u001b[1;32mas\u001b[0m \u001b[0mjson_file\u001b[0m\u001b[1;33m:\u001b[0m\u001b[1;33m\u001b[0m\u001b[0m\n\u001b[0;32m----> 3\u001b[0;31m     \u001b[0mjson\u001b[0m\u001b[1;33m.\u001b[0m\u001b[0mdump\u001b[0m\u001b[1;33m(\u001b[0m\u001b[0mp\u001b[0m\u001b[1;33m,\u001b[0m \u001b[0mjson_file\u001b[0m\u001b[1;33m,\u001b[0m \u001b[0mencoding\u001b[0m\u001b[1;33m=\u001b[0m\u001b[1;34m\"utf-8\"\u001b[0m\u001b[1;33m)\u001b[0m\u001b[1;33m\u001b[0m\u001b[0m\n\u001b[0m\u001b[1;32m      4\u001b[0m \u001b[1;33m\u001b[0m\u001b[0m\n\u001b[1;32m      5\u001b[0m \u001b[1;31m#with : python 명령어 : 파일을 열때 with로 열수 있다. with은 어떤 설정을해서 설정을 가지고 파일을 연다.\u001b[0m\u001b[1;33m\u001b[0m\u001b[1;33m\u001b[0m\u001b[0m\n",
      "\u001b[0;31mNameError\u001b[0m: name 'p' is not defined"
     ]
    }
   ],
   "source": [
    "import os, io, json\n",
    "with io.open(os.path.join('data','ds_save_persons.json'), 'w') as json_file:\n",
    "    json.dump(p, json_file, encoding=\"utf-8\")\n",
    "    \n",
    "#with : python 명령어 : 파일을 열때 with로 열수 있다. with은 어떤 설정을해서 설정을 가지고 파일을 연다. \n",
    "#with 로 열면 close를 해주지 않아도 된다.\n"
   ]
  },
  {
   "cell_type": "markdown",
   "metadata": {},
   "source": [
    "* mongod (mongo demon) : 서버 (아나콘다)\n",
    "* mongo : 클라이언트 (명령프롬프트)\n",
    "* mongodb download 를 구글창에친다. \n",
    "* 2번째꺼에 들어간다. https://www.mongodb.com/download-center#community\n",
    "* 첫번째꺼를 선택해서 다운\n",
    "* 다운 다되면 환경변수 설정을 해준다. \n",
    "* 시스템변수의 path의 맨끝에 C:\\Program Files\\MongoDB\\Server\\3.4\\bin 이거 삽입\n",
    "* 루트파일에 mymongodb 디렉토리 생성\n",
    "* 아나콘다에서 루트로 가서 s_201511138에서  mongod --dbpath mymongodb 를 친다 - 패스설정\n",
    "\n",
    "* 맨마지막에 커서가 깜박이면 서버가 생성된것이다.\n",
    "\n",
    "#### cmd에서 몽고 쓰기\n",
    "\n",
    "* cmd 를 열어서 몽고를 써보자 - png 참고\n",
    "* s_201511138로 가서 mongo를 친다.\n",
    "\n",
    "* use test : test라는 db가 없으면 만들고 있으면 있는거 가져다가 쓴다.\n",
    "* db.testCollection.insert({id:1}) : testCollection이라는 table을 만들고 그 안에 {id:1}이라는 문서를 저장. \n",
    "* _id : 몽고디비자체의 자동생성 id"
   ]
  },
  {
   "cell_type": "code",
   "execution_count": 6,
   "metadata": {
    "collapsed": false
   },
   "outputs": [
    {
     "name": "stdout",
     "output_type": "stream",
     "text": [
      "Writing src/ds_save_mongo_test.js\n"
     ]
    }
   ],
   "source": [
    "%%writefile src/ds_save_mongo_test.js\n",
    "use test\n",
    "db.testCollection.insert({x:1})\n",
    "db.testCollection.find()\n",
    "db.stats()"
   ]
  },
  {
   "cell_type": "code",
   "execution_count": 7,
   "metadata": {
    "collapsed": false
   },
   "outputs": [
    {
     "name": "stdout",
     "output_type": "stream",
     "text": [
      "MongoDB shell version v3.4.3\n",
      "connecting to: mongodb://127.0.0.1:27017\n",
      "MongoDB server version: 3.4.3\n",
      "switched to db test\n",
      "WriteResult({ \"nInserted\" : 1 })\n",
      "{ \"_id\" : ObjectId(\"58ec947a28e86d6cfd8b22cd\"), \"id\" : 1 }\n",
      "{ \"_id\" : ObjectId(\"58ec951f383df49c45323859\"), \"x\" : 1 }\n",
      "{\n",
      "\t\"db\" : \"test\",\n",
      "\t\"collections\" : 1,\n",
      "\t\"views\" : 0,\n",
      "\t\"objects\" : 2,\n",
      "\t\"avgObjSize\" : 33.5,\n",
      "\t\"dataSize\" : 67,\n",
      "\t\"storageSize\" : 16384,\n",
      "\t\"numExtents\" : 0,\n",
      "\t\"indexes\" : 1,\n",
      "\t\"indexSize\" : 16384,\n",
      "\t\"ok\" : 1\n",
      "}\n",
      "bye\n"
     ]
    }
   ],
   "source": [
    "!mongo < src/ds_save_mongo_test.js"
   ]
  },
  {
   "cell_type": "markdown",
   "metadata": {},
   "source": [
    "## 문제 S-5: MongDB에 'id', '이름'을 저장하고, 조회하는 프로그램을 실행하기"
   ]
  },
  {
   "cell_type": "code",
   "execution_count": 8,
   "metadata": {
    "collapsed": false
   },
   "outputs": [
    {
     "name": "stdout",
     "output_type": "stream",
     "text": [
      "Writing src/ds_save_mongo_5.js\n"
     ]
    }
   ],
   "source": [
    "%%writefile src/ds_save_mongo_5.js\n",
    "use myDB\n",
    "show dbs\n",
    "show tables\n",
    "db.myCol.insert({\"Persons\":[{\"id\":\"405\", \"이름\":\"js1\"},{\"id\":\"406\", \"이름\":\"js2\"}]})\n",
    "db.myCol.find({ \"Persons.이름\": \"js1\" })"
   ]
  },
  {
   "cell_type": "markdown",
   "metadata": {},
   "source": [
    "## pymongo"
   ]
  },
  {
   "cell_type": "code",
   "execution_count": 10,
   "metadata": {
    "collapsed": false
   },
   "outputs": [],
   "source": [
    "import pymongo"
   ]
  },
  {
   "cell_type": "code",
   "execution_count": 11,
   "metadata": {
    "collapsed": true
   },
   "outputs": [],
   "source": [
    "from pymongo import MongoClient\n",
    "\n",
    "client = MongoClient() #파이썬창에서 클라이언트 생성 '>'\n",
    "db=client.myDB #없으면 만들고 있으면 있는거 쓴다"
   ]
  },
  {
   "cell_type": "markdown",
   "metadata": {},
   "source": [
    "#### 입력해보기"
   ]
  },
  {
   "cell_type": "code",
   "execution_count": 12,
   "metadata": {
    "collapsed": true
   },
   "outputs": [],
   "source": [
    "_id=1\n",
    "_name='js'\n",
    "_age=11\n",
    "_country='ko'"
   ]
  },
  {
   "cell_type": "code",
   "execution_count": 13,
   "metadata": {
    "collapsed": false
   },
   "outputs": [
    {
     "data": {
      "text/plain": [
       "<pymongo.results.InsertOneResult at 0x62174c8>"
      ]
     },
     "execution_count": 13,
     "metadata": {},
     "output_type": "execute_result"
    }
   ],
   "source": [
    "db.myPyCol.insert_one({ #myPyCol이란 장표에가서 insert_one이라는 행추가를 하는것.\n",
    "    \"id\":_id,\n",
    "    \"name\":_name,\n",
    "    \"age\":_age,\n",
    "    \"country\":_country\n",
    "})"
   ]
  },
  {
   "cell_type": "code",
   "execution_count": 14,
   "metadata": {
    "collapsed": false
   },
   "outputs": [
    {
     "name": "stdout",
     "output_type": "stream",
     "text": [
      "js\n"
     ]
    }
   ],
   "source": [
    "results=db.myPyCol.find() #find()는 cursor을 만들어준다.\n",
    "for r in results:\n",
    "    print r['name'] #key로 검색"
   ]
  },
  {
   "cell_type": "code",
   "execution_count": 14,
   "metadata": {
    "collapsed": false
   },
   "outputs": [
    {
     "data": {
      "text/plain": [
       "<pymongo.results.UpdateResult at 0x5be8e58>"
      ]
     },
     "execution_count": 14,
     "metadata": {},
     "output_type": "execute_result"
    }
   ],
   "source": [
    "_name='jslim'\n",
    "_age=123\n",
    "db.myPyCol.update_one(\n",
    "{\"id\":_id},\n",
    "    {\"$set\":{\n",
    "        \"name\":_name,\n",
    "        \"age\":_age,\n",
    "    }}\n",
    ")"
   ]
  },
  {
   "cell_type": "markdown",
   "metadata": {},
   "source": [
    "## 문제 6번"
   ]
  },
  {
   "cell_type": "code",
   "execution_count": 7,
   "metadata": {
    "collapsed": false
   },
   "outputs": [
    {
     "name": "stdout",
     "output_type": "stream",
     "text": [
      "Overwriting src/ds_save_mongo_6.js\n"
     ]
    }
   ],
   "source": [
    "%%writefile src/ds_save_mongo_6.js\n",
    "use myDB\n",
    "show dbs\n",
    "db.myCol.drop()\n",
    "db.myCol.insert({\"Persons\":[{\"id\":\"405\", \"이름\":\"js1\"},{\"id\":\"406\", \"이름\":\"js2\"}]})\n",
    "results=db.myCol.find()\n",
    "for r in results:\n",
    "    print r['Persons']\n",
    "              "
   ]
  },
  {
   "cell_type": "code",
   "execution_count": 19,
   "metadata": {
    "collapsed": false
   },
   "outputs": [
    {
     "name": "stdout",
     "output_type": "stream",
     "text": [
      "Overwriting src/ds_save_mongo_6.py\n"
     ]
    }
   ],
   "source": [
    "%%writefile src/ds_save_mongo_6.py\n",
    "#coding:UTF-8\n",
    "import pymongo\n",
    "from pymongo import MongoClient\n",
    "\n",
    "client = MongoClient()\n",
    "db=client.myDB\n",
    "db.myCol.drop()\n",
    "db.myCol.insert_one(\n",
    "   {\"Persons\":[{\"id\":\"405\", \"이름\":\"js1\"},{\"id\":\"406\", \"이름\":\"js2\"}]}\n",
    ")\n",
    "results = db.myCol.find()\n",
    "for r in results:\n",
    "        print r['Persons']"
   ]
  },
  {
   "cell_type": "markdown",
   "metadata": {
    "collapsed": false
   },
   "source": [
    "1. standard i/o\n",
    "\n",
    "2. file i/o\n",
    "\t- json (','로 구분하는 형식) \n",
    "\t\tcsv -> delimiter(,)\n",
    "        \n",
    "3. db i/o \n",
    "\t- mongodb\n",
    "\n",
    "\n",
    "서버를 설치하게되면 먼저 설정을 해야한다. (configuartion)\n",
    "\n",
    "* port 번호 \n",
    "* -web: 80\n",
    "* -ssh: 22\n",
    "* -몽고db:27017\n",
    "* -개인 : 1000이상으로 지정\n",
    "* -tomcat : 8080\n",
    "\n",
    "사실 www.smu.ac.kr:80 의 80이 생략되있는 것임\n",
    "\n",
    "\n",
    "몽고디비 디렉터리에 있는 mongod.lock 파일은 쓰레기 파일임. 지워도 상관없음. 지워주는게 좋다.\n",
    "\n",
    "mongod의 d는 demon을 의미한다.\n",
    "\n",
    "pymongo는 ? \n",
    "\n",
    "mongo를 쓸때 shell에서 쓸 수도 있다. command창에서 직접 쓰는것.\n",
    "\n",
    "python에서 mongo를 쓰는것은 내장형 프로그램 pymongo는 python에서 몽고를 쓰는것이다. 즉, 임베디드형태로 쓰는것이라고 할 수 있다.\n",
    "\n",
    "열린데이터와 공공데이터포탈사이트에 자신의 key를 만들어오기 . utf-8로 받아야한다."
   ]
  }
 ],
 "metadata": {
  "kernelspec": {
   "display_name": "Python 2",
   "language": "python",
   "name": "python2"
  },
  "language_info": {
   "codemirror_mode": {
    "name": "ipython",
    "version": 2
   },
   "file_extension": ".py",
   "mimetype": "text/x-python",
   "name": "python",
   "nbconvert_exporter": "python",
   "pygments_lexer": "ipython2",
   "version": "2.7.13"
  }
 },
 "nbformat": 4,
 "nbformat_minor": 2
}
