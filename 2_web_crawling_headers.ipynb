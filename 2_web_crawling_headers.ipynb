{
 "cells": [
  {
   "cell_type": "code",
   "execution_count": 1,
   "metadata": {
    "collapsed": false
   },
   "outputs": [
    {
     "name": "stdout",
     "output_type": "stream",
     "text": [
      "<!doctype html>\n",
      "<html>\n",
      "<head>\n",
      "    <title>Example Domain</title>\n",
      "\n",
      "    <meta charset=\"utf-8\" />\n",
      "    <m\n"
     ]
    }
   ],
   "source": [
    "import urllib2\n",
    "\n",
    "request_headers = {\n",
    "\"User-Agent\": \"Mozilla/5.0 (compatible; MSIE 9.0; Windows)\",\n",
    "\"Accept\": \"text/html,application/xhtml+xml, */*\",\n",
    "\"Accept-Language\": \"en-US\",\n",
    "\"Connection\": \"keep-alive\" \n",
    "}\n",
    "\n",
    "# Mozilla : 호환되는 브라우저 이름 (옛날꺼?)\n",
    "request = urllib2.Request(\"http://www.example.com\", headers=request_headers)\n",
    "# headers로 request_headers를 받는다. \n",
    "response = urllib2.urlopen(request)\n",
    "html = response.read()\n",
    "print html[:100]"
   ]
  },
  {
   "cell_type": "markdown",
   "metadata": {},
   "source": [
    "* python에서 크롤링을 할때는 user agent를 바꿔치기 해서 보내야 된다. 왜냐하면 브라우저에서 python으로 접근된것이 확인되면 아 이놈이 날 귀찮게하려나보다해서 차단하기때문."
   ]
  },
  {
   "cell_type": "code",
   "execution_count": 2,
   "metadata": {
    "collapsed": false
   },
   "outputs": [
    {
     "name": "stdout",
     "output_type": "stream",
     "text": [
      "status= 302\n",
      "response text= \n",
      "response header= {'Date': 'Tue, 04 Apr 2017 07:42:46 GMT', 'Content-Length': '261', 'Content-Type': 'text/html; charset=UTF-8', 'Location': 'http://www.google.co.kr/?gfe_rd=cr&ei=dk7jWLHfMbCL8QfR-p3YBw', 'Cache-Control': 'private'}\n"
     ]
    }
   ],
   "source": [
    "#헤더만 가져와보기 . 헤더만 가져와볼때는? 그냥 그 http페이지 간볼때 그렇게 가져온다.\n",
    "import requests\n",
    "\n",
    "resp = requests.head(\"http://www.google.com\")\n",
    "print \"status=\",resp.status_code #302가 나왔다는 것은 뭔가 더 해줘야 한다는 소리다.\n",
    "print \"response text=\", resp.text\n",
    "print \"response header=\", resp.headers"
   ]
  },
  {
   "cell_type": "code",
   "execution_count": 3,
   "metadata": {
    "collapsed": false
   },
   "outputs": [
    {
     "name": "stdout",
     "output_type": "stream",
     "text": [
      "Date: Tue, 04 Apr 2017 07:46:41 GMT\r\n",
      "Expires: -1\r\n",
      "Cache-Control: private, max-age=0\r\n",
      "Content-Type: text/html; charset=EUC-KR\r\n",
      "P3P: CP=\"This is not a P3P policy! See https://www.google.com/support/accounts/answer/151657?hl=en for more info.\"\r\n",
      "Server: gws\r\n",
      "X-XSS-Protection: 1; mode=block\r\n",
      "X-Frame-Options: SAMEORIGIN\r\n",
      "Set-Cookie: NID=100=lOSkIVkJ6XWdQ7xb5Fui84oKnvbxSBpLtMa3ugIzO4GaqCLm_4O2NNSth3kOdh3idR9fVHrcpVC9_sW0j8fsWeZPXlOyCaMsyDkvv0TwHvJ9wexjmMWFXNW_NfYOyMlS; expires=Wed, 04-Oct-2017 07:46:41 GMT; path=/; domain=.google.co.kr; HttpOnly\r\n",
      "Accept-Ranges: none\r\n",
      "Vary: Accept-Encoding\r\n",
      "Connection: close\r\n",
      "\n",
      "http://www.google.co.kr/index.html?gfe_rd=cr&ei=YU_jWJTjFafK8geb0a2QDg\n"
     ]
    }
   ],
   "source": [
    "import urllib2\n",
    "class HeadRequest(urllib2.Request):\n",
    "     def get_method(self):\n",
    "         return \"HEAD\"\n",
    "\n",
    "response = urllib2.urlopen(HeadRequest(\"http://google.com/index.html\"))\n",
    "print response.info()\n",
    "print response.geturl()"
   ]
  },
  {
   "cell_type": "markdown",
   "metadata": {},
   "source": [
    "### 웹데이터-3: 'python'으로 검색해서 http url 출력하기\n",
    "* 검색:\n",
    "    * 구글에서 검색해 보기\n",
    "    * wiki에서 검색해 보기"
   ]
  },
  {
   "cell_type": "code",
   "execution_count": 4,
   "metadata": {
    "collapsed": false
   },
   "outputs": [
    {
     "data": {
      "text/plain": [
       "5978"
      ]
     },
     "execution_count": 4,
     "metadata": {},
     "output_type": "execute_result"
    }
   ],
   "source": [
    "#구글에서 검색해보기\n",
    "from urllib import urlopen\n",
    "keyword='python'\n",
    "resp = urlopen('https://www.google.com/search?q='+keyword)\n",
    "html=resp.read()\n",
    "len(html)"
   ]
  },
  {
   "cell_type": "code",
   "execution_count": 5,
   "metadata": {
    "collapsed": false
   },
   "outputs": [
    {
     "name": "stdout",
     "output_type": "stream",
     "text": [
      "error\n"
     ]
    }
   ],
   "source": [
    "import re\n",
    "p=re.compile('.*(error).*')\n",
    "print p.search(html).group(1)"
   ]
  },
  {
   "cell_type": "code",
   "execution_count": 7,
   "metadata": {
    "collapsed": false
   },
   "outputs": [
    {
     "data": {
      "text/plain": [
       "True"
      ]
     },
     "execution_count": 7,
     "metadata": {},
     "output_type": "execute_result"
    }
   ],
   "source": [
    "import webbrowser\n",
    "webbrowser.open('http://www.google.com/search?q=python')"
   ]
  },
  {
   "cell_type": "markdown",
   "metadata": {},
   "source": [
    "* python으로 가져오면 error문자가 있고 webbrowser에서 가져오면 error가없는 이유:\n",
    "    python으로 돌리면 웹브라우저가 프로그램으로 crawlling을 하고 있다는 것을 알고 막는거임 "
   ]
  },
  {
   "cell_type": "code",
   "execution_count": 8,
   "metadata": {
    "collapsed": false
   },
   "outputs": [
    {
     "name": "stdout",
     "output_type": "stream",
     "text": [
      "Date: Tue, 04 Apr 2017 07:54:39 GMT\r\n",
      "Expires: -1\r\n",
      "Cache-Control: private, max-age=0\r\n",
      "Content-Type: text/html; charset=UTF-8\r\n",
      "P3P: CP=\"This is not a P3P policy! See https://www.google.com/support/accounts/answer/151657?hl=en for more info.\"\r\n",
      "Server: gws\r\n",
      "X-XSS-Protection: 1; mode=block\r\n",
      "X-Frame-Options: SAMEORIGIN\r\n",
      "Set-Cookie: NID=100=HAzjdbjYUuF_7pdN0f3GcLaIeSF3jxhjJcdTS0O5DtHIw3ajR93ODAvOAHVipXsnRJtM3P123bahAzh_0meAuIjhZqHQ_TzmjIgNr45wij8WHaVU4c_GNp3pOsyZtWPv; expires=Wed, 04-Oct-2017 07:54:39 GMT; path=/; domain=.google.co.kr; HttpOnly\r\n",
      "Accept-Ranges: none\r\n",
      "Vary: Accept-Encoding\r\n",
      "Connection: close\r\n",
      "\n"
     ]
    }
   ],
   "source": [
    "import urllib2\n",
    "url = 'http://www.google.com/#q=python'\n",
    "headers = {'User-Agent' : 'Mozilla 5.0'}\n",
    "request = urllib2.Request(url, None, headers)\n",
    "response = urllib2.urlopen(request)\n",
    "print response.headers"
   ]
  },
  {
   "cell_type": "code",
   "execution_count": 9,
   "metadata": {
    "collapsed": false
   },
   "outputs": [
    {
     "data": {
      "text/plain": [
       "45345"
      ]
     },
     "execution_count": 9,
     "metadata": {},
     "output_type": "execute_result"
    }
   ],
   "source": [
    "html = response.read()\n",
    "len(html)"
   ]
  },
  {
   "cell_type": "markdown",
   "metadata": {},
   "source": [
    "* 아까 6000자보다 월등히 많은 숫자(45000자정도)를 가져왔다. 즉 주소를 바꿔서 요청했기때문에 아마 잘 가져왔다고 판단됨."
   ]
  },
  {
   "cell_type": "code",
   "execution_count": 10,
   "metadata": {
    "collapsed": true
   },
   "outputs": [],
   "source": [
    "import os\n",
    "f=open(os.path.join('src','mygoogle1.html'),'w')\n",
    "f.write(html)\n",
    "f.close()"
   ]
  },
  {
   "cell_type": "markdown",
   "metadata": {},
   "source": [
    "* file:///C:/ 에 가서 정말 WRITE됐는지 확인해본다.\n",
    "검색 결과를 파일에 쓰고 확인한다.\n",
    "src/mygoogle.html을 열어본다. 브라우저 주소창에 'file:///'을 입력하면 로컬파일 탐색 기능이 실행된다.\n"
   ]
  },
  {
   "cell_type": "markdown",
   "metadata": {},
   "source": [
    "제안서에 써야되는것\n",
    "\n",
    "질문, 그 질문은 왜 빅데이터를 이용해야하는가?\n",
    "\n",
    "social data ...\n",
    "\n",
    "서울 열린데이터 광장 - 오픈데이터\n",
    "data.co.kr"
   ]
  },
  {
   "cell_type": "code",
   "execution_count": 15,
   "metadata": {
    "collapsed": false
   },
   "outputs": [
    {
     "name": "stdout",
     "output_type": "stream",
     "text": [
      "13\n",
      "https://plus.google.com/?gpsrc=ogpy0&tab=wX\n",
      "https://www.google.co.kr/webhp?tab=ww\n",
      "https://play.google.com/?hl=ko&tab=w8\n",
      "https://mail.google.com/mail/?tab=wm\n",
      "https://www.google.co.kr/intl/ko/options/\n",
      "https://drive.google.com/?tab=wo\n",
      "https://www.google.com/calendar?tab=wc\n",
      "https://books.google.co.kr/bkshp?hl=ko&tab=wp\n",
      "https://photos.google.com/?tab=wq&pageId=none\n",
      "https://docs.google.com/document/?usp=docs_alc\n",
      "https://www.google.co.kr/intl/ko/options/\n",
      "https://accounts.google.com/ServiceLogin?hl=ko&passive=true&continue=http://www.google.co.kr/%3Fgfe_\n",
      "https://plus.google.com/102197601262446632410\n"
     ]
    }
   ],
   "source": [
    "import urllib2\n",
    "import re\n",
    "url = 'http://www.google.com/#q=python'\n",
    "\n",
    "request_headers = {\n",
    "\"User-Agent\": \"Mozilla/5.0 (compatible; MSIE 9.0; Windows)\",\n",
    "\"Accept\": \"text/html,application/xhtml+xml, */*\",\n",
    "\"Accept-Language\": \"en-US\",\n",
    "\"Connection\": \"keep-alive\" \n",
    "}\n",
    "\n",
    "#headers = {'User-Agent' : 'Mozilla 5.0'}\n",
    "request = urllib2.Request(url, headers=request_headers)\n",
    "#request = urllib2.Request(url, None, headers)\n",
    "response = urllib2.urlopen(request)\n",
    "html = response.read()\n",
    "\n",
    "p=re.compile('href=\"(https://.*?)\"')\n",
    "#p=re.compile('.*href.*')\n",
    "res=p.findall(html)\n",
    "print len(res)\n",
    "for item in res:\n",
    "    print item[:100]"
   ]
  }
 ],
 "metadata": {
  "kernelspec": {
   "display_name": "Python 2",
   "language": "python",
   "name": "python2"
  },
  "language_info": {
   "codemirror_mode": {
    "name": "ipython",
    "version": 2
   },
   "file_extension": ".py",
   "mimetype": "text/x-python",
   "name": "python",
   "nbconvert_exporter": "python",
   "pygments_lexer": "ipython2",
   "version": "2.7.13"
  }
 },
 "nbformat": 4,
 "nbformat_minor": 2
}
