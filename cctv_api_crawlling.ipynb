{
 "cells": [
  {
   "cell_type": "code",
   "execution_count": 1,
   "metadata": {
    "collapsed": false
   },
   "outputs": [
    {
     "name": "stdout",
     "output_type": "stream",
     "text": [
      "http://cctvsec.ktict.co.kr/7/6vEjrhbwAuBrZ3/a9sx2qj9rgNAUax7c3h9yqwNxEMQGtJRHV/5BHbkhUJBQD/CV\n",
      "http://cctvsec.ktict.co.kr/8//fZ/AI7JJmSmm3YJC6kVsqdL1Q9l7hwtweWtao5Yu2BTRiGuQ8xGYGvPt612Pwz1\n",
      "http://cctvsec.ktict.co.kr/9/oSepze8UQLPUOmCo1Z8NS60n7s7n+Ws0gENgFTB3PsdMuKpwewOvdRTTVxzrouYM\n",
      "http://cctvsec.ktict.co.kr/10/0aWB4goCtDv4qipv1u4m2yBbsEE0gjYCSx2WgLpKHng9JDkj5Lts6iad+ZoYawtp\n",
      "http://cctvsec.ktict.co.kr/11/KDSEOYHOWmV1nwOLNVHx1Lxwr2pgxehIxLqyQjMoA0Rdtu3nzwnxbmSpS7CjjuG0\n",
      "http://cctvsec.ktict.co.kr/12/XvEBm0W7g/n4S6Ta5QlYTPFxuRy1qAg+oGHBhqSQ/RVvLw3QMwu7iji1gMOVToqW\n",
      "http://cctvsec.ktict.co.kr/16/K/1ta9BzG/v7fapwkm4gindd7cmY7398qcNdeCfKYbEkJW6DY3hJH11Yl4EkeWsq\n",
      "http://cctvsec.ktict.co.kr/17/wHrZ6ihIQf6I3N9Xu00SauDjqc39sbqEoHVSz+OR6WLzA9dj0Rjk6+KxCyg0LKbG\n",
      "http://cctvsec.ktict.co.kr/2154/BmF4YLn3LfMSlOxuTaxWYhR1w55yOQBoOFsGK36HpTRaqIrWOHu20sRT87G8kjA5\n",
      "http://cctvsec.ktict.co.kr/2569/aEI06w3RiWCSzgYJaA/jARkh3U8c8p4nFMFSVdIZzkryIWj3GAHG1XN2s7+YnWoH\n",
      "http://cctvsec.ktict.co.kr/2570/gyj1uxJyQ2fTQZjyy+6Bmrmkl+9QV5nDERypiRCpswWhD8ArdZqgQhtSAFqe/KvE\n",
      "http://cctvsec.ktict.co.kr/3178/DQsp+c340Kwtps+31qZfZlXwqcqskuJVkZDHxUUeDmI+ZycVnHBUSYrGpvxvxnaZ\n",
      "http://cctvsec.ktict.co.kr/5001/18lOtTTe5p27bgBvCWbcX3qG7/kpxqdjq2zHbvCc17jsHKH0mWB8ydYM/agkLxLS\n",
      "http://cctvsec.ktict.co.kr/8558/nCO4VihRnU4mNAEQB134uI78kY3GNDCEHW1YNIibtEJtBDvU9aKhonqJcfQUZ4xo\n",
      "http://cctvsec.ktict.co.kr/8602/VBscMJAVMIDPL8ApcZcGhQWmdrBVa26X0q4DISlFag6Xt76tOstZMLVQQbyWjRK/\n"
     ]
    }
   ],
   "source": [
    "import requests\n",
    "import re\n",
    "url='http://openapi.its.go.kr/api/NCCTVInfo?key=1491105390363&ReqType=2&MinX=126.922789&MaxX=127.195557&MinY=37.517652 &MaxY=37.658246&type=ex'\n",
    "\n",
    "data=requests.get(url).text\n",
    "\n",
    "p=re.compile('<cctvurl>(.+?)</cctvurl>')\n",
    "res=p.findall(data)\n",
    "for item in res:\n",
    "    print item"
   ]
  }
 ],
 "metadata": {
  "kernelspec": {
   "display_name": "Python 2",
   "language": "python",
   "name": "python2"
  },
  "language_info": {
   "codemirror_mode": {
    "name": "ipython",
    "version": 2
   },
   "file_extension": ".py",
   "mimetype": "text/x-python",
   "name": "python",
   "nbconvert_exporter": "python",
   "pygments_lexer": "ipython2",
   "version": "2.7.13"
  }
 },
 "nbformat": 4,
 "nbformat_minor": 2
}
