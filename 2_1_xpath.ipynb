{
 "cells": [
  {
   "cell_type": "markdown",
   "metadata": {},
   "source": [
    "## 1.5.5 xpath\n",
    "\n",
    "* xpath의 장점은 page 간을 이동할 수 있다는 것이다. ('..': 앞 페이지로 이동, '.' : 현재 페이지를 나타낸다.)"
   ]
  },
  {
   "cell_type": "markdown",
   "metadata": {},
   "source": [
    "join 을 쓰면 운영체제에 맞게 디렉토리 구분자가 생성된다. (' / '인지 ' \\ '인지를 알아서 선택해줌)"
   ]
  },
  {
   "cell_type": "code",
   "execution_count": 32,
   "metadata": {
    "collapsed": false
   },
   "outputs": [
    {
     "data": {
      "text/plain": [
       "'src\\\\mypage1.html'"
      ]
     },
     "execution_count": 32,
     "metadata": {},
     "output_type": "execute_result"
    }
   ],
   "source": [
    "import os\n",
    "os.path.join('src','mypage1.html')"
   ]
  },
  {
   "cell_type": "code",
   "execution_count": 33,
   "metadata": {
    "collapsed": false
   },
   "outputs": [],
   "source": [
    "import xml.etree.ElementTree as ET\n",
    "import os\n",
    "tree=ET.parse(os.path.join('src','mypage1.html'))"
   ]
  },
  {
   "cell_type": "code",
   "execution_count": 34,
   "metadata": {
    "collapsed": false
   },
   "outputs": [
    {
     "name": "stdout",
     "output_type": "stream",
     "text": [
      "- 태그: html -> \n",
      "\n",
      "- 태그: head -> \n",
      "\n",
      "- 태그: title -> My Home Page\n",
      "- 태그: body -> \n",
      "\n",
      "- 태그: h1 -> 안녕하십니까\n",
      "- 태그: p -> 오늘은 프로그래밍 하는 날...\n",
      "- 태그: p -> Today we do programming...\n"
     ]
    }
   ],
   "source": [
    "for node in tree.getiterator():\n",
    "    print \"- 태그:\", node.tag, \"->\", node.text"
   ]
  },
  {
   "cell_type": "code",
   "execution_count": 35,
   "metadata": {
    "collapsed": true
   },
   "outputs": [],
   "source": [
    "f=open(os.path.join('src','mypage1.html'))\n",
    "htmlstr=f.read()\n",
    "f.close()"
   ]
  },
  {
   "cell_type": "code",
   "execution_count": 36,
   "metadata": {
    "collapsed": false
   },
   "outputs": [
    {
     "name": "stdout",
     "output_type": "stream",
     "text": [
      "- 태그: html {}\n",
      "- 태그: head {}\n",
      "- 태그: title {}\n",
      "- 태그: body {}\n",
      "- 태그: h1 {}\n",
      "- 태그: p {}\n",
      "- 태그: p {}\n"
     ]
    }
   ],
   "source": [
    "tree=ET.fromstring(htmlstr)\n",
    "for node in tree.getiterator():\n",
    "    print \"- 태그:\", node.tag, node.attrib"
   ]
  },
  {
   "cell_type": "markdown",
   "metadata": {},
   "source": [
    "## 1.5.5.2 xml 파싱\n",
    "* 파일 확장자 .xml를 가진다.\n",
    "* 시작 태그, 끝 태그는 낭비되는 태그이다. 그래서 xml은 배열에 시작태그, 끝태그를 넣어서 내용을 구분한다. 이 방식이 사람들 눈에 읽기가 더 쉽다"
   ]
  },
  {
   "cell_type": "code",
   "execution_count": 37,
   "metadata": {
    "collapsed": false
   },
   "outputs": [
    {
     "name": "stdout",
     "output_type": "stream",
     "text": [
      "Writing src/my.xml\n"
     ]
    }
   ],
   "source": [
    "%%writefile src/my.xml\n",
    "<?xml version=\"1.0\" encoding=\"utf-8\"?>\n",
    "<wikimedia>\n",
    "  <projects>\n",
    "    <project name=\"Wikipedia\" launch=\"2001-01-05\">\n",
    "      <editions>\n",
    "        <edition language=\"English\">en.wikipedia.org</edition>\n",
    "        <edition language=\"German\">de.wikipedia.org</edition>\n",
    "        <edition language=\"French\">fr.wikipedia.org</edition>\n",
    "        <edition language=\"Polish\">pl.wikipedia.org</edition>\n",
    "        <edition language=\"Spanish\">es.wikipedia.org</edition>\n",
    "      </editions>\n",
    "    </project>\n",
    "    <project name=\"Wiktionary\" launch=\"2002-12-12\">\n",
    "      <editions>\n",
    "        <edition language=\"English\">en.wiktionary.org</edition>\n",
    "        <edition language=\"French\">fr.wiktionary.org</edition>\n",
    "        <edition language=\"Vietnamese\">vi.wiktionary.org</edition>\n",
    "        <edition language=\"Turkish\">tr.wiktionary.org</edition>\n",
    "        <edition language=\"Spanish\">es.wiktionary.org</edition>\n",
    "      </editions>\n",
    "    </project>\n",
    "  </projects>\n",
    "</wikimedia>"
   ]
  },
  {
   "cell_type": "markdown",
   "metadata": {},
   "source": [
    "* 파일에서 직접 파싱"
   ]
  },
  {
   "cell_type": "code",
   "execution_count": 40,
   "metadata": {
    "collapsed": false
   },
   "outputs": [
    {
     "name": "stdout",
     "output_type": "stream",
     "text": [
      "<Element 'wikimedia' at 0x5aae780>\n"
     ]
    }
   ],
   "source": [
    "import xml.etree.ElementTree as ET\n",
    "tree=ET.parse(os.path.join('src','my.xml'))\n",
    "root=tree.getroot()\n",
    "print root #root 는 트리이다."
   ]
  },
  {
   "cell_type": "markdown",
   "metadata": {},
   "source": [
    "태그가 태그의 의미를 가지려면 파싱을 해줘야 태그가 태그의 의미를 가진다. ET.parse를 해줘야함."
   ]
  },
  {
   "cell_type": "code",
   "execution_count": 39,
   "metadata": {
    "collapsed": false
   },
   "outputs": [
    {
     "name": "stdout",
     "output_type": "stream",
     "text": [
      "- 태그: wikimedia {}\n",
      "- 태그: projects {}\n",
      "- 태그: project {'name': 'Wikipedia', 'launch': '2001-01-05'}\n",
      "- 태그: editions {}\n",
      "- 태그: edition {'language': 'English'}\n",
      "- 태그: edition {'language': 'German'}\n",
      "- 태그: edition {'language': 'French'}\n",
      "- 태그: edition {'language': 'Polish'}\n",
      "- 태그: edition {'language': 'Spanish'}\n",
      "- 태그: project {'name': 'Wiktionary', 'launch': '2002-12-12'}\n",
      "- 태그: editions {}\n",
      "- 태그: edition {'language': 'English'}\n",
      "- 태그: edition {'language': 'French'}\n",
      "- 태그: edition {'language': 'Vietnamese'}\n",
      "- 태그: edition {'language': 'Turkish'}\n",
      "- 태그: edition {'language': 'Spanish'}\n"
     ]
    }
   ],
   "source": [
    "#attribute 출력. (태그의 속성-속성값 배열 출력 name, launch 같은것들)\n",
    "for node in tree.getiterator():\n",
    "    print \"- 태그:\", node.tag, node.attrib"
   ]
  },
  {
   "cell_type": "markdown",
   "metadata": {},
   "source": [
    "* 문자열에서 파싱(파일에서 읽어온 내용을 문자열로 저장한 후)\n",
    "    * 파일에서 읽어온 것은 '태그' 가 아니라 '문자열'\n",
    "    * 다시 말하면, 파싱이 완료된 '태그'가 아니라, 파싱을 해야 하는 '문자열'"
   ]
  },
  {
   "cell_type": "code",
   "execution_count": 41,
   "metadata": {
    "collapsed": true
   },
   "outputs": [],
   "source": [
    "f=open(os.path.join('src','my.xml'))\n",
    "xmlstr=f.read()\n",
    "f.close()"
   ]
  },
  {
   "cell_type": "code",
   "execution_count": 44,
   "metadata": {
    "collapsed": false
   },
   "outputs": [
    {
     "name": "stdout",
     "output_type": "stream",
     "text": [
      "<type 'str'>\n"
     ]
    }
   ],
   "source": [
    "print type(xmlstr) #태그로 바꿔줘야 한다."
   ]
  },
  {
   "cell_type": "code",
   "execution_count": 43,
   "metadata": {
    "collapsed": false
   },
   "outputs": [
    {
     "name": "stdout",
     "output_type": "stream",
     "text": [
      "<?xml version=\"1.0\" encoding=\"utf-8\"?>\n",
      "<wikimedia>\n",
      "  <projects>\n",
      "    <project name=\"Wikipedia\" launch=\"2001-01-05\">\n",
      "      <editions>\n",
      "        <edition language=\"English\">en.wikipedia.org</edition>\n",
      "        <edition language=\"German\">de.wikipedia.org</edition>\n",
      "        <edition language=\"French\">fr.wikipedia.org</edition>\n",
      "        <edition language=\"Polish\">pl.wikipedia.org</edition>\n",
      "        <edition language=\"Spanish\">es.wikipedia.org</edition>\n",
      "      </editions>\n",
      "    </project>\n",
      "    <project name=\"Wiktionary\" launch=\"2002-12-12\">\n",
      "      <editions>\n",
      "        <edition language=\"English\">en.wiktionary.org</edition>\n",
      "        <edition language=\"French\">fr.wiktionary.org</edition>\n",
      "        <edition language=\"Vietnamese\">vi.wiktionary.org</edition>\n",
      "        <edition language=\"Turkish\">tr.wiktionary.org</edition>\n",
      "        <edition language=\"Spanish\">es.wiktionary.org</edition>\n",
      "      </editions>\n",
      "    </project>\n",
      "  </projects>\n",
      "</wikimedia>\n"
     ]
    }
   ],
   "source": [
    "print xmlstr"
   ]
  },
  {
   "cell_type": "code",
   "execution_count": 45,
   "metadata": {
    "collapsed": false
   },
   "outputs": [
    {
     "name": "stdout",
     "output_type": "stream",
     "text": [
      "- 태그: wikimedia {}\n",
      "- 태그: projects {}\n",
      "- 태그: project {'name': 'Wikipedia', 'launch': '2001-01-05'}\n",
      "- 태그: editions {}\n",
      "- 태그: edition {'language': 'English'}\n",
      "- 태그: edition {'language': 'German'}\n",
      "- 태그: edition {'language': 'French'}\n",
      "- 태그: edition {'language': 'Polish'}\n",
      "- 태그: edition {'language': 'Spanish'}\n",
      "- 태그: project {'name': 'Wiktionary', 'launch': '2002-12-12'}\n",
      "- 태그: editions {}\n",
      "- 태그: edition {'language': 'English'}\n",
      "- 태그: edition {'language': 'French'}\n",
      "- 태그: edition {'language': 'Vietnamese'}\n",
      "- 태그: edition {'language': 'Turkish'}\n",
      "- 태그: edition {'language': 'Spanish'}\n"
     ]
    }
   ],
   "source": [
    "import xml.etree.ElementTree as ET\n",
    "tree=ET.fromstring(xmlstr)\n",
    "for node in tree.getiterator():\n",
    "    print \"- 태그:\", node.tag, node.attrib"
   ]
  },
  {
   "cell_type": "markdown",
   "metadata": {},
   "source": [
    "* lxml을 사용해서 파싱하는 방법\n",
    "    * lxml 에서 parse는 파일, from string은 string이 와야한다.\n",
    "    * String IO를 이용해서 문자열을 파일처럼 만들어준다."
   ]
  },
  {
   "cell_type": "code",
   "execution_count": 46,
   "metadata": {
    "collapsed": true
   },
   "outputs": [],
   "source": [
    "import lxml\n",
    "import lxml.etree\n",
    "\n",
    "tree=lxml.etree.parse(os.path.join('src','my.xml'))\n",
    "root=tree.getroot()"
   ]
  },
  {
   "cell_type": "code",
   "execution_count": 47,
   "metadata": {
    "collapsed": true
   },
   "outputs": [],
   "source": [
    "import StringIO\n",
    "tree=lxml.etree.parse(StringIO.StringIO(xmlstr))"
   ]
  },
  {
   "cell_type": "code",
   "execution_count": 48,
   "metadata": {
    "collapsed": false
   },
   "outputs": [
    {
     "name": "stdout",
     "output_type": "stream",
     "text": [
      "- 태그: wikimedia {}\n",
      "- 태그: projects {}\n",
      "- 태그: project {'name': 'Wikipedia', 'launch': '2001-01-05'}\n",
      "- 태그: editions {}\n",
      "- 태그: edition {'language': 'English'}\n",
      "- 태그: edition {'language': 'German'}\n",
      "- 태그: edition {'language': 'French'}\n",
      "- 태그: edition {'language': 'Polish'}\n",
      "- 태그: edition {'language': 'Spanish'}\n",
      "- 태그: project {'name': 'Wiktionary', 'launch': '2002-12-12'}\n",
      "- 태그: editions {}\n",
      "- 태그: edition {'language': 'English'}\n",
      "- 태그: edition {'language': 'French'}\n",
      "- 태그: edition {'language': 'Vietnamese'}\n",
      "- 태그: edition {'language': 'Turkish'}\n",
      "- 태그: edition {'language': 'Spanish'}\n"
     ]
    }
   ],
   "source": [
    "for node in tree.getiterator():\n",
    "    print \"- 태그:\",node.tag, node.attrib"
   ]
  },
  {
   "cell_type": "markdown",
   "metadata": {},
   "source": [
    "* iterator를 사용한 파싱방법 (genrator도 사용가능 iterator보다 코드가 가볍다. 단, 재사용 불가능. 한번쓰면 버려진다)"
   ]
  },
  {
   "cell_type": "code",
   "execution_count": 49,
   "metadata": {
    "collapsed": false
   },
   "outputs": [
    {
     "data": {
      "text/plain": [
       "lxml.etree.iterparse"
      ]
     },
     "execution_count": 49,
     "metadata": {},
     "output_type": "execute_result"
    }
   ],
   "source": [
    "treeiter=lxml.etree.iterparse(StringIO.StringIO(xmlstr))\n",
    "type(treeiter)"
   ]
  },
  {
   "cell_type": "code",
   "execution_count": 50,
   "metadata": {
    "collapsed": false
   },
   "outputs": [
    {
     "name": "stdout",
     "output_type": "stream",
     "text": [
      "edition=>en.wikipedia.org\n",
      "edition=>de.wikipedia.org\n",
      "edition=>fr.wikipedia.org\n",
      "edition=>pl.wikipedia.org\n",
      "edition=>es.wikipedia.org\n",
      "editions=>\n",
      "        \n",
      "project=>\n",
      "      \n",
      "edition=>en.wiktionary.org\n",
      "edition=>fr.wiktionary.org\n",
      "edition=>vi.wiktionary.org\n",
      "edition=>tr.wiktionary.org\n",
      "edition=>es.wiktionary.org\n",
      "editions=>\n",
      "        \n",
      "project=>\n",
      "      \n",
      "projects=>\n",
      "    \n",
      "wikimedia=>\n",
      "  \n"
     ]
    }
   ],
   "source": [
    "for action, elem in treeiter: #다른 언어에서는 인자 두개를 한꺼번에 꺼내는거 안된다. python에서만 가능 \n",
    "    if not elem.text:\n",
    "        text=\"None\"\n",
    "    else:\n",
    "        text=elem.text\n",
    "    print elem.tag+\"=>\"+text"
   ]
  },
  {
   "cell_type": "markdown",
   "metadata": {},
   "source": [
    "* //editions : edition은 중간에 있으니까 슬래시 2개\n",
    "* /wikimedia/projects/project[@name='Wikipedia']/editions/edition/text() : name속성이 Wikipedia인 경우에 text()를 이용해 text를 불러온다."
   ]
  },
  {
   "cell_type": "code",
   "execution_count": 51,
   "metadata": {
    "collapsed": false
   },
   "outputs": [
    {
     "name": "stdout",
     "output_type": "stream",
     "text": [
      "2\n",
      "Wikipedia\n",
      "Wiktionary\n"
     ]
    }
   ],
   "source": [
    "nodes = tree.xpath(\"/wikimedia/projects/project/@name\")\n",
    "print len(nodes)\n",
    "for node in nodes:\n",
    "    print node"
   ]
  },
  {
   "cell_type": "code",
   "execution_count": 53,
   "metadata": {
    "collapsed": false
   },
   "outputs": [
    {
     "name": "stdout",
     "output_type": "stream",
     "text": [
      "10\n",
      "en.wikipedia.org\n",
      "de.wikipedia.org\n",
      "fr.wikipedia.org\n",
      "pl.wikipedia.org\n",
      "es.wikipedia.org\n",
      "en.wiktionary.org\n",
      "fr.wiktionary.org\n",
      "vi.wiktionary.org\n",
      "tr.wiktionary.org\n",
      "es.wiktionary.org\n"
     ]
    }
   ],
   "source": [
    "nodes = tree.xpath(\"//editions/edition/text()\") #중간부터 출력\n",
    "print len(nodes) \n",
    "for node in nodes:\n",
    "    print node"
   ]
  },
  {
   "cell_type": "markdown",
   "metadata": {},
   "source": [
    "lxml이 안되는경우, 라이브러리를 설치 해야한다.  (이거 안된다고 하는사람 노트북 쓰고 있었음)\n",
    "\n",
    "anaconda prompt에서 라이브러리를 설치해준다. \n",
    "\n",
    "1. pip 입력\n",
    "2. pip install lxml 입력"
   ]
  }
 ],
 "metadata": {
  "kernelspec": {
   "display_name": "Python 2",
   "language": "python",
   "name": "python2"
  },
  "language_info": {
   "codemirror_mode": {
    "name": "ipython",
    "version": 2
   },
   "file_extension": ".py",
   "mimetype": "text/x-python",
   "name": "python",
   "nbconvert_exporter": "python",
   "pygments_lexer": "ipython2",
   "version": "2.7.13"
  }
 },
 "nbformat": 4,
 "nbformat_minor": 2
}
