{
 "cells": [
  {
   "cell_type": "markdown",
   "metadata": {
    "slideshow": {
     "slide_type": "slide"
    }
   },
   "source": [
    "# 웹 데이터 수집\n",
    "\n",
    "* Last updated: 20170401 20161004\n",
    "\n",
    "## 1.1 학습내용\n",
    "\n",
    "### 1.1.1 목표\n",
    "\n",
    "* 웹에서 가져온 페이지를 파싱할 수 있다.\n",
    "* 웹페이지에서 xpath, css selector를 사용하여 데이터를 추출할 수 있다."
   ]
  },
  {
   "cell_type": "markdown",
   "metadata": {
    "slideshow": {
     "slide_type": "subslide"
    }
   },
   "source": [
    "### 1.1.2 목차\n",
    "\n",
    "* 1.2 Parsing\n",
    "* 1.3 javascript console\n",
    "* 1.4 dom \n",
    "* 1.5 regex\n",
    "* 1.6 xpath\n",
    "* 1.7 css selectors\n",
    "* 1.8 headers\n",
    "* 1.8.1 HTTP Request(s)\n",
    "* 1.8.2 HTTP Response(s)\n",
    "* 1.8.3 user agent\n",
    "* 1.8.4 methods"
   ]
  },
  {
   "cell_type": "markdown",
   "metadata": {
    "slideshow": {
     "slide_type": "subslide"
    }
   },
   "source": [
    "### 1.1.3 문제\n",
    "\n",
    "* 웹데이터-1: python.org 페이지를 크롤링해서 http url를 출력하기\n",
    "    * regex\n",
    "    * xpath\n",
    "    * css selector\n",
    "* 웹데이터-3: wiki에서 'python'으로 검색해서 http url을 출력하기\n",
    "    * REST GET 사용하기\n",
    "    * 구글에서 검색하기\n",
    "    * 위키에서 검색하기\n",
    "    * 위키에서 css selector\n",
    "* 웹데이터-4: 한국 포털사이트에서 노래 제목을 검색해서 가져오기\n",
    "    * regex\n",
    "    * lxml css selector - 노래제목, 아티스트, 앨범 출력\n",
    "* 웹데이터-5: 국제학회 목록을 크롤링하기\n",
    "    * lxml css.selector\n",
    "    * Scrapy에서 연속 추출\n",
    "* 웹데이터-6: 한국 프로야구 기록을 크롤링하기\n",
    "    * kbreport.com\n",
    "    * regex 단순 문자열 검색\n",
    "    * xpath\n",
    "* 웹데이터-7: 프리미어리그 경기결과를 크롤링하기\n",
    "    * css\n"
   ]
  },
  {
   "cell_type": "markdown",
   "metadata": {
    "slideshow": {
     "slide_type": "subslide"
    }
   },
   "source": [
    "### 1.1.4 연습\n",
    "\n",
    "* 연습 웹데이터-1: UC Irvine 기계학습 데이터\n",
    "* 연습 웹데이터-2: 기상청 도별 날씨 가져오기기\n",
    "* 연습 웹데이터-3: 신문 크롤링 해보기\n",
    "* 연습 웹데이터-4: 영화 리뷰의 분석\n",
    "* 한글 https://wiki.python.org/moin/PrintFails"
   ]
  },
  {
   "cell_type": "markdown",
   "metadata": {
    "slideshow": {
     "slide_type": "slide"
    }
   },
   "source": [
    "## 1.2 Parsing\n",
    "\n",
    "* 웹데이터는 '문자열'이다. 특정 tag를 추출하는 것이 매우 불편한다.\n",
    "* ```<h1>...</h1>```은 부등호문자,h,1으로 구성된 시작-끝 tag를 찾아야 한다.\n",
    "* 문자열은 tag구조를 가지고 있지만, tag가 아니라 '문자열'이라서 tree구조를 만들어야 한다는 점에 유의한다.\n",
    "* parsing을 하면, 이런 tag 요소를 분리하고, tree구조로 만들어 분석을 용이하게 할 수 있다.\n",
    "* HTML DOM, XML, json은 tree 구조를 가지고, 특정 요소를 선택할 수 있다."
   ]
  },
  {
   "cell_type": "markdown",
   "metadata": {
    "slideshow": {
     "slide_type": "subslide"
    }
   },
   "source": [
    "* 파싱하는 단계는 다음과 같다.\n",
    "    * 단계 1: 사용할 라이브러리를 준비한다.\n",
    "```\n",
    "import lxml.etree\n",
    "```\n",
    "\n",
    "    * 단계 2: html 페이지를 가져온다 (메모리 또는 파일로 저장)\n",
    "    * 단계 3: 가져온 페이지를 파싱하고, 트리를 생성한다 (태그로 변환).\n",
    "```\n",
    "tree=lxml.etree.parse('my.html')\n",
    "root=tree.getroot()\n",
    "```\n",
    "\n",
    "    * 단계 4: 트리에서 필요한 요소 selector를 정한다.\n",
    "    * 단계 5: 필요한 요소를 가져온다.\n",
    "```\n",
    "root.getiterator():\n",
    "또는\n",
    "tree.xpath() 또는 tree.css()\n",
    "```"
   ]
  },
  {
   "cell_type": "code",
   "execution_count": 2,
   "metadata": {
    "collapsed": false,
    "slideshow": {
     "slide_type": "subslide"
    }
   },
   "outputs": [
    {
     "data": {
      "image/svg+xml": [
       "<svg height=\"465px\" style=\"width:303px;height:465px;\" version=\"1.1\" viewBox=\"0 0 303 465\" width=\"303px\" xmlns=\"http://www.w3.org/2000/svg\" xmlns:xlink=\"http://www.w3.org/1999/xlink\"><defs><filter height=\"300%\" id=\"f1\" width=\"300%\" x=\"-1\" y=\"-1\"><feGaussianBlur result=\"blurOut\" stdDeviation=\"2.0\"/><feColorMatrix in=\"blurOut\" result=\"blurOut2\" type=\"matrix\" values=\"0 0 0 0 0 0 0 0 0 0 0 0 0 0 0 0 0 0 .4 0\"/><feOffset dx=\"4.0\" dy=\"4.0\" in=\"blurOut2\" result=\"blurOut3\"/><feBlend in=\"SourceGraphic\" in2=\"blurOut3\" mode=\"normal\"/></filter></defs><g><ellipse cx=\"150\" cy=\"18\" fill=\"#000000\" filter=\"url(#f1)\" rx=\"10\" ry=\"10\" style=\"stroke: none; stroke-width: 1.0;\"/><rect fill=\"#FEFECE\" filter=\"url(#f1)\" height=\"33.9688\" rx=\"12.5\" ry=\"12.5\" style=\"stroke: #A80036; stroke-width: 1.5;\" width=\"158\" x=\"71\" y=\"68\"/><text fill=\"#000000\" font-family=\"sans-serif\" font-size=\"12\" lengthAdjust=\"spacingAndGlyphs\" textLength=\"138\" x=\"81\" y=\"89.1387\">stage 1: import library</text><rect fill=\"#FEFECE\" filter=\"url(#f1)\" height=\"33.9688\" rx=\"12.5\" ry=\"12.5\" style=\"stroke: #A80036; stroke-width: 1.5;\" width=\"175\" x=\"62.5\" y=\"142\"/><text fill=\"#000000\" font-family=\"sans-serif\" font-size=\"12\" lengthAdjust=\"spacingAndGlyphs\" textLength=\"155\" x=\"72.5\" y=\"163.1387\">stage 2: get html strings</text><rect fill=\"#FEFECE\" filter=\"url(#f1)\" height=\"33.9688\" rx=\"12.5\" ry=\"12.5\" style=\"stroke: #A80036; stroke-width: 1.5;\" width=\"243\" x=\"28.5\" y=\"216\"/><text fill=\"#000000\" font-family=\"sans-serif\" font-size=\"12\" lengthAdjust=\"spacingAndGlyphs\" textLength=\"223\" x=\"38.5\" y=\"237.1387\">stage 3: transform strings to a tree</text><rect fill=\"#FEFECE\" filter=\"url(#f1)\" height=\"33.9688\" rx=\"12.5\" ry=\"12.5\" style=\"stroke: #A80036; stroke-width: 1.5;\" width=\"182\" x=\"59\" y=\"290\"/><text fill=\"#000000\" font-family=\"sans-serif\" font-size=\"12\" lengthAdjust=\"spacingAndGlyphs\" textLength=\"162\" x=\"69\" y=\"311.1387\">stage 4: define a selector</text><rect fill=\"#FEFECE\" filter=\"url(#f1)\" height=\"33.9688\" rx=\"12.5\" ry=\"12.5\" style=\"stroke: #A80036; stroke-width: 1.5;\" width=\"288\" x=\"6\" y=\"364\"/><text fill=\"#000000\" font-family=\"sans-serif\" font-size=\"12\" lengthAdjust=\"spacingAndGlyphs\" textLength=\"268\" x=\"16\" y=\"385.1387\">stage 5: get selected elements of the tree</text><ellipse cx=\"150\" cy=\"448\" fill=\"none\" filter=\"url(#f1)\" rx=\"10\" ry=\"10\" style=\"stroke: #000000; stroke-width: 1.0;\"/><ellipse cx=\"150.5\" cy=\"448.5\" fill=\"#000000\" rx=\"6\" ry=\"6\" style=\"stroke: none; stroke-width: 1.0;\"/><path d=\"M150,28.038 C150,36.932 150,50.844 150,62.572 \" fill=\"none\" style=\"stroke: #A80036; stroke-width: 1.0;\"/><polygon fill=\"#A80036\" points=\"150,67.781,154,58.781,150,62.781,146,58.781,150,67.781\" style=\"stroke: #A80036; stroke-width: 1.0;\"/><path d=\"M150,102.338 C150,112.464 150,125.584 150,136.543 \" fill=\"none\" style=\"stroke: #A80036; stroke-width: 1.0;\"/><polygon fill=\"#A80036\" points=\"150,141.727,154,132.727,150,136.727,146,132.727,150,141.727\" style=\"stroke: #A80036; stroke-width: 1.0;\"/><path d=\"M150,176.338 C150,186.464 150,199.584 150,210.543 \" fill=\"none\" style=\"stroke: #A80036; stroke-width: 1.0;\"/><polygon fill=\"#A80036\" points=\"150,215.727,154,206.727,150,210.727,146,206.727,150,215.727\" style=\"stroke: #A80036; stroke-width: 1.0;\"/><path d=\"M150,250.338 C150,260.464 150,273.584 150,284.543 \" fill=\"none\" style=\"stroke: #A80036; stroke-width: 1.0;\"/><polygon fill=\"#A80036\" points=\"150,289.727,154,280.727,150,284.727,146,280.727,150,289.727\" style=\"stroke: #A80036; stroke-width: 1.0;\"/><path d=\"M150,324.338 C150,334.464 150,347.584 150,358.5432 \" fill=\"none\" style=\"stroke: #A80036; stroke-width: 1.0;\"/><polygon fill=\"#A80036\" points=\"150,363.7267,154,354.7267,150,358.7267,146,354.7267,150,363.7267\" style=\"stroke: #A80036; stroke-width: 1.0;\"/><path d=\"M150,398.0674 C150,408.5986 150,422.2536 150,432.4618 \" fill=\"none\" style=\"stroke: #A80036; stroke-width: 1.0;\"/><polygon fill=\"#A80036\" points=\"150,437.7367,154,428.7367,150,432.7367,146,428.7367,150,437.7367\" style=\"stroke: #A80036; stroke-width: 1.0;\"/></g></svg>"
      ],
      "text/plain": [
       "<IPython.core.display.SVG object>"
      ]
     },
     "execution_count": 2,
     "metadata": {},
     "output_type": "execute_result"
    }
   ],
   "source": [
    "%%plantuml\n",
    "@startuml\n",
    "(*)--> \"stage 1: import library\"\n",
    "--> \"stage 2: get html strings\"\n",
    "--> \"stage 3: transform strings to a tree\"\n",
    "--> \"stage 4: define a selector\"\n",
    "--> \"stage 5: get selected elements of the tree\"\n",
    "-->(*)\n",
    "@enduml"
   ]
  },
  {
   "cell_type": "markdown",
   "metadata": {
    "slideshow": {
     "slide_type": "subslide"
    }
   },
   "source": [
    "* parsing 라이브러리\n",
    "    * HTMLParser - Python에서 기본으로 제공\n",
    "    * BeautifulSoup - lxml을 사용해서 구현된 parser (does not support XPath expressions.)\n",
    "    * pyquery - jquery와 같은 기능의 라이브러리\n",
    "    * curl - Terminal에서 사용하는 명령어\n",
    "    * lxml - is written in C and thus faster than bs. xml and html parser\n",
    "    * regex - tree를 만들지 않는다. 패턴으로 parsing.\n",
    "    * scrapy\n",
    "        * full framework\n",
    "        * use pipelines\n",
    "        * use for a big project. (for a small project, use requests,lxml or BeautifulSoup\n",
    "\n",
    "구분 | 라이브러리 | 설명\n",
    "-----|-----|-----\n",
    "웹데이터 가져오기 | urllib, requests, curl | 웹페이지 열고, http request(s), http response(s)\n",
    "웹데이터 파싱 | HTMLParser, BeautifulSoup, lxml, regex | 문자열 또는 xml, json을 파싱\n",
    "프레임워크 | scrapy (java nutch, crawler4j) | 큰 프로젝트에 사용\n"
   ]
  },
  {
   "cell_type": "markdown",
   "metadata": {
    "slideshow": {
     "slide_type": "subslide"
    }
   },
   "source": [
    "## 1.3 Javascript console\n",
    "\n",
    "* Chrome개발자 도구 사용하기 https://developers.google.com/web/tools/chrome-devtools/console/\n",
    "* 브라우저에서 Javascript concole 창 열기\n",
    "\n",
    "브라우저 | 콘솔창\n",
    "-----|-----\n",
    "Chrome | 브라우저 우측 상단 메뉴 > More tools > Developer Tools 또는 F12\n",
    "Internet Explorer | F12\n",
    "Firefox | Tools > Web Developer > Inspector\n",
    "Safari | advanced preferences > enable Develop menu"
   ]
  },
  {
   "cell_type": "markdown",
   "metadata": {},
   "source": [
    "* Javascript console 창에서 앞 mypage1.html 이용해서 연습\n",
    "\n",
    "단축키 | 설명\n",
    "-----|-----\n",
    "\\$x('xpath') | XPath와 일치하는 요소의 배열을 반환\n",
    "\\$('selector') | CSS 선택기와 일치하는 첫 번째 요소를 반환, document.querySelector()의 단축\n",
    "\\$$('selector all') | CSS 선택기와 일치하는 모든 요소의 배열을 반환, document.querySelectorAll()의 단축"
   ]
  },
  {
   "cell_type": "markdown",
   "metadata": {
    "slideshow": {
     "slide_type": "subslide"
    }
   },
   "source": [
    "\n",
    "\n",
    "선택 | xpath | css\n",
    "-----|-----|-----\n",
    "title태그 선택 | ```$x('//head/title') 또는 $x('//title')``` | ```$$('title')```\n",
    "선택의 결과가 복수인 경우, 배열이 반환 | ```$x('//head/title')[0]``` | ```$$('title')[0]```\n",
    "태그의 문자열을 추출 | ```$x('//head/title')[0].innerText``` | ```$$('title')[0].innerText```\n",
    "       \n"
   ]
  },
  {
   "cell_type": "markdown",
   "metadata": {
    "slideshow": {
     "slide_type": "subslide"
    }
   },
   "source": [
    "* 'Elements' 메뉴에서 xpath 또는 selector를 찾는 방법\n",
    "    * 콘솔창에서 -> element\n",
    "        * html tag를 누르면 맨 앞 '...'가 생김\n",
    "        * 이것을 누르면 팝업메뉴가 뜬다. 그리고 copy > xpath(또는 selector)를 선택하여 복사\n",
    "    * 또는 '검색'창을 열어서 찾고자 하는 문자열, xpath, selector를 입력한다.\n"
   ]
  },
  {
   "cell_type": "markdown",
   "metadata": {
    "slideshow": {
     "slide_type": "subslide"
    }
   },
   "source": [
    "## 1.4 dom\n",
    "\n",
    "* HTML은 브라우저에서 tree구조로 변환된다. 이를 DOM (Document Object Model)이라고 한다.\n",
    "* HTML, XHTML, XML 문서를 계층구조인 트리구조로 만들어, 각 노드를 오브젝트로 사용하는 API.\n",
    "* dom에서의 css selector 특정 요소 선택해 보기\n",
    "    * dom의 querySelector()를 사용한다.\n",
    "        * 아래 '.my'라는 클래스를 선택한다.\n",
    "    * dom의 getElementById()를 사용한다.\n",
    "        * 아래 '.p2'라는 클래스를 선택한다."
   ]
  },
  {
   "cell_type": "code",
   "execution_count": 7,
   "metadata": {
    "collapsed": false,
    "slideshow": {
     "slide_type": "subslide"
    }
   },
   "outputs": [
    {
     "data": {
      "text/html": [
       "<html>\n",
       "<body>\n",
       "<h2 class=\"my\">Turn this into blue</h2>\n",
       "<button onclick=\"myFunction()\">Click</button>\n",
       "<script>\n",
       "    function myFunction() {\n",
       "        document.querySelector(\".my\").style.backgroundColor = \"blue\";\n",
       "    }\n",
       "</script>\n",
       "</body>\n",
       "</html>"
      ],
      "text/plain": [
       "<IPython.core.display.HTML object>"
      ]
     },
     "metadata": {},
     "output_type": "display_data"
    }
   ],
   "source": [
    "%%HTML\n",
    "<html>\n",
    "<body>\n",
    "<h2 class=\"my\">Turn this into blue</h2>\n",
    "<button onclick=\"myFunction()\">Click</button>\n",
    "<script>\n",
    "    function myFunction() {\n",
    "        document.querySelector(\".my\").style.backgroundColor = \"blue\";\n",
    "    }\n",
    "</script>\n",
    "</body>\n",
    "</html>"
   ]
  },
  {
   "cell_type": "markdown",
   "metadata": {
    "slideshow": {
     "slide_type": "subslide"
    }
   },
   "source": [
    "* HTML javascript DOM\n",
    "    * style of a ```<p>``` element"
   ]
  },
  {
   "cell_type": "code",
   "execution_count": 6,
   "metadata": {
    "collapsed": false,
    "slideshow": {
     "slide_type": "-"
    }
   },
   "outputs": [
    {
     "data": {
      "text/html": [
       "<html>\n",
       "<body>\n",
       "    <p id=\"p2\">Hello World!</p>\n",
       "    <script>\n",
       "        document.getElementById(\"p2\").style.color = \"RED\";\n",
       "    </script>\n",
       "    <p>Hello World turned into RED!</p>\n",
       "</body>\n",
       "</html>"
      ],
      "text/plain": [
       "<IPython.core.display.HTML object>"
      ]
     },
     "metadata": {},
     "output_type": "display_data"
    }
   ],
   "source": [
    "%%HTML\n",
    "<html>\n",
    "<body>\n",
    "    <p id=\"p2\">Hello World!</p>\n",
    "    <script>\n",
    "        document.getElementById(\"p2\").style.color = \"RED\";\n",
    "    </script>\n",
    "    <p>Hello World turned into RED!</p>\n",
    "</body>\n",
    "</html>"
   ]
  },
  {
   "cell_type": "markdown",
   "metadata": {
    "slideshow": {
     "slide_type": "slide"
    }
   },
   "source": [
    "## 1.5 regex\n",
    "\n",
    "* 정규식 regular expression은 문자열로 표현한 정규표현으로, 패턴매칭에 사용한다.\n",
    "* 정규식을 사용하면 복잡한 패턴을 단순하게 처리\n",
    "\n",
    "\n",
    "정규식 | 설명 | 예\n",
    "-----|-----|-----\n",
    "() | grouping | (\\d{1,2})\n",
    "\\d | any character in the range 0-9 |\n",
    "\\s | any whitespace |\n",
    "\\w | any character in the range 0-9, A-Z, a-z |\n",
    "[] | a signle character | [a-cx-z] = \"a\", \"b\", \"c\", \"x\", \"y\", or \"z\"\n",
    "\\- | range separator | [0123456789] = [0-9]\n",
    "\\* | the preceding element zero or more times | ab*c = \"ac\", \"abc\", \"abbbc\"\n",
    "\\+ | the preceding element one or more times  | ba+ = \"ba\", \"baa\", \"baaa\", and so on\n"
   ]
  },
  {
   "cell_type": "code",
   "execution_count": 8,
   "metadata": {
    "collapsed": false,
    "slideshow": {
     "slide_type": "subslide"
    }
   },
   "outputs": [
    {
     "name": "stdout",
     "output_type": "stream",
     "text": [
      "숫자와 문자:  ['Here', 'goes', 'my', 'phone', 'number', '2287', '1111', 'Nice', 'to', 'meet', 'you', 'Merry', 'Christmas']\n",
      "숫자:  ['2287', '1111']\n",
      "대문자를 가진 단어:  ['Here', 'Nice', 'Merry', 'Christmas']\n"
     ]
    }
   ],
   "source": [
    "import re\n",
    "\n",
    "sentence=\"Here goes my phone number 2287-1111. Nice to meet you! Merry Christmas\"\n",
    "regex1='\\w+'\n",
    "print \"숫자와 문자: \",re.findall(regex1, sentence)\n",
    "regex2='\\d+'\n",
    "print \"숫자: \",re.findall(regex2, sentence)\n",
    "regex3 = '[A-Z]\\w+'\n",
    "print \"대문자를 가진 단어: \",re.findall(regex3, sentence)"
   ]
  },
  {
   "cell_type": "markdown",
   "metadata": {
    "slideshow": {
     "slide_type": "subslide"
    }
   },
   "source": [
    "* regex로 태그 찾기"
   ]
  },
  {
   "cell_type": "code",
   "execution_count": 8,
   "metadata": {
    "collapsed": false,
    "slideshow": {
     "slide_type": "-"
    }
   },
   "outputs": [
    {
     "name": "stdout",
     "output_type": "stream",
     "text": [
      "a tag:  ['foo']\n"
     ]
    }
   ],
   "source": [
    "import re\n",
    "\n",
    "tags='<html><body><div>asdfasdf</div><p><a>foo</a></p></body></html>'\n",
    "regex=\"<a>(.*)</a>\"\n",
    "print \"a tag: \",re.findall(regex, tags)"
   ]
  },
  {
   "cell_type": "markdown",
   "metadata": {
    "slideshow": {
     "slide_type": "slide"
    }
   },
   "source": [
    "* BeautifulSoup에서 regex"
   ]
  },
  {
   "cell_type": "code",
   "execution_count": 22,
   "metadata": {
    "collapsed": false,
    "slideshow": {
     "slide_type": "-"
    }
   },
   "outputs": [
    {
     "name": "stdout",
     "output_type": "stream",
     "text": [
      "tag:  <p>this is number 12345</p>\n",
      "text:  this is number 12345\n"
     ]
    }
   ],
   "source": [
    "from BeautifulSoup import BeautifulSoup\n",
    "import re\n",
    "\n",
    "htmlstr = \"\"\"\n",
    "<p>this is number 12345</p>\n",
    "<p>this is text</p2>\n",
    "\"\"\"\n",
    "\n",
    "soup = BeautifulSoup(htmlstr)\n",
    "for e in soup(text=re.compile(r'\\d+')):\n",
    "    print \"tag: \", e.parent\n",
    "    print \"text: \", e"
   ]
  },
  {
   "cell_type": "markdown",
   "metadata": {
    "slideshow": {
     "slide_type": "slide"
    }
   },
   "source": [
    "## 1.6 xpath\n",
    "\n",
    "* xml문서를 트리구조로 표현하고, 노드를 선택하기 위해 사용하는 조회언어 (XML Path Language)\n",
    "* xpath 표현\n",
    "\n",
    "Expression | 설명 | 예\n",
    "---------|----------|----------\n",
    "/ | root부터 선택 | /div 루트에 있는 div 선택\n",
    "// | 어디에 있는지 상관없이 선택 | //div 문서에 있는 div 선택\n",
    ". | Selects the current node | \n",
    ".. | Selects the parent of the current node | \n",
    "@ | Selects attributes | //@href 속성href를 가진 모든 노드\n",
    "\\* | all |\n",
    "@* | 속성 모두 | //div[@*] 속성을 가지고 있는 모든 div"
   ]
  },
  {
   "cell_type": "markdown",
   "metadata": {
    "slideshow": {
     "slide_type": "subslide"
    }
   },
   "source": [
    "* xpath 사용예\n",
    "\n",
    "xpath선택 | 결과\n",
    "----------|----------\n",
    "```$x('/html')``` | ```<html>...</html>```\n",
    "```$x('/html/body')``` | ```<body>...</body>```\n",
    "```$x('/html/body/div') 또는 $x('//div')``` | ```<div>...</div>```\n",
    "```$x('/html/body/div/h1') 또는 $x('//div/h1')``` | ```<h1>Example Domain</h1>```\n",
    "```$x('/html/body/div/p')``` | ```<p>...</p>, <p>...</p>```\n",
    "```$x('/html/body/div/p[1]')``` | ```<p>...</p>```\n",
    "```$x('/html/body/div/p[2]')``` | ```<p>...</p>```"
   ]
  },
  {
   "cell_type": "markdown",
   "metadata": {
    "slideshow": {
     "slide_type": "subslide"
    }
   },
   "source": [
    "* lxml을 사용한다.\n",
    "     * 실행하는 단계는 다른 라이브러리를 사용하는 단계와 다르지 않다.\n",
    "\n",
    "\n",
    "구분 | 함수\n",
    "-----|-----\n",
    "file에서 읽는 경우 | tree.parse()\n",
    "문자열에서 읽는 경우 | tree.fromstring()"
   ]
  },
  {
   "cell_type": "markdown",
   "metadata": {
    "slideshow": {
     "slide_type": "subslide"
    }
   },
   "source": [
    "* 주의: <meta> 태그는'시작'은 있고, '끝' 태그가 없어 오류가 발생하는 것으로 보인다.\n",
    "* 디렉토리에서 파일을 읽어오면 os.path.join()을 사용해 디렉토리 구분자로 인한 오류를 제거한다."
   ]
  },
  {
   "cell_type": "code",
   "execution_count": 4,
   "metadata": {
    "collapsed": false,
    "slideshow": {
     "slide_type": "-"
    }
   },
   "outputs": [
    {
     "data": {
      "text/plain": [
       "'src/mypage2.html'"
      ]
     },
     "execution_count": 4,
     "metadata": {},
     "output_type": "execute_result"
    }
   ],
   "source": [
    "import os\n",
    "os.path.join('src','mypage2.html')"
   ]
  },
  {
   "cell_type": "code",
   "execution_count": 5,
   "metadata": {
    "collapsed": false,
    "slideshow": {
     "slide_type": "subslide"
    }
   },
   "outputs": [],
   "source": [
    "import lxml.etree\n",
    "import StringIO\n",
    "\n",
    "parser=lxml.etree.HTMLParser()\n",
    "tree=lxml.etree.parse(os.path.join('src','mypage2.html'),parser)"
   ]
  },
  {
   "cell_type": "code",
   "execution_count": 6,
   "metadata": {
    "collapsed": false,
    "slideshow": {
     "slide_type": "-"
    }
   },
   "outputs": [
    {
     "name": "stdout",
     "output_type": "stream",
     "text": [
      "- 태그: html -> \n",
      "\n",
      "- 태그: head -> \n",
      "\n",
      "- 태그: meta -> None\n",
      "- 태그: title -> My Home Page\n",
      "- 태그: body -> \n",
      "\n",
      "- 태그: h1 -> 안녕하십니까\n",
      "- 태그: p -> 오늘은 프로그래밍 하는 날...\n",
      "- 태그: p -> Today we do programming...\n"
     ]
    }
   ],
   "source": [
    "for node in tree.getiterator():\n",
    "    print \"- 태그:\", node.tag, \"->\", node.text"
   ]
  },
  {
   "cell_type": "markdown",
   "metadata": {
    "slideshow": {
     "slide_type": "subslide"
    }
   },
   "source": [
    "* html 문자열을 파싱한다. 문자열은 파일에서 읽어서 만든다.\n",
    "* 'mypage2.html'은 meta 태그를 포함하고 있어, 오류가 발생한다는 점 주의한다."
   ]
  },
  {
   "cell_type": "code",
   "execution_count": 9,
   "metadata": {
    "collapsed": true,
    "slideshow": {
     "slide_type": "-"
    }
   },
   "outputs": [],
   "source": [
    "f=open(os.path.join('src','mypage1.html'))\n",
    "htmlstr=f.read()\n",
    "f.close()"
   ]
  },
  {
   "cell_type": "code",
   "execution_count": 10,
   "metadata": {
    "collapsed": false,
    "slideshow": {
     "slide_type": "-"
    }
   },
   "outputs": [
    {
     "name": "stdout",
     "output_type": "stream",
     "text": [
      "- 태그: html {}\n",
      "- 태그: head {}\n",
      "- 태그: title {}\n",
      "- 태그: body {}\n",
      "- 태그: h1 {}\n",
      "- 태그: p {}\n",
      "- 태그: p {}\n"
     ]
    }
   ],
   "source": [
    "tree=lxml.etree.fromstring(htmlstr)\n",
    "for node in tree.getiterator():\n",
    "    print \"- 태그:\", node.tag, node.attrib"
   ]
  },
  {
   "cell_type": "markdown",
   "metadata": {
    "slideshow": {
     "slide_type": "subslide"
    }
   },
   "source": [
    "* xpath를 사용하여 h1 태그의 문자열을 읽는다.\n",
    "* unicode값이 반환된다. 또한 배열로 만들어져 있다는 점에 주의한다."
   ]
  },
  {
   "cell_type": "code",
   "execution_count": 16,
   "metadata": {
    "collapsed": false,
    "slideshow": {
     "slide_type": "-"
    }
   },
   "outputs": [
    {
     "name": "stdout",
     "output_type": "stream",
     "text": [
      "[u'\\uc548\\ub155\\ud558\\uc2ed\\ub2c8\\uae4c']\n"
     ]
    }
   ],
   "source": [
    "tree=lxml.etree.fromstring(htmlstr)\n",
    "print tree.xpath('//h1/text()')"
   ]
  },
  {
   "cell_type": "code",
   "execution_count": null,
   "metadata": {
    "collapsed": true,
    "slideshow": {
     "slide_type": "-"
    }
   },
   "outputs": [],
   "source": [
    "print tree.xpath('//h1/text()')[0]"
   ]
  },
  {
   "cell_type": "markdown",
   "metadata": {
    "slideshow": {
     "slide_type": "subslide"
    }
   },
   "source": [
    "## 1.7 css selectors\n",
    "\n",
    "* CSS는 html의 스타일을 정하는 규칙을 가지고 있다.\n",
    "* 스타일 태그의 선택자 selector를 사용하여, 원하는 태그를 추출할 수 있다.\n",
    "\n",
    "* 라이브러리가 없는 경우 설치.\n",
    "    \n",
    "```\n",
    "pip install lxml cssselect\n",
    "```\n",
    "\n",
    "    * 리눅스에서는 xml라이브러리가 필요하다.\n",
    "```\n",
    "sudo apt-get install libxml2-dev libxslt1-dev\n",
    "pip install lxml cssselect\n",
    "```\n"
   ]
  },
  {
   "cell_type": "markdown",
   "metadata": {
    "slideshow": {
     "slide_type": "subslide"
    }
   },
   "source": [
    "* [css selectors](http://www.w3schools.com/cssref/css_selectors.asp)\n",
    "\n",
    "selector | css | 설명 | xpath\n",
    "------------|------------|------------|------------\n",
    "[attribute] | $$('input[type=\"email\"]') | input type을 선택 | $x('//input[@type=\"email\"]')\n",
    "type | 'div' 'a' | div 태그, a 태그 | '//div' '//a'\n",
    "class | '.foo' | class 속성이 foo를 선택 | '//*[@class=\"divclass\"]'\n",
    "id | '#divid' | id foo (1개만 선택. 클래스는 여러 개 선택) | '//*[@id=\"divid\"]'\n",
    "universal | '*' | all | '//*'\n",
    "descendents | 'div a' | all a's inside div (여러 세대 떨어져도 선택) | '//div//a' \n",
    "child | 'div > a' | a's only children to the div (1세대 다음) | '//div/a'\n",
    "parents | a ~ b | any parents of b (여러 세대 위) |\n",
    "grouped | 'h1, h2' | 'h1 h2' |\n",
    "text | 'a::text' | 선택한 노드, element의 text.<br>javascript console에서는 'innerText' | '//a/text()'"
   ]
  },
  {
   "cell_type": "markdown",
   "metadata": {
    "slideshow": {
     "slide_type": "subslide"
    }
   },
   "source": [
    "* html에서 css를 사용해 본다."
   ]
  },
  {
   "cell_type": "code",
   "execution_count": 15,
   "metadata": {
    "collapsed": false,
    "scrolled": false,
    "slideshow": {
     "slide_type": "subslide"
    }
   },
   "outputs": [
    {
     "name": "stdout",
     "output_type": "stream",
     "text": [
      "Writing src/mypage3.html\n"
     ]
    }
   ],
   "source": [
    "%%writefile src/mypage3.html\n",
    "<!DOCTYPE html>\n",
    "<html>\n",
    "<head>\n",
    "    <meta charset=\"UTF-8\">\n",
    "    <title>My Home Page</title>\n",
    "    <style>\n",
    "        h1 {\n",
    "            text-align: center;\n",
    "            color:red;\n",
    "            font-family: 'Droid Sans', sans-serif;\n",
    "        };  \n",
    "    </style>\n",
    "</head>\n",
    "<body>\n",
    "    <h1>안녕하십니까</h1>\n",
    "    <p>오늘은 프로그래밍 하는 날...</p>\n",
    "    <p>Today we do programming...</p>\n",
    "\n",
    "    <div id=\"divid\">\n",
    "        <h2>Hello h2</h2>\n",
    "        <p>Here we use div id.</p>\n",
    "        <a href=\"https://www.example.com\">Visit example.com</a>\n",
    "    </div>\n",
    "    <div class=\"divclass\">\n",
    "        <h2>Welcome</h2>\n",
    "        <p>Here we use div class.</p>\n",
    "        <ul>\n",
    "            <li>first</li>\n",
    "            <li>second</li>\n",
    "        </ul>\n",
    "    </div>\n",
    "\n",
    "    <form action=\"\">\n",
    "    Email <input type=\"email\" value=\"emailvalue\" name=\"emailname\" id=\"emailid\"\n",
    "        class=\"emailclass\" style=\"background-color: green;\"required>\n",
    "    Zip Code <input type=\"number\" name=\"zipname\" required>\n",
    "    <textarea rows=\"4\" columns=\"50\"></textarea>\n",
    "    <input type=\"submit\" value=\"Submit\">\n",
    "    </form>\n",
    "</body>\n",
    "</html>"
   ]
  },
  {
   "cell_type": "code",
   "execution_count": 10,
   "metadata": {
    "collapsed": true,
    "slideshow": {
     "slide_type": "subslide"
    }
   },
   "outputs": [],
   "source": [
    "htmlstr='''<form action=\"\">\n",
    "    Email <input type=\"email\" value=\"email\" name=\"email\" id=\"email\"\n",
    "        class=\"input_email\" style=\"background-color: green;\">\n",
    "    <textarea rows=\"4\" columns=\"50\"></textarea>\n",
    "</form>\n",
    "'''"
   ]
  },
  {
   "cell_type": "code",
   "execution_count": 12,
   "metadata": {
    "collapsed": false,
    "slideshow": {
     "slide_type": "slide"
    }
   },
   "outputs": [],
   "source": [
    "import lxml.etree\n",
    "import StringIO\n",
    "\n",
    "parser=lxml.etree.HTMLParser()\n",
    "tree=lxml.etree.parse(StringIO.StringIO(htmlstr),parser)"
   ]
  },
  {
   "cell_type": "code",
   "execution_count": 89,
   "metadata": {
    "collapsed": false,
    "slideshow": {
     "slide_type": "slide"
    }
   },
   "outputs": [
    {
     "name": "stdout",
     "output_type": "stream",
     "text": [
      "<type 'list'> 1\n",
      "None\n"
     ]
    }
   ],
   "source": [
    "from lxml.cssselect import CSSSelector\n",
    "sel = CSSSelector('#email')\n",
    "# Apply the selector to the DOM tree.\n",
    "nodes = sel(tree)\n",
    "print type(nodes),len(nodes)\n",
    "for e in nodes:\n",
    "    print e.text"
   ]
  },
  {
   "cell_type": "markdown",
   "metadata": {
    "slideshow": {
     "slide_type": "slide"
    }
   },
   "source": [
    "* lxml은 broken html을 처리할 수 있다. 시작-끝 태그로 구성되지 않은 meta 태그가 오류 없이 처리된다."
   ]
  },
  {
   "cell_type": "code",
   "execution_count": 24,
   "metadata": {
    "collapsed": true,
    "slideshow": {
     "slide_type": "-"
    }
   },
   "outputs": [],
   "source": [
    "htmlstr=\"\"\"<!DOCTYPE html>\n",
    "<html>\n",
    "<head>\n",
    "<meta charset=\"UTF-8\">\n",
    "<title>My Home Page</title>\n",
    "</head>\n",
    "<body>\n",
    "<h1>안녕하십니까</h1>\n",
    "<p>오늘은 프로그래밍 하는 날...</p>\n",
    "<p>Today we do programming...</p>\n",
    "</body>\n",
    "</html>\"\"\""
   ]
  },
  {
   "cell_type": "code",
   "execution_count": 25,
   "metadata": {
    "collapsed": false,
    "slideshow": {
     "slide_type": "slide"
    }
   },
   "outputs": [],
   "source": [
    "import lxml.html\n",
    "from lxml.cssselect import CSSSelector\n",
    "\n",
    "_html = lxml.html.fromstring(htmlstr)"
   ]
  },
  {
   "cell_type": "code",
   "execution_count": 26,
   "metadata": {
    "collapsed": false,
    "scrolled": true,
    "slideshow": {
     "slide_type": "slide"
    }
   },
   "outputs": [
    {
     "name": "stdout",
     "output_type": "stream",
     "text": [
      "<html>\n",
      "<head>\n",
      "<meta charset=\"UTF-8\">\n",
      "<title>My Home Page</title>\n",
      "</head>\n",
      "<body>\n",
      "<h1>&#50504;&#45397;&#54616;&#49901;&#45768;&#44620;</h1>\n",
      "<p>&#50724;&#45720;&#51008; &#54532;&#47196;&#44536;&#47000;&#48141; &#54616;&#45716; &#45216;...</p>\n",
      "<p>Today we do programming...</p>\n",
      "</body>\n",
      "</html>\n"
     ]
    }
   ],
   "source": [
    "print lxml.html.tostring(_html)"
   ]
  },
  {
   "cell_type": "code",
   "execution_count": 27,
   "metadata": {
    "collapsed": false,
    "slideshow": {
     "slide_type": "slide"
    }
   },
   "outputs": [
    {
     "name": "stdout",
     "output_type": "stream",
     "text": [
      "[<Element p at 0x7fc9190a30a8>, <Element p at 0x7fc9190a3788>]\n"
     ]
    }
   ],
   "source": [
    "sel = CSSSelector('body p')\n",
    "nodes = sel(_html)\n",
    "print nodes"
   ]
  },
  {
   "cell_type": "code",
   "execution_count": 28,
   "metadata": {
    "collapsed": false,
    "slideshow": {
     "slide_type": "slide"
    }
   },
   "outputs": [
    {
     "name": "stdout",
     "output_type": "stream",
     "text": [
      "오늘은 프로그래밍 하는 날...\n",
      "Today we do programming...\n"
     ]
    }
   ],
   "source": [
    "for node in nodes:\n",
    "    print node.text"
   ]
  },
  {
   "cell_type": "markdown",
   "metadata": {
    "collapsed": true,
    "slideshow": {
     "slide_type": "slide"
    }
   },
   "source": [
    "* chrom javascript console에서 selector를 복사해서 사용한다.\n",
    "* nth-child(2)는 부모의 2번째 child를 선택한다. 부모 body의 2번째 p 태그이다."
   ]
  },
  {
   "cell_type": "code",
   "execution_count": 31,
   "metadata": {
    "collapsed": false,
    "slideshow": {
     "slide_type": "slide"
    }
   },
   "outputs": [
    {
     "name": "stdout",
     "output_type": "stream",
     "text": [
      "[<Element p at 0x7f5357ff1db8>]\n"
     ]
    }
   ],
   "source": [
    "_html = lxml.html.fromstring(htmlstr)\n",
    "sel = CSSSelector('body > p:nth-child(2)')\n",
    "nodes = sel(_html)\n",
    "print nodes"
   ]
  },
  {
   "cell_type": "code",
   "execution_count": 32,
   "metadata": {
    "collapsed": false,
    "slideshow": {
     "slide_type": "slide"
    }
   },
   "outputs": [
    {
     "name": "stdout",
     "output_type": "stream",
     "text": [
      "오늘은 프로그래밍 하는 날...\n"
     ]
    }
   ],
   "source": [
    "for node in nodes:\n",
    "    print node.text"
   ]
  },
  {
   "cell_type": "code",
   "execution_count": 34,
   "metadata": {
    "collapsed": false,
    "slideshow": {
     "slide_type": "slide"
    }
   },
   "outputs": [
    {
     "name": "stdout",
     "output_type": "stream",
     "text": [
      "[<Element h1 at 0x7f5357ff9730>]\n"
     ]
    }
   ],
   "source": [
    "_html = lxml.html.fromstring(htmlstr)\n",
    "sel = CSSSelector('body > h1')\n",
    "nodes = sel(_html)\n",
    "print nodes"
   ]
  },
  {
   "cell_type": "code",
   "execution_count": 35,
   "metadata": {
    "collapsed": false,
    "slideshow": {
     "slide_type": "slide"
    }
   },
   "outputs": [
    {
     "name": "stdout",
     "output_type": "stream",
     "text": [
      "안녕하십니까\n"
     ]
    }
   ],
   "source": [
    "for node in nodes:\n",
    "    print node.text"
   ]
  },
  {
   "cell_type": "markdown",
   "metadata": {
    "slideshow": {
     "slide_type": "slide"
    }
   },
   "source": [
    "## 웹데이터-1: python.org 페이지를 크롤링해서 http url 출력하기\n",
    "\n",
    "* 사용자가 웹브라우저 주소창에 url을 입력하고 웹페이지를 요청하는 것과 같이 Python.org페이지를 크롤링해 온다.\n",
    "* 다음 방식으로 해 본다.\n",
    "    * regex\n",
    "    * xpath\n",
    "    * css selector"
   ]
  },
  {
   "cell_type": "markdown",
   "metadata": {
    "slideshow": {
     "slide_type": "slide"
    }
   },
   "source": [
    "### html page 가져오기\n",
    "\n",
    "* request와 urllib을 사용해서 웹페이지 response를 받는다.\n",
    "* 웹페이지는 html 문자열, 즉 string, unicode이다.\n",
    "    * 문자열이므로, html태그 역시 parsing하기 전에는 문자일 뿐이다."
   ]
  },
  {
   "cell_type": "markdown",
   "metadata": {
    "slideshow": {
     "slide_type": "slide"
    }
   },
   "source": [
    "* 두 라이브러리가 읽어온 문자열 길이에는 다소간의 차이가 있을 수 있다.\n",
    "* 길이는 47k이다."
   ]
  },
  {
   "cell_type": "code",
   "execution_count": 8,
   "metadata": {
    "collapsed": false,
    "slideshow": {
     "slide_type": "-"
    }
   },
   "outputs": [
    {
     "name": "stdout",
     "output_type": "stream",
     "text": [
      "47426\n"
     ]
    }
   ],
   "source": [
    "import requests\n",
    "rResponse = requests.get('http://python.org/')\n",
    "_html = rResponse.text\n",
    "print len(_html)"
   ]
  },
  {
   "cell_type": "code",
   "execution_count": 9,
   "metadata": {
    "collapsed": false,
    "slideshow": {
     "slide_type": "-"
    }
   },
   "outputs": [
    {
     "name": "stdout",
     "output_type": "stream",
     "text": [
      "47426\n"
     ]
    }
   ],
   "source": [
    "import urllib\n",
    "uResponse = urllib.urlopen('http://python.org/')\n",
    "_html = uResponse.read()\n",
    "print len(_html)"
   ]
  },
  {
   "cell_type": "markdown",
   "metadata": {
    "slideshow": {
     "slide_type": "slide"
    }
   },
   "source": [
    "* 주의할 점은 읽어 온 'html'은 문자열이란 점이다. 즉, 태그를 솎아내야 한다는 것이다."
   ]
  },
  {
   "cell_type": "code",
   "execution_count": 10,
   "metadata": {
    "collapsed": false,
    "slideshow": {
     "slide_type": "-"
    }
   },
   "outputs": [
    {
     "name": "stdout",
     "output_type": "stream",
     "text": [
      "<type 'str'>\n"
     ]
    }
   ],
   "source": [
    "print type(_html)"
   ]
  },
  {
   "cell_type": "markdown",
   "metadata": {
    "slideshow": {
     "slide_type": "slide"
    }
   },
   "source": [
    "* response의 정보를 읽을 수 있다.\n",
    "    * 앞서 47,408 길이도 확인할 수 있다."
   ]
  },
  {
   "cell_type": "code",
   "execution_count": 11,
   "metadata": {
    "collapsed": false
   },
   "outputs": [
    {
     "name": "stdout",
     "output_type": "stream",
     "text": [
      "{'Content-Length': '47426', 'Via': '1.1 varnish', 'X-Cache': 'HIT', 'Accept-Ranges': 'bytes', 'X-Timer': 'S1490648950.430273,VS0,VE0', 'Vary': 'Cookie', 'X-Served-By': 'cache-nrt6125-NRT', 'Server': 'nginx', 'Connection': 'keep-alive', 'Age': '412', 'X-Cache-Hits': '2', 'Public-Key-Pins': 'max-age=600; includeSubDomains; pin-sha256=\"WoiWRyIOVNa9ihaBciRSC7XHjliYS9VwUGOIud4PB18=\"; pin-sha256=\"5C8kvU039KouVrl52D0eZSGf4Onjo4Khs8tmyTlV3nU=\"; pin-sha256=\"5C8kvU039KouVrl52D0eZSGf4Onjo4Khs8tmyTlV3nU=\"; pin-sha256=\"lCppFqbkrlJ3EcVFAkeip0+44VaoJUymbnOaEUk7tEU=\"; pin-sha256=\"TUDnr0MEoJ3of7+YliBMBVFB4/gJsv5zO7IxD9+YoWI=\"; pin-sha256=\"x4QzPSC810K5/cMjb05Qm4k3Bw5zBn4lTdO/nEW/Td4=\";', 'Strict-Transport-Security': 'max-age=63072000; includeSubDomains', 'Date': 'Mon, 27 Mar 2017 21:09:10 GMT', 'X-Frame-Options': 'SAMEORIGIN', 'Content-Type': 'text/html; charset=utf-8', 'X-Clacks-Overhead': 'GNU Terry Pratchett'}\n"
     ]
    }
   ],
   "source": [
    "print rResponse.headers"
   ]
  },
  {
   "cell_type": "code",
   "execution_count": 12,
   "metadata": {
    "collapsed": false,
    "scrolled": true,
    "slideshow": {
     "slide_type": "-"
    }
   },
   "outputs": [
    {
     "name": "stdout",
     "output_type": "stream",
     "text": [
      "Server: nginx\r\n",
      "Content-Type: text/html; charset=utf-8\r\n",
      "X-Frame-Options: SAMEORIGIN\r\n",
      "X-Clacks-Overhead: GNU Terry Pratchett\r\n",
      "Content-Length: 47426\r\n",
      "Accept-Ranges: bytes\r\n",
      "Date: Mon, 27 Mar 2017 21:09:18 GMT\r\n",
      "Via: 1.1 varnish\r\n",
      "Age: 420\r\n",
      "Connection: close\r\n",
      "X-Served-By: cache-nrt6131-NRT\r\n",
      "X-Cache: HIT\r\n",
      "X-Cache-Hits: 1\r\n",
      "X-Timer: S1490648958.923776,VS0,VE1\r\n",
      "Vary: Cookie\r\n",
      "Public-Key-Pins: max-age=600; includeSubDomains; pin-sha256=\"WoiWRyIOVNa9ihaBciRSC7XHjliYS9VwUGOIud4PB18=\"; pin-sha256=\"5C8kvU039KouVrl52D0eZSGf4Onjo4Khs8tmyTlV3nU=\"; pin-sha256=\"5C8kvU039KouVrl52D0eZSGf4Onjo4Khs8tmyTlV3nU=\"; pin-sha256=\"lCppFqbkrlJ3EcVFAkeip0+44VaoJUymbnOaEUk7tEU=\"; pin-sha256=\"TUDnr0MEoJ3of7+YliBMBVFB4/gJsv5zO7IxD9+YoWI=\"; pin-sha256=\"x4QzPSC810K5/cMjb05Qm4k3Bw5zBn4lTdO/nEW/Td4=\";\r\n",
      "Strict-Transport-Security: max-age=63072000; includeSubDomains\r\n",
      "\n"
     ]
    }
   ],
   "source": [
    "print uResponse.info()"
   ]
  },
  {
   "cell_type": "markdown",
   "metadata": {
    "slideshow": {
     "slide_type": "slide"
    }
   },
   "source": [
    "### regex\n",
    "\n",
    "* 문자열에 포함된 패턴으로 태그 또는 추출할 데이터를 인식할 수 있다."
   ]
  },
  {
   "cell_type": "code",
   "execution_count": 8,
   "metadata": {
    "collapsed": false,
    "slideshow": {
     "slide_type": "-"
    }
   },
   "outputs": [
    {
     "name": "stdout",
     "output_type": "stream",
     "text": [
      "http url은 몇 개? 44\n",
      "0 http://www.ie6countdown.com/\n",
      "1 http://browsehappy.com/\n",
      "2 http://www.google.com/chromeframe/?redirect=true\n",
      "3 http://plus.google.com/+Python\n",
      "4 http://www.facebook.com/pythonlang?fref=ts\n",
      "5 http://twitter.com/ThePSF\n",
      "6 http://brochure.getpython.info/\n",
      "7 http://wiki.python.org/moin/Languages\n",
      "8 http://python.org/dev/peps/\n",
      "9 http://planetpython.org/\n",
      "10 http://pyfound.blogspot.com/\n",
      "11 http://pycon.blogspot.com/\n",
      "12 http://docs.python.org/3/tutorial/introduction.html#using-python-as-a-calculator\n",
      "13 http://blog.python.org\n",
      "14 http://feedproxy.google.com/~r/PythonInsider/~3/w2AW2NRSOEM/python-361rc1-is-now-available-for.html\n",
      "15 http://feedproxy.google.com/~r/PythonInsider/~3/NeIHRAidlpc/python-353-and-346-are-now-available.html\n",
      "16 http://feedproxy.google.com/~r/PythonInsider/~3/UoiMThSwgQM/python-353rc1-and-python-346rc1-are-now.html\n",
      "17 http://feedproxy.google.com/~r/PythonInsider/~3/4gOtq8ChYHk/python-360-is-now-available.html\n",
      "18 http://feedproxy.google.com/~r/PythonInsider/~3/LLpTSlyUots/python-2713-released.html\n",
      "19 http://www.djangoproject.com/\n",
      "20 http://www.pylonsproject.org/\n",
      "21 http://bottlepy.org\n",
      "22 http://tornadoweb.org\n",
      "23 http://flask.pocoo.org/\n",
      "24 http://www.web2py.com/\n",
      "25 http://wiki.python.org/moin/TkInter\n",
      "26 http://www.riverbankcomputing.co.uk/software/pyqt/intro\n",
      "27 http://www.wxpython.org/\n",
      "28 http://www.scipy.org\n",
      "29 http://pandas.pydata.org/\n",
      "30 http://ipython.org\n",
      "31 http://buildbot.net/\n",
      "32 http://trac.edgewall.org/\n",
      "33 http://roundup.sourceforge.net/\n",
      "34 http://www.ansible.com\n",
      "35 http://www.saltstack.com\n",
      "36 http://brochure.getpython.info/\n",
      "37 http://wiki.python.org/moin/Languages\n",
      "38 http://python.org/dev/peps/\n",
      "39 http://planetpython.org/\n",
      "40 http://pyfound.blogspot.com/\n",
      "41 http://pycon.blogspot.com/\n",
      "42 http://docs.python.org/devguide/\n",
      "43 http://bugs.python.org/\n"
     ]
    }
   ],
   "source": [
    "import re\n",
    "#p=re.compile('http://.+\"')\n",
    "p=re.compile('href=\"(http://.*?)\"')\n",
    "nodes=p.findall(_html)\n",
    "print \"http url은 몇 개?\",len(nodes)\n",
    "for i, node in enumerate(nodes):\n",
    "    print i, node"
   ]
  },
  {
   "cell_type": "markdown",
   "metadata": {
    "slideshow": {
     "slide_type": "slide"
    }
   },
   "source": [
    "* regex를 사용해서 태그 값을 가져오기\n",
    "    * library를 사용하면 보다 간편하게 가져올 수 있지만, 배운 regex를 이용해보자.\n",
    "    * h1 태그\n",
    "    * p 태그"
   ]
  },
  {
   "cell_type": "code",
   "execution_count": 4,
   "metadata": {
    "collapsed": false,
    "scrolled": true,
    "slideshow": {
     "slide_type": "slide"
    }
   },
   "outputs": [
    {
     "name": "stdout",
     "output_type": "stream",
     "text": [
      "Functions Defined\n",
      "Compound Data Types\n",
      "Intuitive Interpretation\n",
      "Quick &amp; Easy to Learn\n",
      "All the Flow You&rsquo;d Expect\n"
     ]
    }
   ],
   "source": [
    "import re\n",
    "p=re.compile('<h1>(.*?)</h1>')\n",
    "h1tags=p.findall(_html)\n",
    "for tag in h1tags:\n",
    "    print tag"
   ]
  },
  {
   "cell_type": "code",
   "execution_count": 4,
   "metadata": {
    "collapsed": false,
    "slideshow": {
     "slide_type": "slide"
    }
   },
   "outputs": [],
   "source": [
    "import re\n",
    "p=re.compile('<p>(.*?)</p>')\n",
    "ptags=p.findall(_html)"
   ]
  },
  {
   "cell_type": "code",
   "execution_count": 3,
   "metadata": {
    "collapsed": false,
    "slideshow": {
     "slide_type": "slide"
    }
   },
   "outputs": [
    {
     "name": "stdout",
     "output_type": "stream",
     "text": [
      "18\n"
     ]
    }
   ],
   "source": [
    "print len(ptags)"
   ]
  },
  {
   "cell_type": "code",
   "execution_count": 5,
   "metadata": {
    "collapsed": false,
    "slideshow": {
     "slide_type": "slide"
    }
   },
   "outputs": [
    {
     "name": "stdout",
     "output_type": "stream",
     "text": [
      "<strong>Notice:</strong> While Javascript is not essential for this website, your interaction with the content will be limited. Please turn Javascript on for the full experience. \n"
     ]
    }
   ],
   "source": [
    "print ptags[0]"
   ]
  },
  {
   "cell_type": "markdown",
   "metadata": {
    "slideshow": {
     "slide_type": "slide"
    }
   },
   "source": [
    "### xpath, css selector를 Chrom javascript console에서 확인해보자.\n",
    "\n",
    "* xpath\n",
    "    ```\n",
    "    $x('//*[@href]')\n",
    "    ```\n",
    "* css select\n",
    "    ```\n",
    "    $$('a[href]')\n",
    "    ```"
   ]
  },
  {
   "cell_type": "markdown",
   "metadata": {
    "collapsed": true,
    "slideshow": {
     "slide_type": "slide"
    }
   },
   "source": [
    "### xpath로 해보기\n",
    "\n",
    "* lxml로 html을 파싱해서 자료 가져오기 (위에서 읽어온 html 변수를 사용)"
   ]
  },
  {
   "cell_type": "code",
   "execution_count": 18,
   "metadata": {
    "collapsed": false,
    "slideshow": {
     "slide_type": "-"
    }
   },
   "outputs": [
    {
     "name": "stdout",
     "output_type": "stream",
     "text": [
      "<type 'str'>\n"
     ]
    }
   ],
   "source": [
    "print type(_html)"
   ]
  },
  {
   "cell_type": "code",
   "execution_count": 19,
   "metadata": {
    "collapsed": false,
    "slideshow": {
     "slide_type": "-"
    }
   },
   "outputs": [
    {
     "name": "stdout",
     "output_type": "stream",
     "text": [
      "319299\n"
     ]
    }
   ],
   "source": [
    "print len(_html)"
   ]
  },
  {
   "cell_type": "code",
   "execution_count": 20,
   "metadata": {
    "collapsed": false,
    "slideshow": {
     "slide_type": "slide"
    }
   },
   "outputs": [],
   "source": [
    "from lxml import etree\n",
    "_htmlTree = etree.HTML(_html)\n",
    "result = etree.tostring(_htmlTree, pretty_print=True, method=\"html\")"
   ]
  },
  {
   "cell_type": "code",
   "execution_count": 21,
   "metadata": {
    "collapsed": false,
    "scrolled": true,
    "slideshow": {
     "slide_type": "slide"
    }
   },
   "outputs": [
    {
     "name": "stdout",
     "output_type": "stream",
     "text": [
      "323063\n"
     ]
    }
   ],
   "source": [
    "print len(result)"
   ]
  },
  {
   "cell_type": "code",
   "execution_count": 11,
   "metadata": {
    "collapsed": false,
    "scrolled": true,
    "slideshow": {
     "slide_type": "slide"
    }
   },
   "outputs": [
    {
     "name": "stdout",
     "output_type": "stream",
     "text": [
      "207\n"
     ]
    }
   ],
   "source": [
    "nodes = _htmlTree.xpath('//*[@href]')\n",
    "print len(nodes)"
   ]
  },
  {
   "cell_type": "code",
   "execution_count": 12,
   "metadata": {
    "collapsed": false,
    "slideshow": {
     "slide_type": "slide"
    }
   },
   "outputs": [
    {
     "name": "stdout",
     "output_type": "stream",
     "text": [
      "0 {'href': '//ajax.googleapis.com/ajax/libs/jquery/1.8.2/jquery.min.js', 'rel': 'prefetch'}\n",
      "1 {'href': '/static/stylesheets/style.css', 'type': 'text/css', 'rel': 'stylesheet', 'title': 'default'}\n",
      "2 {'media': 'not print, braille, embossed, speech, tty', 'href': '/static/stylesheets/mq.css', 'type': 'text/css', 'rel': 'stylesheet'}\n",
      "3 {'href': '/static/favicon.ico', 'type': 'image/x-icon', 'rel': 'icon'}\n",
      "4 {'href': '/static/apple-touch-icon-144x144-precomposed.png', 'rel': 'apple-touch-icon-precomposed', 'sizes': '144x144'}\n",
      "5 {'href': '/static/apple-touch-icon-114x114-precomposed.png', 'rel': 'apple-touch-icon-precomposed', 'sizes': '114x114'}\n",
      "6 {'href': '/static/apple-touch-icon-72x72-precomposed.png', 'rel': 'apple-touch-icon-precomposed', 'sizes': '72x72'}\n",
      "7 {'href': '/static/apple-touch-icon-precomposed.png', 'rel': 'apple-touch-icon-precomposed'}\n",
      "8 {'href': '/static/apple-touch-icon-precomposed.png', 'rel': 'apple-touch-icon'}\n",
      "9 {'href': '/static/humans.txt', 'rel': 'author'}\n",
      "10 {'href': '#content', 'title': 'Skip to content'}\n",
      "11 {'href': '#python-network', 'aria-hidden': 'true', 'id': 'close-python-network', 'class': 'jump-link'}\n",
      "12 {'href': '/', 'class': 'current_item selectedcurrent_branch selected', 'title': 'The Python Programming Language'}\n",
      "13 {'href': '/psf-landing/', 'title': 'The Python Software Foundation'}\n",
      "14 {'href': 'https://docs.python.org', 'title': 'Python Documentation'}\n",
      "15 {'href': 'https://pypi.python.org/', 'title': 'Python Package Index'}\n",
      "16 {'href': '/jobs/', 'title': 'Python Job Board'}\n",
      "17 {'href': '/community/', 'title': 'Python Community'}\n",
      "18 {'href': '#top', 'aria-hidden': 'true', 'id': 'python-network', 'class': 'jump-link'}\n",
      "19 {'href': '/'}\n"
     ]
    }
   ],
   "source": [
    "for i, node in enumerate(nodes):\n",
    "    if i<20:\n",
    "        print i, node.attrib"
   ]
  },
  {
   "cell_type": "markdown",
   "metadata": {
    "slideshow": {
     "slide_type": "slide"
    }
   },
   "source": [
    "### css selector"
   ]
  },
  {
   "cell_type": "code",
   "execution_count": 25,
   "metadata": {
    "collapsed": false,
    "slideshow": {
     "slide_type": "slide"
    }
   },
   "outputs": [],
   "source": [
    "import lxml.html\n",
    "from lxml.cssselect import CSSSelector\n",
    "import requests\n",
    "r = requests.get('http://python.org/')\n",
    "\n",
    "html = lxml.html.fromstring(r.text)\n",
    "sel=CSSSelector('a[href]')\n",
    "# Apply the selector to the DOM tree.\n",
    "nodes = sel(html)"
   ]
  },
  {
   "cell_type": "code",
   "execution_count": 23,
   "metadata": {
    "collapsed": false,
    "slideshow": {
     "slide_type": "slide"
    }
   },
   "outputs": [
    {
     "name": "stdout",
     "output_type": "stream",
     "text": [
      "197\n",
      "0 #content Skip to content\n",
      "1 #python-network \n",
      "                    \n",
      "2 / Python\n",
      "3 /psf-landing/ PSF\n",
      "4 https://docs.python.org Docs\n",
      "5 https://pypi.python.org/ PyPI\n",
      "6 /jobs/ Jobs\n",
      "7 /community/ Community\n",
      "8 #top \n",
      "                    \n",
      "9 / None\n",
      "10 #site-map None\n",
      "11 # None\n",
      "12 javascript:; Smaller\n",
      "13 javascript:; Larger\n",
      "14 javascript:; Reset\n",
      "15 # Socialize\n",
      "16 http://plus.google.com/+Python None\n",
      "17 http://www.facebook.com/pythonlang?fref=ts None\n",
      "18 http://twitter.com/ThePSF None\n",
      "19 /community/irc/ None\n"
     ]
    }
   ],
   "source": [
    "print len(nodes)\n",
    "for i,node in enumerate(nodes):\n",
    "    #print lxml.html.tostring(item)\n",
    "    if i<20:\n",
    "        print i, node.get('href'), node.text"
   ]
  },
  {
   "cell_type": "markdown",
   "metadata": {
    "slideshow": {
     "slide_type": "slide"
    }
   },
   "source": [
    "## 1.8 http headers\n",
    "\n",
    "### 1.8.1 HTTP Request(s)\n",
    "\n",
    "* 예제\n",
    "    * Line 1: GET 함수를 사용하는 것을 나타낸다.\n",
    "    * Line 2: User-Agent를 확인할 수 있다.\n",
    "    * Line 4: html, json과 같은 내용 형식을 지정한다.\n",
    "```\n",
    "GET HTTP/1.1\n",
    "User-Agent: Mozilla/5.0 (compatible; MSIE 9.0; Windows NT)\n",
    "Host: http://www.example.com\n",
    "Accept: text/html, application/xhtml+xml, */*\n",
    "Accept-Language: en-us\n",
    "Accept-Encoding: gzip, deflate\n",
    "Connection: Keep-Alive\n",
    "```"
   ]
  },
  {
   "cell_type": "markdown",
   "metadata": {
    "slideshow": {
     "slide_type": "subslide"
    }
   },
   "source": [
    "### 1.8.2 HTTP Response(s)\n",
    "\n",
    "* 예제\n",
    "    * Line 6: 서버가 돌려주는 파일 형식을 지정한다.\n",
    "    * 뒷 부분에 html이 첨부되어 있다.\n",
    "```\n",
    "HTTP/1.1 200 OK\n",
    "Date: Fri, 10 Mar 2017 11:00:00 GMT\n",
    "Server: Apache/2.2.14 (Win32)\n",
    "Last-Modified: Fri, 10 Mar 2017 12:00:00 GMT\n",
    "Content-Length: 88\n",
    "Content-Type: text/html\n",
    "Connection: Closed\n",
    "<html>\n",
    "<body>\n",
    "<h1>It works!</h1>\n",
    "</body>\n",
    "</html>\n",
    "```"
   ]
  },
  {
   "cell_type": "markdown",
   "metadata": {
    "slideshow": {
     "slide_type": "subslide"
    }
   },
   "source": [
    "### 1.8.3 user agent\n",
    "\n",
    "* http에서 웹서버가 user agent의 params를 참조하여 클라이언트 브라우저에 적합한 내용을 전송한다.\n",
    "* 'robots.txt' 문서에 크롤링을 제한하는 user agent의 headers정보를 명시한다.\n",
    "    * Python에서 사용하는 기본 User Agent 방식은 'Python library/Version'\n",
    "    * urllib 1.17을 사용하면 'Python-urllib/1.17'\n",
    "    * 이런 User Agent를 사용하면 에러가 발생할 수 있다. 헤더를 보고 Python 프로그램으로 크롤링한다고 판단해 거절."
   ]
  },
  {
   "cell_type": "code",
   "execution_count": 29,
   "metadata": {
    "collapsed": false,
    "slideshow": {
     "slide_type": "subslide"
    }
   },
   "outputs": [
    {
     "data": {
      "text/plain": [
       "'Python-urllib/1.17'"
      ]
     },
     "execution_count": 29,
     "metadata": {},
     "output_type": "execute_result"
    }
   ],
   "source": [
    "import urllib\n",
    "urllib.URLopener.version"
   ]
  },
  {
   "cell_type": "markdown",
   "metadata": {
    "slideshow": {
     "slide_type": "subslide"
    }
   },
   "source": [
    "* Request에 header를 설정할 수 있다."
   ]
  },
  {
   "cell_type": "code",
   "execution_count": 15,
   "metadata": {
    "collapsed": false,
    "slideshow": {
     "slide_type": "-"
    }
   },
   "outputs": [
    {
     "name": "stdout",
     "output_type": "stream",
     "text": [
      "<!doctype html>\n",
      "<html>\n",
      "<head>\n",
      "    <title>Example Domain</title>\n",
      "\n",
      "    <meta charset=\"utf-8\" />\n",
      "    <m\n"
     ]
    }
   ],
   "source": [
    "import urllib2\n",
    "\n",
    "request_headers = {\n",
    "\"User-Agent\": \"Mozilla/5.0 (compatible; MSIE 9.0; Windows)\",\n",
    "\"Accept\": \"text/html,application/xhtml+xml, */*\",\n",
    "\"Accept-Language\": \"en-US\",\n",
    "\"Connection\": \"keep-alive\" \n",
    "}\n",
    "\n",
    "request = urllib2.Request(\"http://www.example.com\", headers=request_headers)\n",
    "response = urllib2.urlopen(request)\n",
    "html = response.read()\n",
    "print html[:100]"
   ]
  },
  {
   "cell_type": "markdown",
   "metadata": {
    "slideshow": {
     "slide_type": "subslide"
    }
   },
   "source": [
    "* 현재 사용하고 있는 컴퓨터의 웹브라우저에서 검색하는 경우, user agent 확인\n",
    "https://www.whatismybrowser.com/detect/what-is-my-user-agent"
   ]
  },
  {
   "cell_type": "markdown",
   "metadata": {
    "slideshow": {
     "slide_type": "subslide"
    }
   },
   "source": [
    "* 형식\n",
    "```\n",
    "Mozilla/[version] ([system and browser information]) [platform] ([platform details]) [extensions]\n",
    "```\n",
    "\n",
    "구분 | 설명\n",
    "-----|-----\n",
    "Mozilla/[version] | Mozilla/5.0, Mozilla 5.0 호환\n",
    "[system and browser information] | (iPad; U; CPU OS 3_2_1 like Mac OS X; en-us)\n",
    "platform | AppleWebKit/531.21.10, 브라우저 플랫폼\n",
    "platform details | (KHTML, like Gecko)\n",
    "extensions | Mobile/7B405, 브라우저 확장"
   ]
  },
  {
   "cell_type": "markdown",
   "metadata": {
    "slideshow": {
     "slide_type": "subslide"
    }
   },
   "source": [
    "* 예\n",
    "\n",
    "브라우저 예 | User Agent\n",
    "-----|-----\n",
    "iPad Safari | Mozilla/5.0 (iPad; U; CPU OS 3_2_1 like Mac OS X; en-us) AppleWebKit/531.21.10 (KHTML, like Gecko) Mobile/7B40\n",
    "리눅스 Firefox | Mozilla/5.0 (X11; Ubuntu; Linux x86_64; rv:42.0) Gecko/20100101 Firefox/42.0\n",
    "맥 Safari | Mozilla/5.0 (Macintosh; Intel Mac OS X 10_11_1) AppleWebKit/601.2.7 (KHTML, like Gecko) Version/9.0.1 Safari/601.2.7"
   ]
  },
  {
   "cell_type": "markdown",
   "metadata": {
    "slideshow": {
     "slide_type": "subslide"
    }
   },
   "source": [
    "### 1.8.4 methods\n",
    "\n",
    "함수 | 설명\n",
    "-----|-----\n",
    "GET | 특정 항목을 읽어오는 경우 사용. cache로 저장하고, 뒤로 가기를 할 수 있다. /index.html?key1=value1&key2=value2 \n",
    "POST | 폼 데이터를 전송하여 데이터를 입력 (수정, 삭제 가능). cache로 저장되지 않아 뒤로 가기를 할 수 없다.\n",
    "HEAD | GET을 수행하지만, body를 가져오지 않고 headers만 읽는 경우 사용한다.\n",
    "PUT | POST와 비슷한 기능. 단, 서버의 정해진 위치에 실행되기 때문에, 여러 번 실행되어도 변화가 없다.\n",
    "DELETE | 삭제하는 기능\n",
    "CONNECT | 클라이언트와 서버의 TCP/IP tunnel을 만드는 기능"
   ]
  },
  {
   "cell_type": "markdown",
   "metadata": {
    "slideshow": {
     "slide_type": "subslide"
    }
   },
   "source": [
    "* PUT vs POST - DB와 비교해서 이해\n",
    "    * PUT은  idempotent, 여러 번 수행해도 같은 id로 수행되기 때문에 변화가 없다.\n",
    "    ```\n",
    "    UPDATE student SET major = \"software\" where id=\"201711111\";\n",
    "    ```\n",
    "    \n",
    "    * POST는 idempotent가 아니다. 여러 번 수행하면 id가 자동 생성되는 것과 같이 여러 레코드가 생성된다.\n",
    "    ```\n",
    "    INSERT INTO student(name, major) VALUES (\"js\", \"software\");\n",
    "    ```\n",
    "\n",
    "* idempotence는 동일한 항목에 같은 기능이 여러번 실행되어도 값이 변하지 않고 동일하게 유지."
   ]
  },
  {
   "cell_type": "markdown",
   "metadata": {},
   "source": [
    "* 'GET', 'PUT', 'DELETE' 가운데 HEAD를 사용해 본다.\n",
    "    * requests 라이브러리를 사용해서, 'HEAD'를 요청할 수 있다.\n",
    "```\n",
    "resp = requests.head(\"http://www.google.com\")\n",
    "```\n",
    "\n",
    "    * 그 결과는 '302 Found'\n",
    "        * 3xx는 URL redirection 메시지\n",
    "        * HEAD만을 가져오므로 클라이언트측의 추가 작업이 필요하다는 의미이다.     \n"
   ]
  },
  {
   "cell_type": "code",
   "execution_count": 17,
   "metadata": {
    "collapsed": false
   },
   "outputs": [
    {
     "name": "stdout",
     "output_type": "stream",
     "text": [
      "status= 302\n",
      "response text= \n",
      "response header= {'Date': 'Thu, 30 Mar 2017 05:15:54 GMT', 'Content-Length': '261', 'Content-Type': 'text/html; charset=UTF-8', 'Location': 'http://www.google.co.kr/?gfe_rd=cr&ei=ipTcWKPsJsfC8geU5LHQBg', 'Cache-Control': 'private'}\n"
     ]
    }
   ],
   "source": [
    "import requests\n",
    "\n",
    "resp = requests.head(\"http://www.google.com\")\n",
    "print \"status=\",resp.status_code\n",
    "print \"response text=\", resp.text\n",
    "print \"response header=\", resp.headers"
   ]
  },
  {
   "cell_type": "markdown",
   "metadata": {},
   "source": [
    "* urllib은 객체지향 방식으로 HEAD를 설정한다."
   ]
  },
  {
   "cell_type": "code",
   "execution_count": 18,
   "metadata": {
    "collapsed": false,
    "slideshow": {
     "slide_type": "subslide"
    }
   },
   "outputs": [
    {
     "name": "stdout",
     "output_type": "stream",
     "text": [
      "Date: Thu, 30 Mar 2017 05:18:31 GMT\r\n",
      "Expires: -1\r\n",
      "Cache-Control: private, max-age=0\r\n",
      "Content-Type: text/html; charset=EUC-KR\r\n",
      "P3P: CP=\"This is not a P3P policy! See https://www.google.com/support/accounts/answer/151657?hl=en for more info.\"\r\n",
      "Server: gws\r\n",
      "X-XSS-Protection: 1; mode=block\r\n",
      "X-Frame-Options: SAMEORIGIN\r\n",
      "Set-Cookie: NID=100=RyJY2j2zO4cBXTY_N6nPrnigYuvWW-U8cYkzK4zi-kq62b4w9a7lGHMTxxewmX5QnRdfCbw8NefRefRrEyjrcytF7QI5OEZwBlrap8CyEqw7Kw3BfbhcEBtqoQXygmDx; expires=Fri, 29-Sep-2017 05:18:31 GMT; path=/; domain=.google.co.kr; HttpOnly\r\n",
      "Accept-Ranges: none\r\n",
      "Vary: Accept-Encoding\r\n",
      "Connection: close\r\n",
      "\n",
      "http://www.google.co.kr/index.html?gfe_rd=cr&ei=J5XcWPaFIvP98wf52oGoAg\n"
     ]
    }
   ],
   "source": [
    "import urllib2\n",
    "class HeadRequest(urllib2.Request):\n",
    "     def get_method(self):\n",
    "         return \"HEAD\"\n",
    "\n",
    "response = urllib2.urlopen(HeadRequest(\"http://google.com/index.html\"))\n",
    "print response.info()\n",
    "print response.geturl()"
   ]
  },
  {
   "cell_type": "markdown",
   "metadata": {
    "slideshow": {
     "slide_type": "slide"
    }
   },
   "source": [
    "## 웹데이터-3: 'python'으로 검색해서 http url 출력하기\n",
    "\n",
    "* 검색:\n",
    "    * 구글에서 검색해 보기\n",
    "    * wiki에서 검색해 보기\n"
   ]
  },
  {
   "cell_type": "markdown",
   "metadata": {
    "slideshow": {
     "slide_type": "subslide"
    }
   },
   "source": [
    "### 구글에서 검색해 보기\n",
    "\n",
    "* 검색어를 사용하는 경우, params를 구성해야 한다.\n",
    "* 이 경우 url에 params가 붙은 검색어를 사용하여 request를 전송한다.\n",
    "* urllib을 사용해서 검색하면 오류가 발생한다. 즉 response에 'error'가 출력된다.\n",
    "* Python 프로그램으로 검색을 하는 것은 허용되지 않는다. header에 웹브라우저에서 검색하는 것으로 설정을 변경해야 한다."
   ]
  },
  {
   "cell_type": "code",
   "execution_count": 11,
   "metadata": {
    "collapsed": false,
    "slideshow": {
     "slide_type": "subslide"
    }
   },
   "outputs": [
    {
     "data": {
      "text/plain": [
       "6006"
      ]
     },
     "execution_count": 11,
     "metadata": {},
     "output_type": "execute_result"
    }
   ],
   "source": [
    "from urllib import urlopen\n",
    "keyword='python'\n",
    "resp = urlopen('https://www.google.com/search?q='+keyword)\n",
    "html=resp.read()\n",
    "len(html)"
   ]
  },
  {
   "cell_type": "code",
   "execution_count": 12,
   "metadata": {
    "collapsed": false,
    "slideshow": {
     "slide_type": "subslide"
    }
   },
   "outputs": [
    {
     "name": "stdout",
     "output_type": "stream",
     "text": [
      "error\n"
     ]
    }
   ],
   "source": [
    "import re\n",
    "p=re.compile('.*(error).*')\n",
    "print p.search(html).group(1)"
   ]
  },
  {
   "cell_type": "markdown",
   "metadata": {},
   "source": [
    "* 그러나 웹브라우저를 열어서 검색하면 오류가 발생하지 않고, 검색 결과를 반환한다."
   ]
  },
  {
   "cell_type": "code",
   "execution_count": 13,
   "metadata": {
    "collapsed": false,
    "slideshow": {
     "slide_type": "subslide"
    }
   },
   "outputs": [
    {
     "data": {
      "text/plain": [
       "True"
      ]
     },
     "execution_count": 13,
     "metadata": {},
     "output_type": "execute_result"
    }
   ],
   "source": [
    "import webbrowser\n",
    "webbrowser.open('http://www.google.com/search?q=python')"
   ]
  },
  {
   "cell_type": "markdown",
   "metadata": {
    "slideshow": {
     "slide_type": "subslide"
    }
   },
   "source": [
    "* 구글 검색엔진에서 user agent를 (Python이 아니라) 웹브라우저로 설정해서 검색하기"
   ]
  },
  {
   "cell_type": "code",
   "execution_count": 14,
   "metadata": {
    "collapsed": false,
    "slideshow": {
     "slide_type": "-"
    }
   },
   "outputs": [
    {
     "name": "stdout",
     "output_type": "stream",
     "text": [
      "Date: Thu, 30 Mar 2017 05:07:19 GMT\r\n",
      "Expires: -1\r\n",
      "Cache-Control: private, max-age=0\r\n",
      "Content-Type: text/html; charset=UTF-8\r\n",
      "P3P: CP=\"This is not a P3P policy! See https://www.google.com/support/accounts/answer/151657?hl=en for more info.\"\r\n",
      "Server: gws\r\n",
      "X-XSS-Protection: 1; mode=block\r\n",
      "X-Frame-Options: SAMEORIGIN\r\n",
      "Set-Cookie: NID=100=LD19067OVASgkg4iyODdsg-VMQia8iCC66jWjNlRf4TqUDvzemVSGs99OMJ3WsZVCy69FnMiSxtAD4JykJGkZruAiWDJtQ9CjfeAA6JGN5l3Jp7Hk-Xed5C6IIQ9Bf7z; expires=Fri, 29-Sep-2017 05:07:19 GMT; path=/; domain=.google.co.kr; HttpOnly\r\n",
      "Accept-Ranges: none\r\n",
      "Vary: Accept-Encoding\r\n",
      "Connection: close\r\n",
      "\n"
     ]
    }
   ],
   "source": [
    "import urllib2\n",
    "url = 'http://www.google.com/#q=python'\n",
    "headers = {'User-Agent' : 'Mozilla 5.0'}\n",
    "request = urllib2.Request(url, None, headers)\n",
    "response = urllib2.urlopen(request)\n",
    "print response.headers"
   ]
  },
  {
   "cell_type": "code",
   "execution_count": 15,
   "metadata": {
    "collapsed": false,
    "slideshow": {
     "slide_type": "subslide"
    }
   },
   "outputs": [
    {
     "data": {
      "text/plain": [
       "46244"
      ]
     },
     "execution_count": 15,
     "metadata": {},
     "output_type": "execute_result"
    }
   ],
   "source": [
    "html = response.read()\n",
    "len(html)"
   ]
  },
  {
   "cell_type": "markdown",
   "metadata": {
    "slideshow": {
     "slide_type": "subslide"
    }
   },
   "source": [
    "* 검색 결과를 파일에 쓰고 확인한다.\n",
    "* src/mygoogle.html을 열어본다. 브라우저 주소창에 'file:///'을 입력하면 로컬파일 탐색 기능이 실행된다."
   ]
  },
  {
   "cell_type": "code",
   "execution_count": 16,
   "metadata": {
    "collapsed": true
   },
   "outputs": [],
   "source": [
    "import os\n",
    "f=open(os.path.join('src','mygoogle1.html'),'w')\n",
    "f.write(html)\n",
    "f.close()"
   ]
  },
  {
   "cell_type": "markdown",
   "metadata": {
    "slideshow": {
     "slide_type": "subslide"
    }
   },
   "source": [
    "* class HeadRequest를 사용해서 설정\n",
    "    * urllib2.Request에서 상속받는다.\n",
    "\n",
    "```\n",
    "request = urllib2.Request(url)\n",
    "request.get_method = lambda : 'HEAD'\n",
    "```"
   ]
  },
  {
   "cell_type": "markdown",
   "metadata": {
    "slideshow": {
     "slide_type": "subslide"
    }
   },
   "source": [
    "* urllib의 FancyURLOpener를 사용해서 User Agent를 설정할 수 있다.\n",
    "    * 리눅스 Firefox User Agent의 예를 사용해서 설정해 본다.\n",
    "* urllib을 사용하면 물론 실행되지 않는다 - 'forbidden error'\n",
    "\n",
    "```\n",
    "import urllib2\n",
    "\n",
    "req = urllib2.Request('http://www.google.com/search?q=python')\n",
    "print req.get_full_url()\n",
    "print req.get_method\n",
    "urllib2.urlopen(req)\n",
    "```"
   ]
  },
  {
   "cell_type": "code",
   "execution_count": 31,
   "metadata": {
    "collapsed": false,
    "slideshow": {
     "slide_type": "-"
    }
   },
   "outputs": [
    {
     "name": "stdout",
     "output_type": "stream",
     "text": [
      "My new User-Agent\n"
     ]
    }
   ],
   "source": [
    "from urllib import FancyURLopener\n",
    "class MyOpener(FancyURLopener):\n",
    "    version = 'My new User-Agent'\n",
    "print MyOpener.version"
   ]
  },
  {
   "cell_type": "code",
   "execution_count": 46,
   "metadata": {
    "collapsed": false,
    "slideshow": {
     "slide_type": "subslide"
    }
   },
   "outputs": [
    {
     "name": "stdout",
     "output_type": "stream",
     "text": [
      "Mozilla/5.0 (X11; Ubuntu; Linux x86_64; rv:42.0) Gecko/20100101 Firefox/42.0\n"
     ]
    }
   ],
   "source": [
    "class MyOpener(FancyURLopener):\n",
    "    version = 'Mozilla/5.0 (X11; Ubuntu; Linux x86_64; rv:42.0) Gecko/20100101 Firefox/42.0'\n",
    "print MyOpener.version"
   ]
  },
  {
   "cell_type": "code",
   "execution_count": 33,
   "metadata": {
    "collapsed": false,
    "slideshow": {
     "slide_type": "subslide"
    }
   },
   "outputs": [],
   "source": [
    "myopener = MyOpener()\n",
    "page = myopener.open('http://www.google.com/search?q=python')\n",
    "html=page.read()"
   ]
  },
  {
   "cell_type": "markdown",
   "metadata": {
    "slideshow": {
     "slide_type": "subslide"
    }
   },
   "source": [
    "* http로 하면 어떤 결과가 있는지 확인해 본다. '0'이 출력.\n",
    "    ```\n",
    "    p=re.compile('href=\"(http://.*?)\"')\n",
    "    ```"
   ]
  },
  {
   "cell_type": "code",
   "execution_count": 36,
   "metadata": {
    "collapsed": false,
    "slideshow": {
     "slide_type": "subslide"
    }
   },
   "outputs": [
    {
     "name": "stdout",
     "output_type": "stream",
     "text": [
      "46\n",
      "https://www.google.co.kr/intl/ko/options/\n",
      "https://accounts.google.com/ServiceLogin?hl=ko&amp;passive=true&amp;continue=https://www.google.co.k\n",
      "https://www.google.com/url?q=https://support.google.com/websearch/answer/463%3Futm_source%3Dgoogle.c\n",
      "https://www.google.co.kr/webhp?hl=ko&amp;sa=X&amp;ved=0ahUKEwi-kpG20vfSAhVENrwKHZjhDRAQPAgD\n",
      "https://www.python.org/\n",
      "https://webcache.googleusercontent.com/search?q=cache:Fvb7Gz_c4rwJ:https://www.python.org/+&amp;cd=1\n",
      "https://translate.google.co.kr/translate?hl=ko&amp;sl=en&amp;u=https://www.python.org/&amp;prev=sear\n",
      "https://www.python.org/downloads/\n",
      "https://docs.python.org/\n",
      "https://docs.python.org/3/tutorial/\n",
      "https://www.python.org/downloads/windows/\n",
      "https://www.python.org/about/gettingstarted/\n",
      "https://www.python.org/doc/\n",
      "https://ko.wikipedia.org/wiki/%ED%8C%8C%EC%9D%B4%EC%8D%AC\n",
      "https://webcache.googleusercontent.com/search?q=cache:OL25IRr7kSMJ:https://ko.wikipedia.org/wiki/%25\n",
      "https://wikidocs.net/6\n",
      "https://webcache.googleusercontent.com/search?q=cache:LmCkGjF_ShkJ:https://wikidocs.net/6+&amp;cd=9&\n",
      "https://tutorial.djangogirls.org/ko/python_introduction/\n",
      "https://webcache.googleusercontent.com/search?q=cache:9o-y50p1vcYJ:https://tutorial.djangogirls.org/\n",
      "https://www.codecademy.com/ko/tracks/python-ko\n",
      "https://webcache.googleusercontent.com/search?q=cache:yuJHfXirRuQJ:https://www.codecademy.com/ko/tra\n",
      "https://www.codecademy.com/learn/python\n",
      "https://webcache.googleusercontent.com/search?q=cache:VieTLWvITEcJ:https://www.codecademy.com/learn/\n",
      "https://translate.google.co.kr/translate?hl=ko&amp;sl=en&amp;u=https://www.codecademy.com/learn/pyth\n",
      "https://support.google.com/websearch?p=ws_settings_location&amp;hl=ko\n",
      "https://www.google.com/search?q=python&amp;gws_rd=cr,ssl&amp;ei=HobZWLDzH8X88QXyhrCYCQ&amp;fg=1\n",
      "https://myaccount.google.com/?utm_source=OGB\n",
      "https://www.google.co.kr/webhp?tab=ww&amp;ei=HobZWLD3NIOA8wXijrWgDg&amp;ved=0EKkuCAIoAQ\n",
      "https://maps.google.co.kr/maps?hl=ko&amp;tab=wl\n",
      "https://www.youtube.com/?gl=KR\n",
      "https://play.google.com/?hl=ko&amp;tab=w8\n",
      "https://news.google.co.kr/nwshp?hl=ko&amp;tab=wn&amp;ei=HobZWLD3NIOA8wXijrWgDg&amp;ved=0EKkuCAYoBQ\n",
      "https://mail.google.com/mail/?tab=wm\n",
      "https://drive.google.com/?tab=wo\n",
      "https://www.google.com/calendar?tab=wc\n",
      "https://plus.google.com/?gpsrc=ogpy0&amp;tab=wX\n",
      "https://translate.google.co.kr/?hl=ko&amp;tab=wT\n",
      "https://photos.google.com/?tab=wq&amp;pageId=none\n",
      "https://www.google.co.kr/intl/ko/options/\n",
      "https://docs.google.com/document/?usp=docs_alc\n",
      "https://books.google.co.kr/bkshp?hl=ko&amp;tab=wp&amp;ei=HobZWLD3NIOA8wXijrWgDg&amp;ved=0EKkuCA4oDQ\n",
      "https://www.blogger.com/?tab=wj\n",
      "https://www.google.com/contacts/?hl=ko&amp;tab=wC\n",
      "https://hangouts.google.com/\n",
      "https://keep.google.com/\n",
      "https://www.google.co.kr/intl/ko/options/\n"
     ]
    }
   ],
   "source": [
    "import re\n",
    "\n",
    "p=re.compile('href=\"(https://.*?)\"')\n",
    "#p=re.compile('.*href.*')\n",
    "res=p.findall(html)\n",
    "print len(res)\n",
    "for item in res:\n",
    "    print item[:100]"
   ]
  },
  {
   "cell_type": "markdown",
   "metadata": {},
   "source": [
    "* 파일로 쓰고 확인한다. "
   ]
  },
  {
   "cell_type": "code",
   "execution_count": 22,
   "metadata": {
    "collapsed": false,
    "slideshow": {
     "slide_type": "subslide"
    }
   },
   "outputs": [
    {
     "name": "stdout",
     "output_type": "stream",
     "text": [
      "file://localhost/home/jsl/Code/git/bb/jsl/pyds/src/mygoogle2.html\n"
     ]
    }
   ],
   "source": [
    "import os\n",
    "f=open(os.path.join('src','mygoogle2.html'),'w')\n",
    "f.write(html)\n",
    "f.close()\n",
    "import webbrowser\n",
    "mygoogle='file://'+'localhost'+os.path.join(os.getcwd(), 'src','mygoogle2.html')\n",
    "print mygoogle"
   ]
  },
  {
   "cell_type": "code",
   "execution_count": 51,
   "metadata": {
    "collapsed": false,
    "slideshow": {
     "slide_type": "subslide"
    }
   },
   "outputs": [
    {
     "name": "stdout",
     "output_type": "stream",
     "text": [
      "file://localhost/home/jsl/Code/git/bb/jsl/pyds/mygoogle.html\n"
     ]
    },
    {
     "data": {
      "text/plain": [
       "True"
      ]
     },
     "execution_count": 51,
     "metadata": {},
     "output_type": "execute_result"
    }
   ],
   "source": [
    "webbrowser.open(mygoogle)"
   ]
  },
  {
   "cell_type": "markdown",
   "metadata": {
    "slideshow": {
     "slide_type": "slide"
    }
   },
   "source": [
    "### wiki에서 검색해 보기"
   ]
  },
  {
   "cell_type": "code",
   "execution_count": 2,
   "metadata": {
    "collapsed": false,
    "slideshow": {
     "slide_type": "subslide"
    }
   },
   "outputs": [
    {
     "name": "stdout",
     "output_type": "stream",
     "text": [
      "{{Infobox programming language\n",
      "|name                   = Python\n",
      "|logo                   = Python logo and wordmark.svg\n",
      "|logo size              = 260px\n",
      "|paradigm               = [[multi-paradigm programming language|multi-paradigm]]: [[object-oriented programming|object-oriented]], [[imperative programming|imperative]], [[functional programming|functional]], [[procedural programming|procedural]], [[reflective programming|reflective]]\n",
      "|released               = {{Start date and age|1991|02|20|df=yes}}<ref>{{cite web|url=http://python-history.blogspot.com/2009/01/brief-timeline-of-python.html|title=The History of Python: A Brief Timeline of Python|work=[[Blogger (service)|Blogger]]|date=2009-01-20|accessdate=2016-03-20}}</ref>\n",
      "|designer               = [[Guido van Rossum]]\n",
      "|developer              = [[Python Software Foundation]]\n",
      "|latest release version = 3.6.0 / {{Start date and age|2016|12|23|df=yes}}<ref>{{cite web |url=http://blog.python.org/2016/06/python-352-and-python-345-are-now.htm\n"
     ]
    }
   ],
   "source": [
    "import urllib\n",
    "keyword='Albert_Einstein'\n",
    "keyword='Python (programming language)'\n",
    "s = urllib.urlopen('http://en.wikipedia.org/w/index.php?action=raw&title='+keyword).read()\n",
    "#print s.find('Python is a widely used general-purpose')\n",
    "print s[:1000]\n"
   ]
  },
  {
   "cell_type": "markdown",
   "metadata": {
    "slideshow": {
     "slide_type": "subslide"
    }
   },
   "source": [
    "### 위키에서 css.selector"
   ]
  },
  {
   "cell_type": "code",
   "execution_count": 26,
   "metadata": {
    "collapsed": true,
    "slideshow": {
     "slide_type": "subslide"
    }
   },
   "outputs": [],
   "source": [
    "import lxml.html\n",
    "from lxml.cssselect import CSSSelector\n",
    "import requests\n",
    "\n",
    "r = requests.get('https://en.wikipedia.org/wiki/Python_(programming_language)')\n",
    "# build the DOM Tree\n",
    "tree = lxml.html.fromstring(r.text)\n",
    "# print the parsed DOM Tree\n",
    "#print lxml.html.tostring(tree)"
   ]
  },
  {
   "cell_type": "markdown",
   "metadata": {
    "collapsed": true,
    "slideshow": {
     "slide_type": "subslide"
    }
   },
   "source": [
    "* Chrome javascript console > 태그 하이라이트 > '...'에서 오른쪽 버튼 > copy > copy selector"
   ]
  },
  {
   "cell_type": "code",
   "execution_count": 27,
   "metadata": {
    "collapsed": false,
    "slideshow": {
     "slide_type": "subslide"
    }
   },
   "outputs": [
    {
     "name": "stdout",
     "output_type": "stream",
     "text": [
      "[<Element div at 0x7f084c6a54c8>]\n"
     ]
    }
   ],
   "source": [
    "sel = CSSSelector('#mw-content-text > div:nth-child(1)')\n",
    "# Apply the selector to the DOM tree.\n",
    "results = sel(tree)\n",
    "print results"
   ]
  },
  {
   "cell_type": "code",
   "execution_count": 34,
   "metadata": {
    "collapsed": false,
    "slideshow": {
     "slide_type": "subslide"
    }
   },
   "outputs": [
    {
     "name": "stdout",
     "output_type": "stream",
     "text": [
      "<div role=\"note\" class=\"hatnote\">This article is about the programming language. For the genus and other uses, see <a href=\"/wiki/Python_(disambiguation)\" class=\"mw-redirect mw-disambig\" title=\"Python (disambiguation)\">Python (disambiguation)</a>.</div>\n",
      "\n"
     ]
    }
   ],
   "source": [
    "# print the HTML for the first result.\n",
    "match = results[0]\n",
    "print lxml.html.tostring(match)"
   ]
  },
  {
   "cell_type": "code",
   "execution_count": 36,
   "metadata": {
    "collapsed": false,
    "slideshow": {
     "slide_type": "subslide"
    }
   },
   "outputs": [
    {
     "name": "stdout",
     "output_type": "stream",
     "text": [
      "This article is about the programming language. For the genus and other uses, see \n"
     ]
    }
   ],
   "source": [
    "# print the text of the first result.\n",
    "print match.text"
   ]
  },
  {
   "cell_type": "code",
   "execution_count": 44,
   "metadata": {
    "collapsed": false,
    "slideshow": {
     "slide_type": "subslide"
    }
   },
   "outputs": [
    {
     "name": "stdout",
     "output_type": "stream",
     "text": [
      "This article is about the programming language. For the genus and other uses, see \n"
     ]
    }
   ],
   "source": [
    "for result in results:\n",
    "    print result.text"
   ]
  },
  {
   "cell_type": "markdown",
   "metadata": {
    "collapsed": true,
    "slideshow": {
     "slide_type": "slide"
    }
   },
   "source": [
    "## 웹데이터-4: 한국 포털사이트에서 노래제목을 검색\n",
    "\n",
    "* naver에서 가져오기\n",
    "* regex, css selector"
   ]
  },
  {
   "cell_type": "markdown",
   "metadata": {
    "slideshow": {
     "slide_type": "slide"
    }
   },
   "source": [
    "### regex\n",
    "\n",
    "* urllib.urlopen()을 사용한다."
   ]
  },
  {
   "cell_type": "code",
   "execution_count": 5,
   "metadata": {
    "collapsed": true,
    "slideshow": {
     "slide_type": "-"
    }
   },
   "outputs": [],
   "source": [
    "import urllib\n",
    "keyword='비오는'\n",
    "f = urllib.urlopen(\"http://music.naver.com/search/search.nhn?query=\"+keyword+\"&x=0&y=0\")\n",
    "mydata = f.read();"
   ]
  },
  {
   "cell_type": "code",
   "execution_count": 4,
   "metadata": {
    "collapsed": false,
    "slideshow": {
     "slide_type": "subslide"
    }
   },
   "outputs": [
    {
     "name": "stdout",
     "output_type": "stream",
     "text": [
      "--- 비 오는 거리\n",
      "131284\n"
     ]
    }
   ],
   "source": [
    "pos = mydata.find(\"트랙 리스트\")\n",
    "if (pos>0):\n",
    "    pos = mydata.find(\"_title title NPI=\", pos);\n",
    "    pos = mydata.find(\"title=\",pos+20)\n",
    "    pos2 = mydata.find(\"\\\"\", pos+8)\n",
    "    print \"---\",mydata[pos+7:pos2]\n",
    "print len(mydata)"
   ]
  },
  {
   "cell_type": "code",
   "execution_count": 5,
   "metadata": {
    "collapsed": false,
    "scrolled": true,
    "slideshow": {
     "slide_type": "subslide"
    }
   },
   "outputs": [
    {
     "name": "stdout",
     "output_type": "stream",
     "text": [
      "title=\"검색어 입력\" value=\"비오는\" maxlength=\"50\" accesskey=\"s\"\n",
      "title=\"비오는날\" alt=\"비오는날\"\n",
      "title=\"비오는 금요일\" alt=\"비오는 금요일\"\n",
      "title=\"비 오는 거리\" ><span class=\"ellipsis\"\n",
      "title=\"1집 비오는 거리\" class=\"_album NPI=a:album,r:1,i:682\"><span class=\"ellipsis\"\n",
      "title=\"비오는 날 수채화\" ><span class=\"ellipsis\"\n",
      "title=\"비오는 날 수채화 1 OST\" class=\"_album NPI=a:album,r:2,i:33001\"><span class=\"ellipsis\"\n",
      "title=\"비오는 압구정\" ><span class=\"ellipsis\"\n",
      "title=\"비 오는 거리\" ><span class=\"ellipsis\"\n",
      "title=\"비 오는 거리\" class=\"_album NPI=a:album,r:4,i:442032\"><span class=\"ellipsis\"\n",
      "title=\"비 오는 거리  (Feat. 핫펠트)\" ><span class=\"ellipsis\"\n",
      "title=\"비오는 거리\" ><span class=\"ellipsis\"\n",
      "title=\"유ㄹish.1 - 비오는 거리\" class=\"_album NPI=a:album,r:6,i:208754\"><span class=\"ellipsis\"\n",
      "title=\"비오는 거리\" ><span class=\"ellipsis\"\n",
      "title=\"비오는 날, 산책\" ><span class=\"ellipsis\"\n",
      "title=\"비오는 날, 산책\" class=\"_album NPI=a:album,r:8,i:620775\"><span class=\"ellipsis\"\n",
      "title=\"비 오는 날\" ><span class=\"ellipsis\"\n",
      "title=\"비 오는 날\" class=\"_album NPI=a:album,r:9,i:656486\"><span class=\"ellipsis\"\n",
      "title=\"비오는 날엔\" ><span class=\"ellipsis\"\n",
      "title=\"비오는 날엔\" class=\"_album NPI=a:album,r:10,i:310321\"><span class=\"ellipsis\"\n",
      "title=\"비오는 날은 푸르다\" ><span class=\"ellipsis\"\n",
      "title=\"비오는 날은 푸르다\" class=\"_album NPI=a:album,r:11,i:660894\"><span class=\"ellipsis\"\n",
      "title=\"비오는 압구정\" ><span class=\"ellipsis\"\n",
      "title=\"비 오는 이런 날에\" ><span class=\"ellipsis\"\n",
      "title=\"비 오는 이런 날에\" class=\"_album NPI=a:album,r:13,i:560089\"><span class=\"ellipsis\"\n",
      "title=\"Acoustic Rain (비오는 날 듣는 감성 팝음악 모음집)\" class=\"_album NPI=a:album,r:14,i:385222\"><span class=\"ellipsis\"\n",
      "title=\"비 오는 거리에서\" ><span class=\"ellipsis\"\n",
      "title=\"Acoustic Rain (비오는 날 듣는 감성 팝음악 모음집)\"\n",
      "title=\"비 오는 날 듣고 싶은 추억의 팝송\"\n",
      "title=\"비오는 날 수채화 1 OST\"\n",
      "title=\"비오는 금요일\"\n",
      "title=\"비오는 금요일\" alt=\"비오는 금요일\" class=\"NPI=a:artist,r:,i:271713\"\n",
      "title=\"7080 팝송 발라드 (비오는 날의 슬픈 추억 올드팝 연가)\"\n",
      "title=\"비 오는 날\"\n",
      "title=\"비오는 압구정\"\n",
      "title=\"비오는 날에\"\n",
      "title=\"비오는 거리 (Feat. 단비)\"\n",
      "title=\"비오는 날 떡볶이\"\n",
      "title=\"`비오는날의 수채화` 피아노커버\"\n",
      "title=\"`비오는날의 수채화 ` 피아노연주\"\n",
      "title=\"비오는날에 어울리지않을까 싶어요~\"\n"
     ]
    }
   ],
   "source": [
    "import re\n",
    "p=re.compile('title=\".*비.?오는.*\"')\n",
    "#res=p.search(data)\n",
    "res=p.findall(mydata)\n",
    "for item in res:\n",
    "    print item"
   ]
  },
  {
   "cell_type": "markdown",
   "metadata": {
    "slideshow": {
     "slide_type": "subslide"
    }
   },
   "source": [
    "### css selector\n",
    "\n",
    "* selector 1: 맨 처음부터 가면\n",
    "    * 위부터 따라가면\n",
    "        ```\n",
    "        body > #wrap > div.fix_conts > #container > .container_inner > #content\n",
    "        ```\n",
    "    * 다음 계속 이어가면\n",
    "        ```\n",
    "        #content > div:nth-child(4) \n",
    "        > div._tracklist_mytrack.tracklist_table.tracklist_type1._searchTrack\n",
    "        > table > tbody > tr:nth-child(2) > td.name\n",
    "        ```\n",
    "    * 제목까지 읽으면\n",
    "        ```\n",
    "        #content > div:nth-child(4) \n",
    "        > div._tracklist_mytrack.tracklist_table.tracklist_type1._searchTrack\n",
    "        > table > tbody > tr:nth-child(2) > td.name > a.title\n",
    "        ```"
   ]
  },
  {
   "cell_type": "markdown",
   "metadata": {
    "slideshow": {
     "slide_type": "subslide"
    }
   },
   "source": [
    "* selector 1의 설명\n",
    "\n",
    "CSS selectors | 설명\n",
    "----------|----------\n",
    "#content | id가 content인 element를 선택\n",
    "#content > div:nth-child(4)' | 상위 #content의 4번째 div를 선택\n",
    "div._tracklist_mytrack | div아래 _tracklist_mytrack 클래스를 선택"
   ]
  },
  {
   "cell_type": "markdown",
   "metadata": {
    "collapsed": true,
    "slideshow": {
     "slide_type": "slide"
    }
   },
   "source": [
    "* selector 2: 앞은 건너뛰고 table부터 쓰면 (중간부터 쓰니까, 속성을 사용해서 시작함)\n",
    "    ```\n",
    "    'table[summary] > tbody > ._tracklist_move > .name > a.title'\n",
    "    ```\n",
    "    \n",
    "* selector 2의 설명\n",
    "\n",
    "CSS selectors | 설명\n",
    "----------|----------\n",
    "table[summary] | table summary 선택\n",
    "a.title | a link의 title을 선택"
   ]
  },
  {
   "cell_type": "markdown",
   "metadata": {
    "slideshow": {
     "slide_type": "slide"
    }
   },
   "source": [
    "#### 전체 css selector 사용하기\n",
    "\n",
    "* 제목 1개 출력하기"
   ]
  },
  {
   "cell_type": "code",
   "execution_count": 12,
   "metadata": {
    "collapsed": true,
    "slideshow": {
     "slide_type": "slide"
    }
   },
   "outputs": [],
   "source": [
    "import lxml.html\n",
    "from lxml.cssselect import CSSSelector\n",
    "\n",
    "html = lxml.html.fromstring(mydata)\n",
    "#tree=lxml.etree.parse('myhtml')\n",
    "# construct a CSS Selector -> \n",
    "sel = CSSSelector('#content > div:nth-child(4) \\\n",
    "    > div._tracklist_mytrack.tracklist_table.tracklist_type1._searchTrack \\\n",
    "    > table > tbody > tr:nth-child(2) > td.name > a.title')\n",
    "# Apply the selector to the DOM tree.\n",
    "nodes = sel(html)"
   ]
  },
  {
   "cell_type": "code",
   "execution_count": 13,
   "metadata": {
    "collapsed": false,
    "slideshow": {
     "slide_type": "slide"
    }
   },
   "outputs": [
    {
     "data": {
      "text/plain": [
       "1"
      ]
     },
     "execution_count": 13,
     "metadata": {},
     "output_type": "execute_result"
    }
   ],
   "source": [
    "len(nodes)"
   ]
  },
  {
   "cell_type": "code",
   "execution_count": 14,
   "metadata": {
    "collapsed": false,
    "slideshow": {
     "slide_type": "slide"
    }
   },
   "outputs": [
    {
     "name": "stdout",
     "output_type": "stream",
     "text": [
      "비 오는 거리\n"
     ]
    }
   ],
   "source": [
    "for node in nodes:\n",
    "    #print lxml.html.tostring(item)\n",
    "    print node.text_content()"
   ]
  },
  {
   "cell_type": "markdown",
   "metadata": {
    "slideshow": {
     "slide_type": "slide"
    }
   },
   "source": [
    "* 모든 제목 출력하기"
   ]
  },
  {
   "cell_type": "code",
   "execution_count": 15,
   "metadata": {
    "collapsed": false,
    "slideshow": {
     "slide_type": "slide"
    }
   },
   "outputs": [
    {
     "name": "stdout",
     "output_type": "stream",
     "text": [
      "비 오는 거리\n",
      "비오는 날 수채화\n",
      "비 오는 날\n",
      "비오는날 (동요) (멜로디 MR)\n",
      "비오는 거리\n",
      "비오는 밤에\n",
      "비오는 날 (Inst.)\n",
      "비오는 남산\n",
      "비 오는 거리  (Feat. 핫펠트)\n",
      "비오는 압구정\n",
      "비오는 날은 푸르다\n",
      "One More Time\n",
      "비 오는 날의 수채화\n",
      "Yesterday (비틀즈 예스터 데이 : CF `시몬스침대`)\n",
      "비오는날 수채화 (발라드 Ver.) (With 김명상, 강윤식)\n"
     ]
    }
   ],
   "source": [
    "import lxml.html\n",
    "from lxml.cssselect import CSSSelector\n",
    "\n",
    "html = lxml.html.fromstring(mydata)\n",
    "#tree=lxml.etree.parse('myhtml')\n",
    "# construct a CSS Selector -> \n",
    "sel = CSSSelector('#content > div:nth-child(4) \\\n",
    "    > div._tracklist_mytrack.tracklist_table.tracklist_type1._searchTrack \\\n",
    "    > table > tbody > tr > td.name > a.title')\n",
    "# Apply the selector to the DOM tree.\n",
    "nodes = sel(html)\n",
    "\n",
    "for node in nodes:\n",
    "    #print lxml.html.tostring(item)\n",
    "    print node.text_content()"
   ]
  },
  {
   "cell_type": "markdown",
   "metadata": {
    "slideshow": {
     "slide_type": "slide"
    }
   },
   "source": [
    "#### 일부 css selector 사용하기"
   ]
  },
  {
   "cell_type": "code",
   "execution_count": 9,
   "metadata": {
    "collapsed": true,
    "slideshow": {
     "slide_type": "slide"
    }
   },
   "outputs": [],
   "source": [
    "import lxml.html\n",
    "import requests\n",
    "\n",
    "keyword='비오는'\n",
    "r = requests.get(\"http://music.naver.com/search/search.nhn?query=\"+keyword+\"&x=0&y=0\")\n",
    "\n",
    "_html = lxml.html.fromstring(r.text)"
   ]
  },
  {
   "cell_type": "markdown",
   "metadata": {
    "slideshow": {
     "slide_type": "slide"
    }
   },
   "source": [
    "* html을 보려면\n",
    "    * r.text로 보거나\n",
    "    * lxml.html.tostring(_html)"
   ]
  },
  {
   "cell_type": "code",
   "execution_count": 11,
   "metadata": {
    "collapsed": false,
    "slideshow": {
     "slide_type": "slide"
    }
   },
   "outputs": [
    {
     "data": {
      "text/plain": [
       "149317"
      ]
     },
     "execution_count": 11,
     "metadata": {},
     "output_type": "execute_result"
    }
   ],
   "source": [
    "len(lxml.html.tostring(_html))"
   ]
  },
  {
   "cell_type": "code",
   "execution_count": 10,
   "metadata": {
    "collapsed": false,
    "slideshow": {
     "slide_type": "slide"
    }
   },
   "outputs": [],
   "source": [
    "from lxml.cssselect import CSSSelector\n",
    "\n",
    "sel = CSSSelector('table[summary] > tbody > ._tracklist_move > .name > a.title')\n",
    "# Apply the selector to the DOM tree.\n",
    "nodes = sel(_html)"
   ]
  },
  {
   "cell_type": "code",
   "execution_count": 11,
   "metadata": {
    "collapsed": false,
    "slideshow": {
     "slide_type": "slide"
    }
   },
   "outputs": [
    {
     "data": {
      "text/plain": [
       "15"
      ]
     },
     "execution_count": 11,
     "metadata": {},
     "output_type": "execute_result"
    }
   ],
   "source": [
    "len(nodes)"
   ]
  },
  {
   "cell_type": "markdown",
   "metadata": {
    "slideshow": {
     "slide_type": "slide"
    }
   },
   "source": [
    "* item.text()는 한글 문자 출력 오류\n",
    "* item.text_content()를 사용해서 출력"
   ]
  },
  {
   "cell_type": "code",
   "execution_count": 12,
   "metadata": {
    "collapsed": false,
    "slideshow": {
     "slide_type": "slide"
    }
   },
   "outputs": [
    {
     "name": "stdout",
     "output_type": "stream",
     "text": [
      "비 오는 거리\n",
      "비오는 날 수채화\n",
      "비오는 압구정\n",
      "비 오는 거리\n",
      "비 오는 거리  (Feat. 핫펠트)\n",
      "비오는 거리\n",
      "비오는 거리\n",
      "비 오는 날\n",
      "비오는 날, 산책\n",
      "비오는 날엔\n",
      "비오는 날은 푸르다\n",
      "비오는 압구정\n",
      "비오는 날\n",
      "비 오는 이런 날에\n",
      "It Will Rain\n"
     ]
    }
   ],
   "source": [
    "for node in nodes:\n",
    "    #print lxml.html.tostring(item)\n",
    "    print node.text_content()"
   ]
  },
  {
   "cell_type": "markdown",
   "metadata": {
    "slideshow": {
     "slide_type": "slide"
    }
   },
   "source": [
    "* 곡명, 아티스트, 앨범 모두 가져오기\n",
    "    * html이 정형적이지 않아서 어렵다.\n",
    "    * 2단계 작업.\n",
    "        * 곡명, 아티스트, 앨범 항목을 가지고 있는 상위 태그를 먼저 선정하고, 그 안의 개별 항목을 선정한다."
   ]
  },
  {
   "cell_type": "code",
   "execution_count": 24,
   "metadata": {
    "collapsed": false,
    "scrolled": true,
    "slideshow": {
     "slide_type": "slide"
    }
   },
   "outputs": [
    {
     "name": "stdout",
     "output_type": "stream",
     "text": [
      "<tr class=\"_tracklist_move {TRACK_TYPE}\" style=\"display:none;\" trackdata=\"{TRACK_DATA}\">\r\n",
      "\r\n",
      "\r\n",
      "\t\t\t\t\t\t\r\n",
      "\t\t\t\t\t\t\t<td class=\"chk\"><input type=\"checkbox\" title=\"&#49440;&#53469;\" class=\"_chkbox_item input_chk {TRACK_CHECK_NCLICKS}\"> </td>\r\n",
      "\t\t\t\t\t\t\r\n",
      "\t\t\t\t\t\t\r\n",
      "\t\t\t\t\t\t\t<td class=\"order\">{TRACK_NUM}</td>\r\n",
      "\t\t\t\t\t\t\r\n",
      "\t\t\t\t\t\t\t<td class=\"name\">\r\n",
      "\r\n",
      "\t\t\t\t\t\t\t\t{PLAY_TOGGLE}\r\n",
      "\t\t\t\t\t\t\t\t{ADD_TOGGLE}\r\n",
      "\r\n",
      "\r\n",
      "\t\t\t\t\t\t\t\t<span class=\"_ico_title ico_title\"><img height=\"18\" width=\"23\" alt=\"TITLE\" src=\"http://static.naver.net/nmusic/201\n"
     ]
    }
   ],
   "source": [
    "from lxml.cssselect import CSSSelector\n",
    "\n",
    "sel = CSSSelector('table[summary] > tbody > ._tracklist_move')\n",
    "# Apply the selector to the DOM tree.\n",
    "nodes = sel(_html)\n",
    "print lxml.html.tostring(nodes[0])[:500]"
   ]
  },
  {
   "cell_type": "markdown",
   "metadata": {
    "slideshow": {
     "slide_type": "slide"
    }
   },
   "source": [
    "* 개별 항목의 선정\n",
    "* 우선 1개씩 해 본다.\n",
    "    * results[0]은 제목행이므로, 그 다음을 처리한다.\n",
    "    * 태그가 정형적이지 않으므로, selector가 일정하지 않다는 점에 주의한다.\n",
    "        * Chrome console창을 이용해서 하나씩 작업하므로, selector를 정의하는데 노력이 수반된다."
   ]
  },
  {
   "cell_type": "code",
   "execution_count": 21,
   "metadata": {
    "collapsed": false,
    "slideshow": {
     "slide_type": "slide"
    }
   },
   "outputs": [],
   "source": [
    "_selName = CSSSelector('.name > a.title')\n",
    "_selArtist = CSSSelector('._artist.artist')\n",
    "_selAlbum= CSSSelector('.album > a')\n",
    "_name=_selName(nodes[1])\n",
    "_artist=_selArtist(nodes[1])\n",
    "_album=_selAlbum(nodes[1])"
   ]
  },
  {
   "cell_type": "code",
   "execution_count": 22,
   "metadata": {
    "collapsed": false,
    "scrolled": true,
    "slideshow": {
     "slide_type": "slide"
    }
   },
   "outputs": [
    {
     "name": "stdout",
     "output_type": "stream",
     "text": [
      "비 오는 거리\n",
      "이승훈\n",
      "1집 비오는 거리\n"
     ]
    }
   ],
   "source": [
    "print _name[0].text_content()\n",
    "print _artist[0].text_content().strip()\n",
    "print _album[0].text_content()"
   ]
  },
  {
   "cell_type": "markdown",
   "metadata": {
    "slideshow": {
     "slide_type": "slide"
    }
   },
   "source": [
    "* 반복문을 이용하여 모든 노래를 출력한다.\n",
    "    * if문은 노래제목이 있는 없는 경우 제거한다 (제목 행을 제거하는 효과)"
   ]
  },
  {
   "cell_type": "code",
   "execution_count": 23,
   "metadata": {
    "collapsed": false,
    "scrolled": false,
    "slideshow": {
     "slide_type": "slide"
    }
   },
   "outputs": [
    {
     "name": "stdout",
     "output_type": "stream",
     "text": [
      "이승훈 --- 비 오는 거리 --- 1집 비오는 거리\n",
      "강인원 --- 비오는 날 수채화 --- 비오는 날 수채화 1 OST\n",
      "오소연 --- 비 오는 날 --- 비 오는 날\n",
      "동요시대 --- 비오는날 (동요) (멜로디 MR) --- 동요 MR반주 5\n",
      "서영은 --- 비오는 거리 --- 1집 Romantic 1\n",
      "루드 페이퍼(Rude Paper) --- 비오는 밤에 --- 1집 Paper Spectrum\n",
      "김민우 --- 비오는 날 (Inst.) --- 비오는 날\n",
      "조영순 --- 비오는 남산 --- 무진장 트롯트 골든 1＆2\n",
      "베이빌론(Babylon) --- 비 오는 거리  (Feat. 핫펠트) --- BETWEEN US\n",
      "브라운 아이즈 --- 비오는 압구정 --- 2집 Reason 4 Breathing?\n",
      "하이니(Hi.ni) --- 비오는 날은 푸르다 --- 비오는 날은 푸르다\n",
      "Richard Marx --- One More Time --- 김현주의 비오는 거리\n",
      "SG 워너비 --- 비 오는 날의 수채화 --- Classic Odyssey\n",
      "Romantisch Jazzkapelle --- Yesterday (비틀즈 예스터 데이 : CF `시몬스침대`) --- 뉴에이지 연가 : 비 오는 날의 거리, 추억, 그리고 아름다운 재즈 피아노(Pop 올드 팝, 클래식, 영화 OST 베스트 연주 음악)\n",
      "강윤식 --- 비오는날 수채화 (발라드 Ver.) (With 김명상, 강윤식) --- 1980-2010 리뉴얼 - 내 노래 다시 부르기\n"
     ]
    }
   ],
   "source": [
    "_selName = CSSSelector('.name > a.title')\n",
    "_selArtist = CSSSelector('._artist.artist')\n",
    "_selAlbum= CSSSelector('.album > a')\n",
    "for node in nodes:\n",
    "    #print lxml.html.tostring(item)\n",
    "    _name=_selName(node)\n",
    "    _artist=_selArtist(node)\n",
    "    _album=_selAlbum(node)\n",
    "    if _name:\n",
    "        print _artist[0].text_content().strip(),\n",
    "        print \"---\",\n",
    "        print _name[0].text_content(),\n",
    "        print \"---\",\n",
    "        print _album[0].text_content()\n"
   ]
  },
  {
   "cell_type": "markdown",
   "metadata": {
    "slideshow": {
     "slide_type": "slide"
    }
   },
   "source": [
    "### 프로그램으로 실행\n",
    "\n",
    "* 지금까지 실행했던 명령어를 정리하여 프로그램으로 작성한다.\n",
    "* 파일은 src 디렉토리에 .py 확장자로 저장한다.\n",
    "* 검색어가 한글이 포함되어 있어 인코딩을 정한다. 첫째줄에 utf-8을 적어준다.\n",
    "```\n",
    "# coding: utf-8\n",
    "```"
   ]
  },
  {
   "cell_type": "code",
   "execution_count": 16,
   "metadata": {
    "collapsed": false,
    "slideshow": {
     "slide_type": "subslide"
    }
   },
   "outputs": [
    {
     "name": "stdout",
     "output_type": "stream",
     "text": [
      "Overwriting src/ds_web_crawl_naverMusic.py\n"
     ]
    }
   ],
   "source": [
    "%%writefile src/ds_web_crawl_naverMusic.py\n",
    "# coding: utf-8\n",
    "import lxml.html\n",
    "import requests\n",
    "from lxml.cssselect import CSSSelector\n",
    "\n",
    "keyword='비오는'\n",
    "r = requests.get(\"http://music.naver.com/search/search.nhn?query=\"+keyword+\"&x=0&y=0\")\n",
    "_html = lxml.html.fromstring(r.text)\n",
    "\n",
    "sel = CSSSelector('table[summary] > tbody > ._tracklist_move')\n",
    "# Apply the selector to the DOM tree.\n",
    "nodes = sel(_html)\n",
    "\n",
    "_selName = CSSSelector('.name > a.title')\n",
    "_selArtist = CSSSelector('._artist.artist')\n",
    "_selAlbum= CSSSelector('.album > a')\n",
    "for node in nodes:\n",
    "    #print lxml.html.tostring(item)\n",
    "    _name=_selName(node)\n",
    "    _artist=_selArtist(node)\n",
    "    _album=_selAlbum(node)\n",
    "    if _name:\n",
    "        print _artist[0].text_content().strip(),\n",
    "        print \"---\",\n",
    "        print _name[0].text_content(),\n",
    "        print \"---\",\n",
    "        print _album[0].text_content()\n"
   ]
  },
  {
   "cell_type": "markdown",
   "metadata": {
    "slideshow": {
     "slide_type": "subslide"
    }
   },
   "source": [
    "* 명령창을 열고 실행한다:\n",
    "```\n",
    "$ python src/ds_web_crawl_naverMusic.py\n",
    "```"
   ]
  },
  {
   "cell_type": "markdown",
   "metadata": {
    "slideshow": {
     "slide_type": "slide"
    }
   },
   "source": [
    "## 웹데이터-5 : 국제학회 목록을 크롤링하기\n",
    "\n",
    "* IEEE 학회를 검색하는 url\n",
    "```\n",
    "http://www.ieee.org/conferences_events/conferences/search/index.html\n",
    "```\n",
    "\n",
    "* 크롬 브라우저 > 보기 > 개발자 정보 > javascript console\n",
    "    * Elements 창에서 검색을 하면 원하는 문자열을 찾을 수 있다.\n",
    "    * css로 태그를 찾아 본다.\n",
    "        ```\n",
    "        'div.content-r-full table.nogrid-nopad tr'\n",
    "        ```\n"
   ]
  },
  {
   "cell_type": "code",
   "execution_count": 1,
   "metadata": {
    "collapsed": true,
    "slideshow": {
     "slide_type": "slide"
    }
   },
   "outputs": [],
   "source": [
    "import lxml.html\n",
    "from lxml.cssselect import CSSSelector\n",
    "import requests\n",
    "r = requests.get('http://www.ieee.org/conferences_events/conferences/search/index.html')\n",
    "\n",
    "html = lxml.html.fromstring(r.text)"
   ]
  },
  {
   "cell_type": "code",
   "execution_count": 5,
   "metadata": {
    "collapsed": false,
    "slideshow": {
     "slide_type": "slide"
    }
   },
   "outputs": [
    {
     "name": "stdout",
     "output_type": "stream",
     "text": [
      "<html lang=\"en-us\" xmlns=\"http://www.w3.org/1999/xhtml\" xml:lang=\"en-us\">\r\n",
      "<head><meta http-equiv=\"c\n"
     ]
    }
   ],
   "source": [
    "print lxml.html.tostring(html)[:100]"
   ]
  },
  {
   "cell_type": "markdown",
   "metadata": {
    "slideshow": {
     "slide_type": "slide"
    }
   },
   "source": [
    "* 66개의 데이터를 가지고 있다. 페이지를 열어서 비교해 본다."
   ]
  },
  {
   "cell_type": "code",
   "execution_count": 6,
   "metadata": {
    "collapsed": false,
    "slideshow": {
     "slide_type": "-"
    }
   },
   "outputs": [
    {
     "name": "stdout",
     "output_type": "stream",
     "text": [
      "66\n"
     ]
    }
   ],
   "source": [
    "sel=CSSSelector('div.content-r-full table.nogrid-nopad tr p>a[href]')\n",
    "nodes = sel(html)\n",
    "print len(nodes)"
   ]
  },
  {
   "cell_type": "code",
   "execution_count": 8,
   "metadata": {
    "collapsed": false,
    "slideshow": {
     "slide_type": "subslide"
    }
   },
   "outputs": [
    {
     "name": "stdout",
     "output_type": "stream",
     "text": [
      "None\n",
      "----------\n",
      "None\n",
      "----------\n",
      "None\n",
      "----------\n",
      "None\n",
      "----------\n",
      "None\n",
      "----------\n",
      "None\n",
      "----------\n",
      "2029 IEEE/MTT-S International Microwave Symposium - IMS 2029\n",
      "----------\n",
      "31 May - 08 Jun 2029\n",
      "----------\n",
      "Boston Convention and Exhibition Center\n",
      "----------\n",
      "2025 IEEE/MTT-S International Microwave Symposium - IMS 2025\n",
      "----------\n"
     ]
    }
   ],
   "source": [
    "for node in nodes[:10]:\n",
    "    print node.text\n",
    "    print \"----------\"\n",
    "    #print lxml.html.tostring(node)"
   ]
  },
  {
   "cell_type": "markdown",
   "metadata": {
    "slideshow": {
     "slide_type": "subslide"
    }
   },
   "source": [
    "### 프로그램으로 실행\n",
    "\n",
    "* 지금까지 실행했던 명령어를 정리하여 프로그램으로 작성한다.\n",
    "* 파일은 src 디렉토리에 .py 확장자로 저장한다.\n",
    "* 검색어가 한글이 포함되어 있어 인코딩을 정한다. 첫째줄에 utf-8을 적어준다.\n",
    "```\n",
    "# coding: utf-8\n",
    "```\n",
    "\n",
    "* 명령창을 열고 실행한다:\n",
    "```\n",
    "$ python src/ds_web_crawl_ieee.py\n",
    "```"
   ]
  },
  {
   "cell_type": "code",
   "execution_count": 15,
   "metadata": {
    "collapsed": false,
    "slideshow": {
     "slide_type": "subslide"
    }
   },
   "outputs": [
    {
     "name": "stdout",
     "output_type": "stream",
     "text": [
      "Overwriting src/ds_web_crawl_ieee.py\n"
     ]
    }
   ],
   "source": [
    "%%writefile src/ds_web_crawl_ieee.py\n",
    "# coding: utf-8\n",
    "import lxml.html\n",
    "from lxml.cssselect import CSSSelector\n",
    "import requests\n",
    "r = requests.get('http://www.ieee.org/conferences_events/conferences/search/index.html')\n",
    "\n",
    "html = lxml.html.fromstring(r.text)\n",
    "sel=CSSSelector('div.content-r-full table.nogrid-nopad tr p>a[href]')\n",
    "nodes = sel(html)\n",
    "for node in nodes:\n",
    "    print node.text\n",
    "    print \"----------\""
   ]
  },
  {
   "cell_type": "code",
   "execution_count": 16,
   "metadata": {
    "collapsed": false,
    "slideshow": {
     "slide_type": "subslide"
    }
   },
   "outputs": [
    {
     "name": "stdout",
     "output_type": "stream",
     "text": [
      "None\r\n",
      "----------\r\n",
      "None\r\n",
      "----------\r\n",
      "None\r\n",
      "----------\r\n",
      "None\r\n",
      "----------\r\n",
      "None\r\n",
      "----------\r\n",
      "None\r\n",
      "----------\r\n",
      "2029 IEEE/MTT-S International Microwave Symposium - IMS 2029\r\n",
      "----------\r\n",
      "31 May - 08 Jun 2029\r\n",
      "----------\r\n",
      "Boston Convention and Exhibition Center\r\n",
      "----------\r\n",
      "2025 IEEE/MTT-S International Microwave Symposium - IMS 2025\r\n",
      "----------\r\n",
      "15 Jun - 20 Jun 2025\r\n",
      "----------\r\n",
      "Moscone Convention Center\r\n",
      "----------\r\n",
      "2024 IEEE/MTT-S International Microwave Symposium - IMS 2024\r\n",
      "----------\r\n",
      "16 Jun - 21 Jun 2024\r\n",
      "----------\r\n",
      "Walter E. Washington Convention Center\r\n",
      "----------\r\n",
      "2023 Annual International Conference of the IEEE Engineering in Medicine & Biology Conference (EMBC)\r\n",
      "----------\r\n",
      "25 Jul - 29 Jul 2023\r\n",
      "----------\r\n",
      "International Convention Centre Sydney (ICC Sydney)\r\n",
      "----------\r\n",
      "2023 IEEE/MTT-S International Microwave Symposium - MTT 2023\r\n",
      "----------\r\n",
      "11 Jun - 16 Jun 2023\r\n",
      "----------\r\n",
      "San Diego Convention Center\r\n",
      "----------\r\n",
      "2022 IEEE International Symposium on Electromagnetic Compatibility & Signal/Power Integrity (EMCSI)\r\n",
      "----------\r\n",
      "25 Jul - 29 Jul 2022\r\n",
      "----------\r\n",
      "raleigh CC\r\n",
      "----------\r\n",
      "2022 IEEE/MTT-S International Microwave Symposium - MTT 2022\r\n",
      "----------\r\n",
      "12 Jun - 17 Jun 2022\r\n",
      "----------\r\n",
      "Colorado Convention Center\r\n",
      "----------\r\n",
      "2022 59th ACM/EDAC/IEEE Design Automation Conference (DAC)\r\n",
      "----------\r\n",
      "06 Jun - 10 Jun 2022\r\n",
      "----------\r\n",
      "Moscone Center\r\n",
      "----------\r\n",
      "2022 Annual Conference on Magnetism and Magnetic Materials (MMM)\r\n",
      "----------\r\n",
      "10 Jan - 14 Jan 2022\r\n",
      "----------\r\n",
      "Hyatt Regency New Orleans\r\n",
      "----------\r\n",
      "2021 IEEE International Electron Devices Meeting (IEDM)\r\n",
      "----------\r\n",
      "13 Dec - 15 Dec 2021\r\n",
      "----------\r\n",
      "Hilton San Francisco Union Square\r\n",
      "----------\r\n",
      "2021 IEEE International Symposium on Electromagnetic Compatibility & Signal/Power Integrity (EMCSI)\r\n",
      "----------\r\n",
      "27 Jul - 31 Jul 2021\r\n",
      "----------\r\n",
      "Raleigh convention center\r\n",
      "----------\r\n",
      "2021 IEEE International Conference on Plasma Science (ICOPS)\r\n",
      "----------\r\n",
      "20 Jun - 25 Jun 2021\r\n",
      "----------\r\n",
      "Harvey's & Harrah's\r\n",
      "----------\r\n",
      "2021 IEEE/MTT-S International Microwave Symposium - MTT 2021\r\n",
      "----------\r\n",
      "20 Jun - 24 Jun 2021\r\n",
      "----------\r\n",
      "Georgia World Congress Center\r\n",
      "----------\r\n",
      "2021 58th ACM/EDAC/IEEE Design Automation Conference (DAC)\r\n",
      "----------\r\n",
      "07 Jun - 11 Jun 2021\r\n",
      "----------\r\n",
      "Moscone Center\r\n",
      "----------\r\n",
      "2021 IEEE Pulsed Power Conference (PPC)\r\n",
      "----------\r\n",
      "01 Jun - 04 Jun 2021\r\n",
      "----------\r\n",
      "Sheraton Denver Downtown Hotel\r\n",
      "----------\r\n",
      "2021 IEEE 71st Electronic Components and Technologies Conference (ECTC)\r\n",
      "----------\r\n",
      "01 Jun - 04 Jun 2021\r\n",
      "----------\r\n",
      "Sheraton San diego Hotel & Marina\r\n",
      "----------\r\n",
      "2021 IEEE Symposium on Security and Privacy (SP)\r\n",
      "----------\r\n",
      "23 May - 27 May 2021\r\n",
      "----------\r\n",
      "Hyatt Regency San Francisco\r\n",
      "----------\r\n",
      "2021 IEEE International Workshop Technical Committee on Communications Quality and\r\n",
      "Reliability (CQR 2021)\r\n",
      "----------\r\n",
      "09 May - 14 May 2021\r\n",
      "----------\r\n",
      "Naples Beach Hotel & Golf Club\r\n",
      "----------\r\n",
      "ICASSP 2021 - 2021 IEEE International Conference on Acoustics, Speech and Signal Processing (ICASSP)\r\n",
      "----------\r\n",
      "25 Apr - 30 Apr 2021\r\n",
      "----------\r\n",
      "Metro Toronto Convention Centre\r\n",
      "----------\r\n",
      "2020 IEEE International Electron Devices Meeting (IEDM)\r\n",
      "----------\r\n",
      "10 Dec - 18 Dec 2020\r\n",
      "----------\r\n",
      "Hilton San Francisco\r\n",
      "----------\r\n"
     ]
    }
   ],
   "source": [
    "!python src/ds_web_crawl_ieee.py"
   ]
  },
  {
   "cell_type": "markdown",
   "metadata": {
    "slideshow": {
     "slide_type": "subslide"
    }
   },
   "source": [
    "### 더 해보기\n",
    "\n",
    "* 학회를 검색하는 폼에 입력하면, 검색문자열을 생성한다. 다음은 검색문자열이 포함된 url이다. 검색을 하는 경우 크롤링을 해본다.\n",
    "```\n",
    "http://www.ieee.org/conferences_events/conferences/search/index.html?\n",
    "RANGE_FROM_DATE=2017-01-01&RANGE_TO_DATE=2030-12-31&\n",
    "KEYWORDS=&\n",
    "COUNTRY=ALL&STATE=ALL&CITY=ALL&REGION=ALL&\n",
    "RECORD_NUM=ALL&SPONSOR=ALL&EXHIBIT=ALL&TUTORIALS=ALL&\n",
    "RowsPerPage=10&PageLinkNum=10&ActivePage=1&\n",
    "SORTORDER=asc&SORTFIELD=start_date&ROWSTART=0&CONF_SRCH_RDO=conf_date&\n",
    "utm_source=mm_link&utm_campaign=upcom&utm_medium=conf&utm_term=upcoming%20conferences\n",
    "```\n",
    "\n",
    "* 학회명, 학회일시, 학회장소를 구분해서 추출해 본다.\n"
   ]
  },
  {
   "cell_type": "markdown",
   "metadata": {
    "slideshow": {
     "slide_type": "slide"
    }
   },
   "source": [
    "## 웹데이터-6: 한국 프로야구 기록 크롤링하기\n",
    "\n",
    "* 한글은 unicode로 패턴 찾음.\n",
    "    * u'타자'\n",
    "* 야구데이터는 검색엔진을 이용하며, 검색결과가 정적인 HTML로 반환되지 않는 듯함. 그래서 결과를 받을 수 없슴."
   ]
  },
  {
   "cell_type": "code",
   "execution_count": 6,
   "metadata": {
    "collapsed": false
   },
   "outputs": [
    {
     "name": "stdout",
     "output_type": "stream",
     "text": [
      "http://www.kbreport.com/leader/main?rows=20&order=oWAR&orderType=DESC&teamId=1&defense_no=2&year_from=2015&year_to=2015&split01=&split02_1=&split02_2=&r_tpa_count=&tpa_count=0\n"
     ]
    }
   ],
   "source": [
    "import urllib2\n",
    "import requests\n",
    "urlperson='http://www.kbreport.com/player/list?key=이대호'\n",
    "urlbase=\"http://www.kbreport.com/leader/main?\"\n",
    "url1=\"rows=20&order=oWAR&orderType=DESC&\"\n",
    "url2=\"teamId=1&defense_no=2&year_from=2015&year_to=2015&split01=&split02_1=&split02_2=&r_tpa_count=&tpa_count=0\"\n",
    "urlbaseball=urlbase+url1+url2\n",
    "print urlbaseball"
   ]
  },
  {
   "cell_type": "code",
   "execution_count": 7,
   "metadata": {
    "collapsed": false,
    "scrolled": true,
    "slideshow": {
     "slide_type": "slide"
    }
   },
   "outputs": [
    {
     "name": "stdout",
     "output_type": "stream",
     "text": [
      "http://www.kbreport.com/leader/main?rows=20&order=oWAR&orderType=DESC&teamId=1&defense_no=2&year_from=2015&year_to=2015&split01=&split02_1=&split02_2=&r_tpa_count=&tpa_count=0\n",
      " href=\"/history/main\"><li>역대기록</li></a>\n",
      "\t\t\t\t\t<a href=\"/statDic/main\"><li id=\"nav4\">STAT Dic</li></a>\n",
      "\t\t\t\t\t<a href=\"/event/hitProbabilityPerGame\"><li>투수 VS 타자</li></a>\n",
      "\t\t\t\t\t<!-- \n",
      "\t\t\t\t\t<a href=\"score.html\"><li id=\"nav1\">경기결과</li></a>\n",
      "\t\t\t\t\t<a href=\"/statBuzz/main\"><li id=\"nav2\">STAT BUZZ</li></a>\n",
      "\t\t\t\t\t<a href=\"depth.html\"><li>팀구성도</li></a>\n",
      "\t\t\t\t\t<a href=\"trade.html\"><li>선수이동내역</li></a>\n",
      "\t\t\t\t\t<a href=\"/leader/main\"><li>개인순위</li></a>\n",
      "\t\t\t\t\t<a href=\"team.html\"><li>팀순위</li></a>\n",
      "\t\t\t\t\t<a href=\"awa\n"
     ]
    }
   ],
   "source": [
    "data=requests.get(urlbaseball).text\n",
    "#data=requests.get(urlperson).text\n",
    "print data[6000:6500]"
   ]
  },
  {
   "cell_type": "code",
   "execution_count": 9,
   "metadata": {
    "collapsed": false,
    "slideshow": {
     "slide_type": "slide"
    }
   },
   "outputs": [
    {
     "name": "stdout",
     "output_type": "stream",
     "text": [
      "6340\n",
      "8353\n"
     ]
    }
   ],
   "source": [
    "print data.find('top-score-top')\n",
    "print data.find('top-score end')\n",
    "\n",
    "#import re\n",
    "#p=re.compile('NC\\w+')\n",
    "#res=re.search('<title>', data)\n",
    "#res=re.search(u'타자.+', data)\n",
    "#res=re.search(u'야구.통계.+', data)\n",
    "#print res.group()\n",
    "\n",
    "#data.encode('utf-8')\n",
    "#print data\n",
    "#from BeautifulSoup import BeautifulSoup\n",
    "#BeautifulSoup(data)"
   ]
  },
  {
   "cell_type": "code",
   "execution_count": 4,
   "metadata": {
    "collapsed": false,
    "slideshow": {
     "slide_type": "slide"
    }
   },
   "outputs": [
    {
     "name": "stdout",
     "output_type": "stream",
     "text": [
      "[u'(\\uc2b9) \\uc774\\ud638\\uc131 (\\ud328) \\uc815\\uc218\\uadfc (\\uc138) \\uc784\\ucc3d\\uc6a9 (\\ud648\\ub7f0) \\uae40\\ubc14\\uc704</p>\\r', u'(\\uc2b9) \\uc774\\ud638\\uc131 (\\ud328) \\uc815\\uc218\\uadfc (\\uc138) \\uc784\\ucc3d\\uc6a9 (\\ud648\\ub7f0) \\uae40\\ubc14\\uc704</p>\\r', u'(\\uc2b9) \\uc774\\ud638\\uc131 (\\ud328) \\uc815\\uc218\\uadfc (\\uc138) \\uc784\\ucc3d\\uc6a9 (\\ud648\\ub7f0) \\uae40\\ubc14\\uc704</p>\\r', u'(\\uc2b9) \\uc774\\ud638\\uc131 (\\ud328) \\uc815\\uc218\\uadfc (\\uc138) \\uc784\\ucc3d\\uc6a9 (\\ud648\\ub7f0) \\uae40\\ubc14\\uc704</p>\\r']\n",
      "(승) 이호성 (패) 정수근 (세) 임창용 (홈런) 김바위</p>\r\n",
      "(승) 이호성 (패) 정수근 (세) 임창용 (홈런) 김바위</p>\r\n",
      "(승) 이호성 (패) 정수근 (세) 임창용 (홈런) 김바위</p>\r\n",
      "(승) 이호성 (패) 정수근 (세) 임창용 (홈런) 김바위</p>\r\n"
     ]
    }
   ],
   "source": [
    "mydata=data[6340:8353+len('top-score end')]\n",
    "import re\n",
    "p=re.compile(u'.승.+')\n",
    "#p=re.compile(u'.두산.')\n",
    "#res=p.search(data)\n",
    "found=p.findall(mydata)\n",
    "print found\n",
    "for item in found:\n",
    "    print item\n",
    "#print res.group()\n",
    "#findall?\n",
    "#print res.groups"
   ]
  },
  {
   "cell_type": "code",
   "execution_count": 6,
   "metadata": {
    "collapsed": false,
    "slideshow": {
     "slide_type": "slide"
    }
   },
   "outputs": [
    {
     "name": "stdout",
     "output_type": "stream",
     "text": [
      "78734\n"
     ]
    }
   ],
   "source": [
    "import requests\n",
    "urlkorbase='http://www.koreabaseball.com/Record/Player/HitterBasic/Basic1.aspx'\n",
    "data=requests.get(urlkorbase).text\n",
    "#print data\n",
    "\n",
    "# 국가통계\n",
    "kosis='http://kosis.kr/statisticsList/statisticsList_01List.jsp?vwcd=MT_ZTITLE&parentId=A#SubCont'\n",
    "data=requests.get(urlkorbase).text\n",
    "print len(data)"
   ]
  },
  {
   "cell_type": "markdown",
   "metadata": {
    "slideshow": {
     "slide_type": "subslide"
    }
   },
   "source": [
    "## xpath\n",
    "\n",
    "* url\n",
    "http://www.kbreport.com/main\n",
    "\n",
    "* 경기결과의 표 구성: 11줄 (표 제목 포함)\n",
    "    * 표 제목 (table header) th\n",
    "    * 표 행 (table row ) tr\n",
    "    * 표 셀 (table cell) td\n",
    "\n",
    "순위 | 팀명 | 승 | 무 |  |  |  |  |  |  | 연속\n",
    "----|-----|---|---|--|--|--|--|--|--|--\n",
    "1   |     |   |   |  |  |  |  |  |  | 2승\n",
    "2   |     |   |   |  |  |  |  |  |  | 2패\n",
    "\n",
    "* selector\n",
    "\n",
    "xpath | 결과\n",
    "-----|-----\n",
    "```$x(\"//div[@class='team-rank-box']//table[@class='team-rank']//tr\")``` | 표 11줄\n",
    "```$x(\"//div[@class='team-rank-box']//table[@class='team-rank']//tr/td\")``` | 100개\n",
    "```$x(\"//div[@class='team-rank-box']//table[@class='team-rank']//tr/td[@class='center']\")``` | 20개\n",
    "```$x(\"//div[@class='team-rank-box']//table[@class='team-rank']//tr/td//a\")``` | 팀명 10개\n"
   ]
  },
  {
   "cell_type": "markdown",
   "metadata": {
    "slideshow": {
     "slide_type": "subslide"
    }
   },
   "source": [
    "* requests를 사용해서 url을 읽어온다.\n",
    "* 전체 길이를 len()을 사용해서 알 수 있다.\n",
    "* lxml을 사용해서 tree 구조를 만든다."
   ]
  },
  {
   "cell_type": "code",
   "execution_count": 1,
   "metadata": {
    "collapsed": true,
    "slideshow": {
     "slide_type": "-"
    }
   },
   "outputs": [],
   "source": [
    "import requests\n",
    "r = requests.get('http://www.kbreport.com/main')"
   ]
  },
  {
   "cell_type": "code",
   "execution_count": 2,
   "metadata": {
    "collapsed": false,
    "slideshow": {
     "slide_type": "-"
    }
   },
   "outputs": [
    {
     "data": {
      "text/plain": [
       "50011"
      ]
     },
     "execution_count": 2,
     "metadata": {},
     "output_type": "execute_result"
    }
   ],
   "source": [
    "len(r.text)"
   ]
  },
  {
   "cell_type": "code",
   "execution_count": 3,
   "metadata": {
    "collapsed": true,
    "slideshow": {
     "slide_type": "-"
    }
   },
   "outputs": [],
   "source": [
    "import lxml.etree\n",
    "_htmlTree = lxml.etree.HTML(r.text)"
   ]
  },
  {
   "cell_type": "markdown",
   "metadata": {
    "slideshow": {
     "slide_type": "subslide"
    }
   },
   "source": [
    "* tree에서 전체 행 11개를 가져온다.\n",
    "* 행의 셀이 서로 구조가 다르다. 잘 읽어 오는지 확인한다.\n",
    "    * 팀명은 a href로 구성되어 있고, 결과는 배열이다."
   ]
  },
  {
   "cell_type": "code",
   "execution_count": 83,
   "metadata": {
    "collapsed": false,
    "slideshow": {
     "slide_type": "-"
    }
   },
   "outputs": [
    {
     "name": "stdout",
     "output_type": "stream",
     "text": [
      "테이블 행 갯수:  11\n",
      "순위 [] [] Next Row\n",
      "1 [u'\\ub450\\uc0b0'] [] Next Row\n",
      "2 ['NC'] [] Next Row\n",
      "3 [u'\\ub125\\uc13c'] [] Next Row\n",
      "4 ['LG'] [] Next Row\n",
      "5 ['KIA'] [] Next Row\n",
      "6 ['SK'] [] Next Row\n",
      "7 [u'\\ud55c\\ud654'] [] Next Row\n",
      "8 [u'\\ub86f\\ub370'] [] Next Row\n",
      "9 [u'\\uc0bc\\uc131'] [] Next Row\n",
      "10 ['kt'] [] Next Row\n"
     ]
    }
   ],
   "source": [
    "nodes = _htmlTree.xpath(\"//div[@class='team-rank-box']//table[@class='team-rank']//tr\")\n",
    "print \"테이블 행 갯수: \", len(nodes)\n",
    "counter=0\n",
    "for teams in nodes:\n",
    "    print teams[0].text, teams[1].xpath('.//a/text()'), teams[2].xpath('.//a/text()'),\n",
    "    print \"Next Row\""
   ]
  },
  {
   "cell_type": "markdown",
   "metadata": {
    "slideshow": {
     "slide_type": "subslide"
    }
   },
   "source": [
    "* nodes는 결과가 여러 개 목록이므로 배열\n",
    "* 배열 nodes의 개별 요소 teams는 '_Element'"
   ]
  },
  {
   "cell_type": "code",
   "execution_count": 84,
   "metadata": {
    "collapsed": false,
    "scrolled": true,
    "slideshow": {
     "slide_type": "-"
    }
   },
   "outputs": [
    {
     "name": "stdout",
     "output_type": "stream",
     "text": [
      "<type 'list'>\n",
      "<type 'lxml.etree._Element'>\n"
     ]
    }
   ],
   "source": [
    "print type(nodes)\n",
    "print type(teams)"
   ]
  },
  {
   "cell_type": "code",
   "execution_count": 85,
   "metadata": {
    "collapsed": false,
    "slideshow": {
     "slide_type": "-"
    }
   },
   "outputs": [
    {
     "name": "stdout",
     "output_type": "stream",
     "text": [
      "-- 0번째 행:  tr\n",
      "-- 1번째 행, 태그: [<Element th at 0x7fbe8504b368>, <Element th at 0x7fbe84facf80>, <Element th at 0x7fbe84fac908>, <Element th at 0x7fbe84fac9e0>, <Element th at 0x7fbe84fac950>, <Element th at 0x7fbe84fac878>, <Element th at 0x7fbe84faca28>, <Element th at 0x7fbe84facdd0>, <Element th at 0x7fbe84facb00>, <Element th at 0x7fbe84facb48>]\n",
      "-- 2번째 행, 태그 2번째 (팀명): 두산\n",
      "-- 2번째 행, 태그 3번째 문자열: 93\n",
      "-- 2번째 행, 태그 3번째 태그: td\n"
     ]
    }
   ],
   "source": [
    "print \"-- 0번째 행: \", nodes[0].tag\n",
    "print \"-- 1번째 행, 태그:\", nodes[0].getchildren()\n",
    "print \"-- 2번째 행, 태그 2번째 (팀명):\", nodes[1].getchildren()[1].xpath(\".//a\")[0].text\n",
    "print \"-- 2번째 행, 태그 3번째 문자열:\", nodes[1].getchildren()[2].text\n",
    "print \"-- 2번째 행, 태그 3번째 태그:\", nodes[1].getchildren()[2].tag"
   ]
  },
  {
   "cell_type": "markdown",
   "metadata": {
    "slideshow": {
     "slide_type": "subslide"
    }
   },
   "source": [
    "* 연습 후, if문으로 a link와 아닌 경우로 나누어 출력한다."
   ]
  },
  {
   "cell_type": "code",
   "execution_count": 81,
   "metadata": {
    "collapsed": false,
    "slideshow": {
     "slide_type": "-"
    }
   },
   "outputs": [
    {
     "name": "stdout",
     "output_type": "stream",
     "text": [
      "테이블 행 갯수:  11\n",
      "순위 팀명 승 무 패 승률 게임차 득점 실점 연속\n",
      "1 두산 93 1 50 0.650 0.0 935 682 2승\n",
      "2 NC 83 3 58 0.589 9.0 857 690 2패\n",
      "3 넥센 77 1 66 0.538 16.0 813 757 3패\n",
      "4 LG 71 2 71 0.500 21.5 786 807 1패\n",
      "5 KIA 70 1 73 0.490 23.0 803 785 2패\n",
      "6 SK 69 0 75 0.479 24.5 753 784 1승\n",
      "7 한화 66 3 75 0.468 26.0 826 908 3승\n",
      "8 롯데 66 0 78 0.458 27.5 777 865 2승\n",
      "9 삼성 65 1 78 0.454 28.0 852 869 1패\n",
      "10 kt 53 2 89 0.373 39.5 672 927 2승\n"
     ]
    }
   ],
   "source": [
    "nodes = _htmlTree.xpath(\"//div[@class='team-rank-box']//table[@class='team-rank']//tr\")\n",
    "print \"테이블 행 갯수: \", len(nodes)\n",
    "counter=0\n",
    "for teams in nodes:\n",
    "    for cols in teams:\n",
    "        if cols.xpath('.//a/text()'):\n",
    "            print cols.xpath('.//a/text()')[0],\n",
    "        else:\n",
    "            print cols.text.strip(),\n",
    "    print\n"
   ]
  },
  {
   "cell_type": "markdown",
   "metadata": {
    "slideshow": {
     "slide_type": "subslide"
    }
   },
   "source": [
    "### 프로그램으로 실행\n",
    "\n",
    "* 지금까지 실행했던 명령어를 정리하여 프로그램으로 작성한다.\n",
    "* 파일은 src 디렉토리에 .py 확장자로 저장한다.\n",
    "* 검색어가 한글이 포함되어 있어 인코딩을 정한다. 첫째줄에 utf-8을 적어준다.\n",
    "```\n",
    "# coding: utf-8\n",
    "```\n",
    "\n",
    "* 명령창을 열고 실행한다:\n",
    "```\n",
    "$ python src/ds_web_crawl_kbaseball.py\n",
    "```"
   ]
  },
  {
   "cell_type": "code",
   "execution_count": 92,
   "metadata": {
    "collapsed": false,
    "slideshow": {
     "slide_type": "subslide"
    }
   },
   "outputs": [
    {
     "name": "stdout",
     "output_type": "stream",
     "text": [
      "테이블 행 갯수:  11\n",
      "순위 팀명 승 무 패 승률 게임차 득점 실점 연속\n",
      "1 두산 93 1 50 0.650 0.0 935 682 2승\n",
      "2 NC 83 3 58 0.589 9.0 857 690 2패\n",
      "3 넥센 77 1 66 0.538 16.0 813 757 3패\n",
      "4 LG 71 2 71 0.500 21.5 786 807 1패\n",
      "5 KIA 70 1 73 0.490 23.0 803 785 2패\n",
      "6 SK 69 0 75 0.479 24.5 753 784 1승\n",
      "7 한화 66 3 75 0.468 26.0 826 908 3승\n",
      "8 롯데 66 0 78 0.458 27.5 777 865 2승\n",
      "9 삼성 65 1 78 0.454 28.0 852 869 1패\n",
      "10 kt 53 2 89 0.373 39.5 672 927 2승\n"
     ]
    }
   ],
   "source": [
    "import requests\n",
    "import lxml.etree\n",
    "\n",
    "r = requests.get('http://www.kbreport.com/main')\n",
    "_htmlTree = lxml.etree.HTML(r.text)\n",
    "nodes = _htmlTree.xpath(\"//div[@class='team-rank-box']//table[@class='team-rank']//tr\")\n",
    "print \"테이블 행 갯수: \", len(nodes)\n",
    "counter=0\n",
    "for teams in nodes:\n",
    "    for cols in teams:\n",
    "        if cols.xpath('.//a/text()'):\n",
    "            print cols.xpath('.//a/text()')[0],\n",
    "        else:\n",
    "            print cols.text.strip(),\n",
    "    print\n"
   ]
  },
  {
   "cell_type": "markdown",
   "metadata": {
    "slideshow": {
     "slide_type": "subslide"
    }
   },
   "source": [
    "* 구조를 만들어 프로그램으로 만든다.\n",
    "    * 라이브러로 만들거나,\n",
    "    * 테스트하거나,\n",
    "    * 시작 점을 분명하게 할 수 있다.\n",
    "* main() 함수\n",
    "    * if __name__ == \"__main__\"는 명령창에서 실행할 경우, 처음 실행되는 main()함수 역할"
   ]
  },
  {
   "cell_type": "code",
   "execution_count": 94,
   "metadata": {
    "collapsed": false,
    "slideshow": {
     "slide_type": "subslide"
    }
   },
   "outputs": [
    {
     "name": "stdout",
     "output_type": "stream",
     "text": [
      "Overwriting src/ds_web_crawl_kbaseball.py\n"
     ]
    }
   ],
   "source": [
    "%%writefile src/ds_web_crawl_kbaseball.py\n",
    "# coding: utf-8\n",
    "import requests\n",
    "import lxml.etree\n",
    "\n",
    "def getkb():\n",
    "    r = requests.get('http://www.kbreport.com/main')\n",
    "    _htmlTree = lxml.etree.HTML(r.text)\n",
    "    nodes = _htmlTree.xpath(\"//div[@class='team-rank-box']//table[@class='team-rank']//tr\")\n",
    "    print \"테이블 행 갯수: \", len(nodes)\n",
    "    counter=0\n",
    "    for teams in nodes:\n",
    "        for cols in teams:\n",
    "            if cols.xpath('.//a/text()'):\n",
    "                print cols.xpath('.//a/text()')[0],\n",
    "            else:\n",
    "                print cols.text.strip(),\n",
    "        print\n",
    "\n",
    "def main():\n",
    "    getkb()\n",
    "\n",
    "if __name__ == \"__main__\":\n",
    "    main()"
   ]
  },
  {
   "cell_type": "code",
   "execution_count": 95,
   "metadata": {
    "collapsed": false,
    "scrolled": false,
    "slideshow": {
     "slide_type": "subslide"
    }
   },
   "outputs": [
    {
     "name": "stdout",
     "output_type": "stream",
     "text": [
      "테이블 행 갯수:  11\r\n",
      "순위 팀명 승 무 패 승률 게임차 득점 실점 연속\r\n",
      "1 두산 93 1 50 0.650 0.0 935 682 2승\r\n",
      "2 NC 83 3 58 0.589 9.0 857 690 2패\r\n",
      "3 넥센 77 1 66 0.538 16.0 813 757 3패\r\n",
      "4 LG 71 2 71 0.500 21.5 786 807 1패\r\n",
      "5 KIA 70 1 73 0.490 23.0 803 785 2패\r\n",
      "6 SK 69 0 75 0.479 24.5 753 784 1승\r\n",
      "7 한화 66 3 75 0.468 26.0 826 908 3승\r\n",
      "8 롯데 66 0 78 0.458 27.5 777 865 2승\r\n",
      "9 삼성 65 1 78 0.454 28.0 852 869 1패\r\n",
      "10 kt 53 2 89 0.373 39.5 672 927 2승\r\n"
     ]
    }
   ],
   "source": [
    "!python src/ds_web_crawl_kbaseball.py"
   ]
  },
  {
   "cell_type": "markdown",
   "metadata": {
    "slideshow": {
     "slide_type": "subslide"
    }
   },
   "source": [
    "### 더 해보기\n",
    "\n",
    "* '더보기 >>' 버튼의 크롤링\n",
    "* css 크롤링\n",
    "* 검색조건을 넣어서 크롤링\n",
    "    * url 검색 'http://www.kbreport.com/player/list?key=이대호'\n",
    "\n",
    "    * javascript console 창\n",
    "```\n",
    "> $$('.dca-cb-table1 td')[0].innerText\n",
    "\"이대호\"\n",
    "> $$('.dca-cb-table1 td')[1].innerText\n",
    "\"1982-06-21\"\n",
    "> $$('.dca-cb-table1 td')[2].innerText\n",
    "\"2017\"\n",
    "> $$('.dca-cb-table1 td')[3].innerText\n",
    "\"롯데\"\n",
    "```"
   ]
  },
  {
   "cell_type": "markdown",
   "metadata": {
    "slideshow": {
     "slide_type": "slide"
    }
   },
   "source": [
    "## 웹데이터-7: 프리미어리그 경기결과를 크롤링하기\n",
    "\n",
    "* 영국 Premier League의 경기 결과가 게시되고 있다.\n",
    "```\n",
    "http://www.bbc.co.uk/sport/football/premier-league/results\n",
    "```\n"
   ]
  },
  {
   "cell_type": "code",
   "execution_count": 9,
   "metadata": {
    "collapsed": false,
    "slideshow": {
     "slide_type": "subslide"
    }
   },
   "outputs": [
    {
     "name": "stdout",
     "output_type": "stream",
     "text": [
      "486626\n"
     ]
    }
   ],
   "source": [
    "import requests\n",
    "url = 'http://www.bbc.co.uk/sport/football/premier-league/results'\n",
    "r=requests.get(url)\n",
    "_html=r.text\n",
    "print len(_html)"
   ]
  },
  {
   "cell_type": "markdown",
   "metadata": {
    "slideshow": {
     "slide_type": "subslide"
    }
   },
   "source": [
    "* _html는 문자열 string이다 (html 태그를 가지고 있는 문자열).\n",
    "* 문자열에서 EPL 결과를 요약해 놓은 'table-stats'를 찾아본다.\n",
    "* find"
   ]
  },
  {
   "cell_type": "markdown",
   "metadata": {
    "slideshow": {
     "slide_type": "-"
    }
   },
   "source": [
    "* 총 77개의 table-stats"
   ]
  },
  {
   "cell_type": "code",
   "execution_count": 10,
   "metadata": {
    "collapsed": false,
    "slideshow": {
     "slide_type": "subslide"
    }
   },
   "outputs": [
    {
     "name": "stdout",
     "output_type": "stream",
     "text": [
      "1 78683 -- 2 82750 -- 3 90877 -- 4 92781 -- 5 95727 -- 6 99784 -- 7 101776 -- 8 103759 -- 9 106778 -- 10 114929 -- 11 116922 -- 12 118925 -- 13 126993 -- 14 128996 -- 15 132005 -- 16 140165 -- 17 143208 -- 18 152370 -- 19 156425 -- 20 164573 -- 21 168590 -- 22 176775 -- 23 179798 -- 24 188979 -- 25 190974 -- 26 195004 -- 27 202141 -- 28 205158 -- 29 213333 -- 30 215315 -- 31 217322 -- 32 219308 -- 33 228489 -- 34 230468 -- 35 234517 -- 36 241665 -- 37 250862 -- 38 253872 -- 39 258979 -- 40 266077 -- 41 268066 -- 42 271085 -- 43 279245 -- 44 284308 -- 45 291451 -- 46 293452 -- 47 295441 -- 48 304623 -- 49 310736 -- 50 316825 -- 51 318814 -- 52 321821 -- 53 329992 -- 54 333019 -- 55 342194 -- 56 344191 -- 57 347194 -- 58 355360 -- 59 360441 -- 60 366539 -- 61 368530 -- 62 370507 -- 63 372510 -- 64 381709 -- 65 386796 -- 66 392907 -- 67 394888 -- 68 396871 -- 69 398860 -- 70 408064 -- 71 411115 -- 72 420262 -- 73 423289 -- 74 431424 -- 75 433423 -- 76 435410 -- 77 438427 -- 78 457750 --\n"
     ]
    }
   ],
   "source": [
    "query='table-stats'\n",
    "posstats=-1;\n",
    "posstats=_html.find(query)\n",
    "counter=0;\n",
    "while posstats>=0:\n",
    "    counter+=1\n",
    "    print counter,posstats,'--',\n",
    "    posstats=_html.find(query,posstats+1)\n"
   ]
  },
  {
   "cell_type": "markdown",
   "metadata": {
    "slideshow": {
     "slide_type": "subslide"
    }
   },
   "source": [
    "* scrapy에서 XPath를 사용해서, 데이터를 추출한다.\n",
    "* scrapy.selector.Selector를 사용해 태그를 선택할 수 있다."
   ]
  },
  {
   "cell_type": "markdown",
   "metadata": {
    "slideshow": {
     "slide_type": "subslide"
    }
   },
   "source": [
    "\n",
    "* 모든 데이터 갯수. path가 생략되었기 때문에 301개 (아래 전체 path로 조회하면 280개)\n",
    "```\n",
    "> $x(\"//*[@class='report']//*[@class='match-details']/p\")\n",
    "또는 > $$('.report .match-details > p')\n",
    "Array[280]\n",
    "```\n",
    "\n",
    "* css와 xpath의 첫째 항목의 innertText를 비교한다.\n",
    "\n",
    "css | 결과 | xpath\n",
    "-----|-----|-----\n",
    "$$('.match-details > p')[0].innerText | West Bromwich Albion<br>3-1<br>Arsenal | $x(\"//*[@class='match-details']/p\")[0].innerText\n",
    "\n",
    "\n",
    "\n"
   ]
  },
  {
   "cell_type": "code",
   "execution_count": 7,
   "metadata": {
    "collapsed": false,
    "slideshow": {
     "slide_type": "subslide"
    }
   },
   "outputs": [
    {
     "name": "stdout",
     "output_type": "stream",
     "text": [
      "280\n",
      "<p>\n",
      "                <span class=\"team-home teams\">\n",
      "                                        <a href=\"/sport/football/teams/west-bromwich-albion\">West Bromwich Albion</a>                </span>\n",
      "                  <span class=\"score\"> <abbr title=\"Score\"> 3-1 </abbr> </span>                  <span class=\"team-away teams\">\n",
      "                    <a href=\"/sport/football/teams/arsenal\">Arsenal</a>                </span>\n",
      "                                            </p>\n"
     ]
    }
   ],
   "source": [
    "from scrapy.selector import Selector\n",
    "#nodes=Selector(text=_html).xpath(\"//table[@class='table-stats']/tbody/tr[@class='report']/td[@class='match-details']/p\")\n",
    "nodes=Selector(text=_html).xpath(\"//*[@class='report']//*[@class='match-details']/p\")\n",
    "print len(nodes)\n",
    "print nodes[0].extract()"
   ]
  },
  {
   "cell_type": "markdown",
   "metadata": {
    "slideshow": {
     "slide_type": "subslide"
    }
   },
   "source": [
    "* css와 xpath를 같이 사용했다."
   ]
  },
  {
   "cell_type": "code",
   "execution_count": 8,
   "metadata": {
    "collapsed": false,
    "slideshow": {
     "slide_type": "-"
    }
   },
   "outputs": [
    {
     "name": "stdout",
     "output_type": "stream",
     "text": [
      "West Bromwich Albion 3-1 3 1 Arsenal\n",
      "Crystal Palace 1-0 1 0 Watford\n",
      "Everton 4-0 4 0 Hull City\n",
      "Stoke City 1-2 1 2 Chelsea\n",
      "Sunderland 0-0 0 0 Burnley\n",
      "West Ham United 2-3 2 3 Leicester City\n",
      "Bournemouth 2-0 2 0 Swansea City\n",
      "Liverpool 2-1 2 1 Burnley\n",
      "Bournemouth 3-2 3 2 West Ham United\n",
      "Everton 3-0 3 0 West Bromwich Albion\n",
      "Hull City 2-1 2 1 Swansea City\n",
      "Manchester City 0-0 0 0 Stoke City\n",
      "West Ham United 1-2 1 2 Chelsea\n",
      "Tottenham Hotspur 3-2 3 2 Everton\n",
      "Sunderland 0-2 0 2 Manchester City\n",
      "Manchester United 1-1 1 1 Bournemouth\n",
      "Leicester City 3-1 3 1 Hull City\n",
      "Stoke City 2-0 2 0 Middlesbrough\n",
      "Swansea City 3-2 3 2 Burnley\n",
      "Watford 3-4 3 4 Southampton\n",
      "West Bromwich Albion 0-2 0 2 Crystal Palace\n",
      "Liverpool 3-1 3 1 Arsenal\n",
      "Leicester City 3-1 3 1 Liverpool\n",
      "Tottenham Hotspur 4-0 4 0 Stoke City\n",
      "Chelsea 3-1 3 1 Swansea City\n",
      "Crystal Palace 1-0 1 0 Middlesbrough\n",
      "Everton 2-0 2 0 Sunderland\n",
      "Hull City 1-1 1 1 Burnley\n",
      "West Bromwich Albion 2-1 2 1 Bournemouth\n",
      "Watford 1-1 1 1 West Ham United\n",
      "Bournemouth 0-2 0 2 Manchester City\n",
      "Burnley 1-1 1 1 Chelsea\n",
      "Swansea City 2-0 2 0 Leicester City\n",
      "Arsenal 2-0 2 0 Hull City\n",
      "Manchester United 2-0 2 0 Watford\n",
      "Middlesbrough 0-0 0 0 Everton\n",
      "Stoke City 1-0 1 0 Crystal Palace\n",
      "Sunderland 0-4 0 4 Southampton\n",
      "West Ham United 2-2 2 2 West Bromwich Albion\n",
      "Liverpool 2-0 2 0 Tottenham Hotspur\n",
      "Manchester City 2-1 2 1 Swansea City\n",
      "Leicester City 0-3 0 3 Manchester United\n",
      "Chelsea 3-1 3 1 Arsenal\n",
      "Crystal Palace 0-4 0 4 Sunderland\n",
      "Everton 6-3 6 3 Bournemouth\n",
      "Hull City 2-0 2 0 Liverpool\n",
      "Southampton 1-3 1 3 West Ham United\n",
      "Watford 2-1 2 1 Burnley\n",
      "West Bromwich Albion 1-0 1 0 Stoke City\n",
      "Tottenham Hotspur 1-0 1 0 Middlesbrough\n",
      "West Ham United 0-4 0 4 Manchester City\n",
      "Manchester United 0-0 0 0 Hull City\n",
      "Stoke City 1-1 1 1 Everton\n",
      "Arsenal 1-2 1 2 Watford\n",
      "Bournemouth 0-2 0 2 Crystal Palace\n",
      "Burnley 1-0 1 0 Leicester City\n",
      "Middlesbrough 1-1 1 1 West Bromwich Albion\n",
      "Sunderland 0-0 0 0 Tottenham Hotspur\n",
      "Swansea City 2-1 2 1 Southampton\n",
      "Liverpool 1-1 1 1 Chelsea\n",
      "Southampton 3-0 3 0 Leicester City\n",
      "Arsenal 2-1 2 1 Burnley\n",
      "Chelsea 2-0 2 0 Hull City\n",
      "Liverpool 2-3 2 3 Swansea City\n",
      "Bournemouth 2-2 2 2 Watford\n",
      "Crystal Palace 0-1 0 1 Everton\n",
      "Middlesbrough 1-3 1 3 West Ham United\n",
      "Stoke City 1-1 1 1 Manchester United\n",
      "West Bromwich Albion 2-0 2 0 Sunderland\n",
      "Manchester City 2-2 2 2 Tottenham Hotspur\n",
      "Everton 4-0 4 0 Manchester City\n",
      "Manchester United 1-1 1 1 Liverpool\n",
      "Tottenham Hotspur 4-0 4 0 West Bromwich Albion\n",
      "Burnley 1-0 1 0 Southampton\n",
      "Hull City 3-1 3 1 Bournemouth\n",
      "Sunderland 1-3 1 3 Stoke City\n",
      "Swansea City 0-4 0 4 Arsenal\n",
      "Watford 0-0 0 0 Middlesbrough\n",
      "West Ham United 3-0 3 0 Crystal Palace\n",
      "Leicester City 0-3 0 3 Chelsea\n",
      "Tottenham Hotspur 2-0 2 0 Chelsea\n",
      "Bournemouth 3-3 3 3 Arsenal\n",
      "Crystal Palace 1-2 1 2 Swansea City\n",
      "Stoke City 2-0 2 0 Watford\n",
      "Middlesbrough 0-0 0 0 Leicester City\n",
      "Everton 3-0 3 0 Southampton\n",
      "Manchester City 2-1 2 1 Burnley\n",
      "Sunderland 2-2 2 2 Liverpool\n",
      "West Bromwich Albion 3-1 3 1 Hull City\n",
      "West Ham United 0-2 0 2 Manchester United\n",
      "Watford 1-4 1 4 Tottenham Hotspur\n",
      "Arsenal 2-0 2 0 Crystal Palace\n",
      "Burnley 4-1 4 1 Sunderland\n",
      "Chelsea 4-2 4 2 Stoke City\n",
      "Leicester City 1-0 1 0 West Ham United\n",
      "Manchester United 2-1 2 1 Middlesbrough\n",
      "Southampton 1-2 1 2 West Bromwich Albion\n",
      "Swansea City 0-3 0 3 Bournemouth\n",
      "Liverpool 1-0 1 0 Manchester City\n",
      "Hull City 2-2 2 2 Everton\n",
      "Southampton 1-4 1 4 Tottenham Hotspur\n",
      "Liverpool 4-1 4 1 Stoke City\n",
      "Watford 1-1 1 1 Crystal Palace\n",
      "Arsenal 1-0 1 0 West Bromwich Albion\n",
      "Burnley 1-0 1 0 Middlesbrough\n",
      "Chelsea 3-0 3 0 Bournemouth\n",
      "Leicester City 0-2 0 2 Everton\n",
      "Manchester United 3-1 3 1 Sunderland\n",
      "Swansea City 1-4 1 4 West Ham United\n",
      "Hull City 0-3 0 3 Manchester City\n",
      "Everton 0-1 0 1 Liverpool\n",
      "Bournemouth 1-3 1 3 Southampton\n",
      "Manchester City 2-1 2 1 Arsenal\n",
      "Tottenham Hotspur 2-1 2 1 Burnley\n",
      "Crystal Palace 0-1 0 1 Chelsea\n",
      "Middlesbrough 3-0 3 0 Swansea City\n",
      "Stoke City 2-2 2 2 Leicester City\n",
      "Sunderland 1-0 1 0 Watford\n",
      "West Ham United 1-0 1 0 Hull City\n",
      "West Bromwich Albion 0-2 0 2 Manchester United\n",
      "Middlesbrough 0-3 0 3 Liverpool\n",
      "Sunderland 0-1 0 1 Chelsea\n",
      "West Ham United 1-0 1 0 Burnley\n",
      "Crystal Palace 1-2 1 2 Manchester United\n",
      "Manchester City 2-0 2 0 Watford\n",
      "Stoke City 0-0 0 0 Southampton\n",
      "Tottenham Hotspur 3-0 3 0 Hull City\n",
      "West Bromwich Albion 3-1 3 1 Swansea City\n",
      "Bournemouth 1-0 1 0 Leicester City\n",
      "Everton 2-1 2 1 Arsenal\n",
      "Chelsea 1-0 1 0 West Bromwich Albion\n",
      "Manchester United 1-0 1 0 Tottenham Hotspur\n",
      "Southampton 1-0 1 0 Middlesbrough\n",
      "Liverpool 2-2 2 2 West Ham United\n",
      "Watford 3-2 3 2 Everton\n",
      "Arsenal 3-1 3 1 Stoke City\n",
      "Burnley 3-2 3 2 Bournemouth\n",
      "Hull City 3-3 3 3 Crystal Palace\n",
      "Swansea City 3-0 3 0 Sunderland\n",
      "Leicester City 4-2 4 2 Manchester City\n",
      "Middlesbrough 1-0 1 0 Hull City\n",
      "Bournemouth 4-3 4 3 Liverpool\n",
      "Everton 1-1 1 1 Manchester United\n",
      "Manchester City 1-3 1 3 Chelsea\n",
      "Crystal Palace 3-0 3 0 Southampton\n",
      "Stoke City 2-0 2 0 Burnley\n",
      "Sunderland 2-1 2 1 Leicester City\n",
      "Tottenham Hotspur 5-0 5 0 Swansea City\n",
      "West Bromwich Albion 3-1 3 1 Watford\n",
      "West Ham United 1-5 1 5 Arsenal\n",
      "Watford 0-1 0 1 Stoke City\n",
      "Arsenal 3-1 3 1 Bournemouth\n",
      "Manchester United 1-1 1 1 West Ham United\n",
      "Southampton 1-0 1 0 Everton\n",
      "Burnley 1-2 1 2 Manchester City\n",
      "Hull City 1-1 1 1 West Bromwich Albion\n",
      "Leicester City 2-2 2 2 Middlesbrough\n",
      "Liverpool 2-0 2 0 Sunderland\n",
      "Swansea City 5-4 5 4 Crystal Palace\n",
      "Chelsea 2-1 2 1 Tottenham Hotspur\n",
      "West Bromwich Albion 4-0 4 0 Burnley\n",
      "Middlesbrough 0-1 0 1 Chelsea\n",
      "Manchester United 1-1 1 1 Arsenal\n",
      "Crystal Palace 1-2 1 2 Manchester City\n",
      "Everton 1-1 1 1 Swansea City\n",
      "Southampton 0-0 0 0 Liverpool\n",
      "Stoke City 0-1 0 1 Bournemouth\n",
      "Sunderland 3-0 3 0 Hull City\n",
      "Watford 2-1 2 1 Leicester City\n",
      "Tottenham Hotspur 3-2 3 2 West Ham United\n",
      "Arsenal 1-1 1 1 Tottenham Hotspur\n",
      "Hull City 2-1 2 1 Southampton\n",
      "Liverpool 6-1 6 1 Watford\n",
      "Swansea City 1-3 1 3 Manchester United\n",
      "Leicester City 1-2 1 2 West Bromwich Albion\n",
      "Bournemouth 1-2 1 2 Sunderland\n",
      "Burnley 3-2 3 2 Crystal Palace\n",
      "Manchester City 1-1 1 1 Middlesbrough\n",
      "West Ham United 1-1 1 1 Stoke City\n",
      "Chelsea 5-0 5 0 Everton\n",
      "Stoke City 3-1 3 1 Swansea City\n",
      "Everton 2-0 2 0 West Ham United\n",
      "Southampton 0-2 0 2 Chelsea\n",
      "Sunderland 1-4 1 4 Arsenal\n",
      "Manchester United 0-0 0 0 Burnley\n",
      "Middlesbrough 2-0 2 0 Bournemouth\n",
      "Tottenham Hotspur 1-1 1 1 Leicester City\n",
      "Watford 1-0 1 0 Hull City\n",
      "West Bromwich Albion 0-4 0 4 Manchester City\n",
      "Crystal Palace 2-4 2 4 Liverpool\n",
      "Manchester City 1-1 1 1 Southampton\n",
      "Chelsea 4-0 4 0 Manchester United\n",
      "Bournemouth 0-0 0 0 Tottenham Hotspur\n",
      "Arsenal 0-0 0 0 Middlesbrough\n",
      "Burnley 2-1 2 1 Everton\n",
      "Hull City 0-2 0 2 Stoke City\n",
      "Leicester City 3-1 3 1 Crystal Palace\n",
      "Swansea City 0-0 0 0 Watford\n",
      "West Ham United 1-0 1 0 Sunderland\n",
      "Liverpool 2-1 2 1 West Bromwich Albion\n",
      "Liverpool 0-0 0 0 Manchester United\n",
      "Middlesbrough 0-1 0 1 Watford\n",
      "Southampton 3-1 3 1 Burnley\n",
      "Chelsea 3-0 3 0 Leicester City\n",
      "Arsenal 3-2 3 2 Swansea City\n",
      "Bournemouth 6-1 6 1 Hull City\n",
      "Manchester City 1-1 1 1 Everton\n",
      "Stoke City 2-0 2 0 Sunderland\n",
      "West Bromwich Albion 1-1 1 1 Tottenham Hotspur\n",
      "Crystal Palace 0-1 0 1 West Ham United\n",
      "Manchester United 1-1 1 1 Stoke City\n",
      "Leicester City 0-0 0 0 Southampton\n",
      "Tottenham Hotspur 2-0 2 0 Manchester City\n",
      "Burnley 0-1 0 1 Arsenal\n",
      "Swansea City 1-2 1 2 Liverpool\n",
      "Hull City 0-2 0 2 Chelsea\n",
      "Sunderland 1-1 1 1 West Bromwich Albion\n",
      "Watford 2-2 2 2 Bournemouth\n",
      "West Ham United 1-1 1 1 Middlesbrough\n",
      "Everton 1-1 1 1 Crystal Palace\n",
      "Burnley 2-0 2 0 Watford\n",
      "West Ham United 0-3 0 3 Southampton\n",
      "Manchester United 4-1 4 1 Leicester City\n",
      "Bournemouth 1-0 1 0 Everton\n",
      "Liverpool 5-1 5 1 Hull City\n",
      "Middlesbrough 1-2 1 2 Tottenham Hotspur\n",
      "Stoke City 1-1 1 1 West Bromwich Albion\n",
      "Sunderland 2-3 2 3 Crystal Palace\n",
      "Swansea City 1-3 1 3 Manchester City\n",
      "Arsenal 3-0 3 0 Chelsea\n",
      "Watford 3-1 3 1 Manchester United\n",
      "Crystal Palace 4-1 4 1 Stoke City\n",
      "Southampton 1-0 1 0 Swansea City\n",
      "Tottenham Hotspur 1-0 1 0 Sunderland\n",
      "Hull City 1-4 1 4 Arsenal\n",
      "Leicester City 3-0 3 0 Burnley\n",
      "Manchester City 4-0 4 0 Bournemouth\n",
      "West Bromwich Albion 4-2 4 2 West Ham United\n",
      "Everton 3-1 3 1 Middlesbrough\n",
      "Chelsea 1-2 1 2 Liverpool\n",
      "Sunderland 0-3 0 3 Everton\n",
      "Swansea City 2-2 2 2 Chelsea\n",
      "Manchester United 1-2 1 2 Manchester City\n",
      "Arsenal 2-1 2 1 Southampton\n",
      "Bournemouth 1-0 1 0 West Bromwich Albion\n",
      "Burnley 1-1 1 1 Hull City\n",
      "Middlesbrough 1-2 1 2 Crystal Palace\n",
      "Stoke City 0-4 0 4 Tottenham Hotspur\n",
      "West Ham United 2-4 2 4 Watford\n",
      "Liverpool 4-1 4 1 Leicester City\n",
      "West Bromwich Albion 0-0 0 0 Middlesbrough\n",
      "Manchester City 3-1 3 1 West Ham United\n",
      "Tottenham Hotspur 1-1 1 1 Liverpool\n",
      "Chelsea 3-0 3 0 Burnley\n",
      "Crystal Palace 1-1 1 1 Bournemouth\n",
      "Everton 1-0 1 0 Stoke City\n",
      "Leicester City 2-1 2 1 Swansea City\n",
      "Southampton 1-1 1 1 Sunderland\n",
      "Watford 1-3 1 3 Arsenal\n",
      "Hull City 0-1 0 1 Manchester United\n",
      "Sunderland 1-2 1 2 Middlesbrough\n",
      "West Ham United 1-0 1 0 Bournemouth\n",
      "Stoke City 1-4 1 4 Manchester City\n",
      "Burnley 2-0 2 0 Liverpool\n",
      "Swansea City 0-2 0 2 Hull City\n",
      "Tottenham Hotspur 1-0 1 0 Crystal Palace\n",
      "Watford 1-2 1 2 Chelsea\n",
      "West Bromwich Albion 1-2 1 2 Everton\n",
      "Leicester City 0-0 0 0 Arsenal\n",
      "Manchester United 2-0 2 0 Southampton\n",
      "Chelsea 2-1 2 1 West Ham United\n",
      "Bournemouth 1-3 1 3 Manchester United\n",
      "Arsenal 3-4 3 4 Liverpool\n",
      "Hull City 2-1 2 1 Leicester City\n",
      "Burnley 0-1 0 1 Swansea City\n",
      "Crystal Palace 0-1 0 1 West Bromwich Albion\n",
      "Everton 1-1 1 1 Tottenham Hotspur\n",
      "Middlesbrough 1-1 1 1 Stoke City\n",
      "Southampton 1-1 1 1 Watford\n",
      "Manchester City 2-1 2 1 Sunderland\n"
     ]
    }
   ],
   "source": [
    "for node in nodes:\n",
    "    #home_team = node.xpath(\"span[@class='team-home teams']/a/text()\").extract()\n",
    "    home_team = node.css(\"span[class='team-home teams'] > a::text\").extract()\n",
    "    #javascript console css selector: $$('.score > abbr')[0].innerText\n",
    "    #score = node.xpath(\"span[@class='score']/abbr/text()\").extract()\n",
    "    score = node.css(\"span[class='score'] > abbr::text\").extract()\n",
    "    #away_team = node.xpath(\"span[@class='team-away teams']/a/text()\").extract()\n",
    "    away_team = node.css(\"span[class='team-away teams'] > a::text\").extract()\n",
    "    if home_team and score and away_team:\n",
    "        home_team = home_team[0].strip()\n",
    "        score = score[0].strip()\n",
    "        home_goals = int(score.split('-')[0])\n",
    "        away_goals = int(score.split('-')[1])\n",
    "        away_team = away_team[0].strip()\n",
    "    print home_team, score, home_goals, away_goals, away_team"
   ]
  },
  {
   "cell_type": "markdown",
   "metadata": {
    "slideshow": {
     "slide_type": "subslide"
    }
   },
   "source": [
    "* 위 결과를 팀별로 정리해서, 테이블로 만들어 본다.\n",
    "    * 몇 개 팀? 20개\n",
    "    * 이기면 3점 (홈, 어웨이)\n",
    "    * 비기면 1점\n",
    "    * 홈과 어웨이로 구분하여\n",
    "\n",
    "팀 | 순위 | 경기수 | 승리 | 무승부 | 패배 | 승리 골 수 | 패배 골 수 | 골 차이 | 점수\n",
    "-----|-----|-----|-----|-----|-----|-----|-----|----\n",
    "Man Utd | 1 | 34 | 27 | 3 | 4 | 78 | 35 | 43 | 84"
   ]
  },
  {
   "cell_type": "markdown",
   "metadata": {
    "slideshow": {
     "slide_type": "slide"
    }
   },
   "source": [
    "## 연습\n",
    "\n",
    "* 크롤링은 수집하는 데이터가 비구조적이라 쉽지 않다.\n",
    "* 관심있는 웹 사이트를 대상으로 크롤링을 할 수 있다."
   ]
  },
  {
   "cell_type": "markdown",
   "metadata": {
    "slideshow": {
     "slide_type": "slide"
    }
   },
   "source": [
    "## 연습 웹데이터-1: UC Irvine 기계학습 데이터\n",
    "\n",
    "* UC Irvine 기계학습 데이터 banknote authentication Data Set를 프로그래밍으로 가져와서 \n",
    "클래스별로 'entropy of image'의 평균을 구하시오\n",
    "* http://archive.ics.uci.edu/ml/datasets/banknote+authentication\n",
    "\n"
   ]
  },
  {
   "cell_type": "markdown",
   "metadata": {
    "slideshow": {
     "slide_type": "slide"
    }
   },
   "source": [
    "## 연습 웹데이터-2: 기상청 도별 날씨 가져오기\n",
    "\n",
    "* 기상청 http://www.kma.go.kr/index.jsp의 날씨\n",
    "* css selector\n",
    "    ```\n",
    "    $$('.region_weather_e')\n",
    "    ```"
   ]
  },
  {
   "cell_type": "markdown",
   "metadata": {
    "slideshow": {
     "slide_type": "slide"
    }
   },
   "source": [
    "## 연습 웹데이터-3: 신문 크롤링 해보기\n",
    "\n",
    "* [BIG KINDS-Pro](http://www.bigkinds.or.kr/)\n",
    "    * 2016년 개편 후, 데이터분석 기능을 제공\n",
    "    * 스크레이핑의 params이 검색에 문자열로 붙지 않는 문제가 있다."
   ]
  },
  {
   "cell_type": "markdown",
   "metadata": {
    "slideshow": {
     "slide_type": "slide"
    }
   },
   "source": [
    "## 연습 웹데이터-4: 영화 리뷰의 분석\n",
    "\n",
    "* 영화 리뷰\n",
    "    * 상영하고 있는 영화에 댓글을 다는 기능이 있다.\n",
    "    * 댓글에서 의미있는 데이터를 추출하여 영화에 대해 긍정적, 부정적 의견이 어떠한지 분류할 수 있다.\n",
    "    * 댓글을 분석하여 해당 영화의 매출을 예측하기도 한다.\n",
    "* 영화 리뷰를 분석하여 의미있는 정보를 추출하는 관련 학술 논문이 많다.\n",
    "    * Pang, Bo, Lillian Lee, and Shivakumar Vaithyanathan. \"Thumbs up?: sentiment classification using machine learning techniques.\" Proceedings of the ACL-02 conference on Empirical methods in natural language processing-Volume 10. Association for Computational Linguistics, 2002."
   ]
  }
 ],
 "metadata": {
  "celltoolbar": "Slideshow",
  "kernelspec": {
   "display_name": "Python 2",
   "language": "python",
   "name": "python2"
  },
  "language_info": {
   "codemirror_mode": {
    "name": "ipython",
    "version": 2
   },
   "file_extension": ".py",
   "mimetype": "text/x-python",
   "name": "python",
   "nbconvert_exporter": "python",
   "pygments_lexer": "ipython2",
   "version": "2.7.13"
  }
 },
 "nbformat": 4,
 "nbformat_minor": 0
}
