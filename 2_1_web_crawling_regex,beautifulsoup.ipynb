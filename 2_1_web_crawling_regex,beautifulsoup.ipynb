{
 "cells": [
  {
   "cell_type": "markdown",
   "metadata": {},
   "source": [
    "# 웹데이터"
   ]
  },
  {
   "cell_type": "code",
   "execution_count": 7,
   "metadata": {
    "collapsed": false
   },
   "outputs": [
    {
     "name": "stdout",
     "output_type": "stream",
     "text": [
      "Overwriting src/mypage1.html\n"
     ]
    }
   ],
   "source": [
    "%%writefile src/mypage1.html\n",
    "<!DOCTYPE html>\n",
    "<html>\n",
    "<head>\n",
    "<meta charset=\"UTF-8\">\n",
    "<title>My Home Page</title>\n",
    "</head>\n",
    "<body>\n",
    "<h1>안녕하십니까</h1>\n",
    "<p>오늘은 프로그래밍 하는 날...</p>\n",
    "<p>Today we do programming...</p>\n",
    "</body>\n",
    "</html>"
   ]
  },
  {
   "cell_type": "markdown",
   "metadata": {},
   "source": [
    "## 1. 3 uri"
   ]
  },
  {
   "cell_type": "markdown",
   "metadata": {},
   "source": [
    "### 1.3.1 domain \n",
    "#### <로컬 url 사용법>"
   ]
  },
  {
   "cell_type": "markdown",
   "metadata": {},
   "source": [
    "* os.path.join()을 사용하여 디렉토리 구분자로 인한 오류를 막아준다.\n",
    "* os.path.join()은 현재 작업디렉토리 'os.getcwd()' + 'src' + 'mypage1.html'을 합쳐 준다."
   ]
  },
  {
   "cell_type": "code",
   "execution_count": 2,
   "metadata": {
    "collapsed": false
   },
   "outputs": [
    {
     "name": "stdout",
     "output_type": "stream",
     "text": [
      "file://localhost/C:\\Users\\Y\\Code\\s_201511138\\src\\mypage1.html\n",
      "file://localhost/C:\\Users\\Y\\Code\\s_201511138\\src/mypage1.html\n"
     ]
    },
    {
     "data": {
      "text/plain": [
       "True"
      ]
     },
     "execution_count": 2,
     "metadata": {},
     "output_type": "execute_result"
    }
   ],
   "source": [
    "import webbrowser\n",
    "import os\n",
    "\n",
    "myuri='file://'+'localhost/'+os.path.join(os.getcwd(), 'src','mypage1.html')\n",
    "print myuri\n",
    "\n",
    "myuri='file://'+'localhost/'+os.path.join(os.getcwd(), 'src/mypage1.html')\n",
    "print myuri\n",
    "webbrowser.open(myuri)"
   ]
  },
  {
   "cell_type": "markdown",
   "metadata": {},
   "source": [
    "* 셀에서 웹페이지를 작성하면 jupyter notebook에 바로 내용이 나오기때문에 간단한 html인 경우, 확인이 용이하다"
   ]
  },
  {
   "cell_type": "code",
   "execution_count": 2,
   "metadata": {
    "collapsed": false
   },
   "outputs": [
    {
     "data": {
      "text/html": [
       "<!DOCTYPE html>\n",
       "<html>\n",
       "<head>\n",
       "<title>My Home Page</title>\n",
       "</head>\n",
       "<body>\n",
       "<h1>안녕하십니까</h1>\n",
       "<p>오늘은 프로그래밍 하는 날...</p>\n",
       "<p>Today we do programming...</p>\n",
       "</body>\n",
       "</html>"
      ],
      "text/plain": [
       "<IPython.core.display.HTML object>"
      ]
     },
     "metadata": {},
     "output_type": "display_data"
    }
   ],
   "source": [
    "%%HTML\n",
    "<!DOCTYPE html>\n",
    "<html>\n",
    "<head>\n",
    "<title>My Home Page</title>\n",
    "</head>\n",
    "<body>\n",
    "<h1>안녕하십니까</h1>\n",
    "<p>오늘은 프로그래밍 하는 날...</p>\n",
    "<p>Today we do programming...</p>\n",
    "</body>\n",
    "</html>"
   ]
  },
  {
   "cell_type": "markdown",
   "metadata": {},
   "source": [
    "#### <원격 url 사용법>"
   ]
  },
  {
   "cell_type": "code",
   "execution_count": 9,
   "metadata": {
    "collapsed": false
   },
   "outputs": [
    {
     "data": {
      "text/plain": [
       "True"
      ]
     },
     "execution_count": 9,
     "metadata": {},
     "output_type": "execute_result"
    }
   ],
   "source": [
    "import webbrowser\n",
    "myurl='https://www.google.co.kr/maps/place/Hongji-dong,+Jongno-gu,+Seoul/'\n",
    "webbrowser.open(myurl)"
   ]
  },
  {
   "cell_type": "markdown",
   "metadata": {},
   "source": [
    "note>\n",
    "\n",
    "dns : 영어로 되있는 url 주소를 숫자로 바꿔주는 서비스 domain name service  (www.smu.ac.kr -> 127.0.0.1)\n",
    "\n",
    "#q=python (# key = value / #,= : 쿼리)\n",
    "\n",
    "웹에서 검색어 만들어 주는 작업 = 인코딩 (<-> 디코딩)\n",
    "\n",
    "\n",
    "특수문자를 url incoding 할때는 많이 생각을 해서 해야한다. 왜냐하면 특수문자가 ascii로 변경되기때문이다. 흠 뭐량교"
   ]
  },
  {
   "cell_type": "markdown",
   "metadata": {},
   "source": [
    "### 1.3.2 params\n",
    "\n",
    "* params = parmeters = > 인자 \n",
    "* 구글 검색에서의 params\n",
    "\n",
    "    * python을 검색하는 경우\n",
    "<pre>\n",
    "    https://www.google.co.kr/#q=python\n",
    "    https://www.google.co.kr/search?q=python\n",
    "</pre>\n",
    "    * 'python tutorial'을 검색할 경우\n",
    "<pre>\n",
    "    https://www.google.co.kr/#q=python+tutorial\n",
    "</pre>"
   ]
  },
  {
   "cell_type": "code",
   "execution_count": 11,
   "metadata": {
    "collapsed": false
   },
   "outputs": [
    {
     "name": "stdout",
     "output_type": "stream",
     "text": [
      "%23q=python+tutorial\n"
     ]
    }
   ],
   "source": [
    "import urllib  #우리가 url을 쓴다.\n",
    "params = urllib.urlencode({\"#q\": \"python tutorial\"}) #{}: jason format \n",
    "print params"
   ]
  },
  {
   "cell_type": "markdown",
   "metadata": {},
   "source": [
    "## 1.4 url 가져오기\n",
    "\n",
    " 17.03.21 3번째 시간 \n",
    "### 1.4.1 libray\n",
    "* urllib : GET query를 생성하기 위한 urlencode()를 사용할 수 있다.\n",
    "* urllib2 : Request 객체를 사용 할 수 있다.\n",
    "* 아래의 두개는 같은 기능을 수행한다.\n",
    "<pre>\n",
    "urllib2.urlopen(url).read()\n",
    "            ||\n",
    "requests.get(url).text()\n",
    "</pre>"
   ]
  },
  {
   "cell_type": "code",
   "execution_count": 2,
   "metadata": {
    "collapsed": true
   },
   "outputs": [],
   "source": [
    "import urllib2\n",
    "response = urllib2.urlopen(\"https://www.python.org/\")\n",
    "html=response.read()\n",
    "response.close()"
   ]
  },
  {
   "cell_type": "code",
   "execution_count": 5,
   "metadata": {
    "collapsed": false
   },
   "outputs": [
    {
     "name": "stdout",
     "output_type": "stream",
     "text": [
      "<!doctype \n"
     ]
    }
   ],
   "source": [
    "print html[:10] # : -from to 의 의미. 앞에서부터 10글자만 나오게 해주세요."
   ]
  },
  {
   "cell_type": "markdown",
   "metadata": {},
   "source": [
    "note>\n",
    "\n",
    "* response : 전공용어. object. \n",
    "* request : urllib2 를 사용한다. (open은 urllib을 사용)\n",
    "\n",
    "db를 접근할때 함수는 4가지 종류가 있다. \n",
    "* CRUD : 입력, 조회(단건 조회-목록의 형태, 여러건조회), 수정, 삭제 \n",
    "\n",
    "WEB도 CRUD 기능을 가지고 있다. \n",
    " * 조회에 해당하는 명령어 : GET\n",
    " * 입력, 수정에 해당하는 명령어 : POST \n",
    "\n"
   ]
  },
  {
   "cell_type": "code",
   "execution_count": 3,
   "metadata": {
    "collapsed": false
   },
   "outputs": [
    {
     "name": "stdout",
     "output_type": "stream",
     "text": [
      "<!doctype html>\n",
      "<!--[if lt IE 7]>   <html class=\"no-js ie6 lt-ie7 lt-ie8 lt-ie9\">   <![endif]-->\n",
      "<!--[if IE 7]>      <html class=\"no-js ie7 lt-ie8 lt-ie9\">          <![endif]-->\n",
      "<!--[if IE 8]>      <html class=\"no-js ie8 lt-ie9\">                 <![endif]-->\n",
      "<!--[if gt IE 8]><!--><html class=\"no-js\" lang=\"en\" dir=\"ltr\">  <!--<![endif]-->\n",
      "\n",
      "<head>\n",
      "    <meta charset=\"utf-8\">\n",
      "    <meta http-equiv=\"X-UA-Compatible\" content=\"IE=edge\">\n",
      "\n",
      "    <link rel=\"prefetch\" href=\"//ajax.googleapis.com/ajax/libs/jqu\n"
     ]
    }
   ],
   "source": [
    "import urllib2\n",
    "url='http://www.python.org'\n",
    "request=urllib2.Request(url)\n",
    "response=urllib2.urlopen(request)\n",
    "html=response.read()\n",
    "print html[:500]"
   ]
  },
  {
   "cell_type": "markdown",
   "metadata": {},
   "source": [
    "내가 프로그래밍에서 웹을 요청할때 웹에서 요청하는것보다 많은 정보를 요구한다. 그래서 웹은 프로그래밍으로 부터의 요청을 거절 할 수 있다. 이를 방지하기위해 우린 마치 웹에서 요청하는 것처럼 헤더정보를 바꿔서 (가짜로 넣어서) 사기를 칠 수 있는데.... (참고로 urllib에서는 안되고 urllib2에서만 이 사기치는게 가능하다)"
   ]
  },
  {
   "cell_type": "code",
   "execution_count": 9,
   "metadata": {
    "collapsed": false,
    "scrolled": true
   },
   "outputs": [
    {
     "name": "stdout",
     "output_type": "stream",
     "text": [
      "<!doctype html>\n",
      "<html>\n",
      "<head>\n",
      "    <title>Example Domain</title>\n",
      "\n",
      "    <meta charset=\"utf-8\" />\n",
      "    <m\n"
     ]
    }
   ],
   "source": [
    "import urllib2\n",
    "\n",
    "request_headers = {\n",
    "\"User-Agent\": \"Mozilla/5.0 (compatible; MSIE 9.0; Windows)\",\n",
    "\"Accept\": \"text/html,application/xhtml+xml, */*\",\n",
    "\"Accept-Language\": \"en-US\",\n",
    "\"Connection\": \"keep-alive\" \n",
    "}\n",
    "\n",
    "request = urllib2.Request(\"http://www.example.com\", headers=request_headers) \n",
    "#가짜로 헤더정보를 넣음. example은 그냥 임의의 사이트이다\n",
    "response = urllib2.urlopen(request)\n",
    "html = response.read()\n",
    "print html[:100]"
   ]
  },
  {
   "cell_type": "markdown",
   "metadata": {},
   "source": [
    "stateless and stateful : http://jpss.ta3ke.com/211"
   ]
  },
  {
   "cell_type": "code",
   "execution_count": 12,
   "metadata": {
    "collapsed": false
   },
   "outputs": [
    {
     "name": "stdout",
     "output_type": "stream",
     "text": [
      "404 OK\n",
      "html has something!\n"
     ]
    }
   ],
   "source": [
    "req= urllib2.Request('http://www.python.org/fish.html')\n",
    "try:\n",
    "    response=urllib2.urlopen(req)\n",
    "except urllib2.HTTPError, e:\n",
    "        print e.code, e.reason\n",
    "        \n",
    "if html is None:\n",
    "    print(\"URL is not found\")\n",
    "else:\n",
    "    print \"html has something!\""
   ]
  },
  {
   "cell_type": "markdown",
   "metadata": {},
   "source": [
    "## 1.5 Parsing\n",
    "* parsing: 웹에서 특정태그를 찾아낸다는 뜻의 전문용어 \n",
    "* parsing 을 위해서는 트리구조를 만들어야한다.  \n",
    "* 문자열을 트리로 바꿔주는 것을 parser라고도 한다. \n",
    "* DOM == tree. html DOM\n",
    "\n",
    "* 파싱단계\n",
    "\n",
    "    * 단계1: 라이브러리를 사용할 수 있게 가져온다.\n",
    "    \n",
    "          -import xml.etree.ElementTree as ET\n",
    "          -import lxml.etree\n",
    "          \n",
    "    * 단계2: 페이지를 가져온다 (메모리에 있거나, 파일로 저장)\n",
    "    * 단계3: 가져온 페이지를 파싱하고, 트리를 생성한다 (태그로 변환).\n",
    "          \n",
    "          -tree=ET.parse('my.xml')\n",
    "          -tree=lxml.etree.parse('my.html')\n",
    "          \n",
    "    * 단계4: 트리에서 필요한 요소를 정한다.\n",
    "    * 단계5: 필요한 요소를 가져온다.\n",
    "    \n",
    "          'namespace' localname으로 가져옴.\n",
    "           root=tree.getroot()\n",
    "           root.getiterator():\n",
    "           또는\n",
    "           tree.xpath() 또는 tree.css()\n",
    "           \n",
    "구분 | 라이브러리 | 설명\n",
    "-----|-----|-----\n",
    "웹데이터 가져오기 | urllib, requests, curl | 웹페이지 열고, http request(s), http response(s)\n",
    "웹데이터 파싱 | HTMLParser, BeautifulSoup, lxml, regex | 문자열 또는 xml, json을 파싱\n",
    "프레임워크 | scrapy (java nutch, crawler4j) | 큰 프로젝트에 사용\n"
   ]
  },
  {
   "cell_type": "markdown",
   "metadata": {},
   "source": [
    "## 1.5.1 Javascript console\n",
    "\n",
    "자바스크립트 콘솔은 브라우저 마다 다 있고 조금씩 다르다. 우리는 chrome을 기준으로 한다.\n",
    "\n",
    "\n",
    "단축키 | 설명\n",
    "-----|-----\n",
    "\\$x('xpath') | XPath와 일치하는 요소의 배열을 반환\n",
    "\\$('selector') | CSS 선택기와 일치하는 첫 번째 요소를 반환, document.querySelector()의 단축\n",
    "\\$$('selector all') | CSS 선택기와 일치하는 모든 요소의 배열을 반환, document.querySelectorAll()의 단축\n",
    "\n",
    "\n",
    "선택 | xpath | css\n",
    "-----|-----|-----\n",
    "title태그 선택 | ```$x('//head/title') 또는 $x('//title')``` | ```$$('title')```\n",
    "선택의 결과가 복수인 경우, 배열이 반환 | ```$x('//head/title')[0]``` | ```$$('title')[0]```\n",
    "태그의 문자열을 추출 | ```$x('//head/title')[0].innerText``` | ```$$('title')[0].innerText```\n",
    "       \n",
    "\n"
   ]
  },
  {
   "cell_type": "markdown",
   "metadata": {},
   "source": [
    "## 1.5.2 dom\n",
    "* HTML은 브라우저에서 tree구조로 변환된다. 이를 DOM (Document Object Model)이라고 한다.\n",
    "* HTML, XHTML, XML 문서를 계층구조인 트리구조로 만들어, 각 노드를 오브젝트로 사용하는 API.\n",
    "* dom에서의 css selector 특정 요소 선택해 보기\n",
    "    * dom의 querySelector()를 사용한다.\n",
    "        * 아래 '.my'라는 클래스를 선택한다.\n",
    "    * dom의 getElementById()를 사용한다.\n",
    "        * 아래 '.p2'라는 클래스를 선택한다."
   ]
  },
  {
   "cell_type": "code",
   "execution_count": 14,
   "metadata": {
    "collapsed": false
   },
   "outputs": [
    {
     "data": {
      "text/html": [
       "<html>\n",
       "<body>\n",
       "<h2 class=\"my\">Turn this into blue</h2>\n",
       "<button onclick=\"myFunction()\">Click</button>\n",
       "<script>\n",
       "    function myFunction() {\n",
       "        document.querySelector(\".my\").style.backgroundColor = \"blue\";\n",
       "    }\n",
       "</script>\n",
       "</body>\n",
       "</html>"
      ],
      "text/plain": [
       "<IPython.core.display.HTML object>"
      ]
     },
     "metadata": {},
     "output_type": "display_data"
    }
   ],
   "source": [
    "%%HTML\n",
    "<html>\n",
    "<body>\n",
    "<h2 class=\"my\">Turn this into blue</h2>\n",
    "<button onclick=\"myFunction()\">Click</button>\n",
    "<script>\n",
    "    function myFunction() {\n",
    "        document.querySelector(\".my\").style.backgroundColor = \"blue\";\n",
    "    }\n",
    "</script>\n",
    "</body>\n",
    "</html>"
   ]
  },
  {
   "cell_type": "code",
   "execution_count": 15,
   "metadata": {
    "collapsed": false
   },
   "outputs": [
    {
     "data": {
      "text/html": [
       "<html>\n",
       "<body>\n",
       "    <p id=\"p2\">Hello World!</p>\n",
       "    <script>\n",
       "        document.getElementById(\"p2\").style.color = \"RED\";\n",
       "    </script>\n",
       "    <p>Hello World turned into RED!</p>\n",
       "</body>\n",
       "</html>"
      ],
      "text/plain": [
       "<IPython.core.display.HTML object>"
      ]
     },
     "metadata": {},
     "output_type": "display_data"
    }
   ],
   "source": [
    "%%HTML\n",
    "<html>\n",
    "<body>\n",
    "    <p id=\"p2\">Hello World!</p>\n",
    "    <script>\n",
    "        document.getElementById(\"p2\").style.color = \"RED\";\n",
    "    </script>\n",
    "    <p>Hello World turned into RED!</p>\n",
    "</body>\n",
    "</html>"
   ]
  },
  {
   "cell_type": "markdown",
   "metadata": {},
   "source": [
    "## 1.5.3 regex"
   ]
  },
  {
   "cell_type": "code",
   "execution_count": 9,
   "metadata": {
    "collapsed": false
   },
   "outputs": [
    {
     "name": "stdout",
     "output_type": "stream",
     "text": [
      " 숫자와 문자:  ['Here', 'goes', 'my', 'phone', 'number', '2287', '1111', 'Nice', 'to', 'meet', 'you', 'Merry', 'Christmas']\n",
      "숫자:  ['2287', '1111']\n",
      "전화번호:  ['2287-1111']\n"
     ]
    }
   ],
   "source": [
    "import re \n",
    "\n",
    "sentence =\"Here goes my phone number 2287-1111. Nice to meet you! Merry Christmas\"\n",
    "\n",
    "regex1= \"\\w+\"\n",
    "print \"숫자와 문자: \", re.findall(regex1, sentence)\n",
    "regex2=\"\\d+\"\n",
    "print \"숫자: \", re.findall(regex2,sentence)\n",
    "regex3=\"\\d+-\\d+\"\n",
    "print \"전화번호: \",re.findall(regex3,sentence)"
   ]
  },
  {
   "cell_type": "code",
   "execution_count": 12,
   "metadata": {
    "collapsed": false
   },
   "outputs": [
    {
     "name": "stdout",
     "output_type": "stream",
     "text": [
      "a tag:  ['foo']\n"
     ]
    }
   ],
   "source": [
    "import re \n",
    "\n",
    "tags='<html><body><div>asdfasdf</div><p><a>foo</a></p></body></html>'\n",
    "regex=\"<a>(.*)</a>\"\n",
    "print \"a tag: \",re.findall(regex, tags)"
   ]
  },
  {
   "cell_type": "markdown",
   "metadata": {},
   "source": [
    "## 1.5.4 BeautifulSoup\n",
    "\n",
    "리눅스에서 설치할때 명령창에\n",
    "pip install beautifulsoup4 라고 해주면 된다. 윈도우에서는 anaconda를 이용해서 하기때문에 anaconda설치할때 보통 다 설치되서 개별 설치할 필요 없고, 리눅스나 맥킨토시에서만 설치해줘야 함."
   ]
  },
  {
   "cell_type": "code",
   "execution_count": 39,
   "metadata": {
    "collapsed": false,
    "scrolled": true
   },
   "outputs": [
    {
     "name": "stdout",
     "output_type": "stream",
     "text": [
      "<title>Welcome to Python.org</title>\n"
     ]
    }
   ],
   "source": [
    "from bs4 import BeautifulSoup\n",
    "import requests #requests는 urllib2와 유사하게 사용된다.\n",
    "\n",
    "page = requests.get(\"https://www.python.org/\")\n",
    "\n",
    "soup = BeautifulSoup(page.content) # content,\"|xml\" 이라고 써달라고 warning 뜰 수 있음\n",
    "\n",
    "print soup.title\n",
    "#print soup.find_all('div',class_=\"do-not-print\", id=\"top\")"
   ]
  },
  {
   "cell_type": "code",
   "execution_count": 31,
   "metadata": {
    "collapsed": false
   },
   "outputs": [
    {
     "data": {
      "text/plain": [
       "bs4.BeautifulSoup"
      ]
     },
     "execution_count": 31,
     "metadata": {},
     "output_type": "execute_result"
    }
   ],
   "source": [
    "type(soup) #tab키를 누르면 관련함수를 볼 수 있다."
   ]
  },
  {
   "cell_type": "code",
   "execution_count": 38,
   "metadata": {
    "collapsed": false
   },
   "outputs": [
    {
     "name": "stdout",
     "output_type": "stream",
     "text": [
      "[<a href=\"#content\" title=\"Skip to content\">Skip to content</a>, <a aria-hidden=\"true\" class=\"jump-link\" href=\"#python-network\" id=\"close-python-network\">\\n<span aria-hidden=\"true\" class=\"icon-arrow-down\"><span>\\u25bc</span></span> Close\\n                </a>, <a class=\"current_item selectedcurrent_branch selected\" href=\"/\" title=\"The Python Programming Language\">Python</a>, <a href=\"/psf-landing/\" title=\"The Python Software Foundation\">PSF</a>, <a href=\"https://docs.python.org\" title=\"Python Documentation\">Docs</a>, <a href=\"https://pypi.python.org/\" title=\"Python Package Index\">PyPI</a>, <a href=\"/jobs/\" title=\"Python Job Board\">Jobs</a>, <a href=\"/community/\" title=\"Python Community\">Community</a>, <a aria-hidden=\"true\" class=\"jump-link\" href=\"#top\" id=\"python-network\">\\n<span aria-hidden=\"true\" class=\"icon-arrow-up\"><span>\\u25b2</span></span> The Python Network\\n                </a>, <a href=\"/\"><img alt=\"python\\u2122\" class=\"python-logo\" src=\"/static/img/python-logo.png\"/></a>, <a class=\"jump-to-menu\" href=\"#site-map\" id=\"site-map-link\"><span class=\"menu-icon\">\\u2261</span> Menu</a>, <a class=\"action-trigger\" href=\"#\"><strong><small>A</small> A</strong></a>, <a class=\"text-shrink\" href=\"javascript:;\" title=\"Make Text Smaller\">Smaller</a>, <a class=\"text-grow\" href=\"javascript:;\" title=\"Make Text Larger\">Larger</a>, <a class=\"text-reset\" href=\"javascript:;\" title=\"Reset any font size changes I have made\">Reset</a>, <a class=\"action-trigger\" href=\"#\">Socialize</a>, <a href=\"http://plus.google.com/+Python\"><span aria-hidden=\"true\" class=\"icon-google-plus\"></span>Google+</a>, <a href=\"http://www.facebook.com/pythonlang?fref=ts\"><span aria-hidden=\"true\" class=\"icon-facebook\"></span>Facebook</a>, <a href=\"http://twitter.com/ThePSF\"><span aria-hidden=\"true\" class=\"icon-twitter\"></span>Twitter</a>, <a href=\"/community/irc/\"><span aria-hidden=\"true\" class=\"icon-freenode\"></span>Chat on IRC</a>, <a href=\"/accounts/login/\" title=\"Sign Up or Sign In to Python.org\">Sign In</a>, <a href=\"/accounts/signup/\">Sign Up / Register</a>, <a href=\"/accounts/login/\">Sign In</a>, <a class=\"\" href=\"/about/\" title=\"\">About</a>, <a href=\"/about/apps/\" title=\"\">Applications</a>, <a href=\"/about/quotes/\" title=\"\">Quotes</a>, <a href=\"/about/gettingstarted/\" title=\"\">Getting Started</a>, <a href=\"/about/help/\" title=\"\">Help</a>, <a href=\"http://brochure.getpython.info/\" title=\"\">Python Brochure</a>, <a class=\"\" href=\"/downloads/\" title=\"\">Downloads</a>, <a href=\"/downloads/\" title=\"\">All releases</a>, <a href=\"/downloads/source/\" title=\"\">Source code</a>, <a href=\"/downloads/windows/\" title=\"\">Windows</a>, <a href=\"/downloads/mac-osx/\" title=\"\">Mac OS X</a>, <a href=\"/download/other/\" title=\"\">Other Platforms</a>, <a href=\"https://docs.python.org/3/license.html\" title=\"\">License</a>, <a href=\"/download/alternatives\" title=\"\">Alternative Implementations</a>, <a class=\"\" href=\"/doc/\" title=\"\">Documentation</a>, <a href=\"/doc/\" title=\"\">Docs</a>, <a href=\"/doc/av\" title=\"\">Audio/Visual Talks</a>, <a href=\"https://wiki.python.org/moin/BeginnersGuide\" title=\"\">Beginner's Guide</a>, <a href=\"https://docs.python.org/devguide/\" title=\"\">Developer's Guide</a>, <a href=\"https://docs.python.org/faq/\" title=\"\">FAQ</a>, <a href=\"http://wiki.python.org/moin/Languages\" title=\"\">Non-English Docs</a>, <a href=\"http://python.org/dev/peps/\" title=\"\">PEP Index</a>, <a href=\"https://wiki.python.org/moin/PythonBooks\" title=\"\">Python Books</a>, <a class=\"\" href=\"/community/\" title=\"\">Community</a>, <a href=\"/community/diversity/\" title=\"\">Diversity</a>, <a href=\"/community/irc/\" title=\"\">IRC</a>, <a href=\"/community/lists/\" title=\"\">Mailing Lists</a>, <a href=\"/community/workshops/\" title=\"\">Python Conferences</a>, <a href=\"/community/sigs/\" title=\"\">Special Interest Groups</a>, <a href=\"https://wiki.python.org/moin/\" title=\"\">Python Wiki</a>, <a href=\"/community/logos/\" title=\"\">Python Logo</a>, <a href=\"/community/merchandise/\" title=\"\">Merchandise</a>, <a href=\"/community/awards\" title=\"\">Community Awards</a>, <a class=\"\" href=\"/about/success/\" title=\"success-stories\">Success Stories</a>, <a href=\"/about/success/#arts\" title=\"\">Arts</a>, <a href=\"/about/success/#business\" title=\"\">Business</a>, <a href=\"/about/success/#education\" title=\"\">Education</a>, <a href=\"/about/success/#engineering\" title=\"\">Engineering</a>, <a href=\"/about/success/#government\" title=\"\">Government</a>, <a href=\"/about/success/#scientific\" title=\"\">Scientific</a>, <a href=\"/about/success/#software-development\" title=\"\">Software Development</a>, <a class=\"\" href=\"/blogs/\" title=\"News from around the Python world\">News</a>, <a href=\"/blogs/\" title=\"Python Insider Blog Posts\">Python News</a>, <a href=\"http://planetpython.org/\" title=\"Planet Python\">Community News</a>, <a href=\"http://pyfound.blogspot.com/\" title=\"PSF Blog\">PSF News</a>, <a href=\"http://pycon.blogspot.com/\" title=\"PyCon Blog\">PyCon News</a>, <a class=\"\" href=\"/events/\" title=\"\">Events</a>, <a href=\"/events/python-events\" title=\"\">Python Events</a>, <a href=\"/events/python-user-group/\" title=\"\">User Group Events</a>, <a href=\"/events/python-events/past/\" title=\"\">Python Events Archive</a>, <a href=\"/events/python-user-group/past/\" title=\"\">User Group Events Archive</a>, <a href=\"https://wiki.python.org/moin/PythonEventsCalendar#Submitting_an_Event\" title=\"\">Submit an Event</a>, <a class=\"button prompt\" data-shell-container=\"#dive-into-python\" href=\"/shell/\" id=\"start-shell\">&gt;_\\n                        <span class=\"message\">Launch Interactive Shell</span>\\n</a>, <a href=\"//docs.python.org/3/tutorial/controlflow.html#defining-functions\">More about defining functions in Python\\xa03</a>, <a href=\"//docs.python.org/3/tutorial/introduction.html#lists\">More about lists in Python\\xa03</a>, <a href=\"http://docs.python.org/3/tutorial/introduction.html#using-python-as-a-calculator\">More about simple math functions in Python\\xa03</a>, <a href=\"//docs.python.org/3/tutorial/\">Whet your appetite</a>, <a href=\"//docs.python.org/3/tutorial/controlflow.html\">More control flow tools in Python\\xa03</a>, <a class=\"readmore\" href=\"/doc/\">Learn More</a>, <a href=\"/about/gettingstarted/\">Start with our Beginner\\u2019s Guide</a>, <a href=\"https://wiki.python.org/moin/Python2orPython3\">Check here</a>, <a href=\"/downloads/release/python-361/\">Python 3.6.1</a>, <a href=\"/downloads/release/python-2713/\">Python 2.7.13</a>, <a href=\"https://docs.python.org\">docs.python.org</a>, <a href=\"//jobs.python.org\">jobs.python.org</a>, <a href=\"http://blog.python.org\" title=\"More News\">More</a>, <a href=\"http://feedproxy.google.com/~r/PythonInsider/~3/C-xfWJKP0-A/python-361-is-now-available.html\">Python 3.6.1 is now available. \\xa0 Python 3.6.1 is the ...</a>, <a href=\"http://feedproxy.google.com/~r/PythonInsider/~3/w2AW2NRSOEM/python-361rc1-is-now-available-for.html\">Python 3.6.1rc1 is now available. \\xa0 Python 3.6.1rc1 is the ...</a>, <a href=\"http://feedproxy.google.com/~r/PythonInsider/~3/NeIHRAidlpc/python-353-and-346-are-now-available.html\">Python 3.5.3 and Python 3.4.6 are now available for download. ...</a>, <a href=\"http://feedproxy.google.com/~r/PythonInsider/~3/UoiMThSwgQM/python-353rc1-and-python-346rc1-are-now.html\">Python 3.5.3rc1 and Python 3.4.6rc1 are now available for download. ...</a>, <a href=\"http://feedproxy.google.com/~r/PythonInsider/~3/4gOtq8ChYHk/python-360-is-now-available.html\">Python 3.6.0 is now available! \\xa0 Python 3.6.0 is the ...</a>, <a href=\"/events/calendars/\" title=\"More Events\">More</a>, <a href=\"/events/python-user-group/517/\">Python Meetup Innsbruck: imp.reload(innsbruck)</a>, <a href=\"/events/python-events/501/\">PyDays Vienna 2017</a>, <a href=\"/events/python-events/520/\">PyData London 2017</a>, <a href=\"/events/python-events/463/\">GeoPython 2017</a>, <a href=\"/events/python-events/465/\">PyCon US 2017</a>, <a href=\"/success-stories/\" title=\"More Success Stories\">More</a>, <a href=\"/success-stories/industrial-light-magic-runs-python/\">ILM runs a batch processing environment capable of modeling, rendering and compositing tens of thousands of motion picture frames per day. Thousands of machines running Linux, IRIX, Compaq Tru64, OS X, Solaris, and Windows join together to provide a production pipeline used by ~800 users daily. Speed of development is key, and Python was a faster way to code (and re-code) the programs that control this production pipeline.</a>, <a href=\"/success-stories/industrial-light-magic-runs-python/\">Industrial Light &amp; Magic Runs on Python</a>, <a href=\"/about/apps\" title=\"More Applications\">More</a>, <a class=\"tag\" href=\"http://www.djangoproject.com/\">Django</a>, <a class=\"tag\" href=\"http://www.pylonsproject.org/\">Pyramid</a>, <a class=\"tag\" href=\"http://bottlepy.org\">Bottle</a>, <a class=\"tag\" href=\"http://tornadoweb.org\">Tornado</a>, <a class=\"tag\" href=\"http://flask.pocoo.org/\">Flask</a>, <a class=\"tag\" href=\"http://www.web2py.com/\">web2py</a>, <a class=\"tag\" href=\"http://wiki.python.org/moin/TkInter\">tkInter</a>, <a class=\"tag\" href=\"https://wiki.gnome.org/Projects/PyGObject\">PyGObject</a>, <a class=\"tag\" href=\"http://www.riverbankcomputing.co.uk/software/pyqt/intro\">PyQt</a>, <a class=\"tag\" href=\"https://wiki.qt.io/PySide\">PySide</a>, <a class=\"tag\" href=\"https://kivy.org/\">Kivy</a>, <a class=\"tag\" href=\"http://www.wxpython.org/\">wxPython</a>, <a class=\"tag\" href=\"http://www.scipy.org\">SciPy</a>, <a class=\"tag\" href=\"http://pandas.pydata.org/\">Pandas</a>, <a class=\"tag\" href=\"http://ipython.org\">IPython</a>, <a class=\"tag\" href=\"http://buildbot.net/\">Buildbot</a>, <a class=\"tag\" href=\"http://trac.edgewall.org/\">Trac</a>, <a class=\"tag\" href=\"http://roundup.sourceforge.net/\">Roundup</a>, <a class=\"tag\" href=\"http://www.ansible.com\">Ansible</a>, <a class=\"tag\" href=\"http://www.saltstack.com\">Salt</a>, <a class=\"tag\" href=\"https://www.openstack.org\">OpenStack</a>, <a href=\"/dev/peps/\">Python Enhancement Proposals<span class=\"say-no-more\"> (PEPs)</span></a>, <a aria-hidden=\"true\" class=\"rss-link\" href=\"/dev/peps/peps.rss\"><span class=\"icon-feed\"></span> RSS</a>, <a href=\"/psf/\">Python Software Foundation</a>, <a class=\"readmore\" href=\"/psf/\">Learn more</a>, <a class=\"button\" href=\"/users/membership/\">Become a Member</a>, <a class=\"button\" href=\"/psf/donations/\">Donate to the PSF</a>, <a class=\"jump-link\" href=\"#python-network\" id=\"back-to-top-1\"><span aria-hidden=\"true\" class=\"icon-arrow-up\"><span>\\u25b2</span></span> Back to Top</a>, <a href=\"/about/\">About</a>, <a href=\"/about/apps/\" title=\"\">Applications</a>, <a href=\"/about/quotes/\" title=\"\">Quotes</a>, <a href=\"/about/gettingstarted/\" title=\"\">Getting Started</a>, <a href=\"/about/help/\" title=\"\">Help</a>, <a href=\"http://brochure.getpython.info/\" title=\"\">Python Brochure</a>, <a href=\"/downloads/\">Downloads</a>, <a href=\"/downloads/\" title=\"\">All releases</a>, <a href=\"/downloads/source/\" title=\"\">Source code</a>, <a href=\"/downloads/windows/\" title=\"\">Windows</a>, <a href=\"/downloads/mac-osx/\" title=\"\">Mac OS X</a>, <a href=\"/download/other/\" title=\"\">Other Platforms</a>, <a href=\"https://docs.python.org/3/license.html\" title=\"\">License</a>, <a href=\"/download/alternatives\" title=\"\">Alternative Implementations</a>, <a href=\"/doc/\">Documentation</a>, <a href=\"/doc/\" title=\"\">Docs</a>, <a href=\"/doc/av\" title=\"\">Audio/Visual Talks</a>, <a href=\"https://wiki.python.org/moin/BeginnersGuide\" title=\"\">Beginner's Guide</a>, <a href=\"https://docs.python.org/devguide/\" title=\"\">Developer's Guide</a>, <a href=\"https://docs.python.org/faq/\" title=\"\">FAQ</a>, <a href=\"http://wiki.python.org/moin/Languages\" title=\"\">Non-English Docs</a>, <a href=\"http://python.org/dev/peps/\" title=\"\">PEP Index</a>, <a href=\"https://wiki.python.org/moin/PythonBooks\" title=\"\">Python Books</a>, <a href=\"/community/\">Community</a>, <a href=\"/community/diversity/\" title=\"\">Diversity</a>, <a href=\"/community/irc/\" title=\"\">IRC</a>, <a href=\"/community/lists/\" title=\"\">Mailing Lists</a>, <a href=\"/community/workshops/\" title=\"\">Python Conferences</a>, <a href=\"/community/sigs/\" title=\"\">Special Interest Groups</a>, <a href=\"https://wiki.python.org/moin/\" title=\"\">Python Wiki</a>, <a href=\"/community/logos/\" title=\"\">Python Logo</a>, <a href=\"/community/merchandise/\" title=\"\">Merchandise</a>, <a href=\"/community/awards\" title=\"\">Community Awards</a>, <a href=\"/about/success/\" title=\"success-stories\">Success Stories</a>, <a href=\"/about/success/#arts\" title=\"\">Arts</a>, <a href=\"/about/success/#business\" title=\"\">Business</a>, <a href=\"/about/success/#education\" title=\"\">Education</a>, <a href=\"/about/success/#engineering\" title=\"\">Engineering</a>, <a href=\"/about/success/#government\" title=\"\">Government</a>, <a href=\"/about/success/#scientific\" title=\"\">Scientific</a>, <a href=\"/about/success/#software-development\" title=\"\">Software Development</a>, <a href=\"/blogs/\" title=\"News from around the Python world\">News</a>, <a href=\"/blogs/\" title=\"Python Insider Blog Posts\">Python News</a>, <a href=\"http://planetpython.org/\" title=\"Planet Python\">Community News</a>, <a href=\"http://pyfound.blogspot.com/\" title=\"PSF Blog\">PSF News</a>, <a href=\"http://pycon.blogspot.com/\" title=\"PyCon Blog\">PyCon News</a>, <a href=\"/events/\">Events</a>, <a href=\"/events/python-events\" title=\"\">Python Events</a>, <a href=\"/events/python-user-group/\" title=\"\">User Group Events</a>, <a href=\"/events/python-events/past/\" title=\"\">Python Events Archive</a>, <a href=\"/events/python-user-group/past/\" title=\"\">User Group Events Archive</a>, <a href=\"https://wiki.python.org/moin/PythonEventsCalendar#Submitting_an_Event\" title=\"\">Submit an Event</a>, <a href=\"/dev/\">Contributing</a>, <a href=\"http://docs.python.org/devguide/\" title=\"\">Developer's Guide</a>, <a href=\"https://bugs.python.org/\" title=\"\">Issue Tracker</a>, <a href=\"https://mail.python.org/mailman/listinfo/python-dev\" title=\"\">python-dev list</a>, <a href=\"/dev/core-mentorship/\" title=\"\">Core Mentorship</a>, <a class=\"jump-link\" href=\"#python-network\" id=\"back-to-top-2\"><span aria-hidden=\"true\" class=\"icon-arrow-up\"><span>\\u25b2</span></span> Back to Top</a>, <a href=\"/about/help/\">Help &amp; <span class=\"say-no-more\">General</span> Contact</a>, <a href=\"/community/diversity/\">Diversity <span class=\"say-no-more\">Initiatives</span></a>, <a href=\"https://github.com/python/pythondotorg/issues\">Submit Website Bug</a>, <a href=\"https://status.python.org/\">Status <span class=\"python-status-indicator-default\" id=\"python-status-indicator\"></span></a>, <a href=\"/psf-landing/\">Python Software Foundation</a>, <a href=\"/about/legal/\">Legal Statements</a>, <a href=\"/privacy/\">Privacy Policy</a>]\n"
     ]
    }
   ],
   "source": [
    "print soup.find_all('a')"
   ]
  },
  {
   "cell_type": "code",
   "execution_count": 37,
   "metadata": {
    "collapsed": false
   },
   "outputs": [
    {
     "name": "stdout",
     "output_type": "stream",
     "text": [
      "#content\n",
      "#python-network\n",
      "/\n",
      "/psf-landing/\n",
      "https://docs.python.org\n",
      "https://pypi.python.org/\n",
      "/jobs/\n",
      "/community/\n",
      "#top\n",
      "/\n",
      "#site-map\n",
      "#\n",
      "javascript:;\n",
      "javascript:;\n",
      "javascript:;\n",
      "#\n",
      "http://plus.google.com/+Python\n",
      "http://www.facebook.com/pythonlang?fref=ts\n",
      "http://twitter.com/ThePSF\n",
      "/community/irc/\n",
      "/accounts/login/\n",
      "/accounts/signup/\n",
      "/accounts/login/\n",
      "/about/\n",
      "/about/apps/\n",
      "/about/quotes/\n",
      "/about/gettingstarted/\n",
      "/about/help/\n",
      "http://brochure.getpython.info/\n",
      "/downloads/\n",
      "/downloads/\n",
      "/downloads/source/\n",
      "/downloads/windows/\n",
      "/downloads/mac-osx/\n",
      "/download/other/\n",
      "https://docs.python.org/3/license.html\n",
      "/download/alternatives\n",
      "/doc/\n",
      "/doc/\n",
      "/doc/av\n",
      "https://wiki.python.org/moin/BeginnersGuide\n",
      "https://docs.python.org/devguide/\n",
      "https://docs.python.org/faq/\n",
      "http://wiki.python.org/moin/Languages\n",
      "http://python.org/dev/peps/\n",
      "https://wiki.python.org/moin/PythonBooks\n",
      "/community/\n",
      "/community/diversity/\n",
      "/community/irc/\n",
      "/community/lists/\n",
      "/community/workshops/\n",
      "/community/sigs/\n",
      "https://wiki.python.org/moin/\n",
      "/community/logos/\n",
      "/community/merchandise/\n",
      "/community/awards\n",
      "/about/success/\n",
      "/about/success/#arts\n",
      "/about/success/#business\n",
      "/about/success/#education\n",
      "/about/success/#engineering\n",
      "/about/success/#government\n",
      "/about/success/#scientific\n",
      "/about/success/#software-development\n",
      "/blogs/\n",
      "/blogs/\n",
      "http://planetpython.org/\n",
      "http://pyfound.blogspot.com/\n",
      "http://pycon.blogspot.com/\n",
      "/events/\n",
      "/events/python-events\n",
      "/events/python-user-group/\n",
      "/events/python-events/past/\n",
      "/events/python-user-group/past/\n",
      "https://wiki.python.org/moin/PythonEventsCalendar#Submitting_an_Event\n",
      "/shell/\n",
      "//docs.python.org/3/tutorial/controlflow.html#defining-functions\n",
      "//docs.python.org/3/tutorial/introduction.html#lists\n",
      "http://docs.python.org/3/tutorial/introduction.html#using-python-as-a-calculator\n",
      "//docs.python.org/3/tutorial/\n",
      "//docs.python.org/3/tutorial/controlflow.html\n",
      "/doc/\n",
      "/about/gettingstarted/\n",
      "https://wiki.python.org/moin/Python2orPython3\n",
      "/downloads/release/python-361/\n",
      "/downloads/release/python-2713/\n",
      "https://docs.python.org\n",
      "//jobs.python.org\n",
      "http://blog.python.org\n",
      "http://feedproxy.google.com/~r/PythonInsider/~3/C-xfWJKP0-A/python-361-is-now-available.html\n",
      "http://feedproxy.google.com/~r/PythonInsider/~3/w2AW2NRSOEM/python-361rc1-is-now-available-for.html\n",
      "http://feedproxy.google.com/~r/PythonInsider/~3/NeIHRAidlpc/python-353-and-346-are-now-available.html\n",
      "http://feedproxy.google.com/~r/PythonInsider/~3/UoiMThSwgQM/python-353rc1-and-python-346rc1-are-now.html\n",
      "http://feedproxy.google.com/~r/PythonInsider/~3/4gOtq8ChYHk/python-360-is-now-available.html\n",
      "/events/calendars/\n",
      "/events/python-user-group/517/\n",
      "/events/python-events/501/\n",
      "/events/python-events/520/\n",
      "/events/python-events/463/\n",
      "/events/python-events/465/\n",
      "/success-stories/\n",
      "/success-stories/industrial-light-magic-runs-python/\n",
      "/success-stories/industrial-light-magic-runs-python/\n",
      "/about/apps\n",
      "http://www.djangoproject.com/\n",
      "http://www.pylonsproject.org/\n",
      "http://bottlepy.org\n",
      "http://tornadoweb.org\n",
      "http://flask.pocoo.org/\n",
      "http://www.web2py.com/\n",
      "http://wiki.python.org/moin/TkInter\n",
      "https://wiki.gnome.org/Projects/PyGObject\n",
      "http://www.riverbankcomputing.co.uk/software/pyqt/intro\n",
      "https://wiki.qt.io/PySide\n",
      "https://kivy.org/\n",
      "http://www.wxpython.org/\n",
      "http://www.scipy.org\n",
      "http://pandas.pydata.org/\n",
      "http://ipython.org\n",
      "http://buildbot.net/\n",
      "http://trac.edgewall.org/\n",
      "http://roundup.sourceforge.net/\n",
      "http://www.ansible.com\n",
      "http://www.saltstack.com\n",
      "https://www.openstack.org\n",
      "/dev/peps/\n",
      "/dev/peps/peps.rss\n",
      "/psf/\n",
      "/psf/\n",
      "/users/membership/\n",
      "/psf/donations/\n",
      "#python-network\n",
      "/about/\n",
      "/about/apps/\n",
      "/about/quotes/\n",
      "/about/gettingstarted/\n",
      "/about/help/\n",
      "http://brochure.getpython.info/\n",
      "/downloads/\n",
      "/downloads/\n",
      "/downloads/source/\n",
      "/downloads/windows/\n",
      "/downloads/mac-osx/\n",
      "/download/other/\n",
      "https://docs.python.org/3/license.html\n",
      "/download/alternatives\n",
      "/doc/\n",
      "/doc/\n",
      "/doc/av\n",
      "https://wiki.python.org/moin/BeginnersGuide\n",
      "https://docs.python.org/devguide/\n",
      "https://docs.python.org/faq/\n",
      "http://wiki.python.org/moin/Languages\n",
      "http://python.org/dev/peps/\n",
      "https://wiki.python.org/moin/PythonBooks\n",
      "/community/\n",
      "/community/diversity/\n",
      "/community/irc/\n",
      "/community/lists/\n",
      "/community/workshops/\n",
      "/community/sigs/\n",
      "https://wiki.python.org/moin/\n",
      "/community/logos/\n",
      "/community/merchandise/\n",
      "/community/awards\n",
      "/about/success/\n",
      "/about/success/#arts\n",
      "/about/success/#business\n",
      "/about/success/#education\n",
      "/about/success/#engineering\n",
      "/about/success/#government\n",
      "/about/success/#scientific\n",
      "/about/success/#software-development\n",
      "/blogs/\n",
      "/blogs/\n",
      "http://planetpython.org/\n",
      "http://pyfound.blogspot.com/\n",
      "http://pycon.blogspot.com/\n",
      "/events/\n",
      "/events/python-events\n",
      "/events/python-user-group/\n",
      "/events/python-events/past/\n",
      "/events/python-user-group/past/\n",
      "https://wiki.python.org/moin/PythonEventsCalendar#Submitting_an_Event\n",
      "/dev/\n",
      "http://docs.python.org/devguide/\n",
      "https://bugs.python.org/\n",
      "https://mail.python.org/mailman/listinfo/python-dev\n",
      "/dev/core-mentorship/\n",
      "#python-network\n",
      "/about/help/\n",
      "/community/diversity/\n",
      "https://github.com/python/pythondotorg/issues\n",
      "https://status.python.org/\n",
      "/psf-landing/\n",
      "/about/legal/\n",
      "/privacy/\n"
     ]
    }
   ],
   "source": [
    "for link in soup.find_all('a'):\n",
    "    print link.get('href')"
   ]
  },
  {
   "cell_type": "code",
   "execution_count": 37,
   "metadata": {
    "collapsed": false
   },
   "outputs": [
    {
     "name": "stdout",
     "output_type": "stream",
     "text": [
      "0 #content\n",
      "1 #python-network\n",
      "2 /\n",
      "3 /psf-landing/\n",
      "4 https://docs.python.org\n",
      "5 https://pypi.python.org/\n",
      "6 /jobs/\n",
      "7 /community/\n",
      "8 #top\n",
      "9 /\n",
      "10 #site-map\n",
      "11 #\n",
      "12 javascript:;\n",
      "13 javascript:;\n",
      "14 javascript:;\n",
      "15 #\n",
      "16 http://plus.google.com/+Python\n",
      "17 http://www.facebook.com/pythonlang?fref=ts\n",
      "18 http://twitter.com/ThePSF\n",
      "19 /community/irc/\n"
     ]
    }
   ],
   "source": [
    "for counter,link in enumerate(soup.find_all('a')):\n",
    "    if(counter<20):\n",
    "        print counter,link.get('href')"
   ]
  },
  {
   "cell_type": "code",
   "execution_count": 35,
   "metadata": {
    "collapsed": false
   },
   "outputs": [
    {
     "name": "stdout",
     "output_type": "stream",
     "text": [
      "tag:  <p>this is number 12345</p>\n",
      "text:  this is number 12345\n"
     ]
    }
   ],
   "source": [
    "from bs4 import BeautifulSoup\n",
    "import re\n",
    "htmlstr=\"\"\"\n",
    "<p>this is number 12345</p>\n",
    "<p>this is text</p2>\n",
    "\"\"\"\n",
    "\n",
    "#soup=BeautifulSoup(htmlstr)\n",
    "#regex='\\d+'\n",
    "#text=re.findall(regex,soup)\n",
    "#print text\n",
    "\n",
    "soup = BeautifulSoup(htmlstr)\n",
    "for e in soup(text=re.compile('\\d+')):\n",
    "    print \"tag: \", e.parent\n",
    "    print \"text: \", e"
   ]
  }
 ],
 "metadata": {
  "kernelspec": {
   "display_name": "Python 2",
   "language": "python",
   "name": "python2"
  },
  "language_info": {
   "codemirror_mode": {
    "name": "ipython",
    "version": 2
   },
   "file_extension": ".py",
   "mimetype": "text/x-python",
   "name": "python",
   "nbconvert_exporter": "python",
   "pygments_lexer": "ipython2",
   "version": "2.7.13"
  }
 },
 "nbformat": 4,
 "nbformat_minor": 2
}
