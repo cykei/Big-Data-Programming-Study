{
 "cells": [
  {
   "cell_type": "code",
   "execution_count": 7,
   "metadata": {
    "collapsed": false
   },
   "outputs": [
    {
     "name": "stdout",
     "output_type": "stream",
     "text": [
      "gokr= sXf66NX9wb7bv6O7tj%2BGUQwoC8se7eLri6DeEShKqQAj19JzR8xl29bBfbN1L0%2BqGdQUtDRTn1hm6wSIfle4Tg%3D%3D\n",
      "dataseoul= 674d7a584e6b656c35317057737a5a\n"
     ]
    }
   ],
   "source": [
    "import src.mylib\n",
    "import os\n",
    "KEY1=src.mylib.getKey(os.path.join('src','key.properties'))\n",
    "print 'gokr=',KEY1['gokr']\n",
    "print 'dataseoul=',KEY1['dataseoul']"
   ]
  },
  {
   "cell_type": "markdown",
   "metadata": {},
   "source": [
    "* 열린데이터 홈페이지에가서 상세설명을 보고 그 양식에 맞춰서 KEY, TYPE, SERVICE, START_INDEX, END_INDEX, LINE_NUM 이라는 변수명을 알아 온다."
   ]
  },
  {
   "cell_type": "code",
   "execution_count": 22,
   "metadata": {
    "collapsed": false
   },
   "outputs": [
    {
     "name": "stdout",
     "output_type": "stream",
     "text": [
      "Overwriting src/ds_open_dataseoul_ex.py\n"
     ]
    }
   ],
   "source": [
    "%%writefile src/ds_open_dataseoul_ex.py\n",
    "# coding:utf-8\n",
    "import os\n",
    "import requests\n",
    "import urlparse\n",
    "import mylib\n",
    "import lxml\n",
    "import lxml.etree\n",
    "import StringIO\n",
    "\n",
    "def doIt():\n",
    "    keyPath=os.path.join(os.getcwd(), 'src', 'key.properties')\n",
    "    key=mylib.getKey(keyPath)\n",
    "    # (1) make params with resource IDs\n",
    "    KEY=key['dataseoul']\n",
    "    TYPE='json'\n",
    "    SERVICE='SearchSTNBySubwayLineService'\n",
    "    START_INDEX=str(1)\n",
    "    END_INDEX=str(10)\n",
    "    LINE_NUM=str(2)\n",
    "    #params=os.path.join(KEY,TYPE,SERVICE,START_INDEX,END_INDEX,LINE_NUM)\n",
    "    params='/'+KEY+'/'+TYPE+'/'+SERVICE+'/'+START_INDEX+'/'+END_INDEX+'/'+LINE_NUM\n",
    "    # (2) make a full url\n",
    "    _url='http://openAPI.seoul.go.kr:8088/'\n",
    "    url=urlparse.urljoin(_url,params)\n",
    "    # (3) get data\n",
    "    data=requests.get(url).text\n",
    "    #print data[:300]\n",
    "    tree=lxml.etree.fromstring(data.encode('utf-8'))\n",
    "    nodes=tree.xpath('//STATION_NM')\n",
    "    for node in nodes:\n",
    "        print node.text\n",
    "if __name__ == \"__main__\":\n",
    "    doIt()"
   ]
  },
  {
   "cell_type": "code",
   "execution_count": 3,
   "metadata": {
    "collapsed": false
   },
   "outputs": [
    {
     "data": {
      "text/plain": [
       "u'C:\\\\Users\\\\400T6B\\\\Code\\\\s_201511138'"
      ]
     },
     "execution_count": 3,
     "metadata": {},
     "output_type": "execute_result"
    }
   ],
   "source": [
    "pwd"
   ]
  },
  {
   "cell_type": "code",
   "execution_count": 9,
   "metadata": {
    "collapsed": false
   },
   "outputs": [
    {
     "name": "stdout",
     "output_type": "stream",
     "text": [
      "C:\\Users\\Y\\Code\\s_201511138\\src\\key.properties\n"
     ]
    }
   ],
   "source": [
    "import requests\n",
    "import urlparse\n",
    "print os.path.join(os.getcwd(),'src','key.properties')\n",
    "_url='http://openAPI.seoul.go.kr:8088/'\n",
    "KEY='dfadf'\n",
    "TYPE='json'\n",
    "SERVICE='SearchSTNBySubwayLineService'\n",
    "START_INDEX=str(1)\n",
    "END_INDEX=str(10)\n",
    "LINE_NUM=str(2)\n",
    "params=os.path.join(KEY,TYPE,SERVICE,START_INDEX,END_INDEX,LINE_NUM)"
   ]
  },
  {
   "cell_type": "code",
   "execution_count": 39,
   "metadata": {
    "collapsed": true
   },
   "outputs": [],
   "source": [
    "import sys #src.mylib을 import해서 써주기위한 설정\n",
    "del sys.modules['src.mylib']"
   ]
  },
  {
   "cell_type": "code",
   "execution_count": 45,
   "metadata": {
    "collapsed": false
   },
   "outputs": [
    {
     "ename": "XMLSyntaxError",
     "evalue": "Start tag expected, '<' not found, line 1, column 1 (line 1)",
     "output_type": "error",
     "traceback": [
      "\u001b[0;36m  File \u001b[0;32m\"<string>\"\u001b[0;36m, line \u001b[0;32m1\u001b[0m\n\u001b[0;31mXMLSyntaxError\u001b[0m\u001b[0;31m:\u001b[0m Start tag expected, '<' not found, line 1, column 1\n"
     ]
    }
   ],
   "source": [
    "import os\n",
    "import requests\n",
    "import urlparse\n",
    "import lxml\n",
    "import lxml.etree\n",
    "import StringIO\n",
    "\n",
    "def doIt():\n",
    "    keyPath=os.path.join(os.getcwd(), 'src', 'key.properties')\n",
    "    #key=mylib.getKey(keyPath)\n",
    "    # (1) make params with resource IDs\n",
    "    KEY='674d7a584e6b656c35317057737a5a'\n",
    "    TYPE='json'\n",
    "    SERVICE='SearchSTNBySubwayLineService'\n",
    "    START_INDEX=str(1)\n",
    "    END_INDEX=str(10)\n",
    "    LINE_NUM=str(2)\n",
    "    #params=os.path.join(KEY,TYPE,SERVICE,START_INDEX,END_INDEX,LINE_NUM)\n",
    "    params='/'+KEY+'/'+TYPE+'/'+SERVICE+'/'+START_INDEX+'/'+END_INDEX+'/'+LINE_NUM\n",
    "    # (2) make a full url\n",
    "    _url='http://openAPI.seoul.go.kr:8088/'\n",
    "    url=urlparse.urljoin(_url,params)\n",
    "    # (3) get data\n",
    "    data=requests.get(url).text\n",
    "    #print data[:300]\n",
    "    tree=lxml.etree.fromstring(data.encode('utf-8'))\n",
    "    nodes=tree.xpath('//STATION_NM')\n",
    "    \n",
    "    for node in nodes:\n",
    "        print node.text\n",
    "        \n",
    "if __name__ == \"__main__\":\n",
    "    doIt()"
   ]
  },
  {
   "cell_type": "code",
   "execution_count": 49,
   "metadata": {
    "collapsed": false
   },
   "outputs": [
    {
     "name": "stdout",
     "output_type": "stream",
     "text": [
      "Overwriting src/ds_open_subway.py\n"
     ]
    }
   ],
   "source": [
    "%%writefile src/ds_open_subway.py\n",
    "import os\n",
    "import urlparse\n",
    "import requests\n",
    "import lxml\n",
    "import lxml.etree\n",
    "import StringIO\n",
    "import mylib\n",
    "import json\n",
    "from pymongo import MongoClient\n",
    "\n",
    "Client = MongoClient('localhost:27017')\n",
    "_db=Client['ds_open_subwayDb'] #db created by mongo\n",
    "_table=_db['db_open_subwayTable'] #collection\n",
    "#db=Client.ds_rest_subwayPassengers\n",
    "        \n",
    "def saveJson(_fname,_data):\n",
    "    import io\n",
    "    with io.open(_fname, 'a', encoding='utf8') as json_file:\n",
    "        _j=json.dumps(_data, json_file, ensure_ascii=False, encoding='utf8')\n",
    "        json_file.write(_j+\"\\n\")\n",
    "\n",
    "def readJson(_fname):\n",
    "    for line in open(_fname, 'r').readlines():\n",
    "        _j=json.loads(line)\n",
    "        #print _j['id'],_j['text']\n",
    "        print _j['id']        \n",
    "def saveDB(_data):\n",
    "    _table.insert_one(_data)\n",
    "def readDB():\n",
    "    for tweet in _table.find():\n",
    "        print tweet['id'],tweet['text']\n",
    "\n",
    "def saveFile(_fname,_data):\n",
    "    fp=open(_fname,'a')\n",
    "    fp.write(_data+\"\\n\")\n",
    "    \n",
    "def doIt():\n",
    "    keyPath=os.path.join(os.getcwd(), 'src', 'key.properties')\n",
    "    key=mylib.getKey(keyPath)\n",
    "    KEY=str(key['dataseoul'])\n",
    "    TYPE='xml'\n",
    "    SERVICE='SearchSTNBySubwayLineService'\n",
    "    START_INDEX=str(1)\n",
    "    END_INDEX=str(10)\n",
    "    LINE_NUM=str(2)\n",
    "\n",
    "    _maxIter=20\n",
    "    _iter=0\n",
    "    _jfname='src/ds_open_subway.json'\n",
    "    params='/'+KEY+'/'+TYPE+'/'+SERVICE+'/'+START_INDEX+'/'+END_INDEX+'/'+LINE_NUM\n",
    "\n",
    "    _url='http://openAPI.seoul.go.kr:8088/'\n",
    "    url=urlparse.urljoin(_url,params)\n",
    "    data=requests.get(url).text\n",
    "    tree=lxml.etree.fromstring(data.encode('utf-8'))\n",
    "    nodes=tree.xpath('//STATION_NM')\n",
    "    _json=nodes.json()\n",
    "    print _json\n",
    "    saveJson(_jfname,_json)\n",
    "    saveDB(_json)\n",
    "    START_INDEX+=5\n",
    "    \n",
    "    for node in nodes:\n",
    "        print node.text\n",
    "\n",
    "    \n",
    "if __name__ == \"__main__\":\n",
    "    doIt()"
   ]
  },
  {
   "cell_type": "code",
   "execution_count": 47,
   "metadata": {
    "collapsed": false
   },
   "outputs": [
    {
     "name": "stderr",
     "output_type": "stream",
     "text": [
      "Traceback (most recent call last):\n",
      "  File \"src\\ds_open_subway.py\", line 30, in <module>\n",
      "    doIt()\n",
      "  File \"src\\ds_open_subway.py\", line 24, in doIt\n",
      "    tree=lxml.etree.fromstring(data.encode('utf-8'))\n",
      "  File \"src\\lxml\\lxml.etree.pyx\", line 3213, in lxml.etree.fromstring (src\\lxml\\lxml.etree.c:78993)\n",
      "  File \"src\\lxml\\parser.pxi\", line 1848, in lxml.etree._parseMemoryDocument (src\\lxml\\lxml.etree.c:118324)\n",
      "  File \"src\\lxml\\parser.pxi\", line 1736, in lxml.etree._parseDoc (src\\lxml\\lxml.etree.c:117004)\n",
      "  File \"src\\lxml\\parser.pxi\", line 1102, in lxml.etree._BaseParser._parseDoc (src\\lxml\\lxml.etree.c:111248)\n",
      "  File \"src\\lxml\\parser.pxi\", line 595, in lxml.etree._ParserContext._handleParseResultDoc (src\\lxml\\lxml.etree.c:105092)\n",
      "  File \"src\\lxml\\parser.pxi\", line 706, in lxml.etree._handleParseResult (src\\lxml\\lxml.etree.c:106800)\n",
      "  File \"src\\lxml\\parser.pxi\", line 646, in lxml.etree._raiseParseError (src\\lxml\\lxml.etree.c:105946)\n",
      "  File \"<string>\", line 0\n",
      "lxml.etree.XMLSyntaxError\n"
     ]
    }
   ],
   "source": [
    "!python src\\ds_open_subway.py"
   ]
  },
  {
   "cell_type": "code",
   "execution_count": 4,
   "metadata": {
    "collapsed": false
   },
   "outputs": [
    {
     "name": "stdout",
     "output_type": "stream",
     "text": [
      " C 드라이브의 볼륨: Windows\n",
      " 볼륨 일련 번호: A065-E724\n",
      "\n",
      " C:\\Users\\Y\\Code\\s_201511138\\src 디렉터리\n",
      "\n",
      "2017-04-24  오후 06:56    <DIR>          .\n",
      "2017-04-24  오후 06:56    <DIR>          ..\n",
      "2017-04-16  오후 08:55               253 ds234_web_crawl_1.py\n",
      "2017-04-16  오후 08:55               436 ds234_web_crawl_5.py\n",
      "2017-04-16  오후 08:55               640 ds234_web_crawl_6.py\n",
      "2017-04-16  오후 08:55               578 ds2_web_crawl_3.py\n",
      "2017-04-16  오후 08:55               529 ds2_web_crawl_4.py\n",
      "2017-04-24  오후 06:56               766 ds_open_dataseoul_ex.py\n",
      "2017-04-17  오후 01:39               165 ds_save_mongo_5.js\n",
      "2017-04-17  오후 01:56               209 ds_save_mongo_6.js\n",
      "2017-04-17  오후 02:06               296 ds_save_mongo_6.py\n",
      "2017-04-16  오후 08:55                79 ds_save_mongo_test.js\n",
      "2017-04-24  오후 12:20                73 ds_save_persons.json\n",
      "2017-04-24  오후 12:21                73 ds_save_persons1.json\n",
      "2017-04-16  오후 08:55               374 ds_web_crawl_ieee.py\n",
      "2017-04-23  오후 01:20               822 ds_web_crawl_naverMusic.py\n",
      "2017-04-16  오후 08:55               949 my.xml\n",
      "2017-04-23  오후 12:36           271,363 mygoogling.html\n",
      "2017-04-16  오후 08:55               210 mypage1.html\n",
      "2017-04-16  오후 08:55             1,108 mypage3.html\n",
      "2017-04-16  오후 08:55               282 test.py\n",
      "              19개 파일             279,205 바이트\n",
      "               2개 디렉터리  52,300,611,584 바이트 남음\n"
     ]
    }
   ],
   "source": [
    "!dir src"
   ]
  },
  {
   "cell_type": "markdown",
   "metadata": {},
   "source": [
    "* ! : 명령창에서 다음을 실행시켜서 ipython note북상에서 보여주십쇼"
   ]
  },
  {
   "cell_type": "code",
   "execution_count": 10,
   "metadata": {
    "collapsed": false
   },
   "outputs": [
    {
     "name": "stderr",
     "output_type": "stream",
     "text": [
      "Traceback (most recent call last):\n",
      "  File \"src/ds_open_dataseoul_ex.py\", line 27, in <module>\n",
      "    doIt()\n",
      "  File \"src/ds_open_dataseoul_ex.py\", line 24, in doIt\n",
      "    print data[:300]\n",
      "UnicodeEncodeError: 'ascii' codec can't encode characters in position 94-95: ordinal not in range(128)\n"
     ]
    }
   ],
   "source": [
    "!python src/ds_open_dataseoul_ex.py"
   ]
  },
  {
   "cell_type": "markdown",
   "metadata": {},
   "source": [
    "* 공공데이터 포탈은 직접들어가서 doc파일을 다운받아서 그것을 열어보면 필수 요청 변수명을 알 수 있다. "
   ]
  },
  {
   "cell_type": "code",
   "execution_count": 14,
   "metadata": {
    "collapsed": false
   },
   "outputs": [
    {
     "name": "stdout",
     "output_type": "stream",
     "text": [
      "Overwriting src/ds_open_gokr_ex.py\n"
     ]
    }
   ],
   "source": [
    "%%writefile src/ds_open_gokr_ex.py\n",
    "# coding: utf-8\n",
    "import os\n",
    "import requests\n",
    "import urlparse\n",
    "import urllib\n",
    "import mylib\n",
    "\n",
    "def doIt():\n",
    "    # (1) service + operation\n",
    "    SERVICE='ArpltnInforInqireSvc'\n",
    "    OPERATION_NAME='getMinuDustFrcstDspth'\n",
    "    params1=SERVICE+'/'+OPERATION_NAME\n",
    "    # (2) query params encoding\n",
    "    _d=dict()\n",
    "    _d['dataTerm']='month'\n",
    "    params2 = urllib.urlencode(_d)\n",
    "    # (3) add my service key\n",
    "    keyPath=os.path.join(os.getcwd(), 'src', 'key.properties')\n",
    "    key=mylib.getKey(keyPath)\n",
    "    keygokr=key['gokr'] # keygokr='8Bx4C1%2B...'\n",
    "    params=params1+'?'+'serviceKey='+keygokr+'&'+params2\n",
    "    # (4) make a full url\n",
    "    _url='http://openapi.airkorea.or.kr/openapi/services/rest/ArpltnInforInqireSvc'\n",
    "    url=urlparse.urljoin(_url,params)\n",
    "    # (5) get data\n",
    "    data=requests.get(url).text\n",
    "    print data[:300]\n",
    "\n",
    "if __name__ == \"__main__\":\n",
    "    doIt()"
   ]
  },
  {
   "cell_type": "code",
   "execution_count": 15,
   "metadata": {
    "collapsed": false
   },
   "outputs": [
    {
     "name": "stderr",
     "output_type": "stream",
     "text": [
      "Traceback (most recent call last):\n",
      "  File \"src\\ds_open_dataseoul_ex.py\", line 27, in <module>\n",
      "    doIt()\n",
      "  File \"src\\ds_open_dataseoul_ex.py\", line 24, in doIt\n",
      "    print data[:300]\n",
      "UnicodeEncodeError: 'ascii' codec can't encode characters in position 94-95: ordinal not in range(128)\n"
     ]
    }
   ],
   "source": [
    "!python src\\ds_open_dataseoul_ex.py"
   ]
  }
 ],
 "metadata": {
  "kernelspec": {
   "display_name": "Python 2",
   "language": "python",
   "name": "python2"
  },
  "language_info": {
   "codemirror_mode": {
    "name": "ipython",
    "version": 2
   },
   "file_extension": ".py",
   "mimetype": "text/x-python",
   "name": "python",
   "nbconvert_exporter": "python",
   "pygments_lexer": "ipython2",
   "version": "2.7.13"
  }
 },
 "nbformat": 4,
 "nbformat_minor": 2
}
