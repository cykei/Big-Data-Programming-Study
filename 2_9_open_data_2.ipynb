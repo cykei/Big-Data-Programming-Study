{
 "cells": [
  {
   "cell_type": "code",
   "execution_count": 1,
   "metadata": {
    "collapsed": false
   },
   "outputs": [
    {
     "name": "stdout",
     "output_type": "stream",
     "text": [
      "gokr= sXf66NX9wb7bv6O7tj%2BGUQwoC8se7eLri6DeEShKqQAj19JzR8xl29bBfbN1L0%2BqGdQUtDRTn1hm6wSIfle4Tg%3D%3D\n",
      "dataseoul= 674d7a584e6b656c35317057737a5a\n"
     ]
    }
   ],
   "source": [
    "import src.mylib\n",
    "import os\n",
    "KEY1=src.mylib.getKey(os.path.join('src','key.properties'))\n",
    "print 'gokr=',KEY1['gokr']\n",
    "print 'dataseoul=',KEY1['dataseoul']"
   ]
  },
  {
   "cell_type": "markdown",
   "metadata": {},
   "source": [
    "* 열린데이터 홈페이지에가서 상세설명을 보고 그 양식에 맞춰서 KEY, TYPE, SERVICE, START_INDEX, END_INDEX, LINE_NUM 이라는 변수명을 알아 온다."
   ]
  },
  {
   "cell_type": "code",
   "execution_count": 25,
   "metadata": {
    "collapsed": false
   },
   "outputs": [
    {
     "name": "stdout",
     "output_type": "stream",
     "text": [
      "Overwriting src/ds_open_dataseoul_ex.py\n"
     ]
    }
   ],
   "source": [
    "%%writefile src/ds_open_dataseoul_ex.py\n",
    "# coding:utf-8\n",
    "import os\n",
    "import requests\n",
    "import urlparse\n",
    "import mylib\n",
    "\n",
    "def doIt():\n",
    "    keyPath=os.path.join(os.getcwd(), 'src', 'key.properties')\n",
    "    key=mylib.getKey(keyPath)\n",
    "    # (1) make params with resource IDs\n",
    "    KEY=key['dataseoul']\n",
    "    TYPE='json'\n",
    "    SERVICE='SearchSTNBySubwayLineService'\n",
    "    START_INDEX=str(1)\n",
    "    END_INDEX=str(10)\n",
    "    LINE_NUM=str(2)\n",
    "    #params=os.path.join(KEY,TYPE,SERVICE,START_INDEX,END_INDEX,LINE_NUM)\n",
    "    params='/'+KEY+'/'+TYPE+'/'+SERVICE+'/'+START_INDEX+'/'+END_INDEX+'/'+LINE_NUM\n",
    "    # (2) make a full url\n",
    "    _url='http://openAPI.seoul.go.kr:8088/'\n",
    "    url=urlparse.urljoin(_url,params)\n",
    "    # (3) get data\n",
    "    data=requests.get(url).text\n",
    "    print data[:300]\n",
    "\n",
    "if __name__ == \"__main__\":\n",
    "    doIt()"
   ]
  },
  {
   "cell_type": "code",
   "execution_count": 3,
   "metadata": {
    "collapsed": false
   },
   "outputs": [
    {
     "data": {
      "text/plain": [
       "u'C:\\\\Users\\\\400T6B\\\\Code\\\\s_201511138'"
      ]
     },
     "execution_count": 3,
     "metadata": {},
     "output_type": "execute_result"
    }
   ],
   "source": [
    "pwd"
   ]
  },
  {
   "cell_type": "code",
   "execution_count": 24,
   "metadata": {
    "collapsed": false
   },
   "outputs": [
    {
     "name": "stdout",
     "output_type": "stream",
     "text": [
      "C:\\Users\\400T6B\\Code\\s_201511138\\src\\key.properties\n",
      "http://openAPI.seoul.go.kr:8088/dfadf\\json\\SearchSTNBySubwayLineService\\1\\10\\2\n"
     ]
    }
   ],
   "source": [
    "import requests\n",
    "import urlparse\n",
    "print os.path.join(os.getcwd(),'src','key.properties')\n",
    "_url='http://openAPI.seoul.go.kr:8088/'\n",
    "KEY='dfadf'\n",
    "TYPE='json'\n",
    "SERVICE='SearchSTNBySubwayLineService'\n",
    "START_INDEX=str(1)\n",
    "END_INDEX=str(10)\n",
    "LINE_NUM=str(2)\n",
    "params=os.path.join(KEY,TYPE,SERVICE,START_INDEX,END_INDEX,LINE_NUM)"
   ]
  },
  {
   "cell_type": "code",
   "execution_count": 4,
   "metadata": {
    "collapsed": false
   },
   "outputs": [
    {
     "name": "stdout",
     "output_type": "stream",
     "text": [
      " C 드라이브의 볼륨에는 이름이 없습니다.\n",
      " 볼륨 일련 번호: A49F-0284\n",
      "\n",
      " C:\\Users\\400T6B\\Code\\s_201511138\\src 디렉터리\n",
      "\n",
      "2017-04-18  오후 05:14    <DIR>          .\n",
      "2017-04-18  오후 05:14    <DIR>          ..\n",
      "2017-03-30  오후 12:35               253 ds234_web_crawl_1.py\n",
      "2017-03-30  오후 12:37               436 ds234_web_crawl_5.py\n",
      "2017-04-03  오후 12:48               637 ds234_web_crawl_6.py\n",
      "2017-04-18  오후 05:14               682 ds_open_dataseoul_ex.py\n",
      "2017-04-11  오후 05:50               165 ds_save_mongo_5.js\n",
      "2017-04-11  오후 05:29                79 ds_save_mongo_test.js\n",
      "2017-03-28  오후 05:35               374 ds_web_crawl_ieee.py\n",
      "2017-04-18  오후 04:29               143 key.properties\n",
      "2017-03-27  오후 12:32               949 my.xml\n",
      "2017-04-18  오후 05:08               259 mylib.py\n",
      "2017-04-18  오후 05:09               681 mylib.pyc\n",
      "2017-03-27  오후 12:25               210 mypage1.html\n",
      "2017-03-28  오후 04:23             1,108 mypage3.html\n",
      "2017-03-14  오전 01:52               282 test.py\n",
      "2017-04-18  오후 04:36               144 _init_.py\n",
      "2017-04-18  오후 04:37                10 __init__.py\n",
      "2017-04-18  오후 05:12               126 __init__.pyc\n",
      "              17개 파일               6,538 바이트\n",
      "               2개 디렉터리  819,958,091,776 바이트 남음\n"
     ]
    }
   ],
   "source": [
    "!dir src"
   ]
  },
  {
   "cell_type": "markdown",
   "metadata": {},
   "source": [
    "* ! : 명령창에서 다음을 실행시켜서 ipython note북상에서 보여주십쇼"
   ]
  },
  {
   "cell_type": "code",
   "execution_count": 5,
   "metadata": {
    "collapsed": false
   },
   "outputs": [
    {
     "name": "stdout",
     "output_type": "stream",
     "text": [
      "\n"
     ]
    }
   ],
   "source": [
    "!python src/ds_open_dataseoul_ex.py"
   ]
  },
  {
   "cell_type": "markdown",
   "metadata": {},
   "source": [
    "* 공공데이터 포탈은 직접들어가서 doc파일을 다운받아서 그것을 열어보면 필수 요청 변수명을 알 수 있다. "
   ]
  }
 ],
 "metadata": {
  "kernelspec": {
   "display_name": "Python 2",
   "language": "python",
   "name": "python2"
  },
  "language_info": {
   "codemirror_mode": {
    "name": "ipython",
    "version": 2
   },
   "file_extension": ".py",
   "mimetype": "text/x-python",
   "name": "python",
   "nbconvert_exporter": "python",
   "pygments_lexer": "ipython2",
   "version": "2.7.13"
  }
 },
 "nbformat": 4,
 "nbformat_minor": 2
}
