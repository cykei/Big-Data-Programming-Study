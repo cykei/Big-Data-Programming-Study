{
 "cells": [
  {
   "cell_type": "markdown",
   "metadata": {},
   "source": [
    "## O.4 열린데이터와 공공데이터포털\n",
    "\n",
    "* 열린데이터\n",
    "    * 시, 군 , 부 별로 제공된다.\n",
    "    * REST 방식으로 데이터를 제공. 반환되는 데이터 타입이 json또는 xml\n",
    "* 공공데이터포털\n",
    "    * 여러 관공서에서 제공하는 open data를 포털로 묶어놓은 곳이다. -> 여기 데이터 별로 안 좋음. 일관성이 없다.\n",
    "    * key를 줘서 제공받는다.\n",
    "    \n",
    "    \n",
    "* 키를 받으면 이걸 프로그램내에 쓰면 좋지 않다. 그래서 키는 파일에 저장해서 그 파일을 프로그램에서 받아서 쓰는 식으로 함"
   ]
  },
  {
   "cell_type": "code",
   "execution_count": 1,
   "metadata": {
    "collapsed": false
   },
   "outputs": [
    {
     "name": "stdout",
     "output_type": "stream",
     "text": [
      "Writing src/key.properties\n"
     ]
    }
   ],
   "source": [
    "%%writefile src/key.properties\n",
    "dataseoul=674d7a584e6b656c35317057737a5a\n",
    "gokr=sXf66NX9wb7bv6O7tj%2BGUQwoC8se7eLri6DeEShKqQAj19JzR8xl29bBfbN1L0%2BqGdQUtDRTn1hm6wSIfle4Tg%3D%3D"
   ]
  },
  {
   "cell_type": "code",
   "execution_count": null,
   "metadata": {
    "collapsed": true
   },
   "outputs": [],
   "source": [
    "# %load src/key.properties\n",
    "dataseoul=674d7a584e6b656c35317057737a5a\n",
    "gokr=sXf66NX9wb7bv6O7tj%2BGUQwoC8se7eLri6DeEShKqQAj19JzR8xl29bBfbN1L0%2BqGdQUtDRTn1hm6wSIfle4Tg%3D%3D"
   ]
  },
  {
   "cell_type": "markdown",
   "metadata": {},
   "source": [
    "### 나의 라이브러리 만들기\n",
    "\n",
    "1. sayHello()를 라이브러리로 만들어본다.\n",
    "2. key.properties를 라이브러리화 환다. (이제부터 많이 사용할 것이기 때문에 쓰기 편하게 하려고 라이브러리화 해준다.)"
   ]
  },
  {
   "cell_type": "code",
   "execution_count": 47,
   "metadata": {
    "collapsed": false
   },
   "outputs": [
    {
     "name": "stdout",
     "output_type": "stream",
     "text": [
      "Overwriting src/mylib.py\n"
     ]
    }
   ],
   "source": [
    "%%writefile src/mylib.py\n",
    "def sayHello():\n",
    "    print \"hello\"\n",
    "def sayHello2():\n",
    "    print \"hello2\"\n",
    "def getKey(keyPath):\n",
    "    d=dict()\n",
    "    f=open(keyPath,'r')\n",
    "    for line in f.readlines():\n",
    "        row=line.split('=')\n",
    "        key=row[0]\n",
    "        d[key]=row[1].strip()\n",
    "    return d"
   ]
  },
  {
   "cell_type": "code",
   "execution_count": 6,
   "metadata": {
    "collapsed": false
   },
   "outputs": [
    {
     "name": "stdout",
     "output_type": "stream",
     "text": [
      " C 드라이브의 볼륨에는 이름이 없습니다.\n",
      " 볼륨 일련 번호: A49F-0284\n",
      "\n",
      " C:\\Users\\400T6B\\Code\\s_201511138\\src 디렉터리\n",
      "\n",
      "2017-04-18  오후 04:32    <DIR>          .\n",
      "2017-04-18  오후 04:32    <DIR>          ..\n",
      "2017-03-30  오후 12:35               253 ds234_web_crawl_1.py\n",
      "2017-03-30  오후 12:37               436 ds234_web_crawl_5.py\n",
      "2017-04-03  오후 12:48               637 ds234_web_crawl_6.py\n",
      "2017-04-11  오후 05:50               165 ds_save_mongo_5.js\n",
      "2017-04-11  오후 05:29                79 ds_save_mongo_test.js\n",
      "2017-03-28  오후 05:35               374 ds_web_crawl_ieee.py\n",
      "2017-04-18  오후 04:29               143 key.properties\n",
      "2017-03-27  오후 12:32               949 my.xml\n",
      "2017-04-18  오후 04:32                34 mylib.py\n",
      "2017-03-27  오후 12:25               210 mypage1.html\n",
      "2017-03-28  오후 04:23             1,108 mypage3.html\n",
      "2017-03-14  오전 01:52               282 test.py\n",
      "              12개 파일               4,670 바이트\n",
      "               2개 디렉터리  819,969,191,936 바이트 남음\n"
     ]
    }
   ],
   "source": [
    "!dir src\\"
   ]
  },
  {
   "cell_type": "code",
   "execution_count": 23,
   "metadata": {
    "collapsed": true
   },
   "outputs": [],
   "source": [
    "# import os를 쓴 이유는 파일 비워놓으면 뭐라고 불평하니까 그냥 한줄 넣어준 것임. 아무거나 넣어도 됨. 이거 아무뜻 없음.\n",
    "## init 를 만들어주는 이유 : 이 파일이 있으면 그 파일이 있는 곳의 폴더이름이 패키지가 되서 import를 사용할 수 있다."
   ]
  },
  {
   "cell_type": "code",
   "execution_count": 20,
   "metadata": {
    "collapsed": false
   },
   "outputs": [
    {
     "name": "stdout",
     "output_type": "stream",
     "text": [
      "Overwriting src/__init__.py\n"
     ]
    }
   ],
   "source": [
    "%%writefile src/__init__.py\n",
    "import os "
   ]
  },
  {
   "cell_type": "code",
   "execution_count": 27,
   "metadata": {
    "collapsed": false
   },
   "outputs": [
    {
     "name": "stdout",
     "output_type": "stream",
     "text": [
      "hello\n"
     ]
    },
    {
     "ename": "NameError",
     "evalue": "name 'sayHello2' is not defined",
     "output_type": "error",
     "traceback": [
      "\u001b[0;31m---------------------------------------------------------------------------\u001b[0m",
      "\u001b[0;31mNameError\u001b[0m                                 Traceback (most recent call last)",
      "\u001b[0;32m<ipython-input-27-607a7b1ab2e1>\u001b[0m in \u001b[0;36m<module>\u001b[0;34m()\u001b[0m\n\u001b[1;32m      1\u001b[0m \u001b[1;32mimport\u001b[0m \u001b[0msrc\u001b[0m\u001b[1;33m.\u001b[0m\u001b[0mmylib\u001b[0m\u001b[1;33m\u001b[0m\u001b[0m\n\u001b[1;32m      2\u001b[0m \u001b[0msayHello\u001b[0m\u001b[1;33m(\u001b[0m\u001b[1;33m)\u001b[0m\u001b[1;33m\u001b[0m\u001b[0m\n\u001b[0;32m----> 3\u001b[0;31m \u001b[0msayHello2\u001b[0m\u001b[1;33m(\u001b[0m\u001b[1;33m)\u001b[0m\u001b[1;33m\u001b[0m\u001b[0m\n\u001b[0m",
      "\u001b[0;31mNameError\u001b[0m: name 'sayHello2' is not defined"
     ]
    }
   ],
   "source": [
    "import src.mylib\n",
    "sayHello()\n",
    "sayHello2()"
   ]
  },
  {
   "cell_type": "code",
   "execution_count": 30,
   "metadata": {
    "collapsed": false
   },
   "outputs": [
    {
     "name": "stdout",
     "output_type": "stream",
     "text": [
      "['dataseoul=674d7a584e6b656c35317057737a5a\\n', 'gokr=sXf66NX9wb7bv6O7tj%2BGUQwoC8se7eLri6DeEShKqQAj19JzR8xl29bBfbN1L0%2BqGdQUtDRTn1hm6wSIfle4Tg%3D%3D']\n"
     ]
    }
   ],
   "source": [
    "import os\n",
    "keyPath=os.path.join('src','key.properties')\n",
    "d=dict()\n",
    "f=open(keyPath,'r') #팩토리 방식으로 연다.\n",
    "print f.readlines()"
   ]
  },
  {
   "cell_type": "markdown",
   "metadata": {},
   "source": [
    "* =을 구분으로 스플릿 해서 앞에꺼는 key로, 뒤에꺼는 value로 써줘야겠찌?"
   ]
  },
  {
   "cell_type": "code",
   "execution_count": 31,
   "metadata": {
    "collapsed": true
   },
   "outputs": [],
   "source": [
    "import os\n",
    "keyPath=os.path.join('src','key.properties')\n",
    "d=dict()\n",
    "f=open(keyPath,'r') #팩토리 방식으로 연다.\n",
    "for line in f.readlines():\n",
    "    row=line.split('=')\n",
    "    key=row[0]\n",
    "    d[key]=row[1].strip() #strip() 함수로 맨뒤의 \\n을 삭제해준다."
   ]
  },
  {
   "cell_type": "code",
   "execution_count": 32,
   "metadata": {
    "collapsed": false
   },
   "outputs": [
    {
     "name": "stdout",
     "output_type": "stream",
     "text": [
      "sXf66NX9wb7bv6O7tj%2BGUQwoC8se7eLri6DeEShKqQAj19JzR8xl29bBfbN1L0%2BqGdQUtDRTn1hm6wSIfle4Tg%3D%3D 674d7a584e6b656c35317057737a5a\n"
     ]
    }
   ],
   "source": [
    "print d['gokr'],d['dataseoul']"
   ]
  },
  {
   "cell_type": "code",
   "execution_count": 33,
   "metadata": {
    "collapsed": false
   },
   "outputs": [
    {
     "name": "stdout",
     "output_type": "stream",
     "text": [
      "sXf66NX9wb7bv6O7tj%2BGUQwoC8se7eLri6DeEShKqQAj19JzR8xl29bBfbN1L0%2BqGdQUtDRTn1hm6wSIfle4Tg%3D%3D\n"
     ]
    }
   ],
   "source": [
    "import os\n",
    "def getKey(keyPath):\n",
    "    d=dict()\n",
    "    f=open(keyPath,'r')\n",
    "    for line in f.readlines():\n",
    "        row=line.split('=')\n",
    "        key=row[0]\n",
    "        d[key]=row[1].strip()\n",
    "    return d\n",
    "\n",
    "KEY=getKey(os.path.join('src','key.properties'))\n",
    "print KEY['gokr']"
   ]
  },
  {
   "cell_type": "code",
   "execution_count": 35,
   "metadata": {
    "collapsed": false
   },
   "outputs": [
    {
     "name": "stdout",
     "output_type": "stream",
     "text": [
      " C 드라이브의 볼륨에는 이름이 없습니다.\n",
      " 볼륨 일련 번호: A49F-0284\n",
      "\n",
      " C:\\Users\\400T6B\\Code\\s_201511138\\src 디렉터리\n",
      "\n",
      "2017-04-18  오후 04:37    <DIR>          .\n",
      "2017-04-18  오후 04:37    <DIR>          ..\n",
      "2017-03-30  오후 12:35               253 ds234_web_crawl_1.py\n",
      "2017-03-30  오후 12:37               436 ds234_web_crawl_5.py\n",
      "2017-04-03  오후 12:48               637 ds234_web_crawl_6.py\n",
      "2017-04-11  오후 05:50               165 ds_save_mongo_5.js\n",
      "2017-04-11  오후 05:29                79 ds_save_mongo_test.js\n",
      "2017-03-28  오후 05:35               374 ds_web_crawl_ieee.py\n",
      "2017-04-18  오후 04:29               143 key.properties\n",
      "2017-03-27  오후 12:32               949 my.xml\n",
      "2017-04-18  오후 04:40                72 mylib.py\n",
      "2017-04-18  오후 04:37               221 mylib.pyc\n",
      "2017-03-27  오후 12:25               210 mypage1.html\n",
      "2017-03-28  오후 04:23             1,108 mypage3.html\n",
      "2017-03-14  오전 01:52               282 test.py\n",
      "2017-04-18  오후 04:36               144 _init_.py\n",
      "2017-04-18  오후 04:37                10 __init__.py\n",
      "              15개 파일               5,083 바이트\n",
      "               2개 디렉터리  819,957,497,856 바이트 남음\n"
     ]
    }
   ],
   "source": [
    "!dir src\\"
   ]
  },
  {
   "cell_type": "markdown",
   "metadata": {},
   "source": [
    "* 위의 결과에서 mylib.pyc를 보면 python이 compiler가 있다는 것을 볼 수 있다. python은 스크립트 언어인데 컴파일러가 있네! ㅇㅁㅇ!"
   ]
  },
  {
   "cell_type": "code",
   "execution_count": 51,
   "metadata": {
    "collapsed": false
   },
   "outputs": [],
   "source": [
    "import sys #src.mylib을 import해서 써주기위한 설정\n",
    "del sys.modules['src.mylib']"
   ]
  },
  {
   "cell_type": "code",
   "execution_count": 52,
   "metadata": {
    "collapsed": false
   },
   "outputs": [
    {
     "name": "stdout",
     "output_type": "stream",
     "text": [
      "hello\n",
      "hello2\n"
     ]
    }
   ],
   "source": [
    "import src.mylib\n",
    "src.mylib.sayHello()\n",
    "src.mylib.sayHello2()"
   ]
  },
  {
   "cell_type": "code",
   "execution_count": 54,
   "metadata": {
    "collapsed": false
   },
   "outputs": [
    {
     "name": "stdout",
     "output_type": "stream",
     "text": [
      "gokr= sXf66NX9wb7bv6O7tj%2BGUQwoC8se7eLri6DeEShKqQAj19JzR8xl29bBfbN1L0%2BqGdQUtDRTn1hm6wSIfle4Tg%3D%3D\n",
      "dataseoul= 674d7a584e6b656c35317057737a5a\n"
     ]
    }
   ],
   "source": [
    "import src.mylib\n",
    "import os\n",
    "KEY1=src.mylib.getKey(os.path.join('src','key.properties'))\n",
    "print 'gokr=',KEY1['gokr']\n",
    "print 'dataseoul=',KEY1['dataseoul']"
   ]
  }
 ],
 "metadata": {
  "kernelspec": {
   "display_name": "Python 2",
   "language": "python",
   "name": "python2"
  },
  "language_info": {
   "codemirror_mode": {
    "name": "ipython",
    "version": 2
   },
   "file_extension": ".py",
   "mimetype": "text/x-python",
   "name": "python",
   "nbconvert_exporter": "python",
   "pygments_lexer": "ipython2",
   "version": "2.7.13"
  }
 },
 "nbformat": 4,
 "nbformat_minor": 2
}
