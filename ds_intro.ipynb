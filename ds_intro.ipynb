{
 "cells": [
  {
   "cell_type": "markdown",
   "metadata": {},
   "source": [
    "# hello\n",
    " * 하나\n",
    " * 둘"
   ]
  },
  {
   "cell_type": "code",
   "execution_count": 2,
   "metadata": {
    "collapsed": false
   },
   "outputs": [
    {
     "name": "stdout",
     "output_type": "stream",
     "text": [
      "hello\n"
     ]
    }
   ],
   "source": [
    "print \"hello\""
   ]
  },
  {
   "cell_type": "code",
   "execution_count": 3,
   "metadata": {
    "collapsed": false
   },
   "outputs": [
    {
     "name": "stdout",
     "output_type": "stream",
     "text": [
      "2\n"
     ]
    }
   ],
   "source": [
    "print 1+1"
   ]
  },
  {
   "cell_type": "markdown",
   "metadata": {},
   "source": [
    "### dict()란?\n",
    "- dict ->javascript의 jsm과 호환되는 프로그램 (엑셀을 떠올려보세요)\n",
    "- 2colum짜리 key:value 이렇게 1:1로 연결짓는 데이터 형식.\n",
    "- key는 문자니까 \"\"\n",
    "- dict의 form - {\" \": }\n",
    "- dict의 장점 - 1대1 대응이가능. key를 자유롭게 줄 수 있다. \n",
    "    \n",
    "### In BigData..\n",
    "- map-reduce \n",
    "- 특정단어 - 빈도수(한정된 범위에서 특정단어의 갯수)"
   ]
  },
  {
   "cell_type": "code",
   "execution_count": 4,
   "metadata": {
    "collapsed": false
   },
   "outputs": [
    {
     "name": "stdout",
     "output_type": "stream",
     "text": [
      "키-키값 {'a': 1, ' ': 1, 'e': 1, 'g': 2, 'i': 2, 'm': 1, 'n': 3, 's': 2, 'r': 1, 'u': 2, 't': 1, 'v': 1, 'y': 2}\n",
      "저장된 문자의 갯수 (중복을 빼고) 13\n",
      "키:  ['a', ' ', 'e', 'g', 'i', 'm', 'n', 's', 'r', 'u', 't', 'v', 'y']\n",
      "키값: [1, 1, 1, 2, 2, 1, 3, 2, 1, 2, 1, 1, 2]\n"
     ]
    }
   ],
   "source": [
    "word = 'sangmyung university'\n",
    "\n",
    "d = dict()\n",
    "for c in word:\n",
    "    if c not in d:\n",
    "        d[c]=1\n",
    "    else:\n",
    "        d[c]=d[c]+1\n",
    "print \"키-키값\",d \n",
    "print \"저장된 문자의 갯수 (중복을 빼고)\", len(d)\n",
    "print \"키: \",d.keys()\n",
    "print \"키값:\", d.values()"
   ]
  },
  {
   "cell_type": "code",
   "execution_count": 3,
   "metadata": {
    "collapsed": false
   },
   "outputs": [
    {
     "name": "stdout",
     "output_type": "stream",
     "text": [
      "(<type 'dict'>, {'password': 'test', 'id': 'test'})\n",
      "('password', 'pqwer')\n",
      "('id', 'test')\n",
      "{'password': 'pqwer', 'id': 'test'}\n"
     ]
    }
   ],
   "source": [
    "a=dict()\n",
    "a['id']='test'\n",
    "a['password']='test'\n",
    "print(type(a),a)\n",
    "\n",
    "temp={'id':'test','password':'pqwer'}\n",
    "b={}\n",
    "for k,v in temp.items():\n",
    "    print(k,v)\n",
    "    b[k]=v\n",
    "    \n",
    "print(b)"
   ]
  },
  {
   "cell_type": "markdown",
   "metadata": {},
   "source": [
    "## 단어세기\n",
    "* 문장을 리스트로 구성"
   ]
  },
  {
   "cell_type": "code",
   "execution_count": null,
   "metadata": {
    "collapsed": true
   },
   "outputs": [],
   "source": [
    "word=['sangmyung university','university']\n",
    "d=dict()\n",
    "for e in word:\n",
    "    for w in e.split():\n",
    "        if w not in d:\n",
    "            d[w]=1\n",
    "            else:\n",
    "                d[w]=d[w]+1\n",
    "print \"키-키값\",d\n",
    "print \"저장된 문자의 갯수(중복을 빼고)\",len(d)\n"
   ]
  },
  {
   "cell_type": "markdown",
   "metadata": {},
   "source": [
    "### 빅데이터의 특징\n",
    "* 묶어서 생각한다. 대규모이다. \n",
    "* 실시간 발생한다. (물론 진짜 실시간은 아니고 아주 약간의 딜레이는 존재한다. 왜? network frame 때문에)\n",
    "* 발생하는 데이터를 즉시 분석한다. 실시간으로 분석한다.  = streaming \n",
    "* 물론 데이터가 많아지면 저장해서 읽어서 분석해야한다.(실시간 분석 안됨) 그래서 우리는 저장, 읽기, 분석 방법을 배워야 하는데... 저장하는데 가장 효과적인 방법은 file로 저장하는것이다.\n",
    "\n"
   ]
  },
  {
   "cell_type": "code",
   "execution_count": 6,
   "metadata": {
    "collapsed": false
   },
   "outputs": [],
   "source": [
    "!echo \"Hello sangmyung university\\nthis is a line\\nHello\" > tmp.txt\n",
    "#echo : 리눅스명령어, !: 리눅스 shell 명령어"
   ]
  },
  {
   "cell_type": "code",
   "execution_count": 4,
   "metadata": {
    "collapsed": false
   },
   "outputs": [
    {
     "name": "stdout",
     "output_type": "stream",
     "text": [
      "Hello sangmyung university\\nthis is a line\\nHello\n",
      "\n"
     ]
    }
   ],
   "source": [
    "f=open('tmp.txt')\n",
    "\n",
    "for line in f.readlines():\n",
    "    print line\n",
    "f.close()"
   ]
  },
  {
   "cell_type": "code",
   "execution_count": 5,
   "metadata": {
    "collapsed": false
   },
   "outputs": [
    {
     "name": "stdout",
     "output_type": "stream",
     "text": [
      "키-키값 {'a': 1, 'is': 1, 'university\\\\nthis': 1, 'line\\\\nHello': 1, 'sangmyung': 1, 'Hello': 1}\n",
      "저장된 문자의 갯수 (중복을 빼고) 6\n",
      "키:  ['a', 'is', 'university\\\\nthis', 'line\\\\nHello', 'sangmyung', 'Hello']\n",
      "키값: [1, 1, 1, 1, 1, 1]\n"
     ]
    }
   ],
   "source": [
    "#readlines : 한줄 씩 읽어온다. = generator (interator 아님)\n",
    "\n",
    "# iterator 는 꼭 쓰면 닫아줘야 된다. 하지만 generator는 닫으면 안됨.\n",
    "\n",
    "d = dict()\n",
    "f=open('tmp.txt')\n",
    "for e in f.readlines():\n",
    "    for w in e.split(): \n",
    "        if w not in d:\n",
    "            d[w]=1\n",
    "        else:\n",
    "            d[w]=d[w]+1\n",
    "f.close()\n",
    "print \"키-키값\",d \n",
    "print \"저장된 문자의 갯수 (중복을 빼고)\", len(d)\n",
    "print \"키: \",d.keys()\n",
    "print \"키값:\", d.values()\n"
   ]
  },
  {
   "cell_type": "markdown",
   "metadata": {},
   "source": [
    "* 빅데이터는 무조건 분석을 마치고 시각화를 해야한다. 시각화를 해서 다른 사람들이 보기 쉽고 이해하기 쉽게 해준다.\n"
   ]
  },
  {
   "cell_type": "code",
   "execution_count": 6,
   "metadata": {
    "collapsed": false
   },
   "outputs": [
    {
     "data": {
      "image/png": "[encoded data removed]",
      "text/plain": [
       "<matplotlib.figure.Figure at 0x45e36d8>"
      ]
     },
     "metadata": {},
     "output_type": "display_data"
    }
   ],
   "source": [
    "%matplotlib inline\n",
    "\n",
    "\n",
    "import matplotlib\n",
    "import matplotlib.pyplot as plt \n",
    "\n",
    "# 2단계로 나누어 그림\n",
    "plt.bar(range(len(d)), d.values(), align='center')\n",
    "plt.xticks(range(len(d)), list(d.keys()))\n",
    "plt.show()"
   ]
  }
 ],
 "metadata": {
  "kernelspec": {
   "display_name": "Python 2",
   "language": "python",
   "name": "python2"
  },
  "language_info": {
   "codemirror_mode": {
    "name": "ipython",
    "version": 2
   },
   "file_extension": ".py",
   "mimetype": "text/x-python",
   "name": "python",
   "nbconvert_exporter": "python",
   "pygments_lexer": "ipython2",
   "version": "2.7.13"
  }
 },
 "nbformat": 4,
 "nbformat_minor": 2
}
