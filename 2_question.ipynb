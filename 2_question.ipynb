{
 "cells": [
  {
   "cell_type": "markdown",
   "metadata": {},
   "source": [
    "## 웹데이터 -1 : python.org 페이지를 크롤링해서 http url 출력하기"
   ]
  },
  {
   "cell_type": "code",
   "execution_count": 55,
   "metadata": {
    "collapsed": false
   },
   "outputs": [
    {
     "name": "stdout",
     "output_type": "stream",
     "text": [
      "#content\n",
      "#python-network\n",
      "/\n",
      "/psf-landing/\n",
      "https://docs.python.org\n",
      "https://pypi.python.org/\n",
      "/jobs/\n",
      "/community/\n",
      "#top\n",
      "/\n",
      "#site-map\n",
      "#\n",
      "javascript:;\n",
      "javascript:;\n",
      "javascript:;\n",
      "#\n",
      "http://plus.google.com/+Python\n",
      "http://www.facebook.com/pythonlang?fref=ts\n",
      "http://twitter.com/ThePSF\n",
      "/community/irc/\n",
      "/accounts/login/\n",
      "/accounts/signup/\n",
      "/accounts/login/\n",
      "/about/\n",
      "/about/apps/\n",
      "/about/quotes/\n",
      "/about/gettingstarted/\n",
      "/about/help/\n",
      "http://brochure.getpython.info/\n",
      "/downloads/\n",
      "/downloads/\n",
      "/downloads/source/\n",
      "/downloads/windows/\n",
      "/downloads/mac-osx/\n",
      "/download/other/\n",
      "https://docs.python.org/3/license.html\n",
      "/download/alternatives\n",
      "/doc/\n",
      "/doc/\n",
      "/doc/av\n",
      "https://wiki.python.org/moin/BeginnersGuide\n",
      "https://docs.python.org/devguide/\n",
      "https://docs.python.org/faq/\n",
      "http://wiki.python.org/moin/Languages\n",
      "http://python.org/dev/peps/\n",
      "https://wiki.python.org/moin/PythonBooks\n",
      "/community/\n",
      "/community/diversity/\n",
      "/community/irc/\n",
      "/community/lists/\n",
      "/community/workshops/\n",
      "/community/sigs/\n",
      "https://wiki.python.org/moin/\n",
      "/community/logos/\n",
      "/community/merchandise/\n",
      "/community/awards\n",
      "/about/success/\n",
      "/about/success/#arts\n",
      "/about/success/#business\n",
      "/about/success/#education\n",
      "/about/success/#engineering\n",
      "/about/success/#government\n",
      "/about/success/#scientific\n",
      "/about/success/#software-development\n",
      "/blogs/\n",
      "/blogs/\n",
      "http://planetpython.org/\n",
      "http://pyfound.blogspot.com/\n",
      "http://pycon.blogspot.com/\n",
      "/events/\n",
      "/events/python-events\n",
      "/events/python-user-group/\n",
      "/events/python-events/past/\n",
      "/events/python-user-group/past/\n",
      "https://wiki.python.org/moin/PythonEventsCalendar#Submitting_an_Event\n",
      "/shell/\n",
      "//docs.python.org/3/tutorial/controlflow.html#defining-functions\n",
      "//docs.python.org/3/tutorial/introduction.html#lists\n",
      "http://docs.python.org/3/tutorial/introduction.html#using-python-as-a-calculator\n",
      "//docs.python.org/3/tutorial/\n",
      "//docs.python.org/3/tutorial/controlflow.html\n",
      "/doc/\n",
      "/about/gettingstarted/\n",
      "https://wiki.python.org/moin/Python2orPython3\n",
      "/downloads/release/python-361/\n",
      "/downloads/release/python-2713/\n",
      "https://docs.python.org\n",
      "//jobs.python.org\n",
      "http://blog.python.org\n",
      "http://feedproxy.google.com/~r/PythonInsider/~3/C-xfWJKP0-A/python-361-is-now-available.html\n",
      "http://feedproxy.google.com/~r/PythonInsider/~3/w2AW2NRSOEM/python-361rc1-is-now-available-for.html\n",
      "http://feedproxy.google.com/~r/PythonInsider/~3/NeIHRAidlpc/python-353-and-346-are-now-available.html\n",
      "http://feedproxy.google.com/~r/PythonInsider/~3/UoiMThSwgQM/python-353rc1-and-python-346rc1-are-now.html\n",
      "http://feedproxy.google.com/~r/PythonInsider/~3/4gOtq8ChYHk/python-360-is-now-available.html\n",
      "/events/calendars/\n",
      "/events/python-user-group/517/\n",
      "/events/python-events/501/\n",
      "/events/python-events/520/\n",
      "/events/python-events/463/\n",
      "/events/python-events/465/\n",
      "/success-stories/\n",
      "/success-stories/industrial-light-magic-runs-python/\n",
      "/success-stories/industrial-light-magic-runs-python/\n",
      "/about/apps\n",
      "http://www.djangoproject.com/\n",
      "http://www.pylonsproject.org/\n",
      "http://bottlepy.org\n",
      "http://tornadoweb.org\n",
      "http://flask.pocoo.org/\n",
      "http://www.web2py.com/\n",
      "http://wiki.python.org/moin/TkInter\n",
      "https://wiki.gnome.org/Projects/PyGObject\n",
      "http://www.riverbankcomputing.co.uk/software/pyqt/intro\n",
      "https://wiki.qt.io/PySide\n",
      "https://kivy.org/\n",
      "http://www.wxpython.org/\n",
      "http://www.scipy.org\n",
      "http://pandas.pydata.org/\n",
      "http://ipython.org\n",
      "http://buildbot.net/\n",
      "http://trac.edgewall.org/\n",
      "http://roundup.sourceforge.net/\n",
      "http://www.ansible.com\n",
      "http://www.saltstack.com\n",
      "https://www.openstack.org\n",
      "/dev/peps/\n",
      "/dev/peps/peps.rss\n",
      "/psf/\n",
      "/psf/\n",
      "/users/membership/\n",
      "/psf/donations/\n",
      "#python-network\n",
      "/about/\n",
      "/about/apps/\n",
      "/about/quotes/\n",
      "/about/gettingstarted/\n",
      "/about/help/\n",
      "http://brochure.getpython.info/\n",
      "/downloads/\n",
      "/downloads/\n",
      "/downloads/source/\n",
      "/downloads/windows/\n",
      "/downloads/mac-osx/\n",
      "/download/other/\n",
      "https://docs.python.org/3/license.html\n",
      "/download/alternatives\n",
      "/doc/\n",
      "/doc/\n",
      "/doc/av\n",
      "https://wiki.python.org/moin/BeginnersGuide\n",
      "https://docs.python.org/devguide/\n",
      "https://docs.python.org/faq/\n",
      "http://wiki.python.org/moin/Languages\n",
      "http://python.org/dev/peps/\n",
      "https://wiki.python.org/moin/PythonBooks\n",
      "/community/\n",
      "/community/diversity/\n",
      "/community/irc/\n",
      "/community/lists/\n",
      "/community/workshops/\n",
      "/community/sigs/\n",
      "https://wiki.python.org/moin/\n",
      "/community/logos/\n",
      "/community/merchandise/\n",
      "/community/awards\n",
      "/about/success/\n",
      "/about/success/#arts\n",
      "/about/success/#business\n",
      "/about/success/#education\n",
      "/about/success/#engineering\n",
      "/about/success/#government\n",
      "/about/success/#scientific\n",
      "/about/success/#software-development\n",
      "/blogs/\n",
      "/blogs/\n",
      "http://planetpython.org/\n",
      "http://pyfound.blogspot.com/\n",
      "http://pycon.blogspot.com/\n",
      "/events/\n",
      "/events/python-events\n",
      "/events/python-user-group/\n",
      "/events/python-events/past/\n",
      "/events/python-user-group/past/\n",
      "https://wiki.python.org/moin/PythonEventsCalendar#Submitting_an_Event\n",
      "/dev/\n",
      "http://docs.python.org/devguide/\n",
      "https://bugs.python.org/\n",
      "https://mail.python.org/mailman/listinfo/python-dev\n",
      "/dev/core-mentorship/\n",
      "#python-network\n",
      "/about/help/\n",
      "/community/diversity/\n",
      "https://github.com/python/pythondotorg/issues\n",
      "https://status.python.org/\n",
      "/psf-landing/\n",
      "/about/legal/\n",
      "/privacy/\n",
      "197\n"
     ]
    }
   ],
   "source": [
    "import urllib2\n",
    "import lxml.html\n",
    "from lxml.cssselect import CSSSelector\n",
    "\n",
    "request_headers = {\n",
    "\"User-Agent\": \"Mozilla/5.0 (compatible; MSIE 9.0; Windows)\",\n",
    "\"Accept\": \"text/html,application/xhtml+xml, */*\",\n",
    "\"Accept-Language\": \"en-US\",\n",
    "\"Connection\": \"keep-alive\" \n",
    "}\n",
    "\n",
    "request = urllib2.Request(\"http://python.org\", headers=request_headers) \n",
    "response = urllib2.urlopen(request)\n",
    "html = response.read()\n",
    "\n",
    "_html = lxml.html.fromstring(html)\n",
    "sel = CSSSelector('a') #a 태그찾기\n",
    "nodes = sel(_html)\n",
    "count=0;\n",
    "\n",
    "for node in nodes:\n",
    "    count=count+1\n",
    "    print node.get('href')\n",
    "print count\n",
    "       \n"
   ]
  },
  {
   "cell_type": "code",
   "execution_count": 58,
   "metadata": {
    "collapsed": false
   },
   "outputs": [
    {
     "name": "stdout",
     "output_type": "stream",
     "text": [
      "0 http://www.ie6countdown.com/\n",
      "1 http://browsehappy.com/\n",
      "2 http://www.google.com/chromeframe/?redirect=true\n",
      "3 https://docs.python.org\n",
      "4 https://pypi.python.org/\n",
      "5 http://plus.google.com/+Python\n",
      "6 http://www.facebook.com/pythonlang?fref=ts\n",
      "7 http://twitter.com/ThePSF\n",
      "8 http://brochure.getpython.info/\n",
      "9 https://docs.python.org/3/license.html\n",
      "10 https://wiki.python.org/moin/BeginnersGuide\n",
      "11 https://docs.python.org/devguide/\n",
      "12 https://docs.python.org/faq/\n",
      "13 http://wiki.python.org/moin/Languages\n",
      "14 http://python.org/dev/peps/\n",
      "15 https://wiki.python.org/moin/PythonBooks\n",
      "16 https://wiki.python.org/moin/\n",
      "17 http://planetpython.org/\n",
      "18 http://pyfound.blogspot.com/\n",
      "19 http://pycon.blogspot.com/\n",
      "20 https://wiki.python.org/moin/PythonEventsCalendar#Submitting_an_Event\n",
      "21 http://docs.python.org/3/tutorial/introduction.html#using-python-as-a-calculator\n",
      "22 https://wiki.python.org/moin/Python2orPython3\n",
      "23 https://docs.python.org\n",
      "24 http://blog.python.org\n",
      "25 http://feedproxy.google.com/~r/PythonInsider/~3/C-xfWJKP0-A/python-361-is-now-available.html\n",
      "26 http://feedproxy.google.com/~r/PythonInsider/~3/w2AW2NRSOEM/python-361rc1-is-now-available-for.html\n",
      "27 http://feedproxy.google.com/~r/PythonInsider/~3/NeIHRAidlpc/python-353-and-346-are-now-available.html\n",
      "28 http://feedproxy.google.com/~r/PythonInsider/~3/UoiMThSwgQM/python-353rc1-and-python-346rc1-are-now.html\n",
      "29 http://feedproxy.google.com/~r/PythonInsider/~3/4gOtq8ChYHk/python-360-is-now-available.html\n",
      "30 http://www.djangoproject.com/\n",
      "31 http://www.pylonsproject.org/\n",
      "32 http://bottlepy.org\n",
      "33 http://tornadoweb.org\n",
      "34 http://flask.pocoo.org/\n",
      "35 http://www.web2py.com/\n",
      "36 http://wiki.python.org/moin/TkInter\n",
      "37 https://wiki.gnome.org/Projects/PyGObject\n",
      "38 http://www.riverbankcomputing.co.uk/software/pyqt/intro\n",
      "39 https://wiki.qt.io/PySide\n",
      "40 https://kivy.org/\n",
      "41 http://www.wxpython.org/\n",
      "42 http://www.scipy.org\n",
      "43 http://pandas.pydata.org/\n",
      "44 http://ipython.org\n",
      "45 http://buildbot.net/\n",
      "46 http://trac.edgewall.org/\n",
      "47 http://roundup.sourceforge.net/\n",
      "48 http://www.ansible.com\n",
      "49 http://www.saltstack.com\n",
      "50 https://www.openstack.org\n",
      "51 http://brochure.getpython.info/\n",
      "52 https://docs.python.org/3/license.html\n",
      "53 https://wiki.python.org/moin/BeginnersGuide\n",
      "54 https://docs.python.org/devguide/\n",
      "55 https://docs.python.org/faq/\n",
      "56 http://wiki.python.org/moin/Languages\n",
      "57 http://python.org/dev/peps/\n",
      "58 https://wiki.python.org/moin/PythonBooks\n",
      "59 https://wiki.python.org/moin/\n",
      "60 http://planetpython.org/\n",
      "61 http://pyfound.blogspot.com/\n",
      "62 http://pycon.blogspot.com/\n",
      "63 https://wiki.python.org/moin/PythonEventsCalendar#Submitting_an_Event\n",
      "64 http://docs.python.org/devguide/\n",
      "65 https://bugs.python.org/\n",
      "66 https://mail.python.org/mailman/listinfo/python-dev\n",
      "67 https://github.com/python/pythondotorg/issues\n",
      "68 https://status.python.org/\n"
     ]
    }
   ],
   "source": [
    "#codling : utf-8\n",
    "import urllib2\n",
    "request_headers = {\n",
    "\"User-Agent\": \"Mozilla/5.0 (compatible; MSIE 9.0; Windows)\",\n",
    "\"Accept\": \"text/html,application/xhtml+xml, */*\",\n",
    "\"Accept-Language\": \"en-US\",\n",
    "\"Connection\": \"keep-alive\" \n",
    "}\n",
    "\n",
    "request = urllib2.Request(\"http://python.org\", headers=request_headers) \n",
    "response = urllib2.urlopen(request)\n",
    "html = response.read()\n",
    "import re\n",
    "p=re.compile('href=\"(http[s]?://.*?)\"')\n",
    "nodes=p.findall(html)\n",
    "for i, node in enumerate(nodes):\n",
    "    print i, node"
   ]
  },
  {
   "cell_type": "code",
   "execution_count": 57,
   "metadata": {
    "collapsed": false
   },
   "outputs": [
    {
     "name": "stdout",
     "output_type": "stream",
     "text": [
      "0 http://www.ie6countdown.com/\n",
      "1 http://browsehappy.com/\n",
      "2 http://www.google.com/chromeframe/?redirect=true\n",
      "3 https://docs.python.org\n",
      "4 https://pypi.python.org/\n",
      "5 http://plus.google.com/+Python\n",
      "6 http://www.facebook.com/pythonlang?fref=ts\n",
      "7 http://twitter.com/ThePSF\n",
      "8 http://brochure.getpython.info/\n",
      "9 https://docs.python.org/3/license.html\n",
      "10 https://wiki.python.org/moin/BeginnersGuide\n",
      "11 https://docs.python.org/devguide/\n",
      "12 https://docs.python.org/faq/\n",
      "13 http://wiki.python.org/moin/Languages\n",
      "14 http://python.org/dev/peps/\n",
      "15 https://wiki.python.org/moin/PythonBooks\n",
      "16 https://wiki.python.org/moin/\n",
      "17 http://planetpython.org/\n",
      "18 http://pyfound.blogspot.com/\n",
      "19 http://pycon.blogspot.com/\n",
      "20 https://wiki.python.org/moin/PythonEventsCalendar#Submitting_an_Event\n",
      "21 http://docs.python.org/3/tutorial/introduction.html#using-python-as-a-calculator\n",
      "22 https://wiki.python.org/moin/Python2orPython3\n",
      "23 https://docs.python.org\n",
      "24 http://blog.python.org\n",
      "25 http://feedproxy.google.com/~r/PythonInsider/~3/C-xfWJKP0-A/python-361-is-now-available.html\n",
      "26 http://feedproxy.google.com/~r/PythonInsider/~3/w2AW2NRSOEM/python-361rc1-is-now-available-for.html\n",
      "27 http://feedproxy.google.com/~r/PythonInsider/~3/NeIHRAidlpc/python-353-and-346-are-now-available.html\n",
      "28 http://feedproxy.google.com/~r/PythonInsider/~3/UoiMThSwgQM/python-353rc1-and-python-346rc1-are-now.html\n",
      "29 http://feedproxy.google.com/~r/PythonInsider/~3/4gOtq8ChYHk/python-360-is-now-available.html\n",
      "30 http://www.djangoproject.com/\n",
      "31 http://www.pylonsproject.org/\n",
      "32 http://bottlepy.org\n",
      "33 http://tornadoweb.org\n",
      "34 http://flask.pocoo.org/\n",
      "35 http://www.web2py.com/\n",
      "36 http://wiki.python.org/moin/TkInter\n",
      "37 https://wiki.gnome.org/Projects/PyGObject\n",
      "38 http://www.riverbankcomputing.co.uk/software/pyqt/intro\n",
      "39 https://wiki.qt.io/PySide\n",
      "40 https://kivy.org/\n",
      "41 http://www.wxpython.org/\n",
      "42 http://www.scipy.org\n",
      "43 http://pandas.pydata.org/\n",
      "44 http://ipython.org\n",
      "45 http://buildbot.net/\n",
      "46 http://trac.edgewall.org/\n",
      "47 http://roundup.sourceforge.net/\n",
      "48 http://www.ansible.com\n",
      "49 http://www.saltstack.com\n",
      "50 https://www.openstack.org\n",
      "51 http://brochure.getpython.info/\n",
      "52 https://docs.python.org/3/license.html\n",
      "53 https://wiki.python.org/moin/BeginnersGuide\n",
      "54 https://docs.python.org/devguide/\n",
      "55 https://docs.python.org/faq/\n",
      "56 http://wiki.python.org/moin/Languages\n",
      "57 http://python.org/dev/peps/\n",
      "58 https://wiki.python.org/moin/PythonBooks\n",
      "59 https://wiki.python.org/moin/\n",
      "60 http://planetpython.org/\n",
      "61 http://pyfound.blogspot.com/\n",
      "62 http://pycon.blogspot.com/\n",
      "63 https://wiki.python.org/moin/PythonEventsCalendar#Submitting_an_Event\n",
      "64 http://docs.python.org/devguide/\n",
      "65 https://bugs.python.org/\n",
      "66 https://mail.python.org/mailman/listinfo/python-dev\n",
      "67 https://github.com/python/pythondotorg/issues\n",
      "68 https://status.python.org/\n"
     ]
    }
   ],
   "source": [
    "import requests\n",
    "import re\n",
    "rsp = requests.get('http://python.org/')\n",
    "tempHTML= rsp.text\n",
    "\n",
    "#p=re.compile('http://.+\"')\n",
    "p=re.compile('href=\"(http[s]?://.*?)\"')\n",
    "nodes=p.findall(tempHTML)\n",
    "for i, node in enumerate(nodes):\n",
    "    print i, node"
   ]
  },
  {
   "cell_type": "code",
   "execution_count": 94,
   "metadata": {
    "collapsed": false
   },
   "outputs": [
    {
     "ename": "IndentationError",
     "evalue": "expected an indented block (<ipython-input-94-c144c2056f48>, line 17)",
     "output_type": "error",
     "traceback": [
      "\u001b[0;36m  File \u001b[0;32m\"<ipython-input-94-c144c2056f48>\"\u001b[0;36m, line \u001b[0;32m17\u001b[0m\n\u001b[0;31m    #print type(node.get('href'))\u001b[0m\n\u001b[0m                                 ^\u001b[0m\n\u001b[0;31mIndentationError\u001b[0m\u001b[0;31m:\u001b[0m expected an indented block\n"
     ]
    }
   ],
   "source": [
    "import lxml.etree\n",
    "import urllib2\n",
    "request_headers = {\n",
    "\"User-Agent\": \"Mozilla/5.0 (compatible; MSIE 9.0; Windows)\",\n",
    "\"Accept\": \"text/html,application/xhtml+xml, */*\",\n",
    "\"Accept-Language\": \"en-US\",\n",
    "\"Connection\": \"keep-alive\" \n",
    "}\n",
    "\n",
    "request = urllib2.Request(\"http://python.org\", headers=request_headers) \n",
    "response = urllib2.urlopen(request)\n",
    "html = response.read()\n",
    "parser=lxml.etree.HTMLParser()\n",
    "\n",
    "tree=lxml.etree.fromstring(html,parser)\n",
    "for node in tree.getiterator():\n",
    "    #print type(node.get('href'))"
   ]
  },
  {
   "cell_type": "markdown",
   "metadata": {},
   "source": [
    "## 웹데이터 -3: 'python'으로 검색해서 http url 출력하기\n",
    "\n",
    "* 검색어를 사용하는 경우, params를 구성해야한다.\n",
    "* params를 사용하는 경우 user-agent를 변경해 줘야 한다."
   ]
  },
  {
   "cell_type": "code",
   "execution_count": 98,
   "metadata": {
    "collapsed": false
   },
   "outputs": [
    {
     "data": {
      "text/plain": [
       "5997"
      ]
     },
     "execution_count": 98,
     "metadata": {},
     "output_type": "execute_result"
    }
   ],
   "source": [
    "# 잘못된 경우\n",
    "import urllib\n",
    "\n",
    "keyword='python'\n",
    "response=urllib.urlopen('https://www.google.com/search?q='+keyword)\n",
    "html=response.read()\n",
    "len(html)"
   ]
  },
  {
   "cell_type": "code",
   "execution_count": 104,
   "metadata": {
    "collapsed": false
   },
   "outputs": [
    {
     "name": "stdout",
     "output_type": "stream",
     "text": [
      "Date: Sun, 23 Apr 2017 03:24:25 GMT\r\n",
      "Expires: -1\r\n",
      "Cache-Control: private, max-age=0\r\n",
      "Content-Type: text/html; charset=UTF-8\r\n",
      "P3P: CP=\"This is not a P3P policy! See https://www.google.com/support/accounts/answer/151657?hl=en for more info.\"\r\n",
      "Server: gws\r\n",
      "X-XSS-Protection: 1; mode=block\r\n",
      "X-Frame-Options: SAMEORIGIN\r\n",
      "Set-Cookie: NID=101=IeMTY5OFfC_rTd7-FELJFs1iHWga7L5h4vsc4CV8sMXJ9a6SIXHbeUvb0CsY8rnz9-rnJC6q96-VTBzMpud0ZL9jun6Hjf5vprw6-HOAux0B3HHy2qEOfOp8gx3GVEhH; expires=Mon, 23-Oct-2017 03:24:25 GMT; path=/; domain=.google.co.kr; HttpOnly\r\n",
      "Accept-Ranges: none\r\n",
      "Vary: Accept-Encoding\r\n",
      "Connection: close\r\n",
      "\n"
     ]
    },
    {
     "data": {
      "text/plain": [
       "45423"
      ]
     },
     "execution_count": 104,
     "metadata": {},
     "output_type": "execute_result"
    }
   ],
   "source": [
    "#옳은 경우\n",
    "\n",
    "import urllib2\n",
    "url = 'http://www.google.com/#q=python'\n",
    "headers = {'User-Agent' : 'Mozilla 5.0'}\n",
    "request = urllib2.Request(url, None, headers)\n",
    "response = urllib2.urlopen(request)\n",
    "print response.headers\n",
    "html=response.read()\n",
    "len(html)"
   ]
  },
  {
   "cell_type": "code",
   "execution_count": 112,
   "metadata": {
    "collapsed": false
   },
   "outputs": [
    {
     "name": "stdout",
     "output_type": "stream",
     "text": [
      "270838\n"
     ]
    }
   ],
   "source": [
    "from urllib import FancyURLopener\n",
    "class MyOpener(FancyURLopener):\n",
    "    version='Mozilla/5.0 (X11; Ubuntu; Linux x86_64; rv:42.0) Gecko/20100101 Firefox/42.0'\n",
    "#print MyOpener.version\n",
    "\n",
    "myopener=MyOpener()\n",
    "page=myopener.open('http://www.google.com/search?q=python')\n",
    "html=page.read()\n",
    "print len(html)"
   ]
  },
  {
   "cell_type": "code",
   "execution_count": 122,
   "metadata": {
    "collapsed": false,
    "scrolled": true
   },
   "outputs": [
    {
     "name": "stdout",
     "output_type": "stream",
     "text": [
      "271054\n",
      "48\n",
      "https://www.google.co.kr/intl/ko/options/\n",
      "https://accounts.google.com/ServiceLogin?hl=ko&amp;passive=true&amp;continue=https://www.google.co.kr/search%3Fq%3Dpython%26gws_rd%3Dcr,ssl%26ei%3DLyP8WISAPYO98QXztLagCA\n",
      "https://www.google.com/url?q=https://support.google.com/websearch/answer/463%3Futm_source%3Dgoogle.com%26utm_medium%3Dcallout%26utm_campaign%3DFFDHP&amp;source=hpp&amp;id=19000317&amp;ct=7&amp;usg=AFQjCNFBUGlUSE08cHgcuB_OXZHigRGNAw&amp;cot=2\n",
      "https://www.google.co.kr/webhp?hl=ko&amp;sa=X&amp;ved=0ahUKEwj408H_1LnTAhVFf7wKHXosAoIQPAgD\n",
      "https://maps.google.co.kr/maps?q=python&amp;gws_rd=cr,ssl&amp;um=1&amp;ie=UTF-8\n",
      "https://www.python.org/\n",
      "https://webcache.googleusercontent.com/search?q=cache:Fvb7Gz_c4rwJ:https://www.python.org/+&amp;cd=1&amp;hl=ko&amp;ct=clnk&amp;gl=kr\n",
      "https://translate.google.co.kr/translate?hl=ko&amp;sl=en&amp;u=https://www.python.org/&amp;prev=search\n",
      "https://www.python.org/downloads/\n",
      "https://www.python.org/downloads/windows/\n",
      "https://www.python.org/about/gettingstarted/\n",
      "https://www.python.org/downloads/release/python-361/\n",
      "https://ko.wikipedia.org/wiki/%ED%8C%8C%EC%9D%B4%EC%8D%AC\n",
      "https://webcache.googleusercontent.com/search?q=cache:OL25IRr7kSMJ:https://ko.wikipedia.org/wiki/%25ED%258C%258C%25EC%259D%25B4%25EC%258D%25AC+&amp;cd=6&amp;hl=ko&amp;ct=clnk&amp;gl=kr\n",
      "https://tutorial.djangogirls.org/ko/python_introduction/\n",
      "https://webcache.googleusercontent.com/search?q=cache:9o-y50p1vcYJ:https://tutorial.djangogirls.org/ko/python_introduction/+&amp;cd=7&amp;hl=ko&amp;ct=clnk&amp;gl=kr\n",
      "https://www.codecademy.com/ko/tracks/python-ko\n",
      "https://webcache.googleusercontent.com/search?q=cache:yuJHfXirRuQJ:https://www.codecademy.com/ko/tracks/python-ko+&amp;cd=8&amp;hl=ko&amp;ct=clnk&amp;gl=kr\n",
      "https://wikidocs.net/6\n",
      "https://webcache.googleusercontent.com/search?q=cache:LmCkGjF_ShkJ:https://wikidocs.net/6+&amp;cd=9&amp;hl=ko&amp;ct=clnk&amp;gl=kr\n",
      "https://wikidocs.net/43\n",
      "https://webcache.googleusercontent.com/search?q=cache:iAvUjph6SDAJ:https://wikidocs.net/43+&amp;cd=10&amp;hl=ko&amp;ct=clnk&amp;gl=kr\n",
      "https://namu.wiki/w/Python\n",
      "https://github.com/python\n",
      "https://webcache.googleusercontent.com/search?q=cache:W1-11cNSSygJ:https://github.com/python+&amp;cd=12&amp;hl=ko&amp;ct=clnk&amp;gl=kr\n",
      "https://translate.google.co.kr/translate?hl=ko&amp;sl=en&amp;u=https://github.com/python&amp;prev=search\n",
      "https://support.google.com/websearch?p=ws_settings_location&amp;hl=ko\n",
      "https://www.google.com/search?q=python&amp;gws_rd=cr,ssl&amp;ei=LyP8WISAPYO98QXztLagCA&amp;fg=1\n",
      "https://myaccount.google.com/?utm_source=OGB\n",
      "https://www.google.co.kr/webhp?tab=ww&amp;ei=MCP8WP6zF8_88AWLu6HQCA&amp;ved=0EKkuCAIoAQ\n",
      "https://maps.google.co.kr/maps?hl=ko&amp;tab=wl\n",
      "https://www.youtube.com/?gl=KR\n",
      "https://play.google.com/?hl=ko&amp;tab=w8\n",
      "https://news.google.co.kr/nwshp?hl=ko&amp;tab=wn&amp;ei=MCP8WP6zF8_88AWLu6HQCA&amp;ved=0EKkuCAYoBQ\n",
      "https://mail.google.com/mail/?tab=wm\n",
      "https://drive.google.com/?tab=wo\n",
      "https://www.google.com/calendar?tab=wc\n",
      "https://plus.google.com/?gpsrc=ogpy0&amp;tab=wX\n",
      "https://translate.google.co.kr/?hl=ko&amp;tab=wT\n",
      "https://photos.google.com/?tab=wq&amp;pageId=none\n",
      "https://www.google.co.kr/intl/ko/options/\n",
      "https://docs.google.com/document/?usp=docs_alc\n",
      "https://books.google.co.kr/bkshp?hl=ko&amp;tab=wp&amp;ei=MCP8WP6zF8_88AWLu6HQCA&amp;ved=0EKkuCA4oDQ\n",
      "https://www.blogger.com/?tab=wj\n",
      "https://www.google.com/contacts/?hl=ko&amp;tab=wC\n",
      "https://hangouts.google.com/\n",
      "https://keep.google.com/\n",
      "https://www.google.co.kr/intl/ko/options/\n"
     ]
    }
   ],
   "source": [
    "import urllib2\n",
    "import re\n",
    "keyword=\"python\"\n",
    "url=\"http://www.google.com/search?q=\"+keyword\n",
    "headers = {'User-Agent' : 'Mozilla/5.0 (X11; Ubuntu; Linux x86_64; rv:42.0) Gecko/20100101 Firefox/42.0'}\n",
    "request = urllib2.Request(url, None,headers)\n",
    "html = urllib2.urlopen(request).read()\n",
    "print len(html)\n",
    "\n",
    "p=re.compile('href=\"(http[s]?://.*?)\"')\n",
    "res=p.findall(html)\n",
    "print len(res)\n",
    "for item in res:\n",
    "    print item"
   ]
  },
  {
   "cell_type": "markdown",
   "metadata": {},
   "source": [
    "* 파일로 쓰고 확인한다."
   ]
  },
  {
   "cell_type": "code",
   "execution_count": 118,
   "metadata": {
    "collapsed": false
   },
   "outputs": [
    {
     "name": "stdout",
     "output_type": "stream",
     "text": [
      "file:///C:\\Users\\Y\\Code\\s_201511138\\src\\mygoogling.html\n"
     ]
    },
    {
     "data": {
      "text/plain": [
       "True"
      ]
     },
     "execution_count": 118,
     "metadata": {},
     "output_type": "execute_result"
    }
   ],
   "source": [
    "import os\n",
    "f=open(os.path.join('src','mygoogling.html'),'w')\n",
    "f.write(html)\n",
    "f.close()\n",
    "import webbrowser\n",
    "#file:///C:/Users/Y/Code/s_201511138/src/mygoogling.html\n",
    "mygoogle='file:///'+os.path.join(os.getcwd(),'src','mygoogling.html')\n",
    "print mygoogle\n",
    "webbrowser.open(mygoogle)"
   ]
  },
  {
   "cell_type": "markdown",
   "metadata": {},
   "source": [
    "### wiki에서 검색해보기"
   ]
  },
  {
   "cell_type": "code",
   "execution_count": 159,
   "metadata": {
    "collapsed": false
   },
   "outputs": [
    {
     "name": "stdout",
     "output_type": "stream",
     "text": [
      "https://en.wikipedia.org/wiki/Python\n",
      "https://en.wiktionary.org/wiki/Python\n",
      "https://en.wiktionary.org/wiki/python\n",
      "https://en.wikipedia.org/w/index.php?title=Python&amp;oldid=776535495\n",
      "https://donate.wikimedia.org/wiki/Special:FundraiserRedirector?utm_source=donate&amp;utm_medium=sidebar&amp;utm_campaign=C13_en.wikipedia.org&amp;uselang=en\n",
      "https://www.wikidata.org/wiki/Q747452\n",
      "https://commons.wikimedia.org/wiki/Category:Python\n",
      "https://af.wikipedia.org/wiki/Python\n",
      "https://als.wikipedia.org/wiki/Python\n",
      "https://bn.wikipedia.org/wiki/%E0%A6%AA%E0%A6%BE%E0%A6%87%E0%A6%A5%E0%A6%A8_(%E0%A6%A6%E0%A7%8D%E0%A6%AC%E0%A7%8D%E0%A6%AF%E0%A6%B0%E0%A7%8D%E0%A6%A5%E0%A6%A4%E0%A6%BE_%E0%A6%A8%E0%A6%BF%E0%A6%B0%E0%A6%B8%E0%A6%A8)\n",
      "https://be.wikipedia.org/wiki/Python\n",
      "https://bg.wikipedia.org/wiki/%D0%9F%D0%B8%D1%82%D0%BE%D0%BD_(%D0%BF%D0%BE%D1%8F%D1%81%D0%BD%D0%B5%D0%BD%D0%B8%D0%B5)\n",
      "https://cs.wikipedia.org/wiki/Python_(rozcestn%C3%ADk)\n",
      "https://da.wikipedia.org/wiki/Python\n",
      "https://de.wikipedia.org/wiki/Python\n",
      "https://eo.wikipedia.org/wiki/Pitono_(apartigilo)\n",
      "https://eu.wikipedia.org/wiki/Python_(argipena)\n",
      "https://fa.wikipedia.org/wiki/%D9%BE%D8%A7%DB%8C%D8%AA%D9%88%D9%86\n",
      "https://fr.wikipedia.org/wiki/Python\n",
      "https://ko.wikipedia.org/wiki/%ED%8C%8C%EC%9D%B4%EC%84%A0\n",
      "https://hr.wikipedia.org/wiki/Python_(razdvojba)\n",
      "https://io.wikipedia.org/wiki/Pitono\n",
      "https://id.wikipedia.org/wiki/Python\n",
      "https://ia.wikipedia.org/wiki/Python_(disambiguation)\n",
      "https://is.wikipedia.org/wiki/Python\n",
      "https://it.wikipedia.org/wiki/Python_(disambigua)\n",
      "https://he.wikipedia.org/wiki/%D7%A4%D7%99%D7%AA%D7%95%D7%9F\n",
      "https://ka.wikipedia.org/wiki/%E1%83%9E%E1%83%98%E1%83%97%E1%83%9D%E1%83%9C%E1%83%98_(%E1%83%9B%E1%83%A0%E1%83%90%E1%83%95%E1%83%90%E1%83%9A%E1%83%9B%E1%83%9C%E1%83%98%E1%83%A8%E1%83%95%E1%83%9C%E1%83%94%E1%83%9A%E1%83%9D%E1%83%95%E1%83%90%E1%83%9C%E1%83%98)\n",
      "https://kg.wikipedia.org/wiki/Mboma_(nyoka)\n",
      "https://lb.wikipedia.org/wiki/Python\n",
      "https://hu.wikipedia.org/wiki/Python_(egy%C3%A9rtelm%C5%B1s%C3%ADt%C5%91_lap)\n",
      "https://mr.wikipedia.org/wiki/%E0%A4%AA%E0%A4%BE%E0%A4%AF%E0%A4%A5%E0%A5%89%E0%A4%A8_(%E0%A4%86%E0%A4%9C%E0%A5%8D%E0%A4%9E%E0%A4%BE%E0%A4%B5%E0%A4%B2%E0%A5%80_%E0%A4%AD%E0%A4%BE%E0%A4%B7%E0%A4%BE)\n",
      "https://nl.wikipedia.org/wiki/Python\n",
      "https://ja.wikipedia.org/wiki/%E3%83%91%E3%82%A4%E3%82%BD%E3%83%B3\n",
      "https://no.wikipedia.org/wiki/Pyton\n",
      "https://pl.wikipedia.org/wiki/Pyton\n",
      "https://pt.wikipedia.org/wiki/Python_(desambigua%C3%A7%C3%A3o)\n",
      "https://ru.wikipedia.org/wiki/Python_(%D0%B7%D0%BD%D0%B0%D1%87%D0%B5%D0%BD%D0%B8%D1%8F)\n",
      "https://sd.wikipedia.org/wiki/%D8%A7%D8%B1%DA%99\n",
      "https://sk.wikipedia.org/wiki/Python\n",
      "https://sh.wikipedia.org/wiki/Python\n",
      "https://fi.wikipedia.org/wiki/Python\n",
      "https://sv.wikipedia.org/wiki/Pyton\n",
      "https://th.wikipedia.org/wiki/%E0%B9%84%E0%B8%9E%E0%B8%97%E0%B8%AD%E0%B8%99\n",
      "https://tr.wikipedia.org/wiki/Python\n",
      "https://uk.wikipedia.org/wiki/%D0%9F%D1%96%D1%84%D0%BE%D0%BD\n",
      "https://ur.wikipedia.org/wiki/%D9%BE%D8%A7%D8%A6%DB%8C%D8%AA%DA%BE%D9%88%D9%86\n",
      "https://vi.wikipedia.org/wiki/Python\n",
      "https://zh.wikipedia.org/wiki/Python_(%E6%B6%88%E6%AD%A7%E4%B9%89)\n",
      "https://www.wikidata.org/wiki/Q747452#sitelinks-wikipedia\n",
      "https://wikimediafoundation.org/wiki/Privacy_policy\n",
      "https://www.mediawiki.org/wiki/Special:MyLanguage/How_to_contribute\n",
      "https://wikimediafoundation.org/wiki/Cookie_statement\n",
      "https://wikimediafoundation.org/\n"
     ]
    }
   ],
   "source": [
    "import urllib\n",
    "import re\n",
    "keyword='python'\n",
    "url='https://en.wikipedia.org/w/index.php?search='+keyword\n",
    "html = urllib.urlopen(url).read()\n",
    "p=re.compile('href=\"(http[s]?://.*?)\"')\n",
    "res=p.findall(html)\n",
    "for item in res:\n",
    "    print item"
   ]
  },
  {
   "cell_type": "markdown",
   "metadata": {},
   "source": [
    "## 웹데이터 -4:한국 포털사이트에서 노래제목을 검색"
   ]
  },
  {
   "cell_type": "code",
   "execution_count": 128,
   "metadata": {
    "collapsed": false
   },
   "outputs": [
    {
     "data": {
      "text/plain": [
       "131382"
      ]
     },
     "execution_count": 128,
     "metadata": {},
     "output_type": "execute_result"
    }
   ],
   "source": [
    "import requests\n",
    "import urllib\n",
    "keyword='비오는'\n",
    "url=\"http://music.naver.com/search/search.nhn?query=\"+keyword+\"&x=0&y=0\"\n",
    "data=urllib.urlopen(url).read()\n",
    "len(data)"
   ]
  },
  {
   "cell_type": "code",
   "execution_count": 143,
   "metadata": {
    "collapsed": false
   },
   "outputs": [
    {
     "data": {
      "text/plain": [
       "131375"
      ]
     },
     "execution_count": 143,
     "metadata": {},
     "output_type": "execute_result"
    }
   ],
   "source": [
    "import requests\n",
    "import urllib2\n",
    "keyword='비오는'\n",
    "url=\"http://music.naver.com/search/search.nhn?query=\"+keyword+\"&x=0&y=0\"\n",
    "headers = {'User-Agent' : 'Mozilla/5.0 (X11; Ubuntu; Linux x86_64; rv:42.0) Gecko/20100101 Firefox/42.0'}\n",
    "request=urllib2.Request(url,None,headers)\n",
    "response=urllib2.urlopen(request).read()\n",
    "len(response)"
   ]
  },
  {
   "cell_type": "markdown",
   "metadata": {},
   "source": [
    "* 뭐야.. header 변경하든 안하든 똑같잖아 naver는 python에서 search요청하는거 별로 신경 안쓰나보다"
   ]
  },
  {
   "cell_type": "code",
   "execution_count": 145,
   "metadata": {
    "collapsed": false
   },
   "outputs": [
    {
     "name": "stdout",
     "output_type": "stream",
     "text": [
      "title=\"검색어 입력\" value=\"비오는\" maxlength=\"50\" accesskey=\"s\"\n",
      "title=\"비오는날\" alt=\"비오는날\"\n",
      "title=\"비오는 금요일\" alt=\"비오는 금요일\"\n",
      "title=\"비 오는 거리\" ><span class=\"ellipsis\"\n",
      "title=\"1집 비오는 거리\" class=\"_album NPI=a:album,r:1,i:682\"><span class=\"ellipsis\"\n",
      "title=\"비오는 날 수채화\" ><span class=\"ellipsis\"\n",
      "title=\"비오는 날 수채화 1 OST\" class=\"_album NPI=a:album,r:2,i:33001\"><span class=\"ellipsis\"\n",
      "title=\"비오는 압구정\" ><span class=\"ellipsis\"\n",
      "title=\"비오는 거리\" ><span class=\"ellipsis\"\n",
      "title=\"유ㄹish.1 - 비오는 거리\" class=\"_album NPI=a:album,r:4,i:208754\"><span class=\"ellipsis\"\n",
      "title=\"비 오는 거리\" ><span class=\"ellipsis\"\n",
      "title=\"비 오는 거리\" class=\"_album NPI=a:album,r:5,i:442032\"><span class=\"ellipsis\"\n",
      "title=\"비 오는 거리  (Feat. 핫펠트)\" ><span class=\"ellipsis\"\n",
      "title=\"비오는 거리\" ><span class=\"ellipsis\"\n",
      "title=\"비오는날의 수채화 (Feat. 정혜민, Misty)\" ><span class=\"ellipsis\"\n",
      "title=\"비 오는 날\" ><span class=\"ellipsis\"\n",
      "title=\"비 오는 날\" class=\"_album NPI=a:album,r:9,i:656486\"><span class=\"ellipsis\"\n",
      "title=\"비오는 날엔\" ><span class=\"ellipsis\"\n",
      "title=\"비오는 날엔\" class=\"_album NPI=a:album,r:10,i:310321\"><span class=\"ellipsis\"\n",
      "title=\"비오는 날, 산책\" ><span class=\"ellipsis\"\n",
      "title=\"비오는 날, 산책\" class=\"_album NPI=a:album,r:11,i:620775\"><span class=\"ellipsis\"\n",
      "title=\"비오는 압구정\" ><span class=\"ellipsis\"\n",
      "title=\"Acoustic Rain (비오는 날 듣는 감성 팝음악 모음집)\" class=\"_album NPI=a:album,r:13,i:385222\"><span class=\"ellipsis\"\n",
      "title=\"비 오는 창가에서\" ><span class=\"ellipsis\"\n",
      "title=\"비 오는 이런 날에\" ><span class=\"ellipsis\"\n",
      "title=\"비 오는 이런 날에\" class=\"_album NPI=a:album,r:15,i:560089\"><span class=\"ellipsis\"\n",
      "title=\"비 오는 날 듣고 싶은 추억의 팝송\"\n",
      "title=\"Acoustic Rain (비오는 날 듣는 감성 팝음악 모음집)\"\n",
      "title=\"비오는 날 듣고 싶은 추억의 가요\"\n",
      "title=\"1집 비오는 거리\"\n",
      "title=\"비오는 금요일\"\n",
      "title=\"비오는 금요일\" alt=\"비오는 금요일\" class=\"NPI=a:artist,r:,i:271713\"\n",
      "title=\"비오는 날\"\n",
      "title=\"비 오는 날\"\n",
      "title=\"비오는 압구정\"\n",
      "title=\"비오는 날에\"\n",
      "title=\"비오는 거리 (Feat. 단비)\"\n",
      "title=\"`비오는날의 수채화` 피아노커버\"\n",
      "title=\"`비오는날의 수채화` 피아노커버\"\n",
      "title=\"`비오는날의 수채화 ` 피아노연주\"\n"
     ]
    }
   ],
   "source": [
    "import re\n",
    "p=re.compile('title=\".*비.?오는.*\"')\n",
    "#res=p.search(data)\n",
    "res=p.findall(data)\n",
    "for item in res:\n",
    "    print item"
   ]
  },
  {
   "cell_type": "code",
   "execution_count": 158,
   "metadata": {
    "collapsed": false
   },
   "outputs": [
    {
     "name": "stdout",
     "output_type": "stream",
     "text": [
      "15\n",
      "비 오는 거리\n",
      "비오는 날 수채화\n",
      "비오는 압구정\n",
      "비오는 거리\n",
      "비 오는 거리\n",
      "비 오는 거리  (Feat. 핫펠트)\n",
      "비오는 거리\n",
      "비오는날의 수채화 (Feat. 정혜민, Misty)\n",
      "비 오는 날\n",
      "비오는 날엔\n",
      "비오는 날, 산책\n",
      "비오는 압구정\n",
      "It Will Rain\n",
      "비 오는 창가에서\n",
      "비 오는 이런 날에\n"
     ]
    }
   ],
   "source": [
    "import requests\n",
    "import urllib\n",
    "import lxml.html\n",
    "from lxml.cssselect import CSSSelector\n",
    "keyword='비오는'\n",
    "url=\"http://music.naver.com/search/search.nhn?query=\"+keyword+\"&x=0&y=0\"\n",
    "data=urllib.urlopen(url).read()\n",
    "\n",
    "html=lxml.html.fromstring(data)\n",
    "sel=CSSSelector('a.title')\n",
    "#sel = CSSSelector('table[summary] > tbody > ._tracklist_move > .name > a.title')\n",
    "nodes=sel(html)\n",
    "print len(nodes)\n",
    "for node in nodes:\n",
    "    print node.text_content()"
   ]
  },
  {
   "cell_type": "code",
   "execution_count": 147,
   "metadata": {
    "collapsed": false
   },
   "outputs": [
    {
     "name": "stdout",
     "output_type": "stream",
     "text": [
      "<tr class=\"_tracklist_move {TRACK_TYPE}\" style=\"display:none;\" trackdata=\"{TRACK_DATA}\">\r\n",
      "\r\n",
      "\r\n",
      "\t\t\t\t\t\t\r\n",
      "\t\t\t\t\t\t\t<td class=\"chk\"><input type=\"checkbox\" title=\"&#49440;&#53469;\" class=\"_chkbox_item input_chk {TRACK_CHECK_NCLICKS}\"> </td>\r\n",
      "\t\t\t\t\t\t\r\n",
      "\t\t\t\t\t\t\r\n",
      "\t\t\t\t\t\t\t<td class=\"order\">{TRACK_NUM}</td>\r\n",
      "\t\t\t\t\t\t\r\n",
      "\t\t\t\t\t\t\t<td class=\"name\">\r\n",
      "\r\n",
      "\t\t\t\t\t\t\t\t{PLAY_TOGGLE}\r\n",
      "\t\t\t\t\t\t\t\t{ADD_TOGGLE}\r\n",
      "\r\n",
      "\r\n",
      "\t\t\t\t\t\t\t\t<span class=\"_ico_title ico_title\"><img height=\"18\" width=\"23\" alt=\"TITLE\" src=\"http://static.naver.net/nmusic/201008/blank.gif\"></span>\r\n",
      "\t\t\t\t\t\t\t\t<span class=\"_ico_19 ico19\"><img height=\"18\" width=\"13\" src=\"http://static.naver.net/nmusic/201008/blank.gif\"></span>\r\n",
      "\r\n",
      "\r\n",
      "\t\t\t\t\t\t\t\t{TRACK_SONG_NAME}\r\n",
      "\r\n",
      "\t\t\t\t\t\t\t</td>\r\n",
      "\r\n",
      "\t\t\t\t\t\t\t<td class=\"_artist artist {NO_ELL}\">\r\n",
      "\r\n",
      "\r\n",
      "                                   {ARTIST}\r\n",
      "\r\n",
      "\t\t\t\t\t\t\t</td>\r\n",
      "\r\n",
      "\t\t\t\t\t\t\r\n",
      "                            <td class=\"album\">\r\n",
      "                                {ALBUM}\r\n",
      "                            </td>\r\n",
      "                        \r\n",
      "                        \r\n",
      "                        \t<td class=\"like\">\r\n",
      "\t\t\t\t\t\t\t\t<div class=\"u_likeit_list_module\">\r\n",
      "\t\t\t\t\t\t\t\t\t<a href=\"javascript:void(0)\" title=\"&#51339;&#50500;&#50836;\" class=\"u_likeit_list_btn u_type_img NPI=a:favo,r:1,i:\" data-sid=\"MUSIC\" data-did=\"MUSIC\" data-cid=\"TRACK_\" data-likeit=\"0\"><span class=\"u_ico\"></span><em class=\"u_txt\"></em><em class=\"u_cnt\"></em></a>\r\n",
      "\t\t\t\t\t\t\t\t</div>\r\n",
      "                        \t</td>\r\n",
      "                        \r\n",
      "\t\t\t\t\t\t\r\n",
      "\t\t\t\t\t\t\t<td class=\"video\">{MUSIC_VIDEO}</td>\r\n",
      "\t\t\t\t\t\t\r\n",
      "\t\t\t\t\t\t\r\n",
      "\t\t\t\t\t\t\t<td class=\"lyric\">{LYRIC}</td>\r\n",
      "\t\t\t\t\t\t\r\n",
      "\t\t\t\t\t\t\r\n",
      "\t\t\t\t\t\t\t<td class=\"get\">{SCRAP_ROW}</td>\r\n",
      "\t\t\t\t\t\t\r\n",
      "\t\t\t\t\t\t\r\n",
      "\t\t\t\t\t\t\r\n",
      "\t\t\t\t\t\t\t<td class=\"radio\">{RADIO}</td>\r\n",
      "\t\t\t\t\t\t\r\n",
      "\r\n",
      "\t\t\t\t\t\t\r\n",
      "\t\t\t\t\t\t\t<td class=\"buy\">\r\n",
      "\r\n",
      "\t\t\t\t\t\t\t\t{MP3_BUY_LAYER_BTN}\r\n",
      "\r\n",
      "\t\t\t\t\t\t\t\t<div style=\"display:none;\" class=\"_buy_layer buy_layer\">\r\n",
      "\t\t\t\t\t\t\t\t\t<ul>\r\n",
      "\r\n",
      "\t\t\t\t\t\t\t\t\t<li>{MP3_BUY_LIST}</li>\r\n",
      "\t\t\t\t\t\t\t\t\t<li>{MUSIC_SPRING}</li>\r\n",
      "\t\t\t\t\t\t\t\t\t<li>{BELL_SOUND}</li>\r\n",
      "\t\t\t\t\t\t\t\t\t<li>{CONNECTION_SOUND}</li>\r\n",
      "\r\n",
      "\t\t\t\t\t\t\t\t\t</ul>\r\n",
      "\t\t\t\t\t\t\t\t\t<span class=\"bg\"></span>\r\n",
      "\t\t\t\t\t\t\t\t</div>\r\n",
      "\t\t\t\t\t\t\t</td>\r\n",
      "\t\t\t\t\t\t\r\n",
      "\r\n",
      "\t\t\t\t\t\t\r\n",
      "\t\t\t\t\t\t\t</tr>\r\n",
      "\r\n",
      "\r\n",
      "\r\n",
      "\r\n",
      "\r\n",
      "\r\n",
      "\r\n",
      "\r\n",
      "\t\n"
     ]
    }
   ],
   "source": [
    "from lxml.cssselect import CSSSelector\n",
    "sel=CSSSelector('table[summary]>tbody>._tracklist_move')\n",
    "nodes=sel(html)\n",
    "print lxml.html.tostring(nodes[0])"
   ]
  },
  {
   "cell_type": "code",
   "execution_count": 152,
   "metadata": {
    "collapsed": false
   },
   "outputs": [
    {
     "name": "stdout",
     "output_type": "stream",
     "text": [
      "비 오는 거리\n",
      "이승훈\n",
      "1집 비오는 거리\n"
     ]
    }
   ],
   "source": [
    "_selName=CSSSelector('.name>a.title')\n",
    "_selArtist=CSSSelector('._artist.artist')\n",
    "_selAlbum=CSSSelector('.album>a')\n",
    "_name=_selName(nodes[1])\n",
    "_artist=_selArtist(nodes[1])\n",
    "_album=_selAlbum(nodes[1])\n",
    "print _name[0].text_content()\n",
    "print _artist[0].text_content().strip()\n",
    "print _album[0].text_content()"
   ]
  },
  {
   "cell_type": "code",
   "execution_count": 155,
   "metadata": {
    "collapsed": false
   },
   "outputs": [
    {
     "name": "stdout",
     "output_type": "stream",
     "text": [
      "이승훈 --- 비 오는 거리 --- 1집 비오는 거리\n",
      "강인원 --- 비오는 날 수채화 --- 비오는 날 수채화 1 OST\n",
      "브라운 아이즈 --- 비오는 압구정 --- 2집 Reason 4 Breathing?\n",
      "유리상자 --- 비오는 거리 --- 유ㄹish.1 - 비오는 거리\n",
      "소울스타 (SoulstaR) --- 비 오는 거리 --- 비 오는 거리\n",
      "베이빌론(Babylon) --- 비 오는 거리  (Feat. 핫펠트) --- BETWEEN US\n",
      "서영은 --- 비오는 거리 --- 1집 Romantic 1\n",
      "럼블 피쉬 --- 비오는날의 수채화 (Feat. 정혜민, Misty) --- Memory For You\n",
      "오소연 --- 비 오는 날 --- 비 오는 날\n",
      "소심한 오빠들 --- 비오는 날엔 --- 비오는 날엔\n",
      "모모캣츠(Momocats) --- 비오는 날, 산책 --- 비오는 날, 산책\n",
      "브라운 아이즈 --- 비오는 압구정 --- The Very Best Of Browneyes `Take A Favorite`\n",
      "Bruno Mars --- It Will Rain --- Acoustic Rain (비오는 날 듣는 감성 팝음악 모음집)\n",
      "모니카(Monica) --- 비 오는 창가에서 --- 명상음악 아이를 위한 태교 Part 8\n",
      "은가은 --- 비 오는 이런 날에 --- 비 오는 이런 날에\n"
     ]
    }
   ],
   "source": [
    "_selName = CSSSelector('.name > a.title')\n",
    "_selArtist = CSSSelector('._artist.artist')\n",
    "_selAlbum= CSSSelector('.album > a')\n",
    "for node in nodes:\n",
    "    #print lxml.html.tostring(item)\n",
    "    _name=_selName(node)\n",
    "    _artist=_selArtist(node)\n",
    "    _album=_selAlbum(node)\n",
    "    if _name: #노레 제목이 없는 행을 제거한다.\n",
    "        print _artist[0].text_content().strip(),\n",
    "        print \"---\",\n",
    "        print _name[0].text_content(),\n",
    "        print \"---\",\n",
    "        print _album[0].text_content()"
   ]
  },
  {
   "cell_type": "code",
   "execution_count": 156,
   "metadata": {
    "collapsed": false
   },
   "outputs": [
    {
     "name": "stdout",
     "output_type": "stream",
     "text": [
      "Writing src/ds_web_crawl_naverMusic.py\n"
     ]
    }
   ],
   "source": [
    "%%writefile src/ds_web_crawl_naverMusic.py\n",
    "# coding: utf-8\n",
    "import lxml.html\n",
    "import requests\n",
    "from lxml.cssselect import CSSSelector\n",
    "\n",
    "keyword='비오는'\n",
    "r = requests.get(\"http://music.naver.com/search/search.nhn?query=\"+keyword+\"&x=0&y=0\")\n",
    "_html = lxml.html.fromstring(r.text)\n",
    "\n",
    "sel = CSSSelector('table[summary] > tbody > ._tracklist_move')\n",
    "# Apply the selector to the DOM tree.\n",
    "nodes = sel(_html)\n",
    "\n",
    "_selName = CSSSelector('.name > a.title')\n",
    "_selArtist = CSSSelector('._artist.artist')\n",
    "_selAlbum= CSSSelector('.album > a')\n",
    "for node in nodes:\n",
    "    #print lxml.html.tostring(item)\n",
    "    _name=_selName(node)\n",
    "    _artist=_selArtist(node)\n",
    "    _album=_selAlbum(node)\n",
    "    if _name:\n",
    "        print _artist[0].text_content().strip(),\n",
    "        print \"---\",\n",
    "        print _name[0].text_content(),\n",
    "        print \"---\",\n",
    "        print _album[0].text_content()"
   ]
  },
  {
   "cell_type": "markdown",
   "metadata": {},
   "source": [
    "## 웹데이터 -5: 국제학회 목록을 크롤링"
   ]
  },
  {
   "cell_type": "code",
   "execution_count": 193,
   "metadata": {
    "collapsed": false
   },
   "outputs": [
    {
     "name": "stdout",
     "output_type": "stream",
     "text": [
      "0 \"IEEE.org - News Releases\" href=\"/rss/index.html?feedId=News_Release\n",
      "1 \"IEEE - Advancing Technology for Humanity\" src=\"/ucm/groups/public/@ieee/@web/@org/@globals/documents/images/ieee_logo_mb_tagline.gif\n",
      "2 \"Collabratec\n",
      "3 \"Facebook\n",
      "4 \"Twitter\n",
      "5 \"LinkedIn\n",
      "6 \"YouTube\n",
      "7 \"Instagram\n",
      "8 \"Google+\n",
      "9 \"Select from most common resources\" style=\"margin-bottom: 10px;margin-right: 0px;width:195px;\" class=\"border\n",
      "10 \"Select from most common resources\" style=\"margin-bottom: 10px;margin-right: 0px;width:195px;\" class=\"border\" id=\"locResourceMembership\">             <option value=\"\" selected=\"selected\">Select an option</option>             <option value=\"http://www.ieee.org/membership_services/membership/my_ieee.html?utm_source=mm_wdw&amp;utm_campaign=my_ieee-aya&amp;utm_medium=ms&amp;utm_term=account%20access\">Access your Account</option>             <option value=\"http://www.ieee.org/membership_services/membership/join/join_dues.html?utm_source=mm_wdw&amp;utm_campaign=join_dues&amp;utm_medium=ms&amp;utm_term=membership%20dues\">Learn about membership dues</option>             <option value=\"http://www.ieee.org/membership_services/membership/women/index.html?utm_source=mm_wdw&amp;utm_campaign=wie&amp;utm_medium=ms&amp;utm_term=wie\">Learn about Women in Engineering (WIE)</option>             <option value=\"http://eleccomm.ieee.org/?utm_source=mm_wdw&amp;utm_campaign=eleccomm&amp;utm_medium=ms&amp;utm_term=member%20email\">Access IEEE member email</option>             <option value=\"http://www.ieee.org/membership_services/membership/fellows/index.html?utm_source=mm_wdw&amp;utm_campaign=fellows&amp;utm_medium=ms&amp;utm_term=fellows\">Find information on IEEE Fellows</option>             <option value=\"http://www.ieee.org/membership_services/membership/my_ieee.html?utm_source=mm_wdw&amp;utm_campaign=my_ieee-directory&amp;utm_medium=ms&amp;utm_term=my_ieee-member%20directory\">Access the IEEE member directory</option>             <option value=\"http://www.ieee.org/membership_services/membership/join/mgm.html?utm_source=mm_wdw&amp;utm_campaign=mgm&amp;utm_medium=ms&amp;utm_term=mgm%2C%20member-get-a-member\">Learn about the Member-Get-a-Member program</option>             <option value=\"http://www.ieee.org/membership_services/membership/students/potentials.html?utm_source=mm_wdw&amp;utm_campaign=potentials&amp;utm_medium=ms&amp;utm_term=potentials\">Learn about IEEE Potentials magazine</option>             <option value=\"http://www.ieee.org/membership_services/membership/students/index.html?utm_source=mm_wdw&amp;utm_campaign=student&amp;utm_medium=ms&amp;utm_term=student%20membership\">Learn about Student membership</option>             </select></td>             <td><a style=\"padding: 0px; background: none;\" class=\"small ieeemm-button\" onclick=\"processwywtd('locResourceMembership'); return false;\" href=\"#\"><span class=\"left\">&nbsp;</span><span class=\"center\">Go</span><span class=\"right\">&nbsp;</span></a></td>         </tr>     </tbody> </table> <br /> <p><a class=\"ieee-button\" onclick=\"trackEvent('int_pro_but');\n",
      "11 \"Select from most common resources\" style=\"margin-bottom: 10px;margin-right: 0px;width:195px;\" class=\"border\n",
      "12 \"Select from most common resources\" style=\"margin-bottom: 10px;margin-right: 0px;width:195px;\" class=\"border\n",
      "13 \"Select from most common resources\" style=\"margin-bottom: 10px;margin-right: 0px;width:195px;\" class=\"border\n",
      "14 \"Select from most common resources\" style=\"margin-bottom: 10px;margin-right: 0px;width:195px;\" class=\"border\n",
      "15 \"Enter keyword, title, conference number\" value=\"Keywords, Title, Conf #, etc...\n",
      "16 \"Conference date\" id=\"radio_conf\" value=\"conf_date\" title=\"Conference date\n",
      "17 \"Call for papers\" id=\"radio_cfp\" value=\"cfp\n",
      "18 \"City\" value=\"Enter city name\" onclick=\"if(this.value=='Enter city name') this.value=''\" name=\"CITY\" type=\"text\n",
      "19 \"Collabratec\n",
      "20 \"Facebook\n"
     ]
    }
   ],
   "source": [
    "import urllib\n",
    "import re\n",
    "\n",
    "url='http://www.ieee.org/conferences_events/conferences/search/index.html'\n",
    "html=urllib.urlopen(url).read()\n",
    "p=re.compile('title=(.*)\" ')\n",
    "res=p.findall(html)\n",
    "for i,item in enumerate(res):\n",
    "    print i,item"
   ]
  },
  {
   "cell_type": "code",
   "execution_count": 207,
   "metadata": {
    "collapsed": false
   },
   "outputs": [
    {
     "name": "stdout",
     "output_type": "stream",
     "text": [
      "None\n",
      "---------------\n",
      "None\n",
      "---------------\n",
      "None\n",
      "---------------\n",
      "None\n",
      "---------------\n",
      "None\n",
      "---------------\n",
      "None\n",
      "---------------\n",
      "2029 IEEE/MTT-S International Microwave Symposium - IMS 2029\n",
      "---------------\n",
      "31 May - 08 Jun 2029\n",
      "---------------\n",
      "Boston Convention and Exhibition Center\n",
      "---------------\n",
      "2025 IEEE/MTT-S International Microwave Symposium - IMS 2025\n",
      "---------------\n",
      "15 Jun - 20 Jun 2025\n",
      "---------------\n",
      "Moscone Convention Center\n",
      "---------------\n",
      "2024 IEEE/MTT-S International Microwave Symposium - IMS 2024\n",
      "---------------\n",
      "16 Jun - 21 Jun 2024\n",
      "---------------\n",
      "Walter E. Washington Convention Center\n",
      "---------------\n",
      "2023 Annual International Conference of the IEEE Engineering in Medicine & Biology Conference (EMBC)\n",
      "---------------\n",
      "25 Jul - 29 Jul 2023\n",
      "---------------\n",
      "International Convention Centre Sydney (ICC Sydney)\n",
      "---------------\n",
      "2023 IEEE/MTT-S International Microwave Symposium - MTT 2023\n",
      "---------------\n",
      "11 Jun - 16 Jun 2023\n",
      "---------------\n",
      "San Diego Convention Center\n",
      "---------------\n",
      "2022 IEEE International Symposium on Electromagnetic Compatibility & Signal/Power Integrity (EMCSI)\n",
      "---------------\n",
      "25 Jul - 29 Jul 2022\n",
      "---------------\n",
      "raleigh CC\n",
      "---------------\n",
      "2022 IEEE/MTT-S International Microwave Symposium - MTT 2022\n",
      "---------------\n",
      "12 Jun - 17 Jun 2022\n",
      "---------------\n",
      "Colorado Convention Center\n",
      "---------------\n",
      "2022 59th ACM/EDAC/IEEE Design Automation Conference (DAC)\n",
      "---------------\n",
      "06 Jun - 10 Jun 2022\n",
      "---------------\n",
      "Moscone Center\n",
      "---------------\n",
      "2022 Annual Conference on Magnetism and Magnetic Materials (MMM)\n",
      "---------------\n",
      "10 Jan - 14 Jan 2022\n",
      "---------------\n",
      "Hyatt Regency New Orleans\n",
      "---------------\n",
      "2021 IEEE International Electron Devices Meeting (IEDM)\n",
      "---------------\n",
      "13 Dec - 15 Dec 2021\n",
      "---------------\n",
      "Hilton San Francisco Union Square\n",
      "---------------\n",
      "2021 IEEE International Symposium on Electromagnetic Compatibility & Signal/Power Integrity (EMCSI)\n",
      "---------------\n",
      "27 Jul - 31 Jul 2021\n",
      "---------------\n",
      "Raleigh convention center\n",
      "---------------\n",
      "2021 IEEE/MTT-S International Microwave Symposium - MTT 2021\n",
      "---------------\n",
      "20 Jun - 24 Jun 2021\n",
      "---------------\n",
      "Georgia World Congress Center\n",
      "---------------\n",
      "2021 IEEE International Conference on Plasma Science (ICOPS)\n",
      "---------------\n",
      "20 Jun - 25 Jun 2021\n",
      "---------------\n",
      "Harvey's & Harrah's\n",
      "---------------\n",
      "2021 58th ACM/EDAC/IEEE Design Automation Conference (DAC)\n",
      "---------------\n",
      "07 Jun - 11 Jun 2021\n",
      "---------------\n",
      "Moscone Center\n",
      "---------------\n",
      "2021 IEEE 71st Electronic Components and Technologies Conference (ECTC)\n",
      "---------------\n",
      "01 Jun - 04 Jun 2021\n",
      "---------------\n",
      "Sheraton San diego Hotel & Marina\n",
      "---------------\n",
      "2021 IEEE Pulsed Power Conference (PPC)\n",
      "---------------\n",
      "01 Jun - 04 Jun 2021\n",
      "---------------\n",
      "Sheraton Denver Downtown Hotel\n",
      "---------------\n",
      "2021 IEEE Symposium on Security and Privacy (SP)\n",
      "---------------\n",
      "23 May - 27 May 2021\n",
      "---------------\n",
      "Hyatt Regency San Francisco\n",
      "---------------\n",
      "2021 IEEE International Workshop Technical Committee on Communications Quality and\n",
      "Reliability (CQR 2021)\n",
      "---------------\n",
      "09 May - 14 May 2021\n",
      "---------------\n",
      "Naples Beach Hotel & Golf Club\n",
      "---------------\n",
      "ICASSP 2021 - 2021 IEEE International Conference on Acoustics, Speech and Signal Processing (ICASSP)\n",
      "---------------\n",
      "25 Apr - 30 Apr 2021\n",
      "---------------\n",
      "Metro Toronto Convention Centre\n",
      "---------------\n",
      "2021 IEEE Applied Power Electronics Conference and Exposition (APEC)\n",
      "---------------\n",
      "21 Mar - 25 Mar 2021\n",
      "---------------\n",
      "Phoenix Convention Center\n",
      "---------------\n"
     ]
    }
   ],
   "source": [
    "#cssselect 이용\n",
    "import lxml.html\n",
    "from lxml.cssselect import CSSSelector\n",
    "import requests\n",
    "r=requests.get('http://www.ieee.org/conferences_events/conferences/search/index.html')\n",
    "html=lxml.html.fromstring(r.text) \n",
    "sel=CSSSelector('div.content-r-full table.nogrid-nopad tr p>a[href]')\n",
    "sel1=CSSSelector('div.content-r-full table.nogrid-nopad td.pad10')\n",
    "#nodes=sel(html)\n",
    "nddes=sel1(html)\n",
    "for node in nodes:\n",
    "    print node.text\n",
    "    print \"---------------\"\n",
    "    "
   ]
  },
  {
   "cell_type": "markdown",
   "metadata": {},
   "source": [
    "* 학회명, 학회일시, 학회장소를 구분해서 추출해 본다."
   ]
  },
  {
   "cell_type": "code",
   "execution_count": 5,
   "metadata": {
    "collapsed": false
   },
   "outputs": [
    {
     "name": "stdout",
     "output_type": "stream",
     "text": [
      "None\n",
      "----------\n",
      "None\n",
      "----------\n",
      "VIRTUAL\n",
      "----------\n",
      "Drones and Autonomous Systems Lab (DASL)\n",
      "----------\n",
      "Chancery Pavilion Hotel\n",
      "----------\n",
      "University of Colorado, Boulder\n",
      "----------\n",
      "Indian Institute of Technology\n",
      "----------\n",
      "Department of Computer Science and Engineering (CSE)\n",
      "----------\n",
      "Karpagam College of Engineering\n",
      "----------\n",
      "Sri Shakthi Institute of Engineering and Technology\n",
      "----------\n",
      "Manav Rachna International University\n",
      "----------\n",
      "VNR VJIET\n",
      "----------\n"
     ]
    }
   ],
   "source": [
    "import lxml.html\n",
    "from lxml.cssselect import CSSSelector\n",
    "import requests\n",
    "r = requests.get('http://www.ieee.org/conferences_events/conferences/search/index.html?RANGE_FROM_DATE=2017-01-01&RANGE_TO_DATE=2030-12-31&KEYWORDS=&COUNTRY=ALL&STATE=ALL&CITY=ALL&REGION=ALL&RECORD_NUM=ALL&SPONSOR=ALL&EXHIBIT=ALL&TUTORIALS=ALL&RowsPerPage=10&PageLinkNum=10&ActivePage=1&SORTORDER=asc&SORTFIELD=start_date&ROWSTART=0&CONF_SRCH_RDO=conf_date&utm_source=mm_link&utm_campaign=upcom&utm_medium=conf&utm_term=upcoming%20conferences')\n",
    "\n",
    "html = lxml.html.fromstring(r.text)\n",
    "sel=CSSSelector('#inner-container > div.content-gray > div.box-lr-top > div.content-r-full > div > table > tbody > tr > td:nth-child(3) > p:nth-child(1) > a')\n",
    "nodes = sel(html)\n",
    "for node in nodes:\n",
    "    print node.text\n",
    "    print \"----------\""
   ]
  },
  {
   "cell_type": "code",
   "execution_count": 6,
   "metadata": {
    "collapsed": false
   },
   "outputs": [
    {
     "name": "stdout",
     "output_type": "stream",
     "text": [
      "0 None\n",
      "----------\n",
      "1 None\n",
      "----------\n",
      "2 2016 IEEE Virtual Conference on Applications of Commercial Sensors (VCACS)\n",
      "----------\n",
      "3 2017 IEEE RAS Winter School on Consumer Robotics (WSCR)\n",
      "----------\n",
      "4 2017 9th International Conference on Communication Systems and Networks (COMSNETS)\n",
      "----------\n",
      "5 2017 United States National Committee of URSI National Radio Science Meeting (USNC-URSI NRSM)\n",
      "----------\n",
      "6 2017 Indian Control Conference (ICC)\n",
      "----------\n",
      "7 2017 International Conference on Networking, Systems and Security (NSysS)\n",
      "----------\n",
      "8 2017 11th International Conference on Intelligent Systems and Control (ISCO)\n",
      "----------\n",
      "9 2017 International Conference on Computer Communication and Informatics (ICCCI)\n",
      "----------\n",
      "10 2017 International Conference on Quality, Productivity Reliability, Optimization and Modelling (ICQPROM)\n",
      "----------\n",
      "11 2017 IEEE  7th International Advance Computing Conference (IACC)\n",
      "----------\n"
     ]
    }
   ],
   "source": [
    "#xml 방식\n",
    "from lxml import etree\n",
    "import urllib\n",
    "\n",
    "uResponse = urllib.urlopen(\"http://www.ieee.org/conferences_events/conferences/search/index.html?RANGE_FROM_DATE=2017-01-01&RANGE_TO_DATE=2030-12-31&KEYWORDS=&COUNTRY=ALL&STATE=ALL&CITY=ALL&REGION=ALL&RECORD_NUM=ALL&SPONSOR=ALL&EXHIBIT=ALL&TUTORIALS=ALL&RowsPerPage=10&PageLinkNum=10&ActivePage=1&SORTORDER=asc&SORTFIELD=start_date&ROWSTART=0&CONF_SRCH_RDO=conf_date&utm_source=mm_link&utm_campaign=upcom&utm_medium=conf&utm_term=upcoming%20conferences\")\n",
    "html=uResponse.read()\n",
    "htmlTree = etree.HTML(html)\n",
    "nodes1 = htmlTree.xpath('//*[@id=\"inner-container\"]/div[2]/div[1]/div[3]/div/table/tbody/tr/td[1]/p[1]/a')\n",
    "nodes2 = htmlTree.xpath('//*[@id=\"inner-container\"]/div[2]/div[1]/div[3]/div/table/tbody/tr/td[2]/p[1]/a')\n",
    "nodes3 = htmlTree.xpath('//*[@id=\"inner-container\"]/div[2]/div[1]/div[3]/div/table/tbody/tr/td[3]/p[1]/a')\n",
    "\n",
    "for i,node in enumerate(nodes1):\n",
    "    print i,node.text\n",
    "    print \"----------\""
   ]
  },
  {
   "cell_type": "markdown",
   "metadata": {},
   "source": [
    "## 더해보기:  json파일 만들어서 db에 저장"
   ]
  },
  {
   "cell_type": "code",
   "execution_count": 19,
   "metadata": {
    "collapsed": true
   },
   "outputs": [],
   "source": [
    "#조상익\n",
    "import lxml.html\n",
    "from lxml.cssselect import CSSSelector\n",
    "import requests\n",
    "r = requests.get('http://www.ieee.org/conferences_events/conferences/search/index.html')\n",
    "\n",
    "html = lxml.html.fromstring(r.text)\n",
    "sel=CSSSelector('#inner-container > div.content-gray > div.box-lr-top > div.content-r-full > div > table > tbody > tr >td >p >a')\n",
    "nodes = sel(html)\n",
    "\n",
    "\n",
    "#### DB생성\n",
    "from pymongo import MongoClient\n",
    "\n",
    "client = MongoClient()\n",
    "db=client.test3\n",
    "#### DB를 생성함\n",
    "\n",
    "a=[\"\",\"\",\"\"] ## list를 만들어줌\n",
    "\n",
    "count=0 # none걸려주기위한 임시방편.\n",
    "index=0 # 행렬형식으로 만들어주기위한 임시방편\n",
    "for node in nodes:\n",
    "    count+=1\n",
    "    if count >6:\n",
    "    # if node != None:\n",
    "        a[index]=node.text\n",
    "        index+=1\n",
    "        if index==3:\n",
    "            \n",
    "            ### DB삽입과정 \n",
    "            ### 요기서 myPyCol은 임의의 Colection명임. \n",
    "            db.myPyCol.insert_one({\n",
    "                \"name\": a[0],\n",
    "                \"day\": a[1],\n",
    "                \"location\": a[2]\n",
    "            })\n",
    "            index=0\n",
    "            \n",
    "# 잘들어갔나 확인하는법. mygodb클라이언트에서 db.myPyCol.find() 하면됨."
   ]
  },
  {
   "cell_type": "code",
   "execution_count": 18,
   "metadata": {
    "collapsed": false
   },
   "outputs": [
    {
     "name": "stdout",
     "output_type": "stream",
     "text": [
      "None\n",
      "None\n",
      "None\n",
      "None\n",
      "None\n",
      "None\n",
      "2029 IEEE/MTT-S International Microwave Symposium - IMS 2029\n",
      "31 May - 08 Jun 2029\n",
      "Boston Convention and Exhibition Center\n",
      "2025 IEEE/MTT-S International Microwave Symposium - IMS 2025\n",
      "15 Jun - 20 Jun 2025\n",
      "Moscone Convention Center\n",
      "2024 IEEE/MTT-S International Microwave Symposium - IMS 2024\n",
      "16 Jun - 21 Jun 2024\n",
      "Walter E. Washington Convention Center\n",
      "2023 Annual International Conference of the IEEE Engineering in Medicine & Biology Conference (EMBC)\n",
      "25 Jul - 29 Jul 2023\n",
      "International Convention Centre Sydney (ICC Sydney)\n",
      "2023 IEEE/MTT-S International Microwave Symposium - MTT 2023\n",
      "11 Jun - 16 Jun 2023\n",
      "San Diego Convention Center\n",
      "2022 IEEE International Symposium on Electromagnetic Compatibility & Signal/Power Integrity (EMCSI)\n",
      "25 Jul - 29 Jul 2022\n",
      "raleigh CC\n",
      "2022 IEEE/MTT-S International Microwave Symposium - MTT 2022\n",
      "12 Jun - 17 Jun 2022\n",
      "Colorado Convention Center\n",
      "2022 59th ACM/EDAC/IEEE Design Automation Conference (DAC)\n",
      "06 Jun - 10 Jun 2022\n",
      "Moscone Center\n",
      "2022 Annual Conference on Magnetism and Magnetic Materials (MMM)\n",
      "10 Jan - 14 Jan 2022\n",
      "Hyatt Regency New Orleans\n",
      "2021 IEEE International Electron Devices Meeting (IEDM)\n",
      "13 Dec - 15 Dec 2021\n",
      "Hilton San Francisco Union Square\n",
      "2021 IEEE International Symposium on Electromagnetic Compatibility & Signal/Power Integrity (EMCSI)\n",
      "27 Jul - 31 Jul 2021\n",
      "Raleigh convention center\n",
      "2021 IEEE/MTT-S International Microwave Symposium - MTT 2021\n",
      "20 Jun - 24 Jun 2021\n",
      "Georgia World Congress Center\n",
      "2021 IEEE International Conference on Plasma Science (ICOPS)\n",
      "20 Jun - 25 Jun 2021\n",
      "Harvey's & Harrah's\n",
      "2021 58th ACM/EDAC/IEEE Design Automation Conference (DAC)\n",
      "07 Jun - 11 Jun 2021\n",
      "Moscone Center\n",
      "2021 IEEE 71st Electronic Components and Technologies Conference (ECTC)\n",
      "01 Jun - 04 Jun 2021\n",
      "Sheraton San diego Hotel & Marina\n",
      "2021 IEEE Pulsed Power Conference (PPC)\n",
      "01 Jun - 04 Jun 2021\n",
      "Sheraton Denver Downtown Hotel\n",
      "2021 IEEE Symposium on Security and Privacy (SP)\n",
      "23 May - 27 May 2021\n",
      "Hyatt Regency San Francisco\n",
      "2021 IEEE International Workshop Technical Committee on Communications Quality and\n",
      "Reliability (CQR 2021)\n",
      "09 May - 14 May 2021\n",
      "Naples Beach Hotel & Golf Club\n",
      "ICASSP 2021 - 2021 IEEE International Conference on Acoustics, Speech and Signal Processing (ICASSP)\n",
      "25 Apr - 30 Apr 2021\n",
      "Metro Toronto Convention Centre\n",
      "2021 IEEE Applied Power Electronics Conference and Exposition (APEC)\n",
      "21 Mar - 25 Mar 2021\n",
      "Phoenix Convention Center\n"
     ]
    }
   ],
   "source": [
    "import lxml.html\n",
    "from lxml.cssselect import CSSSelector\n",
    "import requests\n",
    "r = requests.get('http://www.ieee.org/conferences_events/conferences/search/index.html')\n",
    "\n",
    "html = lxml.html.fromstring(r.text)\n",
    "sel=CSSSelector('#inner-container > div.content-gray > div.box-lr-top > div.content-r-full > div > table > tbody > tr >td >p >a')\n",
    "nodes = sel(html)\n",
    "for node in nodes:\n",
    "    print node.text"
   ]
  },
  {
   "cell_type": "code",
   "execution_count": 16,
   "metadata": {
    "collapsed": true
   },
   "outputs": [],
   "source": [
    "#조상익\n",
    "import lxml.html\n",
    "from lxml.cssselect import CSSSelector\n",
    "import requests\n",
    "r = requests.get('http://www.ieee.org/conferences_events/conferences/search/index.html')\n",
    "\n",
    "html = lxml.html.fromstring(r.text)\n",
    "sel=CSSSelector('#inner-container > div.content-gray > div.box-lr-top > div.content-r-full > div > table > tbody > tr >td >p >a')\n",
    "nodes = sel(html)\n",
    "\n",
    "\n",
    "#### DB생성\n",
    "from pymongo import MongoClient\n",
    "\n",
    "client = MongoClient()\n",
    "db=client.test3\n",
    "#### DB를 생성함\n",
    "\n",
    "l=[\"\",\"\",\"\"] ## list를 만들어줌\n",
    "\n",
    "count=0 # none걸려주기위한 임시방편.\n",
    "count2=0 # 행렬형식으로 만들어주기위한 임시방편\n",
    "for node in nodes:\n",
    "    count+=1\n",
    "    if count >6:\n",
    "    # if node != None:\n",
    "        l[count2]=node.text\n",
    "        count2+=1\n",
    "        if count2==3:\n",
    "            \n",
    "            ### DB삽입과정 \n",
    "            ### 요기서 myPyCol은 임의의 Colection명임. \n",
    "            db.myPyCol.insert_one({\n",
    "                \"name\": l[0],\n",
    "                \"day\": l[1],\n",
    "                \"location\": l[2]\n",
    "            })\n",
    "            count2=0\n",
    "            \n",
    "# 잘들어갔나 확인하는법. mygodb클라이언트에서 db.myPyCol.find() 하면됨."
   ]
  },
  {
   "cell_type": "code",
   "execution_count": 11,
   "metadata": {
    "collapsed": false
   },
   "outputs": [
    {
     "name": "stdout",
     "output_type": "stream",
     "text": [
      "None\n",
      "----------\n",
      "None\n",
      "----------\n",
      "15 Jun - 15 Jan 2017\n",
      "----------\n",
      "03 Jan - 07 Jan 2017\n",
      "----------\n",
      "04 Jan - 08 Jan 2017\n",
      "----------\n",
      "04 Jan - 07 Jan 2017\n",
      "----------\n",
      "04 Jan - 06 Jan 2017\n",
      "----------\n",
      "05 Jan - 08 Jan 2017\n",
      "----------\n",
      "05 Jan - 06 Jan 2017\n",
      "----------\n",
      "05 Jan - 07 Jan 2017\n",
      "----------\n",
      "05 Jan - 07 Jan 2017\n",
      "----------\n",
      "05 Jan - 07 Jan 2017\n",
      "----------\n"
     ]
    }
   ],
   "source": [
    "import lxml.html\n",
    "from lxml.cssselect import CSSSelector\n",
    "import requests\n",
    "r = requests.get('http://www.ieee.org/conferences_events/conferences/search/index.html?RANGE_FROM_DATE=2017-01-01&RANGE_TO_DATE=2030-12-31&KEYWORDS=&COUNTRY=ALL&STATE=ALL&CITY=ALL&REGION=ALL&RECORD_NUM=ALL&SPONSOR=ALL&EXHIBIT=ALL&TUTORIALS=ALL&RowsPerPage=10&PageLinkNum=10&ActivePage=1&SORTORDER=asc&SORTFIELD=start_date&ROWSTART=0&CONF_SRCH_RDO=conf_date&utm_source=mm_link&utm_campaign=upcom&utm_medium=conf&utm_term=upcoming%20conferences')\n",
    "\n",
    "html = lxml.html.fromstring(r.text)\n",
    "insti_sel=CSSSelector('#inner-container > div.content-gray > div.box-lr-top > div.content-r-full > div > table > tbody > tr > td:nth-child(3) > p:nth-child(1) > a')\n",
    "name_sel=CSSSelector('#inner-container > div.content-gray > div.box-lr-top > div.content-r-full > div > table > tbody > tr > td:nth-child(1) > p:nth-child(1) > a')\n",
    "date_sel=CSSSelector('#inner-container > div.content-gray > div.box-lr-top > div.content-r-full > div > table > tbody > tr > td:nth-child(2) > p:nth-child(1) > a')\n",
    "nodes = date_sel(html)\n",
    "\n",
    "josn1={\"institution\":insti_sel[0]}\n",
    "\n",
    "for node in nodes:\n",
    "   josn1={\"institution\":insti_sel[0]}\n",
    "    print \"----------\""
   ]
  },
  {
   "cell_type": "markdown",
   "metadata": {},
   "source": [
    "## 웹데이터 -6: 한국 프로야구 기록 크롤링"
   ]
  },
  {
   "cell_type": "code",
   "execution_count": 208,
   "metadata": {
    "collapsed": false
   },
   "outputs": [
    {
     "name": "stdout",
     "output_type": "stream",
     "text": [
      "http://www.kbreport.com/leader/main?rows=20&order=oWAR&orderType=DESC&teamId=1&defense_no=2&year_from=2015&year_to=2015&split01=&split02_1=&split02_2=&r_tpa_count=&tpa_count=0\n"
     ]
    }
   ],
   "source": [
    "import urllib2\n",
    "import requests\n",
    "urlperson='http://www.kbreport.com/player/list?key=이대호'\n",
    "urlbase=\"http://www.kbreport.com/leader/main?\"\n",
    "url1=\"rows=20&order=oWAR&orderType=DESC&\"\n",
    "url2=\"teamId=1&defense_no=2&year_from=2015&year_to=2015&split01=&split02_1=&split02_2=&r_tpa_count=&tpa_count=0\"\n",
    "urlbaseball=urlbase+url1+url2\n",
    "print urlbaseball"
   ]
  },
  {
   "cell_type": "code",
   "execution_count": 210,
   "metadata": {
    "collapsed": false
   },
   "outputs": [
    {
     "name": "stdout",
     "output_type": "stream",
     "text": [
      "[u'(\\uc2b9) \\uc774\\ud638\\uc131 (\\ud328) \\uc815\\uc218\\uadfc (\\uc138) \\uc784\\ucc3d\\uc6a9 (\\ud648\\ub7f0) \\uae40\\ubc14\\uc704</p>\\r', u'(\\uc2b9) \\uc774\\ud638\\uc131 (\\ud328) \\uc815\\uc218\\uadfc (\\uc138) \\uc784\\ucc3d\\uc6a9 (\\ud648\\ub7f0) \\uae40\\ubc14\\uc704</p>\\r', u'(\\uc2b9) \\uc774\\ud638\\uc131 (\\ud328) \\uc815\\uc218\\uadfc (\\uc138) \\uc784\\ucc3d\\uc6a9 (\\ud648\\ub7f0) \\uae40\\ubc14\\uc704</p>\\r', u'(\\uc2b9) \\uc774\\ud638\\uc131 (\\ud328) \\uc815\\uc218\\uadfc (\\uc138) \\uc784\\ucc3d\\uc6a9 (\\ud648\\ub7f0) \\uae40\\ubc14\\uc704</p>\\r', u'\\uc0c1\\uc2b9\\uc138 \\uc774\\uc5b4\\uc9c8\\uae4c</span></a>\\r', u'\\ub2e4\\uc2b9\"><span class=\"tsht-sub-inline-title\">\\ub2e4\\uc2b9</span></a>\\r', u'(\\uc2b9\\ud328)\\ubcc4</option>\\r', u'-\\uc2b9\\ub9ac\\uc2dc</option>\\r', u'(\\uc2b9\\ud328) \\uc120\\ud0dd</option>\\r', u'>\\uc2b9</option>\\r', u'-\\uc2b9\\ub9ac\\uc2dc</option>\\r']\n",
      "(승) 이호성 (패) 정수근 (세) 임창용 (홈런) 김바위</p>\r\n",
      "(승) 이호성 (패) 정수근 (세) 임창용 (홈런) 김바위</p>\r\n",
      "(승) 이호성 (패) 정수근 (세) 임창용 (홈런) 김바위</p>\r\n",
      "(승) 이호성 (패) 정수근 (세) 임창용 (홈런) 김바위</p>\r\n",
      "상승세 이어질까</span></a>\r\n",
      "다승\"><span class=\"tsht-sub-inline-title\">다승</span></a>\r\n",
      "(승패)별</option>\r\n",
      "-승리시</option>\r\n",
      "(승패) 선택</option>\r\n",
      ">승</option>\r\n",
      "-승리시</option>\r\n"
     ]
    }
   ],
   "source": [
    "data=requests.get(urlbaseball).text\n",
    "#print data[6000:6500]\n",
    "import re\n",
    "p=re.compile(u'.승.+')\n",
    "found=p.findall(data)\n",
    "print found\n",
    "for item in found:\n",
    "    print item"
   ]
  },
  {
   "cell_type": "code",
   "execution_count": 220,
   "metadata": {
    "collapsed": false
   },
   "outputs": [
    {
     "name": "stdout",
     "output_type": "stream",
     "text": [
      "테이블 행 갯수:  11\n",
      "순위\n",
      "[]\n",
      "1\n",
      "['KIA']\n",
      "2\n",
      "['NC']\n",
      "3\n",
      "['SK']\n",
      "3\n",
      "['kt']\n",
      "5\n",
      "['LG']\n",
      "5\n",
      "[u'\\ub86f\\ub370']\n",
      "7\n",
      "[u'\\ub450\\uc0b0']\n",
      "8\n",
      "[u'\\ud55c\\ud654']\n",
      "9\n",
      "[u'\\ub125\\uc13c']\n",
      "10\n",
      "[u'\\uc0bc\\uc131']\n"
     ]
    }
   ],
   "source": [
    "import requests\n",
    "import lxml.etree\n",
    "r=requests.get('http://www.kbreport.com/main')\n",
    "_htmlTree=lxml.etree.HTML(r.text)\n",
    "nodes=_htmlTree.xpath(\"//div[@class='team-rank-box']//table[@class='team-rank']//tr\")\n",
    "print \"테이블 행 갯수: \", len(nodes)\n",
    "for teams in nodes:\n",
    "    print teams[0].text\n",
    "    print teams[1].xpath('.//a/text()')\n",
    "    #print teams[2].xpath('.//a/text()')"
   ]
  },
  {
   "cell_type": "markdown",
   "metadata": {},
   "source": [
    "## 연습 웹데이터-2: 기상청 도별 날씨 가져오기"
   ]
  },
  {
   "cell_type": "code",
   "execution_count": 259,
   "metadata": {
    "collapsed": false
   },
   "outputs": [
    {
     "name": "stdout",
     "output_type": "stream",
     "text": [
      "지역별 현재날씨\r\n",
      "\t\t\t\t\t04.23(일) 15시 기준\n",
      "아이콘설명\n",
      "서울·경기\r\n",
      "\t\t\t\t\t\r\n",
      "\t\t\t\t\t\r\n",
      "\t\t\t\t\t\t\r\n",
      "\t\t\t\t\t\t\r\n",
      "\t\t\t\t\t\t\r\n",
      "\t\t\t\t\t\t\t21.1\n",
      "강원도\r\n",
      "\t\t\t\t\t\r\n",
      "\t\t\t\t\t\r\n",
      "\t\t\t\t\t\t\r\n",
      "\t\t\t\t\t\t\r\n",
      "\t\t\t\t\t\t\r\n",
      "\t\t\t\t\t\t\t22.4\n",
      "충청북도\r\n",
      "\t\t\t\t\t\r\n",
      "\t\t\t\t\t\r\n",
      "\t\t\t\t\t\t\r\n",
      "\t\t\t\t\t\t\r\n",
      "\t\t\t\t\t\t\r\n",
      "\t\t\t\t\t\t\t22.3\n",
      "충청남도\r\n",
      "\t\t\t\t\t\r\n",
      "\t\t\t\t\t\r\n",
      "\t\t\t\t\t\t\r\n",
      "\t\t\t\t\t\t\r\n",
      "\t\t\t\t\t\t\r\n",
      "\t\t\t\t\t\t\t22.6\n",
      "경상북도\r\n",
      "\t\t\t\t\t\r\n",
      "\t\t\t\t\t\r\n",
      "\t\t\t\t\t\t\r\n",
      "\t\t\t\t\t\t\r\n",
      "\t\t\t\t\t\t\r\n",
      "\t\t\t\t\t\t\t23.6\n",
      "경상남도\r\n",
      "\t\t\t\t\t\r\n",
      "\t\t\t\t\t\r\n",
      "\t\t\t\t\t\t\r\n",
      "\t\t\t\t\t\t\r\n",
      "\t\t\t\t\t\t\r\n",
      "\t\t\t\t\t\t\t17.3\n",
      "전라북도\r\n",
      "\t\t\t\t\t\r\n",
      "\t\t\t\t\t\r\n",
      "\t\t\t\t\t\t\r\n",
      "\t\t\t\t\t\t\r\n",
      "\t\t\t\t\t\t\r\n",
      "\t\t\t\t\t\t\t21.2\n",
      "전라남도\r\n",
      "\t\t\t\t\t\r\n",
      "\t\t\t\t\t\r\n",
      "\t\t\t\t\t\t\r\n",
      "\t\t\t\t\t\t\r\n",
      "\t\t\t\t\t\t\r\n",
      "\t\t\t\t\t\t\t23.2\n",
      "제주도\r\n",
      "\t\t\t\t\t\r\n",
      "\t\t\t\t\t\r\n",
      "\t\t\t\t\t\t\r\n",
      "\t\t\t\t\t\t\r\n",
      "\t\t\t\t\t\t\r\n",
      "\t\t\t\t\t\t\t17.6\n"
     ]
    }
   ],
   "source": [
    "import lxml.html\n",
    "import urllib\n",
    "from lxml.cssselect import CSSSelector\n",
    "\n",
    "data=urllib.urlopen('http://www.kma.go.kr/index.jsp').read()\n",
    "html=lxml.html.fromstring(data)\n",
    "sel=CSSSelector('#subcontainer > div.weather_area_0930.ML22 > dl')\n",
    "\n",
    "nodes=sel(html)\n",
    "for node in nodes:\n",
    "     print node.text_content().strip()\n",
    "    "
   ]
  }
 ],
 "metadata": {
  "kernelspec": {
   "display_name": "Python 2",
   "language": "python",
   "name": "python2"
  },
  "language_info": {
   "codemirror_mode": {
    "name": "ipython",
    "version": 2
   },
   "file_extension": ".py",
   "mimetype": "text/x-python",
   "name": "python",
   "nbconvert_exporter": "python",
   "pygments_lexer": "ipython2",
   "version": "2.7.13"
  }
 },
 "nbformat": 4,
 "nbformat_minor": 2
}
